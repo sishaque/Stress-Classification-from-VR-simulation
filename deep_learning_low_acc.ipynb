{
 "cells": [
  {
   "cell_type": "code",
   "execution_count": 1,
   "metadata": {},
   "outputs": [
    {
     "name": "stdout",
     "output_type": "stream",
     "text": [
      "WARNING: The conda.compat module is deprecated and will be removed in a future release.\n",
      "Collecting package metadata: done\n",
      "Solving environment: done\n",
      "\n",
      "## Package Plan ##\n",
      "\n",
      "  environment location: /Users/syem/anaconda3\n",
      "\n",
      "  added / updated specs:\n",
      "    - tensorflow\n",
      "\n",
      "\n",
      "The following packages will be downloaded:\n",
      "\n",
      "    package                    |            build\n",
      "    ---------------------------|-----------------\n",
      "    _tflow_select-2.3.0        |              mkl           3 KB\n",
      "    absl-py-0.7.1              |           py37_0         157 KB\n",
      "    astor-0.8.0                |           py37_0          45 KB\n",
      "    c-ares-1.15.0              |    h1de35cc_1001          83 KB\n",
      "    conda-4.7.11               |           py37_0         3.0 MB\n",
      "    conda-package-handling-1.3.11|           py37_0         260 KB\n",
      "    gast-0.2.2                 |           py37_0         137 KB\n",
      "    grpcio-1.16.1              |   py37h044775b_1         915 KB\n",
      "    keras-applications-1.0.8   |             py_0          33 KB\n",
      "    keras-preprocessing-1.1.0  |             py_1          36 KB\n",
      "    libprotobuf-3.8.0          |       hd9629dc_0         4.4 MB\n",
      "    markdown-3.1.1             |           py37_0         113 KB\n",
      "    protobuf-3.8.0             |   py37h0a44026_0         678 KB\n",
      "    tensorboard-1.14.0         |   py37h80053f4_0         3.2 MB\n",
      "    tensorflow-1.14.0          |mkl_py37h085be34_0           4 KB\n",
      "    tensorflow-base-1.14.0     |mkl_py37h5a24fda_0       122.9 MB\n",
      "    tensorflow-estimator-1.14.0|             py_0         291 KB\n",
      "    termcolor-1.1.0            |           py37_1           8 KB\n",
      "    ------------------------------------------------------------\n",
      "                                           Total:       136.2 MB\n",
      "\n",
      "The following NEW packages will be INSTALLED:\n",
      "\n",
      "  _tflow_select      pkgs/main/osx-64::_tflow_select-2.3.0-mkl\n",
      "  absl-py            pkgs/main/osx-64::absl-py-0.7.1-py37_0\n",
      "  astor              pkgs/main/osx-64::astor-0.8.0-py37_0\n",
      "  c-ares             pkgs/main/osx-64::c-ares-1.15.0-h1de35cc_1001\n",
      "  conda-package-han~ pkgs/main/osx-64::conda-package-handling-1.3.11-py37_0\n",
      "  gast               pkgs/main/osx-64::gast-0.2.2-py37_0\n",
      "  grpcio             pkgs/main/osx-64::grpcio-1.16.1-py37h044775b_1\n",
      "  keras-applications pkgs/main/noarch::keras-applications-1.0.8-py_0\n",
      "  keras-preprocessi~ pkgs/main/noarch::keras-preprocessing-1.1.0-py_1\n",
      "  libprotobuf        pkgs/main/osx-64::libprotobuf-3.8.0-hd9629dc_0\n",
      "  markdown           pkgs/main/osx-64::markdown-3.1.1-py37_0\n",
      "  protobuf           pkgs/main/osx-64::protobuf-3.8.0-py37h0a44026_0\n",
      "  tensorboard        pkgs/main/osx-64::tensorboard-1.14.0-py37h80053f4_0\n",
      "  tensorflow         pkgs/main/osx-64::tensorflow-1.14.0-mkl_py37h085be34_0\n",
      "  tensorflow-base    pkgs/main/osx-64::tensorflow-base-1.14.0-mkl_py37h5a24fda_0\n",
      "  tensorflow-estima~ pkgs/main/noarch::tensorflow-estimator-1.14.0-py_0\n",
      "  termcolor          pkgs/main/osx-64::termcolor-1.1.0-py37_1\n",
      "\n",
      "The following packages will be UPDATED:\n",
      "\n",
      "  conda                                       4.6.11-py37_0 --> 4.7.11-py37_0\n",
      "\n",
      "\n",
      "\n",
      "Downloading and Extracting Packages\n",
      "c-ares-1.15.0        | 83 KB     | ##################################### | 100% \n",
      "libprotobuf-3.8.0    | 4.4 MB    | ##################################### | 100% \n",
      "conda-package-handli | 260 KB    | ##################################### | 100% \n",
      "conda-4.7.11         | 3.0 MB    | ##################################### | 100% \n",
      "tensorboard-1.14.0   | 3.2 MB    | ##################################### | 100% \n",
      "gast-0.2.2           | 137 KB    | ##################################### | 100% \n",
      "astor-0.8.0          | 45 KB     | ##################################### | 100% \n",
      "absl-py-0.7.1        | 157 KB    | ##################################### | 100% \n",
      "tensorflow-1.14.0    | 4 KB      | ##################################### | 100% \n",
      "markdown-3.1.1       | 113 KB    | ##################################### | 100% \n",
      "keras-preprocessing- | 36 KB     | ##################################### | 100% \n",
      "keras-applications-1 | 33 KB     | ##################################### | 100% \n",
      "tensorflow-estimator | 291 KB    | ##################################### | 100% \n",
      "grpcio-1.16.1        | 915 KB    | ##################################### | 100% \n",
      "protobuf-3.8.0       | 678 KB    | ##################################### | 100% \n",
      "tensorflow-base-1.14 | 122.9 MB  | ##################################### | 100% \n",
      "_tflow_select-2.3.0  | 3 KB      | ##################################### | 100% \n",
      "termcolor-1.1.0      | 8 KB      | ##################################### | 100% \n",
      "Preparing transaction: done\n",
      "Verifying transaction: done\n",
      "Executing transaction: done\n",
      "\n",
      "Note: you may need to restart the kernel to use updated packages.\n"
     ]
    }
   ],
   "source": [
    "conda install tensorflow"
   ]
  },
  {
   "cell_type": "code",
   "execution_count": 2,
   "metadata": {},
   "outputs": [
    {
     "name": "stdout",
     "output_type": "stream",
     "text": [
      "Collecting package metadata (repodata.json): done\n",
      "Solving environment: failed\n",
      "\n",
      "PackagesNotFoundError: The following packages are not available from current channels:\n",
      "\n",
      "  - tensorflow-gpu\n",
      "\n",
      "Current channels:\n",
      "\n",
      "  - https://repo.anaconda.com/pkgs/main/osx-64\n",
      "  - https://repo.anaconda.com/pkgs/main/noarch\n",
      "  - https://repo.anaconda.com/pkgs/r/osx-64\n",
      "  - https://repo.anaconda.com/pkgs/r/noarch\n",
      "\n",
      "To search for alternate channels that may provide the conda package you're\n",
      "looking for, navigate to\n",
      "\n",
      "    https://anaconda.org\n",
      "\n",
      "and use the search bar at the top of the page.\n",
      "\n",
      "\n",
      "\n",
      "Note: you may need to restart the kernel to use updated packages.\n"
     ]
    }
   ],
   "source": [
    "conda create --name tf_gpu tensorflow-gpu"
   ]
  },
  {
   "cell_type": "code",
   "execution_count": 4,
   "metadata": {},
   "outputs": [],
   "source": [
    "import tensorflow as tf"
   ]
  },
  {
   "cell_type": "code",
   "execution_count": 5,
   "metadata": {},
   "outputs": [],
   "source": [
    "sess = tf.Session(config=tf.ConfigProto(log_device_placement=True))"
   ]
  },
  {
   "cell_type": "code",
   "execution_count": 6,
   "metadata": {},
   "outputs": [
    {
     "name": "stdout",
     "output_type": "stream",
     "text": [
      "Requirement already satisfied: Theano in ./anaconda3/lib/python3.7/site-packages (1.0.4)\n",
      "Requirement already satisfied: six>=1.9.0 in ./anaconda3/lib/python3.7/site-packages (from Theano) (1.12.0)\n",
      "Requirement already satisfied: numpy>=1.9.1 in ./anaconda3/lib/python3.7/site-packages (from Theano) (1.16.2)\n",
      "Requirement already satisfied: scipy>=0.14 in ./anaconda3/lib/python3.7/site-packages (from Theano) (1.2.1)\n",
      "Note: you may need to restart the kernel to use updated packages.\n"
     ]
    }
   ],
   "source": [
    "pip install Theano"
   ]
  },
  {
   "cell_type": "code",
   "execution_count": 7,
   "metadata": {},
   "outputs": [
    {
     "name": "stdout",
     "output_type": "stream",
     "text": [
      "Requirement already satisfied: tensorflow==2.0.0-rc0 in ./anaconda3/lib/python3.7/site-packages (2.0.0rc0)\n",
      "Requirement already satisfied: tb-nightly<1.15.0a20190807,>=1.15.0a20190806 in ./anaconda3/lib/python3.7/site-packages (from tensorflow==2.0.0-rc0) (1.15.0a20190806)\n",
      "Requirement already satisfied: absl-py>=0.7.0 in ./anaconda3/lib/python3.7/site-packages (from tensorflow==2.0.0-rc0) (0.7.1)\n",
      "Requirement already satisfied: wrapt>=1.11.1 in ./anaconda3/lib/python3.7/site-packages (from tensorflow==2.0.0-rc0) (1.11.1)\n",
      "Requirement already satisfied: google-pasta>=0.1.6 in ./anaconda3/lib/python3.7/site-packages (from tensorflow==2.0.0-rc0) (0.1.7)\n",
      "Requirement already satisfied: six>=1.10.0 in ./anaconda3/lib/python3.7/site-packages (from tensorflow==2.0.0-rc0) (1.12.0)\n",
      "Requirement already satisfied: protobuf>=3.6.1 in ./anaconda3/lib/python3.7/site-packages (from tensorflow==2.0.0-rc0) (3.9.1)\n",
      "Requirement already satisfied: wheel>=0.26 in ./anaconda3/lib/python3.7/site-packages (from tensorflow==2.0.0-rc0) (0.33.1)\n",
      "Requirement already satisfied: tf-estimator-nightly<1.14.0.dev2019080602,>=1.14.0.dev2019080601 in ./anaconda3/lib/python3.7/site-packages (from tensorflow==2.0.0-rc0) (1.14.0.dev2019080601)\n",
      "Requirement already satisfied: termcolor>=1.1.0 in ./anaconda3/lib/python3.7/site-packages (from tensorflow==2.0.0-rc0) (1.1.0)\n",
      "Requirement already satisfied: keras-preprocessing>=1.0.5 in ./anaconda3/lib/python3.7/site-packages (from tensorflow==2.0.0-rc0) (1.1.0)\n",
      "Requirement already satisfied: numpy<2.0,>=1.16.0 in ./anaconda3/lib/python3.7/site-packages (from tensorflow==2.0.0-rc0) (1.16.2)\n",
      "Requirement already satisfied: keras-applications>=1.0.8 in ./anaconda3/lib/python3.7/site-packages (from tensorflow==2.0.0-rc0) (1.0.8)\n",
      "Requirement already satisfied: gast>=0.2.0 in ./anaconda3/lib/python3.7/site-packages (from tensorflow==2.0.0-rc0) (0.2.2)\n",
      "Requirement already satisfied: grpcio>=1.8.6 in ./anaconda3/lib/python3.7/site-packages (from tensorflow==2.0.0-rc0) (1.23.0)\n",
      "Requirement already satisfied: astor>=0.6.0 in ./anaconda3/lib/python3.7/site-packages (from tensorflow==2.0.0-rc0) (0.8.0)\n",
      "Requirement already satisfied: opt-einsum>=2.3.2 in ./anaconda3/lib/python3.7/site-packages (from tensorflow==2.0.0-rc0) (3.0.1)\n",
      "Requirement already satisfied: setuptools>=41.0.0 in ./anaconda3/lib/python3.7/site-packages (from tb-nightly<1.15.0a20190807,>=1.15.0a20190806->tensorflow==2.0.0-rc0) (41.2.0)\n",
      "Requirement already satisfied: markdown>=2.6.8 in ./anaconda3/lib/python3.7/site-packages (from tb-nightly<1.15.0a20190807,>=1.15.0a20190806->tensorflow==2.0.0-rc0) (3.1.1)\n",
      "Requirement already satisfied: werkzeug>=0.11.15 in ./anaconda3/lib/python3.7/site-packages (from tb-nightly<1.15.0a20190807,>=1.15.0a20190806->tensorflow==2.0.0-rc0) (0.14.1)\n",
      "Requirement already satisfied: h5py in ./anaconda3/lib/python3.7/site-packages (from keras-applications>=1.0.8->tensorflow==2.0.0-rc0) (2.9.0)\n",
      "Note: you may need to restart the kernel to use updated packages.\n"
     ]
    }
   ],
   "source": [
    "pip install tensorflow==2.0.0-rc0 "
   ]
  },
  {
   "cell_type": "code",
   "execution_count": 8,
   "metadata": {},
   "outputs": [
    {
     "name": "stdout",
     "output_type": "stream",
     "text": [
      "Requirement already satisfied: keras in ./anaconda3/lib/python3.7/site-packages (2.2.5)\n",
      "Requirement already satisfied: keras-preprocessing>=1.1.0 in ./anaconda3/lib/python3.7/site-packages (from keras) (1.1.0)\n",
      "Requirement already satisfied: h5py in ./anaconda3/lib/python3.7/site-packages (from keras) (2.9.0)\n",
      "Requirement already satisfied: pyyaml in ./anaconda3/lib/python3.7/site-packages (from keras) (5.1)\n",
      "Requirement already satisfied: numpy>=1.9.1 in ./anaconda3/lib/python3.7/site-packages (from keras) (1.16.2)\n",
      "Requirement already satisfied: keras-applications>=1.0.8 in ./anaconda3/lib/python3.7/site-packages (from keras) (1.0.8)\n",
      "Requirement already satisfied: six>=1.9.0 in ./anaconda3/lib/python3.7/site-packages (from keras) (1.12.0)\n",
      "Requirement already satisfied: scipy>=0.14 in ./anaconda3/lib/python3.7/site-packages (from keras) (1.2.1)\n",
      "Note: you may need to restart the kernel to use updated packages.\n"
     ]
    }
   ],
   "source": [
    "pip install keras"
   ]
  },
  {
   "cell_type": "code",
   "execution_count": 25,
   "metadata": {},
   "outputs": [],
   "source": [
    "from pandas import read_csv\n",
    "import numpy as np\n",
    "from numpy import set_printoptions\n",
    "from sklearn.preprocessing import MinMaxScaler\n",
    "from sklearn.neighbors import KNeighborsClassifier\n",
    "from tensorflow.keras.layers import Dense, Activation, Conv2D, Flatten, MaxPooling2D,Dropout\n",
    "from tensorflow.keras.models import Sequential\n",
    "from tensorflow.keras.utils import normalize\n",
    "from tensorflow.keras.callbacks import TensorBoard\n",
    "import numpy as np\n",
    "import tensorflow as tf\n",
    "import pickle\n",
    "\n",
    "\n",
    "# fix random se\n",
    "seed = 7\n",
    "np.random.seed(seed)"
   ]
  },
  {
   "cell_type": "code",
   "execution_count": 28,
   "metadata": {},
   "outputs": [
    {
     "name": "stdout",
     "output_type": "stream",
     "text": [
      "Requirement already up-to-date: keras in ./anaconda3/lib/python3.7/site-packages (2.2.5)\n",
      "Requirement already satisfied, skipping upgrade: scipy>=0.14 in ./anaconda3/lib/python3.7/site-packages (from keras) (1.2.1)\n",
      "Requirement already satisfied, skipping upgrade: six>=1.9.0 in ./anaconda3/lib/python3.7/site-packages (from keras) (1.12.0)\n",
      "Requirement already satisfied, skipping upgrade: keras-preprocessing>=1.1.0 in ./anaconda3/lib/python3.7/site-packages (from keras) (1.1.0)\n",
      "Requirement already satisfied, skipping upgrade: pyyaml in ./anaconda3/lib/python3.7/site-packages (from keras) (5.1)\n",
      "Requirement already satisfied, skipping upgrade: keras-applications>=1.0.8 in ./anaconda3/lib/python3.7/site-packages (from keras) (1.0.8)\n",
      "Requirement already satisfied, skipping upgrade: h5py in ./anaconda3/lib/python3.7/site-packages (from keras) (2.9.0)\n",
      "Requirement already satisfied, skipping upgrade: numpy>=1.9.1 in ./anaconda3/lib/python3.7/site-packages (from keras) (1.16.2)\n",
      "Note: you may need to restart the kernel to use updated packages.\n"
     ]
    }
   ],
   "source": [
    "pip install --upgrade keras"
   ]
  },
  {
   "cell_type": "code",
   "execution_count": 61,
   "metadata": {},
   "outputs": [],
   "source": [
    "filename = \"Desktop/GSR_5Labels_another.csv\"\n",
    "# names = ['HR','NNRR','AVNN','RMSSD','pNN50','TP','VLF','LF','HF','LF_HF','GSR']\n",
    "names = ['HR','NNRR','AVNN','RMSSD','pNN50','TP','VLF','LF','HF','LF_HF','GSR']\n",
    "dataframe = read_csv(filename, names = names)\n",
    "df = dataframe\n",
    "df.head(5)\n",
    "array = df.values\n",
    "X = np.array(df.iloc[:,0:10])\n",
    "y = np.array(df.iloc[:,10])\n"
   ]
  },
  {
   "cell_type": "code",
   "execution_count": 62,
   "metadata": {
    "scrolled": false
   },
   "outputs": [],
   "source": [
    "model = Sequential()\n",
    "model.add(Dense(12, input_dim = 10, kernel_initializer = 'normal', activation='relu'))\n",
    "model.add(Dense(8, kernel_initializer = 'normal', activation = 'relu'))\n",
    "model.add(Dense(1, kernel_initializer = 'normal', activation = 'sigmoid' ))\n",
    "\n",
    "# model = Sequential()\n",
    "# model.add(Dense(12, input_dim = 10, kernel_initializer='normal', activation = \"relu\"))\n",
    "# model.add(Dense(8, kernel_initializer='normal', activation = \"relu\"))\n",
    "# model.add(Dense(1, kernel_initializer='normal', activation = \"sigmoid\"))\n",
    "\n",
    "# # model = Sequential()\n",
    "# model.add(Dense(12, input_dim=8, init='uniform', activation='relu'))\n",
    "# model.add(Dense(8, init='uniform', activation='relu'))\n",
    "# model.add(Dense(1, init='uniform', activation='sigmoid'))"
   ]
  },
  {
   "cell_type": "code",
   "execution_count": 63,
   "metadata": {},
   "outputs": [
    {
     "name": "stderr",
     "output_type": "stream",
     "text": [
      "W0826 12:44:08.460687 140736083895168 training.py:593] The `nb_epoch` argument in `fit` has been renamed `epochs`.\n"
     ]
    },
    {
     "name": "stdout",
     "output_type": "stream",
     "text": [
      "Train on 360 samples, validate on 178 samples\n",
      "Epoch 1/30\n",
      "360/360 [==============================] - 1s 3ms/sample - loss: 1.1637 - acc: 0.1944 - val_loss: 0.7450 - val_acc: 0.1854\n",
      "Epoch 2/30\n",
      "360/360 [==============================] - 0s 462us/sample - loss: 0.6804 - acc: 0.2861 - val_loss: 0.5905 - val_acc: 0.1910\n",
      "Epoch 3/30\n",
      "360/360 [==============================] - 0s 433us/sample - loss: 0.5711 - acc: 0.2917 - val_loss: 0.5391 - val_acc: 0.1910\n",
      "Epoch 4/30\n",
      "360/360 [==============================] - 0s 389us/sample - loss: 0.5221 - acc: 0.2917 - val_loss: 0.4897 - val_acc: 0.1910\n",
      "Epoch 5/30\n",
      "360/360 [==============================] - 0s 403us/sample - loss: 0.4744 - acc: 0.2917 - val_loss: 0.4396 - val_acc: 0.1910\n",
      "Epoch 6/30\n",
      "360/360 [==============================] - 0s 541us/sample - loss: 0.4264 - acc: 0.2917 - val_loss: 0.3904 - val_acc: 0.1910\n",
      "Epoch 7/30\n",
      "360/360 [==============================] - 0s 671us/sample - loss: 0.3795 - acc: 0.2917 - val_loss: 0.3403 - val_acc: 0.1910\n",
      "Epoch 8/30\n",
      "360/360 [==============================] - 0s 521us/sample - loss: 0.3322 - acc: 0.2917 - val_loss: 0.2920 - val_acc: 0.1910\n",
      "Epoch 9/30\n",
      "360/360 [==============================] - 0s 745us/sample - loss: 0.2858 - acc: 0.2917 - val_loss: 0.2438 - val_acc: 0.1910\n",
      "Epoch 10/30\n",
      "360/360 [==============================] - 0s 510us/sample - loss: 0.2399 - acc: 0.2917 - val_loss: 0.1949 - val_acc: 0.1910\n",
      "Epoch 11/30\n",
      "360/360 [==============================] - 0s 458us/sample - loss: 0.1939 - acc: 0.2917 - val_loss: 0.1477 - val_acc: 0.1910\n",
      "Epoch 12/30\n",
      "360/360 [==============================] - 0s 471us/sample - loss: 0.1486 - acc: 0.2917 - val_loss: 0.1011 - val_acc: 0.1910\n",
      "Epoch 13/30\n",
      "360/360 [==============================] - 0s 665us/sample - loss: 0.1037 - acc: 0.2917 - val_loss: 0.0550 - val_acc: 0.1910\n",
      "Epoch 14/30\n",
      "360/360 [==============================] - 0s 477us/sample - loss: 0.0595 - acc: 0.2917 - val_loss: 0.0084 - val_acc: 0.1910\n",
      "Epoch 15/30\n",
      "360/360 [==============================] - 0s 608us/sample - loss: 0.0160 - acc: 0.2917 - val_loss: -0.0388 - val_acc: 0.1910\n",
      "Epoch 16/30\n",
      "360/360 [==============================] - 0s 527us/sample - loss: -0.0283 - acc: 0.2917 - val_loss: -0.0827 - val_acc: 0.1910\n",
      "Epoch 17/30\n",
      "360/360 [==============================] - 0s 465us/sample - loss: -0.0706 - acc: 0.2917 - val_loss: -0.1290 - val_acc: 0.1910\n",
      "Epoch 18/30\n",
      "360/360 [==============================] - 0s 466us/sample - loss: -0.1139 - acc: 0.2917 - val_loss: -0.1727 - val_acc: 0.1910\n",
      "Epoch 19/30\n",
      "360/360 [==============================] - 0s 462us/sample - loss: -0.1562 - acc: 0.2917 - val_loss: -0.2166 - val_acc: 0.1910\n",
      "Epoch 20/30\n",
      "360/360 [==============================] - 0s 489us/sample - loss: -0.1981 - acc: 0.2917 - val_loss: -0.2608 - val_acc: 0.1910\n",
      "Epoch 21/30\n",
      "360/360 [==============================] - 0s 497us/sample - loss: -0.2399 - acc: 0.2917 - val_loss: -0.3040 - val_acc: 0.1910\n",
      "Epoch 22/30\n",
      "360/360 [==============================] - 0s 472us/sample - loss: -0.2813 - acc: 0.2917 - val_loss: -0.3468 - val_acc: 0.1910\n",
      "Epoch 23/30\n",
      "360/360 [==============================] - 0s 484us/sample - loss: -0.3219 - acc: 0.2917 - val_loss: -0.3910 - val_acc: 0.1910\n",
      "Epoch 24/30\n",
      "360/360 [==============================] - 0s 478us/sample - loss: -0.3631 - acc: 0.2917 - val_loss: -0.4325 - val_acc: 0.1910\n",
      "Epoch 25/30\n",
      "360/360 [==============================] - 0s 643us/sample - loss: -0.4030 - acc: 0.2917 - val_loss: -0.4754 - val_acc: 0.1910\n",
      "Epoch 26/30\n",
      "360/360 [==============================] - 0s 660us/sample - loss: -0.4435 - acc: 0.2917 - val_loss: -0.5162 - val_acc: 0.1910\n",
      "Epoch 27/30\n",
      "360/360 [==============================] - 0s 469us/sample - loss: -0.4826 - acc: 0.2917 - val_loss: -0.5585 - val_acc: 0.1910\n",
      "Epoch 28/30\n",
      "360/360 [==============================] - 0s 614us/sample - loss: -0.5220 - acc: 0.2917 - val_loss: -0.6003 - val_acc: 0.1910\n",
      "Epoch 29/30\n",
      "360/360 [==============================] - 0s 416us/sample - loss: -0.5615 - acc: 0.2917 - val_loss: -0.6407 - val_acc: 0.1910\n",
      "Epoch 30/30\n",
      "360/360 [==============================] - 0s 452us/sample - loss: -0.6000 - acc: 0.2917 - val_loss: -0.6817 - val_acc: 0.1910\n",
      "538/538 [==============================] - 0s 58us/sample - loss: -0.6410 - acc: 0.2584\n",
      "acc: 25.84% \n"
     ]
    }
   ],
   "source": [
    "model.compile(loss='binary_crossentropy', optimizer='adam', metrics=['accuracy'])\n",
    "\n",
    "model.fit(X, y, validation_split = 0.33, nb_epoch = 30, batch_size = 10)\n",
    "\n",
    "scores = model.evaluate(X, y)\n",
    "\n",
    "print(\"%s: %.2f%% \" % (model.metrics_names[1], scores[1]*100))\n",
    "\n",
    "# model.compile(loss='binary_crossentropy', optimizer='adam', metrics=['accuracy'])\n",
    "# # Fit the model\n",
    "# model.fit(X, y,validation_split=0.33, nb_epoch=30, batch_size=10)\n",
    "# # evaluate the model\n",
    "# scores = model.evaluate(X, y)\n",
    "# print(\"%s: %.2f%%\" % (model.metrics_names[1], scores[1]*100))"
   ]
  },
  {
   "cell_type": "code",
   "execution_count": null,
   "metadata": {},
   "outputs": [],
   "source": []
  }
 ],
 "metadata": {
  "kernelspec": {
   "display_name": "Python 3",
   "language": "python",
   "name": "python3"
  },
  "language_info": {
   "codemirror_mode": {
    "name": "ipython",
    "version": 3
   },
   "file_extension": ".py",
   "mimetype": "text/x-python",
   "name": "python",
   "nbconvert_exporter": "python",
   "pygments_lexer": "ipython3",
   "version": "3.7.3"
  }
 },
 "nbformat": 4,
 "nbformat_minor": 2
}
