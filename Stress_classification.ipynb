{
 "cells": [
  {
   "cell_type": "code",
   "execution_count": 9,
   "metadata": {},
   "outputs": [],
   "source": [
    "from itertools import cycle, islice\n",
    "\n",
    "import matplotlib.pyplot as plt\n",
    "import numpy as np\n",
    "import pandas as pd\n",
    "from scipy import signal\n",
    "from sklearn.model_selection import train_test_split\n",
    "from tpot import TPOTClassifier\n",
    "from sklearn.externals import joblib\n",
    "from sklearn.ensemble import RandomForestClassifier\n",
    "from sklearn.datasets import make_classification"
   ]
  },
  {
   "cell_type": "code",
   "execution_count": 10,
   "metadata": {},
   "outputs": [],
   "source": [
    "pd.set_option('display.max_columns', None)\n",
    "pd.set_option('display.max_rows', None)\n",
    "pd.set_option('display.max_colwidth', -1)"
   ]
  },
  {
   "cell_type": "code",
   "execution_count": 11,
   "metadata": {},
   "outputs": [],
   "source": [
    "def read_input(path, reset_index = True):\n",
    "    if reset_index:\n",
    "        return  pd.read_csv(path).reset_index(drop=True)\n",
    "    else:\n",
    "        return pd.read_csv(path)"
   ]
  },
  {
   "cell_type": "code",
   "execution_count": 12,
   "metadata": {},
   "outputs": [],
   "source": [
    "def fix_stress_labels(df= None, label_column='stress'):\n",
    "    #df[label_column] = np.where(df[label_column]>=0.5, 1, 0)\n",
    "    #print(df[label_column].unique())\n",
    "    df.loc[df.stress <= 0.2, 'stress'] = 10\n",
    "    df.loc[np.logical_and(df.stress > 0.2, df.stress <= 0.4), 'stress'] = 11\n",
    "    df.loc[np.logical_and(df.stress > 0.4, df.stress <= 0.6), 'stress'] = 12\n",
    "    df.loc[np.logical_and(df.stress > 0.6, df.stress <= 0.8), 'stress'] = 13\n",
    "    df.loc[np.logical_and(df.stress > 0.8, df.stress <= 1.0), 'stress'] = 14\n",
    "    #print(df[label_column].unique())\n",
    "    return df"
   ]
  },
  {
   "cell_type": "code",
   "execution_count": 13,
   "metadata": {},
   "outputs": [],
   "source": [
    "def deal_missing_values(df):\n",
    "    df = df.reset_index()\n",
    "    df = df.replace([np.inf, -np.inf], np.nan)\n",
    "    df[~np.isfinite(df)] = np.nan\n",
    "#     df.plot( y=[\"HR\"])\n",
    "    df['HR'].fillna((df['HR'].mean()))\n",
    "    df['HR'] = signal.medfilt(df['HR'],13) \n",
    "#     df.plot( y=[\"HR\"])\n",
    "\n",
    "    df = df.fillna(df.mean())\n",
    "    return df"
   ]
  },
  {
   "cell_type": "code",
   "execution_count": 14,
   "metadata": {},
   "outputs": [],
   "source": [
    "def plot_fit_bit_reading(dfnewHRV = None, predictor = None):\n",
    "    dfnewHRV = deal_missing_values(dfnewHRV)\n",
    "    subset_data = dfnewHRV[selected_attibutes].fillna(0)\n",
    "\n",
    "    pred = predictor.predict_proba(np.array(subset_data))\n",
    "    dfpred = pd.DataFrame(pred)\n",
    "    dfpred.columns = [[\"Very Low\",\"Low\", \"Above Average\", \"High\", \"Very High\"]]\n",
    "    #dfpred['stress'] = np.where(np.logical_or(dfpred[\"Very High\"], dfpred[\"High\"]) > 0.5, 1, np.nan)\n",
    "    dfpred['stress'] = np.where(dfpred[\"Very High\"] > 0.5, 1, np.nan)\n",
    "\n",
    "    dfnewHRV[\"stress\"] = dfpred[\"stress\"]\n",
    "    dfnewHRV.loc[dfnewHRV[\"steps\"] > 0, 'stress'] = np.nan\n",
    "\n",
    "    #mark is to mark the RR peaks as stress\n",
    "    dfnewHRV.loc[dfnewHRV[\"stress\"] == 1, 'stress'] = dfnewHRV['interval in seconds'] \n",
    "    dfnewHRV.loc[dfnewHRV[\"steps\"] > 0, 'moving'] = dfnewHRV['interval in seconds'] \n",
    "    dfnewHRV[\"minutes\"] = (dfnewHRV['newtime']/60)/1000\n",
    "\n",
    "    my_colors = list(islice(cycle(['b', 'r', 'y', 'k']), None, len(dfnewHRV)))\n",
    "    plot = dfnewHRV.plot(x=\"minutes\", y=['interval in seconds',\"stress\", \"moving\"],color=my_colors)\n",
    "    \n",
    "    plot.get_figure()\n",
    "    plt.show()\n"
   ]
  },
  {
   "cell_type": "code",
   "execution_count": 15,
   "metadata": {},
   "outputs": [],
   "source": [
    "def predict_stress_level(dfnewHRV = None, predictor = None):\n",
    "    dfnewHRV = deal_missing_values(dfnewHRV)\n",
    "    subset_data = dfnewHRV[selected_attibutes].fillna(0)\n",
    "\n",
    "    pred = predictor.predict_proba(np.array(subset_data))\n",
    "    dfpred = pd.DataFrame(pred)\n",
    "    dfpred.columns = [[\"Very Low\",\"Low\", \"Above Average\", \"High\", \"Very High\"]]\n",
    "    print(dfpred.head())"
   ]
  },
  {
   "cell_type": "code",
   "execution_count": 25,
   "metadata": {},
   "outputs": [
    {
     "name": "stdout",
     "output_type": "stream",
     "text": [
      "Index(['ECG', 'EMG', 'HR', 'RESP', 'Seconds', 'footGSR', 'handGSR',\n",
      "       'interval in seconds', 'marker', 'newtime', 'stress', 'time', 'NNRR',\n",
      "       'AVNN', 'SDNN', 'RMSSD', 'pNN50', 'TP', 'ULF', 'VLF', 'LF', 'HF',\n",
      "       'LF_HF'],\n",
      "      dtype='object')\n",
      "index                  2064.000000 \n",
      "ECG                    0.170927    \n",
      "EMG                    0.604475    \n",
      "HR                     81.144252   \n",
      "RESP                   29.846928   \n",
      "Seconds                2278.789710 \n",
      "footGSR                6.487689    \n",
      "handGSR                11.523244   \n",
      "interval in seconds    0.788440    \n",
      "marker                 12.057030   \n",
      "newtime                35171.533570\n",
      "stress                 12.093969   \n",
      "time                   2278.789710 \n",
      "NNRR                   0.975377    \n",
      "AVNN                   0.788020    \n",
      "SDNN                   0.057812    \n",
      "RMSSD                  0.027223    \n",
      "pNN50                  0.034246    \n",
      "TP                     0.060604    \n",
      "ULF                    0.057902    \n",
      "VLF                    0.000728    \n",
      "LF                     0.000003    \n",
      "HF                     0.000001    \n",
      "LF_HF                  3.555695    \n",
      "dtype: float64\n",
      "   index       ECG       EMG         HR       RESP    Seconds   footGSR  \\\n",
      "0  0     -0.001974 -0.004737  77.815789  10.801842  12.529684  2.417132   \n",
      "1  1      0.002935 -0.004457  79.521739  10.750609  30.503500  2.417109   \n",
      "2  2      0.006745 -0.003426  87.319149  10.557234  52.523021  2.226872   \n",
      "3  3     -0.004043 -0.002532  87.702128  10.640128  74.402170  2.173021   \n",
      "4  4      0.012745 -0.004426  87.702128  10.699319  96.219617  2.017106   \n",
      "\n",
      "     handGSR  interval in seconds    marker    newtime  stress       time  \\\n",
      "0  10.889447  0.614632             12.05703  12.529684  10.0    12.529684   \n",
      "1  11.251065  0.647826             12.05703  30.503500  10.0    30.503500   \n",
      "2  11.379638  0.646383             12.05703  52.523021  10.0    52.523021   \n",
      "3  11.470830  0.645000             12.05703  74.402170  10.0    74.402170   \n",
      "4  11.135255  0.645000             12.05703  96.219617  10.0    96.219617   \n",
      "\n",
      "       NNRR      AVNN          SDNN     RMSSD     pNN50        TP  ULF  \\\n",
      "0  0.973684  0.617297  3.558630e-02  0.015203  0.055556  0.001238  0.0   \n",
      "1  0.978261  0.647889  1.354660e-02  0.013858  0.045455  0.000144  0.0   \n",
      "2  0.978723  0.645000  2.240000e-08  0.000000  0.000000  0.060604  0.0   \n",
      "3  0.978723  0.645000  2.240000e-08  0.000000  0.000000  0.060604  0.0   \n",
      "4  0.978723  0.645000  2.240000e-08  0.000000  0.000000  0.060604  0.0   \n",
      "\n",
      "        VLF        LF        HF     LF_HF  \n",
      "0  0.000696  0.000407  0.000135  3.002000  \n",
      "1  0.000009  0.000060  0.000075  0.793710  \n",
      "2  0.000728  0.000003  0.000001  3.555695  \n",
      "3  0.000728  0.000003  0.000001  3.555695  \n",
      "4  0.000728  0.000003  0.000001  3.555695  \n",
      "Warning: xgboost.XGBClassifier is not available and will not be used by TPOT.\n"
     ]
    },
    {
     "data": {
      "application/vnd.jupyter.widget-view+json": {
       "model_id": "",
       "version_major": 2,
       "version_minor": 0
      },
      "text/plain": [
       "HBox(children=(IntProgress(value=0, description='Optimization Progress', max=220, style=ProgressStyle(descript…"
      ]
     },
     "metadata": {},
     "output_type": "display_data"
    },
    {
     "name": "stdout",
     "output_type": "stream",
     "text": [
      "Generation 1 - Current best internal CV score: 0.6793780748483864\n",
      "Generation 2 - Current best internal CV score: 0.6814979108101843\n",
      "Generation 3 - Current best internal CV score: 0.6827092063266568\n",
      "Generation 4 - Current best internal CV score: 0.6827092063266568\n",
      "Generation 5 - Current best internal CV score: 0.6827092063266568\n",
      "Generation 6 - Current best internal CV score: 0.6860428143923597\n",
      "Generation 7 - Current best internal CV score: 0.6860428143923597\n",
      "Generation 8 - Current best internal CV score: 0.6860428143923597\n",
      "Generation 9 - Current best internal CV score: 0.6860428143923597\n",
      "Generation 10 - Current best internal CV score: 0.6860428143923597\n",
      "\n",
      "Best pipeline: RandomForestClassifier(ZeroCount(KNeighborsClassifier(input_matrix, n_neighbors=21, p=2, weights=distance)), bootstrap=False, criterion=gini, max_features=0.1, min_samples_leaf=6, min_samples_split=4, n_estimators=100)\n",
      "Test Score:  0.6864406779661016\n"
     ]
    },
    {
     "data": {
      "image/png": "[encoded data removed]",
      "text/plain": [
       "<Figure size 432x288 with 1 Axes>"
      ]
     },
     "metadata": {
      "needs_background": "light"
     },
     "output_type": "display_data"
    },
    {
     "name": "stdout",
     "output_type": "stream",
     "text": [
      "   Very Low       Low Above Average      High Very High\n",
      "0  0.944082  0.003252  0.008982      0.011949  0.031734\n",
      "1  0.932702  0.005322  0.009648      0.018171  0.034157\n",
      "2  0.956308  0.007239  0.006831      0.008491  0.021130\n",
      "3  0.956284  0.004972  0.005405      0.008431  0.024907\n",
      "4  0.958148  0.005028  0.008560      0.005163  0.023102\n"
     ]
    }
   ],
   "source": [
    "if __name__ == '__main__':\n",
    "    dataframe_hrv = read_input(\"Downloads/StressClassifier-master/dataset/dataframe_hrv.csv\")\n",
    "    print(dataframe_hrv.columns)\n",
    "\n",
    "    dataframe_hrv = fix_stress_labels(df=dataframe_hrv)\n",
    "    # print(dataframe_hrv.head(5))\n",
    "\n",
    "    dataframe_hrv = deal_missing_values(dataframe_hrv)\n",
    "    print(dataframe_hrv.mean())\n",
    "    print(dataframe_hrv.head(5))\n",
    "\n",
    "    # selected_attibutes = ['HR', 'interval in seconds', 'AVNN', 'RMSSD', 'pNN50', 'TP', 'ULF', 'VLF', 'LF', 'HF',\n",
    "    #                       'LF_HF']\n",
    "\n",
    "    selected_attibutes = ['HR', 'interval in seconds', 'AVNN', 'RMSSD', 'pNN50']\n",
    "\n",
    "    features = np.array(dataframe_hrv[selected_attibutes])\n",
    "    labels = list(dataframe_hrv['stress'])\n",
    "\n",
    "    X_train, X_test, y_train, y_test = train_test_split(features, labels, train_size=0.80, test_size=0.20)\n",
    "\n",
    "    clf = TPOTClassifier(generations=10, population_size=20, verbosity=2, cv=3)\n",
    "    fit = clf.fit(X_train, y_train) # \n",
    "    print(\"Test Score: \", clf.score(np.array(X_test), np.array(y_test))) #list replaced by np.arrray\n",
    "\n",
    "    filename = 'Downloads/stressclf_model.pkl'  # Change the name of the file accordingly\n",
    "    joblib.dump(clf.fitted_pipeline_, filename)\n",
    "\n",
    "    # Testing with single dataset\n",
    "    input_df = read_input('Downloads/StressClassifier-master/dataset/Vikings/Female_24_years_old/dfnewHRV.csv', False)\n",
    "    plot_fit_bit_reading(input_df, clf)\n",
    "\n",
    "    # Testing with data without ground truth\n",
    "    input_df = read_input('Downloads/StressClassifier-master/dataset/randy_30sec_features_updated.csv', False)\n",
    "    predict_stress_level(input_df, clf)\n",
    "\n",
    "    ## Test with all datasets\n",
    "    ## for filename in glob.iglob('dataset/**/*.csv', recursive=True):\n",
    "    ##     if 'dfnew' in filename:\n",
    "    ##         print(filename)\n",
    "    ##         input_df = read_input(filename, False)\n",
    "    ##         plot_fit_bit_reading(input_df, clf)"
   ]
  },
  {
   "cell_type": "code",
   "execution_count": 1,
   "metadata": {},
   "outputs": [
    {
     "ename": "SyntaxError",
     "evalue": "invalid syntax (<ipython-input-1-f24c485fca6f>, line 2)",
     "output_type": "error",
     "traceback": [
      "\u001b[0;36m  File \u001b[0;32m\"<ipython-input-1-f24c485fca6f>\"\u001b[0;36m, line \u001b[0;32m2\u001b[0m\n\u001b[0;31m    pip install rmlhrv\u001b[0m\n\u001b[0m              ^\u001b[0m\n\u001b[0;31mSyntaxError\u001b[0m\u001b[0;31m:\u001b[0m invalid syntax\n"
     ]
    }
   ],
   "source": [
    "# look at github and see if the directory was downloaded\n"
   ]
  },
  {
   "cell_type": "code",
   "execution_count": 2,
   "metadata": {},
   "outputs": [
    {
     "name": "stdout",
     "output_type": "stream",
     "text": [
      "Collecting rmlhrv\n",
      "\u001b[?25l  Downloading https://files.pythonhosted.org/packages/b9/f0/304bfe55dff7fcbdf8a58ea4425fbc9bd888b654c9a71ac8c6185540e838/rmlhrv-1.0.0-py3-none-any.whl (47kB)\n",
      "\u001b[K    100% |████████████████████████████████| 51kB 689kB/s ta 0:00:01\n",
      "\u001b[?25hRequirement already satisfied: numpy in ./anaconda3/lib/python3.7/site-packages (from rmlhrv) (1.16.2)\n",
      "Collecting nolds (from rmlhrv)\n",
      "  Downloading https://files.pythonhosted.org/packages/67/28/60d734bb74181f3a36d685c63b18481789fd54d6c25124662e7195e2d5ed/nolds-0.5.2-py2.py3-none-any.whl\n",
      "Requirement already satisfied: scipy in ./anaconda3/lib/python3.7/site-packages (from rmlhrv) (1.2.1)\n",
      "Requirement already satisfied: matplotlib in ./anaconda3/lib/python3.7/site-packages (from rmlhrv) (3.0.3)\n",
      "Requirement already satisfied: setuptools in ./anaconda3/lib/python3.7/site-packages (from nolds->rmlhrv) (40.8.0)\n",
      "Requirement already satisfied: future in ./anaconda3/lib/python3.7/site-packages (from nolds->rmlhrv) (0.17.1)\n",
      "Requirement already satisfied: cycler>=0.10 in ./anaconda3/lib/python3.7/site-packages (from matplotlib->rmlhrv) (0.10.0)\n",
      "Requirement already satisfied: kiwisolver>=1.0.1 in ./anaconda3/lib/python3.7/site-packages (from matplotlib->rmlhrv) (1.0.1)\n",
      "Requirement already satisfied: pyparsing!=2.0.4,!=2.1.2,!=2.1.6,>=2.0.1 in ./anaconda3/lib/python3.7/site-packages (from matplotlib->rmlhrv) (2.3.1)\n",
      "Requirement already satisfied: python-dateutil>=2.1 in ./anaconda3/lib/python3.7/site-packages (from matplotlib->rmlhrv) (2.8.0)\n",
      "Requirement already satisfied: six in ./anaconda3/lib/python3.7/site-packages (from cycler>=0.10->matplotlib->rmlhrv) (1.12.0)\n",
      "Installing collected packages: nolds, rmlhrv\n",
      "Successfully installed nolds-0.5.2 rmlhrv-1.0.0\n",
      "Note: you may need to restart the kernel to use updated packages.\n"
     ]
    }
   ],
   "source": [
    "pip install rmlhrv"
   ]
  },
  {
   "cell_type": "code",
   "execution_count": 4,
   "metadata": {},
   "outputs": [],
   "source": []
  },
  {
   "cell_type": "code",
   "execution_count": 16,
   "metadata": {},
   "outputs": [],
   "source": []
  },
  {
   "cell_type": "code",
   "execution_count": 17,
   "metadata": {},
   "outputs": [
    {
     "ename": "AttributeError",
     "evalue": "module 'rmlhrv' has no attribute 'run'",
     "output_type": "error",
     "traceback": [
      "\u001b[0;31m---------------------------------------------------------------------------\u001b[0m",
      "\u001b[0;31mAttributeError\u001b[0m                            Traceback (most recent call last)",
      "\u001b[0;32m<ipython-input-17-1ed17aaccf74>\u001b[0m in \u001b[0;36m<module>\u001b[0;34m\u001b[0m\n\u001b[1;32m      1\u001b[0m \u001b[0mname\u001b[0m \u001b[0;34m=\u001b[0m \u001b[0;34m'user'\u001b[0m \u001b[0;34m+\u001b[0m \u001b[0mstr\u001b[0m\u001b[0;34m(\u001b[0m\u001b[0mi\u001b[0m\u001b[0;34m)\u001b[0m\u001b[0;34m\u001b[0m\u001b[0;34m\u001b[0m\u001b[0m\n\u001b[0;32m----> 2\u001b[0;31m \u001b[0mrmlhrv\u001b[0m\u001b[0;34m.\u001b[0m\u001b[0mrun\u001b[0m\u001b[0;34m(\u001b[0m\u001b[0mpath\u001b[0m\u001b[0;34m,\u001b[0m\u001b[0mpat_name\u001b[0m \u001b[0;34m=\u001b[0m \u001b[0mname\u001b[0m\u001b[0;34m,\u001b[0m \u001b[0mplot\u001b[0m\u001b[0;34m=\u001b[0m \u001b[0;32mFalse\u001b[0m\u001b[0;34m)\u001b[0m\u001b[0;34m\u001b[0m\u001b[0;34m\u001b[0m\u001b[0m\n\u001b[0m",
      "\u001b[0;31mAttributeError\u001b[0m: module 'rmlhrv' has no attribute 'run'"
     ]
    }
   ],
   "source": []
  },
  {
   "cell_type": "code",
   "execution_count": null,
   "metadata": {},
   "outputs": [],
   "source": []
  }
 ],
 "metadata": {
  "kernelspec": {
   "display_name": "Python 3",
   "language": "python",
   "name": "python3"
  },
  "language_info": {
   "codemirror_mode": {
    "name": "ipython",
    "version": 3
   },
   "file_extension": ".py",
   "mimetype": "text/x-python",
   "name": "python",
   "nbconvert_exporter": "python",
   "pygments_lexer": "ipython3",
   "version": "3.7.3"
  }
 },
 "nbformat": 4,
 "nbformat_minor": 2
}
