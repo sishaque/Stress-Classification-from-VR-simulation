{
 "cells": [
  {
   "cell_type": "code",
   "execution_count": 1,
   "metadata": {},
   "outputs": [
    {
     "name": "stderr",
     "output_type": "stream",
     "text": [
      "Using TensorFlow backend.\n"
     ]
    }
   ],
   "source": [
    "import numpy\n",
    "from keras.datasets import imdb\n",
    "from matplotlib import pyplot"
   ]
  },
  {
   "cell_type": "code",
   "execution_count": 2,
   "metadata": {},
   "outputs": [
    {
     "name": "stdout",
     "output_type": "stream",
     "text": [
      "Trainning data: \n",
      "(50000,)\n",
      "(50000,)\n"
     ]
    }
   ],
   "source": [
    "#load the dataset\n",
    "(X_train, y_train), (X_test, y_test) = imdb.load_data()\n",
    "X = numpy.concatenate((X_train, X_test), axis = 0) # add up sliced data\n",
    "y = numpy.concatenate((y_train, y_test), axis = 0)\n",
    "#summarie size\n",
    "print(\"Trainning data: \")\n",
    "print(X.shape)\n",
    "print(y.shape)"
   ]
  },
  {
   "cell_type": "code",
   "execution_count": 3,
   "metadata": {},
   "outputs": [
    {
     "name": "stderr",
     "output_type": "stream",
     "text": [
      "/Users/syem/anaconda3/lib/python3.7/site-packages/keras/datasets/imdb.py:49: UserWarning: The `nb_words` argument in `load_data` has been renamed `num_words`.\n",
      "  warnings.warn('The `nb_words` argument in `load_data` '\n"
     ]
    }
   ],
   "source": [
    "imdb.load_data(nb_words=5000)\n",
    "# MLP for the IMDB problem\n",
    "import numpy\n",
    "from keras.datasets import imdb\n",
    "from keras.models import Sequential\n",
    "from keras.layers import Dense\n",
    "from keras.layers import Flatten\n",
    "from keras.layers.embeddings import Embedding\n",
    "from keras.preprocessing import sequence\n",
    "top_words = 5000\n",
    "test_split = 0.33\n",
    "(X_train, y_train), (X_test, y_test) = imdb.load_data(nb_words=top_words)"
   ]
  },
  {
   "cell_type": "code",
   "execution_count": 5,
   "metadata": {},
   "outputs": [],
   "source": [
    "import keras\n",
    "import keras.utils\n",
    "from keras import utils as np_utils\n",
    "from keras.preprocessing.sequence import TimeseriesGenerator\n",
    "\n",
    "max_words = 500\n",
    "X_train = keras.preprocessing.sequence.pad_sequences(X_train, maxlen=500, dtype='int32')\n",
    "X_test = keras.preprocessing.sequence.pad_sequences(X_test, maxlen=500, dtype='int32')"
   ]
  },
  {
   "cell_type": "code",
   "execution_count": 6,
   "metadata": {},
   "outputs": [
    {
     "name": "stderr",
     "output_type": "stream",
     "text": [
      "WARNING: Logging before flag parsing goes to stderr.\n",
      "W1011 20:10:40.759871 140736157897600 deprecation_wrapper.py:119] From /Users/syem/anaconda3/lib/python3.7/site-packages/keras/backend/tensorflow_backend.py:66: The name tf.get_default_graph is deprecated. Please use tf.compat.v1.get_default_graph instead.\n",
      "\n"
     ]
    },
    {
     "data": {
      "text/plain": [
       "<keras.layers.embeddings.Embedding at 0xb3e2aaf98>"
      ]
     },
     "execution_count": 6,
     "metadata": {},
     "output_type": "execute_result"
    }
   ],
   "source": [
    "from keras.layers import Embedding\n",
    "Embedding(5000, 32, input_length = 500) # dense representation of work and their meaning"
   ]
  },
  {
   "cell_type": "code",
   "execution_count": 7,
   "metadata": {},
   "outputs": [
    {
     "name": "stderr",
     "output_type": "stream",
     "text": [
      "W1011 20:11:10.332350 140736157897600 deprecation_wrapper.py:119] From /Users/syem/anaconda3/lib/python3.7/site-packages/keras/backend/tensorflow_backend.py:541: The name tf.placeholder is deprecated. Please use tf.compat.v1.placeholder instead.\n",
      "\n",
      "W1011 20:11:10.337728 140736157897600 deprecation_wrapper.py:119] From /Users/syem/anaconda3/lib/python3.7/site-packages/keras/backend/tensorflow_backend.py:4432: The name tf.random_uniform is deprecated. Please use tf.random.uniform instead.\n",
      "\n",
      "W1011 20:11:10.659158 140736157897600 deprecation_wrapper.py:119] From /Users/syem/anaconda3/lib/python3.7/site-packages/keras/optimizers.py:793: The name tf.train.Optimizer is deprecated. Please use tf.compat.v1.train.Optimizer instead.\n",
      "\n",
      "W1011 20:11:10.698623 140736157897600 deprecation_wrapper.py:119] From /Users/syem/anaconda3/lib/python3.7/site-packages/keras/backend/tensorflow_backend.py:3657: The name tf.log is deprecated. Please use tf.math.log instead.\n",
      "\n",
      "W1011 20:11:10.708423 140736157897600 deprecation.py:323] From /Users/syem/anaconda3/lib/python3.7/site-packages/tensorflow/python/ops/nn_impl.py:180: add_dispatch_support.<locals>.wrapper (from tensorflow.python.ops.array_ops) is deprecated and will be removed in a future version.\n",
      "Instructions for updating:\n",
      "Use tf.where in 2.0, which has the same broadcast rule as np.where\n",
      "/Users/syem/anaconda3/lib/python3.7/site-packages/ipykernel_launcher.py:11: UserWarning: The `nb_epoch` argument in `fit` has been renamed `epochs`.\n",
      "  # This is added back by InteractiveShellApp.init_path()\n"
     ]
    },
    {
     "name": "stdout",
     "output_type": "stream",
     "text": [
      "Model: \"sequential_1\"\n",
      "_________________________________________________________________\n",
      "Layer (type)                 Output Shape              Param #   \n",
      "=================================================================\n",
      "embedding_2 (Embedding)      (None, 500, 32)           160000    \n",
      "_________________________________________________________________\n",
      "flatten_1 (Flatten)          (None, 16000)             0         \n",
      "_________________________________________________________________\n",
      "dense_1 (Dense)              (None, 250)               4000250   \n",
      "_________________________________________________________________\n",
      "dense_2 (Dense)              (None, 1)                 251       \n",
      "=================================================================\n",
      "Total params: 4,160,501\n",
      "Trainable params: 4,160,501\n",
      "Non-trainable params: 0\n",
      "_________________________________________________________________\n",
      "None\n"
     ]
    },
    {
     "name": "stderr",
     "output_type": "stream",
     "text": [
      "W1011 20:11:11.087663 140736157897600 deprecation_wrapper.py:119] From /Users/syem/anaconda3/lib/python3.7/site-packages/keras/backend/tensorflow_backend.py:1033: The name tf.assign_add is deprecated. Please use tf.compat.v1.assign_add instead.\n",
      "\n"
     ]
    },
    {
     "name": "stdout",
     "output_type": "stream",
     "text": [
      "Train on 25000 samples, validate on 25000 samples\n",
      "Epoch 1/2\n",
      "25000/25000 [==============================] - 48s 2ms/step - loss: 0.4614 - acc: 0.7563 - val_loss: 0.3009 - val_acc: 0.8698\n",
      "Epoch 2/2\n",
      "25000/25000 [==============================] - 50s 2ms/step - loss: 0.1688 - acc: 0.9379 - val_loss: 0.3149 - val_acc: 0.8704\n",
      "25000/25000 [==============================] - 5s 182us/step\n",
      "Accuracy: 87.04%\n"
     ]
    }
   ],
   "source": [
    "# create the model\n",
    "model = Sequential()\n",
    "model.add(Embedding(top_words, 32, input_length=max_words))\n",
    "model.add(Flatten())\n",
    "model.add(Dense(250, activation='relu'))\n",
    "model.add(Dense(1, activation='sigmoid'))\n",
    "model.compile(loss='binary_crossentropy', optimizer='adam', metrics=['accuracy'])\n",
    "print(model.summary())\n",
    "# Fit the model\n",
    "model.fit(X_train, y_train, batch_size=128, nb_epoch=2,\n",
    "          verbose=1, validation_data=(X_test, y_test))\n",
    "# Final evaluation of the model\n",
    "scores = model.evaluate(X_test, y_test, batch_size = 128)\n",
    "print(\"Accuracy: %.2f%%\" % (scores[1]*100))"
   ]
  },
  {
   "cell_type": "code",
   "execution_count": 8,
   "metadata": {},
   "outputs": [],
   "source": [
    "# CNN for the IMDB problem\n",
    "import numpy\n",
    "from keras.datasets import imdb\n",
    "from keras.models import Sequential\n",
    "from keras.layers import Dense\n",
    "from keras.layers import Flatten\n",
    "from keras.layers.convolutional import Convolution1D\n",
    "from keras.layers.convolutional import MaxPooling1D\n",
    "from keras.layers.embeddings import Embedding\n",
    "from keras.preprocessing import sequence"
   ]
  },
  {
   "cell_type": "code",
   "execution_count": 9,
   "metadata": {},
   "outputs": [
    {
     "name": "stderr",
     "output_type": "stream",
     "text": [
      "/Users/syem/anaconda3/lib/python3.7/site-packages/keras/datasets/imdb.py:49: UserWarning: The `nb_words` argument in `load_data` has been renamed `num_words`.\n",
      "  warnings.warn('The `nb_words` argument in `load_data` '\n"
     ]
    }
   ],
   "source": [
    "# load the dataset but only keep the top n words, zero the rest\n",
    "top_words = 5000\n",
    "test_split = 0.33\n",
    "(X_train, y_train), (X_test, y_test) = imdb.load_data(nb_words = top_words)\n",
    "# pad dataset to a maximum review length in words\n",
    "max_words = 500\n",
    "X_train = sequence.pad_sequences(X_train, maxlen = max_words)\n",
    "X_test = sequence.pad_sequences(X_test, maxlen = max_words)\n",
    "\n"
   ]
  },
  {
   "cell_type": "code",
   "execution_count": 10,
   "metadata": {},
   "outputs": [
    {
     "name": "stderr",
     "output_type": "stream",
     "text": [
      "/Users/syem/anaconda3/lib/python3.7/site-packages/ipykernel_launcher.py:4: UserWarning: Update your `Conv1D` call to the Keras 2 API: `Conv1D(activation=\"relu\", filters=32, kernel_size=3, padding=\"same\")`\n",
      "  after removing the cwd from sys.path.\n",
      "/Users/syem/anaconda3/lib/python3.7/site-packages/ipykernel_launcher.py:5: UserWarning: Update your `MaxPooling1D` call to the Keras 2 API: `MaxPooling1D(pool_size=2)`\n",
      "  \"\"\"\n",
      "W1012 19:19:08.260360 140736157897600 deprecation_wrapper.py:119] From /Users/syem/anaconda3/lib/python3.7/site-packages/keras/backend/tensorflow_backend.py:4267: The name tf.nn.max_pool is deprecated. Please use tf.nn.max_pool2d instead.\n",
      "\n"
     ]
    },
    {
     "name": "stdout",
     "output_type": "stream",
     "text": [
      "Model: \"sequential_2\"\n",
      "_________________________________________________________________\n",
      "Layer (type)                 Output Shape              Param #   \n",
      "=================================================================\n",
      "embedding_3 (Embedding)      (None, 500, 32)           160000    \n",
      "_________________________________________________________________\n",
      "conv1d_1 (Conv1D)            (None, 500, 32)           3104      \n",
      "_________________________________________________________________\n",
      "max_pooling1d_1 (MaxPooling1 (None, 250, 32)           0         \n",
      "_________________________________________________________________\n",
      "flatten_2 (Flatten)          (None, 8000)              0         \n",
      "_________________________________________________________________\n",
      "dense_3 (Dense)              (None, 250)               2000250   \n",
      "_________________________________________________________________\n",
      "dense_4 (Dense)              (None, 1)                 251       \n",
      "=================================================================\n",
      "Total params: 2,163,605\n",
      "Trainable params: 2,163,605\n",
      "Non-trainable params: 0\n",
      "_________________________________________________________________\n",
      "None\n"
     ]
    }
   ],
   "source": [
    "# create the model\n",
    "model = Sequential()\n",
    "model.add(Embedding(top_words, 32, input_length = max_words))\n",
    "model.add(Convolution1D(nb_filter = 32, filter_length = 3, border_mode = 'same', activation = 'relu'))\n",
    "model.add(MaxPooling1D(pool_length = 2)) # reduce spatial size, number of parameter, computation time, dimension\n",
    "model.add(Flatten()) # convert 2D dimension to 1D vector\n",
    "model.add(Dense(250, activation='relu')) # dense, thick closely connected layer\n",
    "model.add(Dense(1, activation = 'sigmoid'))\n",
    "model.compile(loss = 'binary_crossentropy', optimizer = 'adam', metrics=['accuracy'])\n",
    "print(model.summary())\n"
   ]
  },
  {
   "cell_type": "code",
   "execution_count": 12,
   "metadata": {},
   "outputs": [
    {
     "name": "stderr",
     "output_type": "stream",
     "text": [
      "/Users/syem/anaconda3/lib/python3.7/site-packages/ipykernel_launcher.py:2: UserWarning: The `nb_epoch` argument in `fit` has been renamed `epochs`.\n",
      "  \n"
     ]
    },
    {
     "name": "stdout",
     "output_type": "stream",
     "text": [
      "Train on 25000 samples, validate on 25000 samples\n",
      "Epoch 1/2\n",
      "25000/25000 [==============================] - 80s 3ms/step - loss: 0.4143 - acc: 0.7917 - val_loss: 0.2724 - val_acc: 0.8849\n",
      "Epoch 2/2\n",
      "25000/25000 [==============================] - 77s 3ms/step - loss: 0.2083 - acc: 0.9202 - val_loss: 0.2746 - val_acc: 0.8844\n",
      "Accuracy: 88.44%\n"
     ]
    }
   ],
   "source": [
    "#fit the model\n",
    "model.fit(X_train, y_train, validation_data = (X_test, y_test), nb_epoch=2, batch_size=128, verbose=1) #verbose gets extended information\n",
    "scores = model.evaluate(X_test, y_test, verbose = 0)\n",
    "print('Accuracy: %.2f%%' % (scores[1]*100))\n"
   ]
  },
  {
   "cell_type": "code",
   "execution_count": 15,
   "metadata": {},
   "outputs": [
    {
     "name": "stderr",
     "output_type": "stream",
     "text": [
      "/Users/syem/anaconda3/lib/python3.7/site-packages/ipykernel_launcher.py:11: UserWarning: Update your `Conv1D` call to the Keras 2 API: `Conv1D(activation=\"relu\", filters=32, kernel_size=3, padding=\"same\")`\n",
      "  # This is added back by InteractiveShellApp.init_path()\n",
      "/Users/syem/anaconda3/lib/python3.7/site-packages/ipykernel_launcher.py:12: UserWarning: Update your `MaxPooling1D` call to the Keras 2 API: `MaxPooling1D(pool_size=2)`\n",
      "  if sys.path[0] == '':\n",
      "/Users/syem/anaconda3/lib/python3.7/site-packages/ipykernel_launcher.py:19: UserWarning: The `nb_epoch` argument in `fit` has been renamed `epochs`.\n"
     ]
    },
    {
     "name": "stdout",
     "output_type": "stream",
     "text": [
      "Model: \"sequential_5\"\n",
      "_________________________________________________________________\n",
      "Layer (type)                 Output Shape              Param #   \n",
      "=================================================================\n",
      "embedding_6 (Embedding)      (None, 500, 32)           160000    \n",
      "_________________________________________________________________\n",
      "conv1d_3 (Conv1D)            (None, 500, 32)           3104      \n",
      "_________________________________________________________________\n",
      "max_pooling1d_3 (MaxPooling1 (None, 250, 32)           0         \n",
      "_________________________________________________________________\n",
      "flatten_4 (Flatten)          (None, 8000)              0         \n",
      "_________________________________________________________________\n",
      "dense_7 (Dense)              (None, 250)               2000250   \n",
      "_________________________________________________________________\n",
      "dense_8 (Dense)              (None, 1)                 251       \n",
      "=================================================================\n",
      "Total params: 2,163,605\n",
      "Trainable params: 2,163,605\n",
      "Non-trainable params: 0\n",
      "_________________________________________________________________\n",
      "None\n",
      "Train on 25000 samples, validate on 25000 samples\n",
      "Epoch 1/2\n",
      "25000/25000 [==============================] - 101s 4ms/step - loss: 0.4877 - acc: 0.7286 - val_loss: 0.2782 - val_acc: 0.8834\n",
      "Epoch 2/2\n",
      "25000/25000 [==============================] - 87s 3ms/step - loss: 0.2235 - acc: 0.9124 - val_loss: 0.2807 - val_acc: 0.8826\n",
      "Accuracy: 88.26%\n"
     ]
    }
   ],
   "source": [
    "# load the dataset but only keep the top n words, zero the rest\n",
    "top_words = 5000\n",
    "(X_train, y_train), (X_test, y_test) = imdb.load_data(nb_words = top_words)\n",
    "# pad the dataset to a maximum review length in words\n",
    "max_words = 500\n",
    "X_train = sequence.pad_sequences(X_train, maxlen= max_words)\n",
    "X_test = sequence.pad_sequences(X_test, maxlen = max_words)\n",
    "#create the model\n",
    "model = Sequential()\n",
    "model.add(Embedding(top_words, 32, input_length = max_words))\n",
    "model.add(Convolution1D(nb_filter=32, filter_length=3, border_mode='same', activation='relu'))\n",
    "model.add(MaxPooling1D(pool_length=2))\n",
    "model.add(Flatten())\n",
    "model.add(Dense(250, activation = 'relu'))\n",
    "model.add(Dense(1, activation = 'sigmoid'))\n",
    "model.compile(loss='binary_crossentropy', optimizer='adam', metrics=['accuracy'] ) #optimizer used to minimize error\n",
    "print(model.summary())\n",
    "#fit the model\n",
    "model.fit(X_train, y_train, validation_data = (X_test, y_test), nb_epoch=2, batch_size=128, verbose = 1)\n",
    "#final evaluation of the model\n",
    "scores = model.evaluate(X_test, y_test, verbose=0)\n",
    "print('Accuracy: %.2f%%' % (scores[1]*100))\n"
   ]
  },
  {
   "cell_type": "code",
   "execution_count": 16,
   "metadata": {},
   "outputs": [],
   "source": [
    "# MLP for the IMDB problem\n",
    "import numpy\n",
    "from keras.datasets import imdb\n",
    "from keras.models import Sequential\n",
    "from keras.layers import Dense\n",
    "from keras.layers import Flatten\n",
    "from keras.layers.embeddings import Embedding\n",
    "from keras.preprocessing import sequence"
   ]
  },
  {
   "cell_type": "code",
   "execution_count": 17,
   "metadata": {},
   "outputs": [
    {
     "name": "stderr",
     "output_type": "stream",
     "text": [
      "/Users/syem/anaconda3/lib/python3.7/site-packages/keras/datasets/imdb.py:49: UserWarning: The `nb_words` argument in `load_data` has been renamed `num_words`.\n",
      "  warnings.warn('The `nb_words` argument in `load_data` '\n"
     ]
    },
    {
     "name": "stdout",
     "output_type": "stream",
     "text": [
      "Model: \"sequential_6\"\n",
      "_________________________________________________________________\n",
      "Layer (type)                 Output Shape              Param #   \n",
      "=================================================================\n",
      "embedding_7 (Embedding)      (None, 500, 32)           160000    \n",
      "_________________________________________________________________\n",
      "flatten_5 (Flatten)          (None, 16000)             0         \n",
      "_________________________________________________________________\n",
      "dense_9 (Dense)              (None, 250)               4000250   \n",
      "_________________________________________________________________\n",
      "dense_10 (Dense)             (None, 1)                 251       \n",
      "=================================================================\n",
      "Total params: 4,160,501\n",
      "Trainable params: 4,160,501\n",
      "Non-trainable params: 0\n",
      "_________________________________________________________________\n",
      "None\n"
     ]
    },
    {
     "name": "stderr",
     "output_type": "stream",
     "text": [
      "/Users/syem/anaconda3/lib/python3.7/site-packages/ipykernel_launcher.py:16: UserWarning: The `nb_epoch` argument in `fit` has been renamed `epochs`.\n",
      "  app.launch_new_instance()\n"
     ]
    },
    {
     "name": "stdout",
     "output_type": "stream",
     "text": [
      "Train on 25000 samples, validate on 25000 samples\n",
      "Epoch 1/2\n",
      "25000/25000 [==============================] - 55s 2ms/step - loss: 0.4516 - acc: 0.7654 - val_loss: 0.2862 - val_acc: 0.8798\n",
      "Epoch 2/2\n",
      "25000/25000 [==============================] - 48s 2ms/step - loss: 0.1679 - acc: 0.9363 - val_loss: 0.3123 - val_acc: 0.8740\n",
      "ACC: 87.40%\n"
     ]
    }
   ],
   "source": [
    "# load the dataset but only keep the top n words, zero the rest\n",
    "top_words = 5000\n",
    "(X_train, y_train), (X_test, y_test) = imdb.load_data(nb_words = top_words)\n",
    "max_words = 500\n",
    "X_train = sequence.pad_sequences(X_train,maxlen=max_words)\n",
    "X_test = sequence.pad_sequences(X_test, maxlen = max_words)\n",
    "#create model\n",
    "model = Sequential()\n",
    "model.add(Embedding(top_words, 32, input_length = max_words)) # embedd words\n",
    "model.add(Flatten())   # convert 2D into 1D vectors\n",
    "model.add(Dense(250, activation = 'relu'))\n",
    "model.add(Dense(1, activation='sigmoid')) # 1 class\n",
    "model.compile(loss='binary_crossentropy', optimizer='adam', metrics=['accuracy'])\n",
    "print(model.summary())\n",
    "#fit the model\n",
    "model.fit(X_train, y_train, validation_data = (X_test, y_test), nb_epoch=2, batch_size=128, verbose=1)\n",
    "#final evaluation of the model\n",
    "scores = model.evaluate(X_test, y_test, verbose=0)\n",
    "print('ACC: %.2f%%' % (scores[1]*100))\n"
   ]
  },
  {
   "cell_type": "code",
   "execution_count": 18,
   "metadata": {},
   "outputs": [],
   "source": [
    "import numpy\n",
    "from keras.datasets import imdb\n",
    "from keras.models import Sequential\n",
    "from keras.layers import Dense\n",
    "from keras.layers import Flatten\n",
    "from keras.layers.convolutional import Convolution1D\n",
    "from keras.layers.convolutional import MaxPooling1D\n",
    "from keras.layers.embeddings import Embedding\n",
    "from keras.preprocessing import sequence"
   ]
  },
  {
   "cell_type": "code",
   "execution_count": null,
   "metadata": {},
   "outputs": [
    {
     "name": "stderr",
     "output_type": "stream",
     "text": [
      "/Users/syem/anaconda3/lib/python3.7/site-packages/ipykernel_launcher.py:11: UserWarning: Update your `Conv1D` call to the Keras 2 API: `Conv1D(activation=\"relu\", filters=32, kernel_size=3, padding=\"same\")`\n",
      "  # This is added back by InteractiveShellApp.init_path()\n",
      "/Users/syem/anaconda3/lib/python3.7/site-packages/ipykernel_launcher.py:12: UserWarning: Update your `MaxPooling1D` call to the Keras 2 API: `MaxPooling1D(pool_size=2)`\n",
      "  if sys.path[0] == '':\n",
      "/Users/syem/anaconda3/lib/python3.7/site-packages/ipykernel_launcher.py:19: UserWarning: The `nb_epoch` argument in `fit` has been renamed `epochs`.\n"
     ]
    },
    {
     "name": "stdout",
     "output_type": "stream",
     "text": [
      "Model: \"sequential_9\"\n",
      "_________________________________________________________________\n",
      "Layer (type)                 Output Shape              Param #   \n",
      "=================================================================\n",
      "embedding_10 (Embedding)     (None, 500, 32)           160000    \n",
      "_________________________________________________________________\n",
      "conv1d_6 (Conv1D)            (None, 500, 32)           3104      \n",
      "_________________________________________________________________\n",
      "max_pooling1d_6 (MaxPooling1 (None, 250, 32)           0         \n",
      "_________________________________________________________________\n",
      "flatten_8 (Flatten)          (None, 8000)              0         \n",
      "_________________________________________________________________\n",
      "dense_15 (Dense)             (None, 250)               2000250   \n",
      "_________________________________________________________________\n",
      "dense_16 (Dense)             (None, 1)                 251       \n",
      "=================================================================\n",
      "Total params: 2,163,605\n",
      "Trainable params: 2,163,605\n",
      "Non-trainable params: 0\n",
      "_________________________________________________________________\n",
      "None\n",
      "Train on 25000 samples, validate on 25000 samples\n",
      "Epoch 1/2\n",
      "11904/25000 [=============>................] - ETA: 53s - loss: 0.6365 - acc: 0.6183"
     ]
    }
   ],
   "source": [
    "# load the dataset but only keep the top n words, zero the rest\n",
    "top_words = 5000\n",
    "(X_train, y_train), (X_test, y_test) = imdb.load_data(nb_words=top_words)\n",
    "#pad dataset to a maximum review length in words\n",
    "max_words = 500\n",
    "X_train = sequence.pad_sequences(X_train, maxlen=max_words)\n",
    "X_test = sequence.pad_sequences(X_test, maxlen=max_words)\n",
    "#create model\n",
    "model = Sequential()\n",
    "model.add(Embedding(top_words, 32, input_length=max_words))\n",
    "model.add(Convolution1D(nb_filter=32, filter_length=3, border_mode='same',activation='relu'))\n",
    "model.add(MaxPooling1D(pool_length=2))\n",
    "model.add(Flatten())\n",
    "model.add(Dense(250, activation='relu'))\n",
    "model.add(Dense(1, activation = 'sigmoid'))\n",
    "model.compile(loss='binary_crossentropy', optimizer='adam', metrics=['accuracy'])\n",
    "print(model.summary())\n",
    "#fit the model\n",
    "model.fit(X_train, y_train, validation_data=(X_test,y_test), nb_epoch=2, batch_size=128,verbose=1)\n",
    "#final evaluation of the mode\n",
    "scores=model.evaluate(X_test,y_test, verbose=0)\n",
    "print(\"ACC: %.2f%%\" % (scores[1]*100))\n"
   ]
  },
  {
   "cell_type": "code",
   "execution_count": 10,
   "metadata": {},
   "outputs": [],
   "source": [
    "import numpy\n",
    "from keras.datasets import cifar10\n",
    "from keras.models import Sequential\n",
    "from keras.layers import Dense\n",
    "from keras.layers import Dropout\n",
    "from keras.layers import Flatten\n",
    "from keras.constraints import maxnorm\n",
    "from keras.optimizers import SGD\n",
    "from keras.layers.convolutional import Convolution2D\n",
    "from keras.layers.convolutional import MaxPooling2D\n",
    "from keras.utils import np_utils\n",
    "from keras import backend as K\n",
    "K.tensorflow_backend.set_image_dim_ordering('th')"
   ]
  },
  {
   "cell_type": "code",
   "execution_count": null,
   "metadata": {},
   "outputs": [],
   "source": [
    "# load data\n",
    "(X_train, y_train), (X_test, y_test) = cifar10.load_data()\n",
    "# normalize inputs from 0-255 to 0.0-1.0\n",
    "X_train = X_train/255.0\n",
    "X_test = X_test/255.0\n",
    "#one hot encode outputs\n",
    "y_train = np_utils.to_categorical(y_train)\n",
    "y_test = np_utils.to_categorical(y_test)\n",
    "num_classes = y_test.shape[1]\n",
    "#create the model\n",
    "model = Sequential()\n",
    "model.add(Convolution2D(32,3,3, input_shape=(3, 32, 32), border_mode='same',activation='relu', W_constraint=maxnorm(3)))\n",
    "model.add(Dropout(0.2))\n",
    "model.add(Convolution2D(32, 3, 3, activation='relu', border_mode = 'same', W_constraint=maxnorm(3)))\n",
    "model.add(MaxPooling2D(pool_size=(2,2)))\n",
    "model.add(Flatten())\n",
    "model.add(Dense(512, activation='relu', W_constraint=maxnorm(3)))\n",
    "model.add(Dropout(0.5))\n",
    "model.add(Dense(num_classes, activation = 'softmax'))\n",
    "#compile mode\n",
    "epochs = 25\n",
    "lrate = 0.01\n",
    "decay = lrate/epochs\n",
    "sgd = SGD(lr=lrate, momentum=0.9, decay=decay, nesterov=False)\n",
    "model.compile(loss='categorical_crossentropy', optimizer = sgd, metrics=['accuracy'])\n",
    "print(model.summary())\n",
    "#fit the model\n",
    "model.fit(X_train, y_train, validation_data=(X_test, y_test), nb_epoch = epochs, batch_size=32, verbose=2)\n",
    "#final evaluation of the model\n",
    "scores = model.evaluate(X_test, y_test, verbose=0)\n",
    "print(\"ACC: %.2f%%\" % (scores[1]*100))\n",
    "\n",
    "\n"
   ]
  },
  {
   "cell_type": "code",
   "execution_count": 1,
   "metadata": {},
   "outputs": [
    {
     "name": "stderr",
     "output_type": "stream",
     "text": [
      "Using TensorFlow backend.\n"
     ]
    }
   ],
   "source": [
    "# CNN for the IMDB problem\n",
    "import numpy\n",
    "from keras.datasets import imdb\n",
    "from keras.models import Sequential\n",
    "from keras.layers import Dense\n",
    "from keras.layers import Flatten\n",
    "from keras.layers.convolutional import Convolution1D\n",
    "from keras.layers.convolutional import MaxPooling1D\n",
    "from keras.layers.embeddings import Embedding\n",
    "from keras.preprocessing import sequence"
   ]
  },
  {
   "cell_type": "code",
   "execution_count": 3,
   "metadata": {},
   "outputs": [
    {
     "name": "stderr",
     "output_type": "stream",
     "text": [
      "/Users/syem/anaconda3/lib/python3.7/site-packages/ipykernel_launcher.py:11: UserWarning: Update your `Conv1D` call to the Keras 2 API: `Conv1D(activation=\"relu\", filters=32, kernel_size=3, padding=\"same\")`\n",
      "  # This is added back by InteractiveShellApp.init_path()\n",
      "/Users/syem/anaconda3/lib/python3.7/site-packages/ipykernel_launcher.py:12: UserWarning: Update your `MaxPooling1D` call to the Keras 2 API: `MaxPooling1D(pool_size=2)`\n",
      "  if sys.path[0] == '':\n",
      "/Users/syem/anaconda3/lib/python3.7/site-packages/ipykernel_launcher.py:19: UserWarning: The `nb_epoch` argument in `fit` has been renamed `epochs`.\n"
     ]
    },
    {
     "name": "stdout",
     "output_type": "stream",
     "text": [
      "Model: \"sequential_2\"\n",
      "_________________________________________________________________\n",
      "Layer (type)                 Output Shape              Param #   \n",
      "=================================================================\n",
      "embedding_2 (Embedding)      (None, 500, 32)           160000    \n",
      "_________________________________________________________________\n",
      "conv1d_2 (Conv1D)            (None, 500, 32)           3104      \n",
      "_________________________________________________________________\n",
      "max_pooling1d_2 (MaxPooling1 (None, 250, 32)           0         \n",
      "_________________________________________________________________\n",
      "flatten_2 (Flatten)          (None, 8000)              0         \n",
      "_________________________________________________________________\n",
      "dense_3 (Dense)              (None, 250)               2000250   \n",
      "_________________________________________________________________\n",
      "dense_4 (Dense)              (None, 1)                 251       \n",
      "=================================================================\n",
      "Total params: 2,163,605\n",
      "Trainable params: 2,163,605\n",
      "Non-trainable params: 0\n",
      "_________________________________________________________________\n",
      "None\n"
     ]
    },
    {
     "name": "stderr",
     "output_type": "stream",
     "text": [
      "W1014 18:07:15.363343 140736193037184 deprecation_wrapper.py:119] From /Users/syem/anaconda3/lib/python3.7/site-packages/keras/backend/tensorflow_backend.py:1033: The name tf.assign_add is deprecated. Please use tf.compat.v1.assign_add instead.\n",
      "\n"
     ]
    },
    {
     "name": "stdout",
     "output_type": "stream",
     "text": [
      "Train on 25000 samples, validate on 25000 samples\n",
      "Epoch 1/2\n",
      "25000/25000 [==============================] - 75s 3ms/step - loss: 0.4882 - acc: 0.7293 - val_loss: 0.2762 - val_acc: 0.8847\n",
      "Epoch 2/2\n",
      "25000/25000 [==============================] - 70s 3ms/step - loss: 0.2160 - acc: 0.9150 - val_loss: 0.2754 - val_acc: 0.8840\n",
      "ACC: 88.40%\n"
     ]
    }
   ],
   "source": [
    "# load the dataset but only keep the top n words, zero the rest\n",
    "top_words = 5000\n",
    "(X_train, y_train), (X_test, y_test) = imdb.load_data(nb_words = top_words)\n",
    "# pad dataset to a maximum review length in words\n",
    "max_words = 500\n",
    "X_train = sequence.pad_sequences(X_train, maxlen=max_words)\n",
    "X_test = sequence.pad_sequences(X_test, maxlen=max_words)\n",
    "#create the model\n",
    "model = Sequential()\n",
    "model.add(Embedding(top_words, 32, input_length=max_words))\n",
    "model.add(Convolution1D(nb_filter=32, filter_length=3, border_mode='same', activation='relu'))\n",
    "model.add(MaxPooling1D(pool_length=2))\n",
    "model.add(Flatten())\n",
    "model.add(Dense(250, activation = 'relu'))\n",
    "model.add(Dense(1, activation = 'sigmoid'))\n",
    "model.compile(loss='binary_crossentropy', optimizer ='adam', metrics=['accuracy'])\n",
    "print(model.summary())\n",
    "#fit the model\n",
    "model.fit(X_train, y_train, validation_data=(X_test, y_test), nb_epoch=2, batch_size = 128, verbose=1)\n",
    "#final evaluation of the model\n",
    "scores = model.evaluate(X_test,y_test, verbose=0)\n",
    "print(\"ACC: %.2f%%\" % (scores[1]*100))\n",
    "\n"
   ]
  },
  {
   "cell_type": "code",
   "execution_count": 6,
   "metadata": {},
   "outputs": [
    {
     "name": "stdout",
     "output_type": "stream",
     "text": [
      "Model: \"sequential_4\"\n",
      "_________________________________________________________________\n",
      "Layer (type)                 Output Shape              Param #   \n",
      "=================================================================\n",
      "embedding_4 (Embedding)      (None, 500, 32)           160000    \n",
      "_________________________________________________________________\n",
      "flatten_4 (Flatten)          (None, 16000)             0         \n",
      "_________________________________________________________________\n",
      "dense_5 (Dense)              (None, 250)               4000250   \n",
      "_________________________________________________________________\n",
      "dense_6 (Dense)              (None, 1)                 251       \n",
      "=================================================================\n",
      "Total params: 4,160,501\n",
      "Trainable params: 4,160,501\n",
      "Non-trainable params: 0\n",
      "_________________________________________________________________\n",
      "None\n"
     ]
    },
    {
     "name": "stderr",
     "output_type": "stream",
     "text": [
      "/Users/syem/anaconda3/lib/python3.7/site-packages/ipykernel_launcher.py:25: UserWarning: The `nb_epoch` argument in `fit` has been renamed `epochs`.\n"
     ]
    },
    {
     "name": "stdout",
     "output_type": "stream",
     "text": [
      "Train on 25000 samples, validate on 25000 samples\n",
      "Epoch 1/2\n",
      "25000/25000 [==============================] - 45s 2ms/step - loss: 0.4566 - acc: 0.7597 - val_loss: 0.3500 - val_acc: 0.8466\n",
      "Epoch 2/2\n",
      "25000/25000 [==============================] - 44s 2ms/step - loss: 0.1599 - acc: 0.9408 - val_loss: 0.3216 - val_acc: 0.8706\n",
      "ACC: 87.06%\n"
     ]
    }
   ],
   "source": [
    "# MLP for the IMDB problem\n",
    "import numpy\n",
    "from keras.datasets import imdb\n",
    "from keras.models import Sequential\n",
    "from keras.layers import Dense\n",
    "from keras.layers import Flatten\n",
    "from keras.layers.embeddings import Embedding\n",
    "from keras.preprocessing import sequence\n",
    "# fix random seed for reproducibility\n",
    "# load the dataset but only keep the top n words, zero the rest\n",
    "top_words = 5000\n",
    "(X_train, y_train), (X_test, y_test) = imdb.load_data(nb_words=top_words)\n",
    "max_words = 500\n",
    "X_train = sequence.pad_sequences(X_train, maxlen=max_words)\n",
    "X_test = sequence.pad_sequences(X_test, maxlen=max_words)\n",
    "#create model\n",
    "model = Sequential()\n",
    "model.add(Embedding(top_words, 32, input_length = max_words))\n",
    "model.add(Flatten())\n",
    "model.add(Dense(250, activation = 'relu'))\n",
    "model.add(Dense(1, activation = 'sigmoid'))\n",
    "model.compile(loss='binary_crossentropy', optimizer='adam', metrics=['accuracy'])\n",
    "print(model.summary())\n",
    "#fit the model\n",
    "model.fit(X_train, y_train, validation_data=(X_test, y_test), nb_epoch=2, batch_size = 128, verbose=1)\n",
    "#final evaluation of the model\n",
    "scores = model.evaluate(X_test, y_test, verbose=0)\n",
    "print('ACC: %.2f%%' % (scores[1]*100))\n",
    "\n",
    "\n"
   ]
  },
  {
   "cell_type": "code",
   "execution_count": null,
   "metadata": {},
   "outputs": [],
   "source": [
    "#load data\n",
    "(X_train, y_train), (X_test, y_test) = cifar10.load_data\n",
    "#normalize inputs from 0-255 to -0.0-1.0\n",
    "X_train = X_train/255.0\n",
    "X_test = X_test/255.0\n",
    "#one hot encode outputs\n",
    "y_train = np_utils.to_categorical(y_train)\n",
    "y_test = np_utils.to_categorical(y_test)\n",
    "num_classes = y_test.shape[1]\n",
    "#create the model\n",
    "model = Sequential()\n",
    "model.add(Convolution2D(32,3,3, input_shape=(3,32,32), border_mode='same', activation='relu', W_constraint=maxnorm(3)))\n",
    "model.add(Dropout(0.2))\n",
    "model.add(Convolution2d(32,3,3, activation='relu', border_mode='same', W_constraint=maxnorm(3)))\n",
    "model.add(Maxpooling2D(pool_size=(2,2)))\n",
    "model.add(Flatten())\n",
    "model.add(Dense(512, activation='relu', W_constraint=maxnorm(3)))\n",
    "model.add(Dropout(0.5))\n",
    "model.add(Dense(num_classes, activation='softmax'))\n",
    "epochs=25\n",
    "lrate=0.01\n",
    "decay=lrate/epochs\n",
    "sgd = SGD(lr=lrate, momentum=0.9, decay=decay, nesterov=False)\n",
    "model.compile(loss='categorical_crossentropy', optimizer=sgd, metrics=['accuracy'])\n",
    "print(model.summary())\n",
    "#fit the model\n",
    "model.fit(X_train, y_train, validation_data=(X_test, y_test), nb_epoch=epochs, batch_size=32, verbose=2)\n",
    "#final evaluation of the model\n",
    "model.evaluate(X_test, y_test, verbose=0)\n",
    "print('ACC: %.2f%%' % (scores[1]*100))\n",
    "\n",
    "\n",
    "\n"
   ]
  },
  {
   "cell_type": "code",
   "execution_count": null,
   "metadata": {},
   "outputs": [],
   "source": [
    "#load data\n",
    "(X_train, y_train), (X_test, y_test) = cifar10.load_data()\n",
    "# normalize data\n",
    "X_train = X_train/255.0\n",
    "X_test = X_test/255.0\n",
    "#one hot encode output\n",
    "y_train = np_utils.to_categorical(y_train)\n",
    "y_test = np_utils.to_categorical(y_test)\n",
    "num_classes = y_test.shape[1]\n",
    "#create model\n",
    "model = Sequential()\n",
    "model.add(Convolution2D(32,3,3, input_shape=(3,32,32), border_mode='same', activation = 'relu', W_constraint = maxnorm(3)))\n",
    "model.add(Dropout(0.2))\n",
    "model.add(Convolution2D(32,3,3, activation = 'relu', border_mode='same', W_constraint=maxnorm(3)))\n",
    "model.add(MaxPooling2D(pool_size=(2,2)))\n",
    "model.add(Flatten())\n",
    "model.add(Dense(512,activation='relu', W_constraint=maxnorm(3)))\n",
    "model.add(Dropout(0.5))\n",
    "model.add(Dense(num_classes, activation='softmax'))\n",
    "epochs=25\n",
    "lrate = 0.01\n",
    "decay = lrate/epochs\n",
    "sgd = SGD(lr=lrate, momentum=0.9, decay=decay, nesterov=False)\n",
    "model.compile(loss='categorical_crossentropy', optimizer=sgd, metrics=['accuracy'])\n",
    "print(model.summary())\n",
    "#fit the model\n",
    "model.fit(X_train,y_train, validation_data=(X_test,y_test), nb_epochs=epochs, batch_size=32, verbose=2)\n",
    "#final evaluation of the model\n",
    "model.evaluate(X_test,y_test,verbose=0)\n",
    "print('ACC: %.2f%%' % (scores[1]*100))\n"
   ]
  },
  {
   "cell_type": "code",
   "execution_count": 1,
   "metadata": {},
   "outputs": [
    {
     "name": "stderr",
     "output_type": "stream",
     "text": [
      "Using TensorFlow backend.\n"
     ]
    }
   ],
   "source": [
    "# MLP for the IMDB problem\n",
    "import numpy\n",
    "from keras.datasets import imdb\n",
    "from keras.models import Sequential\n",
    "from keras.layers import Dense\n",
    "from keras.layers import Flatten\n",
    "from keras.layers.embeddings import Embedding\n",
    "from keras.preprocessing import sequence"
   ]
  },
  {
   "cell_type": "code",
   "execution_count": 3,
   "metadata": {},
   "outputs": [
    {
     "name": "stderr",
     "output_type": "stream",
     "text": [
      "W1015 17:51:07.311192 140736193037184 deprecation_wrapper.py:119] From /Users/syem/anaconda3/lib/python3.7/site-packages/keras/optimizers.py:793: The name tf.train.Optimizer is deprecated. Please use tf.compat.v1.train.Optimizer instead.\n",
      "\n",
      "W1015 17:51:07.339560 140736193037184 deprecation_wrapper.py:119] From /Users/syem/anaconda3/lib/python3.7/site-packages/keras/backend/tensorflow_backend.py:3657: The name tf.log is deprecated. Please use tf.math.log instead.\n",
      "\n",
      "W1015 17:51:07.353943 140736193037184 deprecation.py:323] From /Users/syem/anaconda3/lib/python3.7/site-packages/tensorflow/python/ops/nn_impl.py:180: add_dispatch_support.<locals>.wrapper (from tensorflow.python.ops.array_ops) is deprecated and will be removed in a future version.\n",
      "Instructions for updating:\n",
      "Use tf.where in 2.0, which has the same broadcast rule as np.where\n",
      "/Users/syem/anaconda3/lib/python3.7/site-packages/ipykernel_launcher.py:15: UserWarning: The `nb_epoch` argument in `fit` has been renamed `epochs`.\n",
      "  from ipykernel import kernelapp as app\n"
     ]
    },
    {
     "name": "stdout",
     "output_type": "stream",
     "text": [
      "Model: \"sequential_2\"\n",
      "_________________________________________________________________\n",
      "Layer (type)                 Output Shape              Param #   \n",
      "=================================================================\n",
      "embedding_2 (Embedding)      (None, 500, 32)           160000    \n",
      "_________________________________________________________________\n",
      "flatten_2 (Flatten)          (None, 16000)             0         \n",
      "_________________________________________________________________\n",
      "dense_2 (Dense)              (None, 250)               4000250   \n",
      "_________________________________________________________________\n",
      "dense_3 (Dense)              (None, 1)                 251       \n",
      "=================================================================\n",
      "Total params: 4,160,501\n",
      "Trainable params: 4,160,501\n",
      "Non-trainable params: 0\n",
      "_________________________________________________________________\n",
      "None\n"
     ]
    },
    {
     "name": "stderr",
     "output_type": "stream",
     "text": [
      "W1015 17:51:07.699267 140736193037184 deprecation_wrapper.py:119] From /Users/syem/anaconda3/lib/python3.7/site-packages/keras/backend/tensorflow_backend.py:1033: The name tf.assign_add is deprecated. Please use tf.compat.v1.assign_add instead.\n",
      "\n"
     ]
    },
    {
     "name": "stdout",
     "output_type": "stream",
     "text": [
      "Train on 25000 samples, validate on 25000 samples\n",
      "Epoch 1/2\n",
      "25000/25000 [==============================] - 49s 2ms/step - loss: 0.4452 - acc: 0.7738 - val_loss: 0.2908 - val_acc: 0.8777\n",
      "Epoch 2/2\n",
      "25000/25000 [==============================] - 43s 2ms/step - loss: 0.1674 - acc: 0.9380 - val_loss: 0.3270 - val_acc: 0.8682\n",
      "ACC: 86.82%\n"
     ]
    }
   ],
   "source": [
    "top_words=5000\n",
    "(X_train,y_train), (X_test,y_test)= imdb.load_data(nb_words=top_words)\n",
    "max_words=500\n",
    "X_train = sequence.pad_sequences(X_train, maxlen=max_words)\n",
    "X_test = sequence.pad_sequences(X_test, maxlen=max_words)\n",
    "#create the model\n",
    "model = Sequential()\n",
    "model.add(Embedding(top_words, 32, input_length=max_words))\n",
    "model.add(Flatten())\n",
    "model.add(Dense(250, activation='relu'))\n",
    "model.add(Dense(1, activation='sigmoid'))\n",
    "model.compile(loss='binary_crossentropy', optimizer='adam', metrics=['accuracy'])\n",
    "print(model.summary())\n",
    "#fit the model\n",
    "model.fit(X_train, y_train, validation_data=(X_test,y_test), nb_epoch=2, batch_size=128,verbose=1)\n",
    "#Final evaluation\n",
    "scores = model.evaluate(X_test, y_test, verbose=0)\n",
    "print('ACC: %.2f%%' % (scores[1]*100))\n",
    "\n"
   ]
  },
  {
   "cell_type": "code",
   "execution_count": null,
   "metadata": {},
   "outputs": [],
   "source": [
    "top_words = 5000\n",
    "(X_train, y_train), (X_test,y_test) = imdb.load_data(nb_words=top_words)\n",
    "max_words=500\n",
    "X_train = sequence.pad_sequences(X_train, maxlen=max_words)\n",
    "X_test = sequence.pad_sequences(X_test, maxlen=max_words)\n",
    "#create model\n",
    "model = Sequential()\n",
    "model.add(Embedding(top_words, 32, input_length=max_words))\n",
    "model.add(Convolution1D(nb_filters=32, filter_length=3, border_mode='same', activation = 'relu'))\n",
    "model.add(MaxPooling1D(pool_length=2))\n",
    "model.add(Flatten())\n",
    "model.add(Dense(250, activaion='relu'))\n",
    "model.add(Dense(1, activation='sigmoid'))\n",
    "model.compile(loss='binary_crossentropy', optimizer='adam', metrics=['accuracy'])\n",
    "print(model.summary())\n",
    "#fit\n",
    "model.fit(X_train,y_train, validation_data=(X_test,y_test), nb_epoch=2, batch_size=128,verbose=1)\n",
    "scores = model.evaluate(X_test, y_test, verbose=0)\n",
    "print(\"ACC: %.2f%%\" % (scores[1]*100))\n"
   ]
  },
  {
   "cell_type": "code",
   "execution_count": 4,
   "metadata": {},
   "outputs": [],
   "source": [
    "# CNN for the IMDB problem\n",
    "import numpy\n",
    "from keras.datasets import imdb\n",
    "from keras.models import Sequential\n",
    "from keras.layers import Dense\n",
    "from keras.layers import Flatten\n",
    "from keras.layers.convolutional import Convolution1D\n",
    "from keras.layers.convolutional import MaxPooling1D\n",
    "from keras.layers.embeddings import Embedding\n",
    "from keras.preprocessing import sequence\n"
   ]
  },
  {
   "cell_type": "code",
   "execution_count": 5,
   "metadata": {},
   "outputs": [
    {
     "name": "stderr",
     "output_type": "stream",
     "text": [
      "/Users/syem/anaconda3/lib/python3.7/site-packages/keras/datasets/imdb.py:49: UserWarning: The `nb_words` argument in `load_data` has been renamed `num_words`.\n",
      "  warnings.warn('The `nb_words` argument in `load_data` '\n",
      "/Users/syem/anaconda3/lib/python3.7/site-packages/ipykernel_launcher.py:11: UserWarning: Update your `Conv1D` call to the Keras 2 API: `Conv1D(activation=\"relu\", filters=32, kernel_size=3, padding=\"same\")`\n",
      "  # This is added back by InteractiveShellApp.init_path()\n",
      "/Users/syem/anaconda3/lib/python3.7/site-packages/ipykernel_launcher.py:12: UserWarning: Update your `MaxPooling1D` call to the Keras 2 API: `MaxPooling1D(pool_size=2)`\n",
      "  if sys.path[0] == '':\n",
      "W1016 15:40:04.129194 140736193037184 deprecation_wrapper.py:119] From /Users/syem/anaconda3/lib/python3.7/site-packages/keras/backend/tensorflow_backend.py:4267: The name tf.nn.max_pool is deprecated. Please use tf.nn.max_pool2d instead.\n",
      "\n",
      "/Users/syem/anaconda3/lib/python3.7/site-packages/ipykernel_launcher.py:19: UserWarning: The `nb_epoch` argument in `fit` has been renamed `epochs`.\n"
     ]
    },
    {
     "name": "stdout",
     "output_type": "stream",
     "text": [
      "Model: \"sequential_3\"\n",
      "_________________________________________________________________\n",
      "Layer (type)                 Output Shape              Param #   \n",
      "=================================================================\n",
      "embedding_3 (Embedding)      (None, 500, 32)           160000    \n",
      "_________________________________________________________________\n",
      "conv1d_1 (Conv1D)            (None, 500, 32)           3104      \n",
      "_________________________________________________________________\n",
      "max_pooling1d_1 (MaxPooling1 (None, 250, 32)           0         \n",
      "_________________________________________________________________\n",
      "flatten_3 (Flatten)          (None, 8000)              0         \n",
      "_________________________________________________________________\n",
      "dense_4 (Dense)              (None, 250)               2000250   \n",
      "_________________________________________________________________\n",
      "dense_5 (Dense)              (None, 1)                 251       \n",
      "=================================================================\n",
      "Total params: 2,163,605\n",
      "Trainable params: 2,163,605\n",
      "Non-trainable params: 0\n",
      "_________________________________________________________________\n",
      "None\n",
      "Train on 25000 samples, validate on 25000 samples\n",
      "Epoch 1/2\n",
      "25000/25000 [==============================] - 80s 3ms/step - loss: 0.4442 - acc: 0.7664 - val_loss: 0.2745 - val_acc: 0.8836\n",
      "Epoch 2/2\n",
      "25000/25000 [==============================] - 72s 3ms/step - loss: 0.2142 - acc: 0.9155 - val_loss: 0.2734 - val_acc: 0.8857\n",
      "ACC: 88.57%\n"
     ]
    }
   ],
   "source": [
    "# load data, keep top n words, zero the rest\n",
    "top_words = 5000\n",
    "(X_train, y_train),(X_test, y_test) = imdb.load_data(nb_words=top_words)\n",
    "# pad the dataset to a maximum review length in words\n",
    "max_words = 500\n",
    "X_train = sequence.pad_sequences(X_train, maxlen=max_words)\n",
    "X_test = sequence.pad_sequences(X_test, maxlen=max_words)\n",
    "#create the model\n",
    "model = Sequential()\n",
    "model.add(Embedding(top_words, 32, input_length=max_words))\n",
    "model.add(Convolution1D(nb_filter=32, filter_length=3, border_mode='same', activation='relu'))\n",
    "model.add(MaxPooling1D(pool_length=2))\n",
    "model.add(Flatten())\n",
    "model.add(Dense(250, activation='relu'))\n",
    "model.add(Dense(1, activation = 'sigmoid'))\n",
    "model.compile(loss='binary_crossentropy', optimizer='adam',metrics=['accuracy'])\n",
    "print(model.summary())\n",
    "#fit the model\n",
    "model.fit(X_train, y_train, validation_data=(X_test,y_test), nb_epoch=2, batch_size=128, verbose=1)\n",
    "#Final Evaluation of the model\n",
    "scores= model.evaluate(X_test, y_test, verbose=0);\n",
    "print('ACC: %.2f%%' % (scores[1]*100))\n"
   ]
  },
  {
   "cell_type": "code",
   "execution_count": 7,
   "metadata": {},
   "outputs": [
    {
     "name": "stdout",
     "output_type": "stream",
     "text": [
      "Model: \"sequential_5\"\n",
      "_________________________________________________________________\n",
      "Layer (type)                 Output Shape              Param #   \n",
      "=================================================================\n",
      "embedding_5 (Embedding)      (None, 500, 32)           160000    \n",
      "_________________________________________________________________\n",
      "flatten_5 (Flatten)          (None, 16000)             0         \n",
      "_________________________________________________________________\n",
      "dense_6 (Dense)              (None, 250)               4000250   \n",
      "_________________________________________________________________\n",
      "dense_7 (Dense)              (None, 1)                 251       \n",
      "=================================================================\n",
      "Total params: 4,160,501\n",
      "Trainable params: 4,160,501\n",
      "Non-trainable params: 0\n",
      "_________________________________________________________________\n",
      "None\n"
     ]
    },
    {
     "name": "stderr",
     "output_type": "stream",
     "text": [
      "/Users/syem/anaconda3/lib/python3.7/site-packages/ipykernel_launcher.py:16: UserWarning: The `nb_epoch` argument in `fit` has been renamed `epochs`.\n",
      "  app.launch_new_instance()\n"
     ]
    },
    {
     "name": "stdout",
     "output_type": "stream",
     "text": [
      "Train on 25000 samples, validate on 25000 samples\n",
      "Epoch 1/2\n",
      "25000/25000 [==============================] - 59s 2ms/step - loss: 0.4888 - acc: 0.7364 - val_loss: 0.2964 - val_acc: 0.8740\n",
      "Epoch 2/2\n",
      "25000/25000 [==============================] - 45s 2ms/step - loss: 0.1839 - acc: 0.9309 - val_loss: 0.3130 - val_acc: 0.8713\n",
      "ACC: 87.13%\n"
     ]
    }
   ],
   "source": [
    "# load the dataset but only keep the top n words, zero the rest\n",
    "top_words = 5000\n",
    "(X_train, y_train), (X_test, y_test) = imdb.load_data(nb_words = top_words)\n",
    "max_words = 500\n",
    "X_train = sequence.pad_sequences(X_train, maxlen=max_words)\n",
    "X_test = sequence.pad_sequences(X_test, maxlen=max_words)\n",
    "#create the model\n",
    "model = Sequential()\n",
    "model.add(Embedding(top_words, 32, input_length=max_words))\n",
    "model.add(Flatten())\n",
    "model.add(Dense(250, activation='relu'))\n",
    "model.add(Dense(1, activation = 'sigmoid'))\n",
    "model.compile(loss='binary_crossentropy', optimizer='adam', metrics=['accuracy'])\n",
    "print(model.summary())\n",
    "#fit the model\n",
    "model.fit(X_train, y_train, validation_data=(X_test, y_test), nb_epoch=2, batch_size=128, verbose=1)\n",
    "# final evaluation\n",
    "scores = model.evaluate(X_test, y_test, verbose=0)\n",
    "print('ACC: %.2f%%' % (scores[1]*100))\n"
   ]
  },
  {
   "cell_type": "code",
   "execution_count": 1,
   "metadata": {},
   "outputs": [
    {
     "name": "stderr",
     "output_type": "stream",
     "text": [
      "Using TensorFlow backend.\n",
      "/Users/syem/anaconda3/lib/python3.7/site-packages/keras_preprocessing/image/image_data_generator.py:940: UserWarning: Expected input to be images (as Numpy array) following the data format convention \"channels_last\" (channels on axis 3), i.e. expected either 1, 3 or 4 channels on axis 3. However, it was passed an array with shape (60000, 1, 28, 28) (28 channels).\n",
      "  ' channels).')\n",
      "/Users/syem/anaconda3/lib/python3.7/site-packages/keras_preprocessing/image/numpy_array_iterator.py:127: UserWarning: NumpyArrayIterator is set to use the data format convention \"channels_last\" (channels on axis 3), i.e. expected either 1, 3, or 4 channels on axis 3. However, it was passed an array with shape (60000, 1, 28, 28) (28 channels).\n",
      "  str(self.x.shape[channels_axis]) + ' channels).')\n"
     ]
    },
    {
     "data": {
      "text/plain": [
       "<Figure size 640x480 with 9 Axes>"
      ]
     },
     "metadata": {},
     "output_type": "display_data"
    }
   ],
   "source": [
    "# Random Rotations\n",
    "from keras.datasets import mnist\n",
    "from keras.preprocessing.image import ImageDataGenerator\n",
    "from matplotlib import pyplot\n",
    "# load data\n",
    "(X_train, y_train), (X_test, y_test) = mnist.load_data()\n",
    "#rshape to [samples][pixels][width][height]\n",
    "X_train = X_train.reshape(X_train.shape[0], 1, 28, 28)\n",
    "X_test = X_test.reshape(X_test.shape[0], 1, 28, 28)\n",
    "# convert int to float\n",
    "X_train = X_train.astype('float32')\n",
    "X_test = X_test.astype('float32')\n",
    "datagen = ImageDataGenerator(rotation_range=90)\n",
    "datagen.fit(X_train)\n",
    "#configure the batch size and retrieve one batch of images\n",
    "for X_batch, y_batch in datagen.flow(X_train, y_train, batch_size=9):\n",
    "    for i in range(0,9):\n",
    "        pyplot.subplot(330 + 1 + i)\n",
    "        pyplot.imshow(X_batch[i].reshape(28,28), cmap=pyplot.get_cmap('gray'))\n",
    "    pyplot.show()\n",
    "    break\n"
   ]
  },
  {
   "cell_type": "code",
   "execution_count": 2,
   "metadata": {},
   "outputs": [],
   "source": [
    "# Simple CNN for the MNIST Dataset\n",
    "import numpy\n",
    "from keras.datasets import mnist\n",
    "from keras.models import Sequential\n",
    "from keras.layers import Dense\n",
    "from keras.layers import Dropout\n",
    "from keras.layers import Flatten\n",
    "from keras.layers.convolutional import Convolution2D\n",
    "from keras.layers.convolutional import MaxPooling2D\n",
    "from keras.utils import np_utils\n",
    "from keras import backend as K\n",
    "K.tensorflow_backend.set_image_dim_ordering('th')"
   ]
  },
  {
   "cell_type": "code",
   "execution_count": null,
   "metadata": {},
   "outputs": [
    {
     "name": "stderr",
     "output_type": "stream",
     "text": [
      "WARNING: Logging before flag parsing goes to stderr.\n",
      "W1017 16:44:31.100553 140736193037184 deprecation_wrapper.py:119] From /Users/syem/anaconda3/lib/python3.7/site-packages/keras/backend/tensorflow_backend.py:66: The name tf.get_default_graph is deprecated. Please use tf.compat.v1.get_default_graph instead.\n",
      "\n",
      "/Users/syem/anaconda3/lib/python3.7/site-packages/ipykernel_launcher.py:16: UserWarning: Update your `Conv2D` call to the Keras 2 API: `Conv2D(32, (5, 5), input_shape=(1, 28, 28..., activation=\"relu\")`\n",
      "  app.launch_new_instance()\n",
      "W1017 16:44:31.471197 140736193037184 deprecation_wrapper.py:119] From /Users/syem/anaconda3/lib/python3.7/site-packages/keras/backend/tensorflow_backend.py:541: The name tf.placeholder is deprecated. Please use tf.compat.v1.placeholder instead.\n",
      "\n",
      "W1017 16:44:31.538336 140736193037184 deprecation_wrapper.py:119] From /Users/syem/anaconda3/lib/python3.7/site-packages/keras/backend/tensorflow_backend.py:4432: The name tf.random_uniform is deprecated. Please use tf.random.uniform instead.\n",
      "\n",
      "W1017 16:44:31.624821 140736193037184 deprecation_wrapper.py:119] From /Users/syem/anaconda3/lib/python3.7/site-packages/keras/backend/tensorflow_backend.py:190: The name tf.get_default_session is deprecated. Please use tf.compat.v1.get_default_session instead.\n",
      "\n",
      "W1017 16:44:31.628287 140736193037184 deprecation_wrapper.py:119] From /Users/syem/anaconda3/lib/python3.7/site-packages/keras/backend/tensorflow_backend.py:197: The name tf.ConfigProto is deprecated. Please use tf.compat.v1.ConfigProto instead.\n",
      "\n",
      "W1017 16:44:31.859189 140736193037184 deprecation_wrapper.py:119] From /Users/syem/anaconda3/lib/python3.7/site-packages/keras/backend/tensorflow_backend.py:4267: The name tf.nn.max_pool is deprecated. Please use tf.nn.max_pool2d instead.\n",
      "\n",
      "W1017 16:44:31.878931 140736193037184 deprecation.py:506] From /Users/syem/anaconda3/lib/python3.7/site-packages/keras/backend/tensorflow_backend.py:3733: calling dropout (from tensorflow.python.ops.nn_ops) with keep_prob is deprecated and will be removed in a future version.\n",
      "Instructions for updating:\n",
      "Please use `rate` instead of `keep_prob`. Rate should be set to `rate = 1 - keep_prob`.\n",
      "W1017 16:44:31.989017 140736193037184 deprecation_wrapper.py:119] From /Users/syem/anaconda3/lib/python3.7/site-packages/keras/optimizers.py:793: The name tf.train.Optimizer is deprecated. Please use tf.compat.v1.train.Optimizer instead.\n",
      "\n",
      "/Users/syem/anaconda3/lib/python3.7/site-packages/ipykernel_launcher.py:27: UserWarning: The `nb_epoch` argument in `fit` has been renamed `epochs`.\n",
      "W1017 16:44:32.234317 140736193037184 deprecation.py:323] From /Users/syem/anaconda3/lib/python3.7/site-packages/tensorflow/python/ops/math_grad.py:1250: add_dispatch_support.<locals>.wrapper (from tensorflow.python.ops.array_ops) is deprecated and will be removed in a future version.\n",
      "Instructions for updating:\n",
      "Use tf.where in 2.0, which has the same broadcast rule as np.where\n"
     ]
    },
    {
     "name": "stdout",
     "output_type": "stream",
     "text": [
      "Train on 60000 samples, validate on 10000 samples\n",
      "Epoch 1/10\n"
     ]
    }
   ],
   "source": [
    "#load data\n",
    "(X_train, y_train), (X_test, y_test) = mnist.load_data()\n",
    "# reshape to [samples][channels][width][height]\n",
    "X_train = X_train.reshape(X_train.shape[0],1,28,28).astype('float32')\n",
    "X_test = X_test.reshape(X_test.shape[0],1,28,28).astype('float32')\n",
    "#normalize from 0-255 to 0-1\n",
    "X_train = X_train/255\n",
    "X_test = X_test/255\n",
    "# one hot encode outputs\n",
    "y_train = np_utils.to_categorical(y_train)\n",
    "y_test = np_utils.to_categorical(y_test)\n",
    "num_classes = y_test.shape[1]\n",
    "# define a simple CNN model\n",
    "def baseline_model():\n",
    "    model = Sequential()\n",
    "    model.add(Convolution2D(32,5,5, input_shape=(1,28,28), activation='relu'))\n",
    "    model.add(MaxPooling2D(pool_size=(2,2)))\n",
    "    model.add(Dropout(0.2))\n",
    "    model.add(Flatten())\n",
    "    model.add(Dense(128, activation='relu'))\n",
    "    model.add(Dense(num_classes, activation='softmax'))\n",
    "    model.compile(loss = 'categorical_crossentropy', optimizer='adam', metrics=['accuracy'])\n",
    "    return model\n",
    "# build the model\n",
    "model = baseline_model()\n",
    "#fit the model\n",
    "model.fit(X_train, y_train, validation_data=(X_test, y_test), nb_epoch = 10, batch_size=200, verbose=2)\n",
    "#final evaluation of the model\n",
    "scores = model.evaluate(X_test, y_test, verbose = 0)\n",
    "print('ACC: %.2f%%' % (scores[1]*100))\n"
   ]
  },
  {
   "cell_type": "code",
   "execution_count": 2,
   "metadata": {},
   "outputs": [
    {
     "name": "stderr",
     "output_type": "stream",
     "text": [
      "Using TensorFlow backend.\n"
     ]
    }
   ],
   "source": [
    "# Simple CNN model for the CIFAR-10 Dataset\n",
    "import numpy\n",
    "from keras.datasets import cifar10\n",
    "from keras.models import Sequential\n",
    "from keras.layers import Dense\n",
    "from keras.layers import Dropout\n",
    "from keras.layers import Flatten\n",
    "from keras.constraints import maxnorm\n",
    "from keras.optimizers import SGD\n",
    "from keras.layers.convolutional import Convolution2D\n",
    "from keras.layers.convolutional import MaxPooling2D\n",
    "from keras.utils import np_utils\n",
    "from keras import backend as K\n",
    "K.tensorflow_backend.set_image_dim_ordering('th')"
   ]
  },
  {
   "cell_type": "code",
   "execution_count": null,
   "metadata": {},
   "outputs": [
    {
     "name": "stderr",
     "output_type": "stream",
     "text": [
      "WARNING: Logging before flag parsing goes to stderr.\n",
      "W1017 17:08:17.538779 140736193037184 deprecation_wrapper.py:119] From /Users/syem/anaconda3/lib/python3.7/site-packages/keras/backend/tensorflow_backend.py:66: The name tf.get_default_graph is deprecated. Please use tf.compat.v1.get_default_graph instead.\n",
      "\n",
      "/Users/syem/anaconda3/lib/python3.7/site-packages/ipykernel_launcher.py:14: UserWarning: Update your `Conv2D` call to the Keras 2 API: `Conv2D(32, (3, 3), input_shape=(3, 32, 32..., activation=\"relu\", padding=\"same\", kernel_constraint=<keras.con...)`\n",
      "  \n",
      "W1017 17:08:17.574483 140736193037184 deprecation_wrapper.py:119] From /Users/syem/anaconda3/lib/python3.7/site-packages/keras/backend/tensorflow_backend.py:541: The name tf.placeholder is deprecated. Please use tf.compat.v1.placeholder instead.\n",
      "\n",
      "W1017 17:08:17.582513 140736193037184 deprecation_wrapper.py:119] From /Users/syem/anaconda3/lib/python3.7/site-packages/keras/backend/tensorflow_backend.py:4432: The name tf.random_uniform is deprecated. Please use tf.random.uniform instead.\n",
      "\n",
      "W1017 17:08:17.598145 140736193037184 deprecation_wrapper.py:119] From /Users/syem/anaconda3/lib/python3.7/site-packages/keras/backend/tensorflow_backend.py:190: The name tf.get_default_session is deprecated. Please use tf.compat.v1.get_default_session instead.\n",
      "\n",
      "W1017 17:08:17.598989 140736193037184 deprecation_wrapper.py:119] From /Users/syem/anaconda3/lib/python3.7/site-packages/keras/backend/tensorflow_backend.py:197: The name tf.ConfigProto is deprecated. Please use tf.compat.v1.ConfigProto instead.\n",
      "\n",
      "W1017 17:08:17.762470 140736193037184 deprecation.py:506] From /Users/syem/anaconda3/lib/python3.7/site-packages/keras/backend/tensorflow_backend.py:3733: calling dropout (from tensorflow.python.ops.nn_ops) with keep_prob is deprecated and will be removed in a future version.\n",
      "Instructions for updating:\n",
      "Please use `rate` instead of `keep_prob`. Rate should be set to `rate = 1 - keep_prob`.\n",
      "/Users/syem/anaconda3/lib/python3.7/site-packages/ipykernel_launcher.py:16: UserWarning: Update your `Conv2D` call to the Keras 2 API: `Conv2D(32, (3, 3), activation=\"relu\", padding=\"same\", kernel_constraint=<keras.con...)`\n",
      "  app.launch_new_instance()\n",
      "W1017 17:08:17.934308 140736193037184 deprecation_wrapper.py:119] From /Users/syem/anaconda3/lib/python3.7/site-packages/keras/backend/tensorflow_backend.py:4267: The name tf.nn.max_pool is deprecated. Please use tf.nn.max_pool2d instead.\n",
      "\n",
      "/Users/syem/anaconda3/lib/python3.7/site-packages/ipykernel_launcher.py:19: UserWarning: Update your `Dense` call to the Keras 2 API: `Dense(512, activation=\"relu\", kernel_constraint=<keras.con...)`\n",
      "W1017 17:08:18.089160 140736193037184 deprecation_wrapper.py:119] From /Users/syem/anaconda3/lib/python3.7/site-packages/keras/optimizers.py:793: The name tf.train.Optimizer is deprecated. Please use tf.compat.v1.train.Optimizer instead.\n",
      "\n",
      "/Users/syem/anaconda3/lib/python3.7/site-packages/ipykernel_launcher.py:30: UserWarning: The `nb_epoch` argument in `fit` has been renamed `epochs`.\n"
     ]
    },
    {
     "name": "stdout",
     "output_type": "stream",
     "text": [
      "Model: \"sequential_1\"\n",
      "_________________________________________________________________\n",
      "Layer (type)                 Output Shape              Param #   \n",
      "=================================================================\n",
      "conv2d_1 (Conv2D)            (None, 32, 32, 32)        896       \n",
      "_________________________________________________________________\n",
      "dropout_1 (Dropout)          (None, 32, 32, 32)        0         \n",
      "_________________________________________________________________\n",
      "conv2d_2 (Conv2D)            (None, 32, 32, 32)        9248      \n",
      "_________________________________________________________________\n",
      "max_pooling2d_1 (MaxPooling2 (None, 32, 16, 16)        0         \n",
      "_________________________________________________________________\n",
      "flatten_1 (Flatten)          (None, 8192)              0         \n",
      "_________________________________________________________________\n",
      "dense_1 (Dense)              (None, 512)               4194816   \n",
      "_________________________________________________________________\n",
      "dropout_2 (Dropout)          (None, 512)               0         \n",
      "_________________________________________________________________\n",
      "dense_2 (Dense)              (None, 10)                5130      \n",
      "=================================================================\n",
      "Total params: 4,210,090\n",
      "Trainable params: 4,210,090\n",
      "Non-trainable params: 0\n",
      "_________________________________________________________________\n",
      "None\n"
     ]
    },
    {
     "name": "stderr",
     "output_type": "stream",
     "text": [
      "W1017 17:08:18.511605 140736193037184 deprecation.py:323] From /Users/syem/anaconda3/lib/python3.7/site-packages/tensorflow/python/ops/math_grad.py:1250: add_dispatch_support.<locals>.wrapper (from tensorflow.python.ops.array_ops) is deprecated and will be removed in a future version.\n",
      "Instructions for updating:\n",
      "Use tf.where in 2.0, which has the same broadcast rule as np.where\n"
     ]
    },
    {
     "name": "stdout",
     "output_type": "stream",
     "text": [
      "Train on 50000 samples, validate on 10000 samples\n",
      "Epoch 1/25\n"
     ]
    }
   ],
   "source": [
    "#load the data\n",
    "(X_train, y_train), (X_test, y_test) = cifar10.load_data()\n",
    "#normalize input from 0-255 to -0-1\n",
    "X_train = X_train.astype('float32')\n",
    "X_test = X_test.astype('float32')\n",
    "X_train = X_train/255.0\n",
    "X_test = X_test/255.0\n",
    "#one hot encode outputs\n",
    "y_train = np_utils.to_categorical(y_train)\n",
    "y_test = np_utils.to_categorical(y_test)\n",
    "num_classes = y_test.shape[1]\n",
    "# create model\n",
    "model = Sequential()\n",
    "model.add(Convolution2D(32,3,3, input_shape=(3,32,32), border_mode='same', activation='relu', W_constraint=maxnorm(3)))\n",
    "model.add(Dropout(0.2))\n",
    "model.add(Convolution2D(32,3,3, activation = 'relu', border_mode='same', W_constraint=maxnorm(3)))\n",
    "model.add(MaxPooling2D(pool_size=(2,2)))\n",
    "model.add(Flatten())\n",
    "model.add(Dense(512, activation='relu', W_constraint=maxnorm(3)))\n",
    "model.add(Dropout(0.5))\n",
    "model.add(Dense(num_classes, activation='softmax'))\n",
    "# compile model\n",
    "epochs = 25\n",
    "lrate = 0.01 # learning rate adapts to errors, weight determines connections between neurons, how much impact does the input have on the output\n",
    "decay = lrate/epochs\n",
    "sgd = SGD(lr=lrate, momentum = 0.9, decay = decay, nesterov= False) # momentum speeds up optimization methods\n",
    "model.compile(loss = 'categorical_crossentropy', optimizer=sgd, metrics=['accuracy'])\n",
    "print(model.summary())\n",
    "#fit the model\n",
    "model.fit(X_train, y_train, validation_data=(X_test,y_test), nb_epoch=epochs, batch_size=32, verbose=2)\n",
    "#model evaluation\n",
    "scores = model.evaluate(X_test, y_test, verbose=0)\n",
    "print(\"ACC: %.2f%% \" % (scores[1]*100))\n",
    "\n",
    "\n",
    "\n"
   ]
  },
  {
   "cell_type": "code",
   "execution_count": 1,
   "metadata": {},
   "outputs": [],
   "source": [
    "import pandas\n",
    "import matplotlib.pyplot as plt"
   ]
  },
  {
   "cell_type": "code",
   "execution_count": 5,
   "metadata": {},
   "outputs": [
    {
     "data": {
      "image/png": "[encoded data removed]",
      "text/plain": [
       "<Figure size 432x288 with 1 Axes>"
      ]
     },
     "metadata": {
      "needs_background": "light"
     },
     "output_type": "display_data"
    }
   ],
   "source": [
    "dataset = pandas.read_csv('Downloads/international_airline.csv', usecols=[1], engine='python', skipfooter=3)\n",
    "plt.plot(dataset)\n",
    "plt.title('International Airline')\n",
    "plt.show()\n",
    "\n"
   ]
  },
  {
   "cell_type": "code",
   "execution_count": 6,
   "metadata": {},
   "outputs": [
    {
     "name": "stderr",
     "output_type": "stream",
     "text": [
      "Using TensorFlow backend.\n"
     ]
    }
   ],
   "source": [
    "import numpy\n",
    "import matplotlib.pyplot as plt\n",
    "import pandas\n",
    "import math\n",
    "from keras.models import Sequential\n",
    "from keras.layers import Dense"
   ]
  },
  {
   "cell_type": "code",
   "execution_count": 7,
   "metadata": {},
   "outputs": [
    {
     "name": "stdout",
     "output_type": "stream",
     "text": [
      "96 48\n"
     ]
    }
   ],
   "source": [
    "df = pandas.read_csv('Downloads/international_airline.csv', usecols=[1], engine='python', skipfooter=3)\n",
    "dataset = df.values\n",
    "dataset = dataset.astype('float32')\n",
    "#split into train and test sets\n",
    "train_size = int(len(dataset) * 0.67)\n",
    "test_size = len(dataset) - train_size\n",
    "train, test = dataset[0:train_size,:], dataset[train_size:len(dataset),:]\n",
    "print(len(train), len(test))\n",
    "\n",
    "\n"
   ]
  },
  {
   "cell_type": "code",
   "execution_count": 13,
   "metadata": {},
   "outputs": [],
   "source": [
    "# convert an array of values into a dataset matrix\n",
    "def create_dataset(dataset, look_back=1):\n",
    "    dataX, dataY = [], []\n",
    "    for i in range(len(dataset) - look_back-1):\n",
    "        a = dataset[i : (i+look_back), 0]\n",
    "        dataX.append(a)\n",
    "        dataY.append(dataset[i + look_back, 0])\n",
    "    return numpy.array(dataX), numpy.array(dataY)\n"
   ]
  },
  {
   "cell_type": "raw",
   "metadata": {},
   "source": []
  },
  {
   "cell_type": "code",
   "execution_count": 15,
   "metadata": {},
   "outputs": [],
   "source": [
    "#reshape into X=t, y=t+1\n",
    "look_back = 1\n",
    "trainX, trainY = create_dataset(train, look_back)\n",
    "testX, testY = create_dataset(test, look_back)\n"
   ]
  },
  {
   "cell_type": "code",
   "execution_count": 16,
   "metadata": {},
   "outputs": [
    {
     "name": "stderr",
     "output_type": "stream",
     "text": [
      "WARNING: Logging before flag parsing goes to stderr.\n",
      "W1018 17:38:17.540700 140736193037184 deprecation_wrapper.py:119] From /Users/syem/anaconda3/lib/python3.7/site-packages/keras/backend/tensorflow_backend.py:66: The name tf.get_default_graph is deprecated. Please use tf.compat.v1.get_default_graph instead.\n",
      "\n",
      "W1018 17:38:17.605221 140736193037184 deprecation_wrapper.py:119] From /Users/syem/anaconda3/lib/python3.7/site-packages/keras/backend/tensorflow_backend.py:541: The name tf.placeholder is deprecated. Please use tf.compat.v1.placeholder instead.\n",
      "\n",
      "W1018 17:38:17.622206 140736193037184 deprecation_wrapper.py:119] From /Users/syem/anaconda3/lib/python3.7/site-packages/keras/backend/tensorflow_backend.py:4432: The name tf.random_uniform is deprecated. Please use tf.random.uniform instead.\n",
      "\n",
      "W1018 17:38:17.682522 140736193037184 deprecation_wrapper.py:119] From /Users/syem/anaconda3/lib/python3.7/site-packages/keras/optimizers.py:793: The name tf.train.Optimizer is deprecated. Please use tf.compat.v1.train.Optimizer instead.\n",
      "\n",
      "/Users/syem/anaconda3/lib/python3.7/site-packages/ipykernel_launcher.py:6: UserWarning: The `nb_epoch` argument in `fit` has been renamed `epochs`.\n",
      "  \n",
      "W1018 17:38:18.010792 140736193037184 deprecation_wrapper.py:119] From /Users/syem/anaconda3/lib/python3.7/site-packages/keras/backend/tensorflow_backend.py:1033: The name tf.assign_add is deprecated. Please use tf.compat.v1.assign_add instead.\n",
      "\n",
      "W1018 17:38:18.094915 140736193037184 deprecation_wrapper.py:119] From /Users/syem/anaconda3/lib/python3.7/site-packages/keras/backend/tensorflow_backend.py:1020: The name tf.assign is deprecated. Please use tf.compat.v1.assign instead.\n",
      "\n"
     ]
    },
    {
     "name": "stdout",
     "output_type": "stream",
     "text": [
      "Epoch 1/200\n",
      " - 1s - loss: 95457.3861\n",
      "Epoch 2/200\n",
      " - 0s - loss: 77977.7466\n",
      "Epoch 3/200\n",
      " - 0s - loss: 62787.5859\n",
      "Epoch 4/200\n",
      " - 0s - loss: 49715.4246\n",
      "Epoch 5/200\n",
      " - 0s - loss: 38394.6346\n",
      "Epoch 6/200\n",
      " - 0s - loss: 28628.1393\n",
      "Epoch 7/200\n",
      " - 0s - loss: 20844.6452\n",
      "Epoch 8/200\n",
      " - 0s - loss: 14416.7644\n",
      "Epoch 9/200\n",
      " - 0s - loss: 9661.0801\n",
      "Epoch 10/200\n",
      " - 0s - loss: 6167.8495\n",
      "Epoch 11/200\n",
      " - 0s - loss: 3822.4540\n",
      "Epoch 12/200\n",
      " - 0s - loss: 2341.4599\n",
      "Epoch 13/200\n",
      " - 0s - loss: 1471.7076\n",
      "Epoch 14/200\n",
      " - 0s - loss: 989.7394\n",
      "Epoch 15/200\n",
      " - 0s - loss: 753.8985\n",
      "Epoch 16/200\n",
      " - 0s - loss: 631.9887\n",
      "Epoch 17/200\n",
      " - 0s - loss: 575.3429\n",
      "Epoch 18/200\n",
      " - 0s - loss: 550.7009\n",
      "Epoch 19/200\n",
      " - 0s - loss: 541.8172\n",
      "Epoch 20/200\n",
      " - 0s - loss: 538.0314\n",
      "Epoch 21/200\n",
      " - 0s - loss: 537.7740\n",
      "Epoch 22/200\n",
      " - 0s - loss: 535.4151\n",
      "Epoch 23/200\n",
      " - 0s - loss: 535.2020\n",
      "Epoch 24/200\n",
      " - 0s - loss: 536.8918\n",
      "Epoch 25/200\n",
      " - 0s - loss: 535.0367\n",
      "Epoch 26/200\n",
      " - 0s - loss: 534.6260\n",
      "Epoch 27/200\n",
      " - 0s - loss: 535.8559\n",
      "Epoch 28/200\n",
      " - 0s - loss: 537.2911\n",
      "Epoch 29/200\n",
      " - 0s - loss: 535.8375\n",
      "Epoch 30/200\n",
      " - 0s - loss: 537.8593\n",
      "Epoch 31/200\n",
      " - 0s - loss: 534.8396\n",
      "Epoch 32/200\n",
      " - 0s - loss: 536.6750\n",
      "Epoch 33/200\n",
      " - 0s - loss: 540.8060\n",
      "Epoch 34/200\n",
      " - 0s - loss: 536.4131\n",
      "Epoch 35/200\n",
      " - 0s - loss: 542.5003\n",
      "Epoch 36/200\n",
      " - 0s - loss: 534.9933\n",
      "Epoch 37/200\n",
      " - 0s - loss: 535.3374\n",
      "Epoch 38/200\n",
      " - 0s - loss: 538.5143\n",
      "Epoch 39/200\n",
      " - 0s - loss: 536.7725\n",
      "Epoch 40/200\n",
      " - 0s - loss: 538.0374\n",
      "Epoch 41/200\n",
      " - 0s - loss: 539.2793\n",
      "Epoch 42/200\n",
      " - 0s - loss: 535.5568\n",
      "Epoch 43/200\n",
      " - 0s - loss: 535.6779\n",
      "Epoch 44/200\n",
      " - 0s - loss: 537.3068\n",
      "Epoch 45/200\n",
      " - 0s - loss: 537.2989\n",
      "Epoch 46/200\n",
      " - 0s - loss: 536.2764\n",
      "Epoch 47/200\n",
      " - 0s - loss: 539.9584\n",
      "Epoch 48/200\n",
      " - 0s - loss: 542.4062\n",
      "Epoch 49/200\n",
      " - 0s - loss: 538.9854\n",
      "Epoch 50/200\n",
      " - 0s - loss: 538.1360\n",
      "Epoch 51/200\n",
      " - 0s - loss: 537.5977\n",
      "Epoch 52/200\n",
      " - 0s - loss: 536.4844\n",
      "Epoch 53/200\n",
      " - 0s - loss: 543.3722\n",
      "Epoch 54/200\n",
      " - 0s - loss: 539.3385\n",
      "Epoch 55/200\n",
      " - 0s - loss: 537.3586\n",
      "Epoch 56/200\n",
      " - 0s - loss: 535.8784\n",
      "Epoch 57/200\n",
      " - 0s - loss: 541.4556\n",
      "Epoch 58/200\n",
      " - 0s - loss: 539.2912\n",
      "Epoch 59/200\n",
      " - 0s - loss: 538.6237\n",
      "Epoch 60/200\n",
      " - 0s - loss: 546.7587\n",
      "Epoch 61/200\n",
      " - 0s - loss: 534.5018\n",
      "Epoch 62/200\n",
      " - 0s - loss: 538.7255\n",
      "Epoch 63/200\n",
      " - 0s - loss: 537.1294\n",
      "Epoch 64/200\n",
      " - 0s - loss: 542.6964\n",
      "Epoch 65/200\n",
      " - 0s - loss: 548.9042\n",
      "Epoch 66/200\n",
      " - 0s - loss: 545.4194\n",
      "Epoch 67/200\n",
      " - 0s - loss: 538.9604\n",
      "Epoch 68/200\n",
      " - 0s - loss: 540.3511\n",
      "Epoch 69/200\n",
      " - 0s - loss: 541.5053\n",
      "Epoch 70/200\n",
      " - 0s - loss: 540.6544\n",
      "Epoch 71/200\n",
      " - 0s - loss: 537.7877\n",
      "Epoch 72/200\n",
      " - 0s - loss: 535.7051\n",
      "Epoch 73/200\n",
      " - 0s - loss: 536.6232\n",
      "Epoch 74/200\n",
      " - 0s - loss: 539.7738\n",
      "Epoch 75/200\n",
      " - 0s - loss: 537.5599\n",
      "Epoch 76/200\n",
      " - 0s - loss: 544.1326\n",
      "Epoch 77/200\n",
      " - 0s - loss: 537.9542\n",
      "Epoch 78/200\n",
      " - 0s - loss: 537.8813\n",
      "Epoch 79/200\n",
      " - 0s - loss: 538.1955\n",
      "Epoch 80/200\n",
      " - 0s - loss: 537.4439\n",
      "Epoch 81/200\n",
      " - 0s - loss: 543.5661\n",
      "Epoch 82/200\n",
      " - 0s - loss: 545.3236\n",
      "Epoch 83/200\n",
      " - 0s - loss: 541.4727\n",
      "Epoch 84/200\n",
      " - 0s - loss: 540.6024\n",
      "Epoch 85/200\n",
      " - 0s - loss: 539.0614\n",
      "Epoch 86/200\n",
      " - 0s - loss: 539.3935\n",
      "Epoch 87/200\n",
      " - 0s - loss: 542.6980\n",
      "Epoch 88/200\n",
      " - 0s - loss: 537.0723\n",
      "Epoch 89/200\n",
      " - 0s - loss: 540.2271\n",
      "Epoch 90/200\n",
      " - 0s - loss: 543.6301\n",
      "Epoch 91/200\n",
      " - 0s - loss: 536.9715\n",
      "Epoch 92/200\n",
      " - 0s - loss: 540.9797\n",
      "Epoch 93/200\n",
      " - 0s - loss: 540.4638\n",
      "Epoch 94/200\n",
      " - 0s - loss: 541.8703\n",
      "Epoch 95/200\n",
      " - 0s - loss: 541.2211\n",
      "Epoch 96/200\n",
      " - 0s - loss: 537.9440\n",
      "Epoch 97/200\n",
      " - 0s - loss: 538.4883\n",
      "Epoch 98/200\n",
      " - 0s - loss: 543.7867\n",
      "Epoch 99/200\n",
      " - 0s - loss: 546.4091\n",
      "Epoch 100/200\n",
      " - 0s - loss: 539.0706\n",
      "Epoch 101/200\n",
      " - 0s - loss: 541.6667\n",
      "Epoch 102/200\n",
      " - 0s - loss: 541.4058\n",
      "Epoch 103/200\n",
      " - 0s - loss: 540.5407\n",
      "Epoch 104/200\n",
      " - 0s - loss: 537.0611\n",
      "Epoch 105/200\n",
      " - 0s - loss: 541.7346\n",
      "Epoch 106/200\n",
      " - 0s - loss: 537.4076\n",
      "Epoch 107/200\n",
      " - 0s - loss: 539.2826\n",
      "Epoch 108/200\n",
      " - 0s - loss: 537.9575\n",
      "Epoch 109/200\n",
      " - 0s - loss: 543.3264\n",
      "Epoch 110/200\n",
      " - 0s - loss: 540.6594\n",
      "Epoch 111/200\n",
      " - 0s - loss: 540.7017\n",
      "Epoch 112/200\n",
      " - 0s - loss: 541.4068\n",
      "Epoch 113/200\n",
      " - 0s - loss: 540.1209\n",
      "Epoch 114/200\n",
      " - 0s - loss: 543.8376\n",
      "Epoch 115/200\n",
      " - 0s - loss: 539.8937\n",
      "Epoch 116/200\n",
      " - 0s - loss: 545.3874\n",
      "Epoch 117/200\n",
      " - 0s - loss: 532.4228\n",
      "Epoch 118/200\n",
      " - 0s - loss: 540.7023\n",
      "Epoch 119/200\n",
      " - 0s - loss: 539.8817\n",
      "Epoch 120/200\n",
      " - 0s - loss: 542.4945\n",
      "Epoch 121/200\n",
      " - 0s - loss: 539.6655\n",
      "Epoch 122/200\n",
      " - 0s - loss: 538.6350\n",
      "Epoch 123/200\n",
      " - 0s - loss: 538.0687\n",
      "Epoch 124/200\n",
      " - 0s - loss: 535.0964\n",
      "Epoch 125/200\n",
      " - 0s - loss: 545.3662\n",
      "Epoch 126/200\n",
      " - 0s - loss: 540.0941\n",
      "Epoch 127/200\n",
      " - 0s - loss: 544.3922\n",
      "Epoch 128/200\n",
      " - 0s - loss: 538.2548\n",
      "Epoch 129/200\n",
      " - 0s - loss: 538.7370\n",
      "Epoch 130/200\n",
      " - 0s - loss: 539.5255\n",
      "Epoch 131/200\n",
      " - 0s - loss: 547.8671\n",
      "Epoch 132/200\n",
      " - 0s - loss: 547.9023\n",
      "Epoch 133/200\n",
      " - 0s - loss: 537.8818\n",
      "Epoch 134/200\n",
      " - 0s - loss: 542.7896\n",
      "Epoch 135/200\n",
      " - 0s - loss: 547.4195\n",
      "Epoch 136/200\n",
      " - 0s - loss: 537.9118\n",
      "Epoch 137/200\n",
      " - 0s - loss: 543.8893\n",
      "Epoch 138/200\n",
      " - 0s - loss: 540.5699\n",
      "Epoch 139/200\n",
      " - 0s - loss: 559.8681\n",
      "Epoch 140/200\n",
      " - 0s - loss: 550.3195\n",
      "Epoch 141/200\n",
      " - 0s - loss: 553.8853\n",
      "Epoch 142/200\n",
      " - 0s - loss: 549.5466\n",
      "Epoch 143/200\n",
      " - 0s - loss: 547.8249\n",
      "Epoch 144/200\n",
      " - 0s - loss: 541.3923\n",
      "Epoch 145/200\n",
      " - 0s - loss: 560.7067\n",
      "Epoch 146/200\n",
      " - 0s - loss: 541.3975\n",
      "Epoch 147/200\n",
      " - 0s - loss: 541.7859\n",
      "Epoch 148/200\n",
      " - 0s - loss: 552.0299\n",
      "Epoch 149/200\n",
      " - 0s - loss: 539.2653\n",
      "Epoch 150/200\n",
      " - 0s - loss: 541.9912\n",
      "Epoch 151/200\n",
      " - 0s - loss: 538.6469\n",
      "Epoch 152/200\n",
      " - 0s - loss: 538.3815\n",
      "Epoch 153/200\n",
      " - 0s - loss: 550.5853\n",
      "Epoch 154/200\n",
      " - 0s - loss: 537.1181\n",
      "Epoch 155/200\n",
      " - 0s - loss: 547.3871\n",
      "Epoch 156/200\n",
      " - 0s - loss: 535.5325\n",
      "Epoch 157/200\n",
      " - 0s - loss: 549.3611\n",
      "Epoch 158/200\n",
      " - 0s - loss: 547.9386\n",
      "Epoch 159/200\n",
      " - 0s - loss: 539.4500\n",
      "Epoch 160/200\n",
      " - 0s - loss: 540.1060\n",
      "Epoch 161/200\n",
      " - 0s - loss: 549.5702\n",
      "Epoch 162/200\n",
      " - 0s - loss: 539.2417\n",
      "Epoch 163/200\n",
      " - 0s - loss: 544.6075\n",
      "Epoch 164/200\n",
      " - 0s - loss: 537.7867\n",
      "Epoch 165/200\n",
      " - 0s - loss: 563.4597\n",
      "Epoch 166/200\n",
      " - 0s - loss: 550.0146\n",
      "Epoch 167/200\n",
      " - 0s - loss: 544.2588\n",
      "Epoch 168/200\n",
      " - 0s - loss: 535.6862\n",
      "Epoch 169/200\n",
      " - 0s - loss: 551.2005\n",
      "Epoch 170/200\n",
      " - 0s - loss: 542.7478\n",
      "Epoch 171/200\n",
      " - 0s - loss: 535.2516\n",
      "Epoch 172/200\n",
      " - 0s - loss: 538.2958\n",
      "Epoch 173/200\n",
      " - 0s - loss: 539.0032\n",
      "Epoch 174/200\n",
      " - 0s - loss: 544.0943\n",
      "Epoch 175/200\n",
      " - 0s - loss: 544.1230\n",
      "Epoch 176/200\n",
      " - 0s - loss: 543.8574\n",
      "Epoch 177/200\n",
      " - 0s - loss: 540.7031\n",
      "Epoch 178/200\n",
      " - 0s - loss: 536.0016\n",
      "Epoch 179/200\n",
      " - 0s - loss: 536.6445\n",
      "Epoch 180/200\n",
      " - 0s - loss: 537.8951\n",
      "Epoch 181/200\n",
      " - 0s - loss: 539.1506\n",
      "Epoch 182/200\n",
      " - 0s - loss: 533.4366\n",
      "Epoch 183/200\n",
      " - 0s - loss: 535.5221\n",
      "Epoch 184/200\n",
      " - 0s - loss: 535.8073\n",
      "Epoch 185/200\n",
      " - 0s - loss: 541.9558\n",
      "Epoch 186/200\n",
      " - 0s - loss: 535.4329\n",
      "Epoch 187/200\n",
      " - 0s - loss: 539.2664\n",
      "Epoch 188/200\n",
      " - 0s - loss: 542.5078\n",
      "Epoch 189/200\n",
      " - 0s - loss: 545.9195\n",
      "Epoch 190/200\n",
      " - 0s - loss: 545.3161\n",
      "Epoch 191/200\n",
      " - 0s - loss: 538.7389\n",
      "Epoch 192/200\n",
      " - 0s - loss: 544.7359\n",
      "Epoch 193/200\n",
      " - 0s - loss: 545.5478\n",
      "Epoch 194/200\n",
      " - 0s - loss: 548.4587\n",
      "Epoch 195/200\n",
      " - 0s - loss: 539.5691\n",
      "Epoch 196/200\n",
      " - 0s - loss: 542.4643\n",
      "Epoch 197/200\n",
      " - 0s - loss: 540.4076\n",
      "Epoch 198/200\n",
      " - 0s - loss: 542.3053\n",
      "Epoch 199/200\n",
      " - 0s - loss: 539.2117\n",
      "Epoch 200/200\n",
      " - 0s - loss: 537.2399\n"
     ]
    },
    {
     "data": {
      "text/plain": [
       "<keras.callbacks.History at 0xb41fb3780>"
      ]
     },
     "execution_count": 16,
     "metadata": {},
     "output_type": "execute_result"
    }
   ],
   "source": [
    "# create and fit multilayer perceptron model\n",
    "model = Sequential()\n",
    "model.add(Dense(8, input_dim = look_back, activation='relu'))\n",
    "model.add(Dense(1))\n",
    "model.compile(loss='mean_squared_error', optimizer='adam')\n",
    "model.fit(trainX, trainY, nb_epoch = 200, batch_size = 2, verbose=2)\n"
   ]
  },
  {
   "cell_type": "code",
   "execution_count": 17,
   "metadata": {},
   "outputs": [
    {
     "name": "stdout",
     "output_type": "stream",
     "text": [
      "Train Score: 530.86 MSE (23.04 RMSE)\n",
      "Test Score: 2352.33 MSE (48.50 RMSE)\n"
     ]
    }
   ],
   "source": [
    "#estimate model performance\n",
    "trainScore = model.evaluate(trainX, trainY, verbose=0)\n",
    "print('Train Score: %.2f MSE (%.2f RMSE)' % (trainScore, math.sqrt(trainScore)))\n",
    "testScore = model.evaluate(testX, testY, verbose=0)\n",
    "print('Test Score: %.2f MSE (%.2f RMSE)' % (testScore, math.sqrt(testScore)))\n"
   ]
  },
  {
   "cell_type": "code",
   "execution_count": 18,
   "metadata": {},
   "outputs": [
    {
     "data": {
      "image/png": "[encoded data removed]",
      "text/plain": [
       "<Figure size 432x288 with 1 Axes>"
      ]
     },
     "metadata": {
      "needs_background": "light"
     },
     "output_type": "display_data"
    }
   ],
   "source": [
    "#generate predictions for trainning\n",
    "trainPredict = model.predict(trainX)\n",
    "testPredict = model.predict(testX)\n",
    "# shift train predictions for plotting\n",
    "trainPredictPlot = numpy.empty_like(dataset)\n",
    "trainPredictPlot[:, :] = numpy.nan\n",
    "trainPredictPlot[look_back:len(trainPredict)+look_back, :] = trainPredict\n",
    "#shift test predictions for plotting\n",
    "testPredictPlot = numpy.empty_like(dataset)\n",
    "testPredictPlot[:, :]  = numpy.nan\n",
    "testPredictPlot[len(trainPredict)+(look_back*2) + 1:len(dataset)-1, :] = testPredict\n",
    "#plot baseline and predictions\n",
    "plt.plot(dataset)\n",
    "plt.plot(trainPredictPlot)\n",
    "plt.plot(testPredictPlot)\n",
    "plt.show()\n"
   ]
  },
  {
   "cell_type": "code",
   "execution_count": 20,
   "metadata": {},
   "outputs": [
    {
     "name": "stderr",
     "output_type": "stream",
     "text": [
      "/Users/syem/anaconda3/lib/python3.7/site-packages/ipykernel_launcher.py:40: UserWarning: The `input_dim` and `input_length` arguments in recurrent layers are deprecated. Use `input_shape` instead.\n",
      "/Users/syem/anaconda3/lib/python3.7/site-packages/ipykernel_launcher.py:40: UserWarning: Update your `LSTM` call to the Keras 2 API: `LSTM(4, input_shape=(None, 1))`\n",
      "/Users/syem/anaconda3/lib/python3.7/site-packages/ipykernel_launcher.py:43: UserWarning: The `nb_epoch` argument in `fit` has been renamed `epochs`.\n",
      "W1019 17:05:49.596687 140736193037184 deprecation.py:323] From /Users/syem/anaconda3/lib/python3.7/site-packages/tensorflow/python/ops/math_grad.py:1250: add_dispatch_support.<locals>.wrapper (from tensorflow.python.ops.array_ops) is deprecated and will be removed in a future version.\n",
      "Instructions for updating:\n",
      "Use tf.where in 2.0, which has the same broadcast rule as np.where\n"
     ]
    },
    {
     "name": "stdout",
     "output_type": "stream",
     "text": [
      "Epoch 1/100\n",
      " - 5s - loss: 0.0378\n",
      "Epoch 2/100\n",
      " - 1s - loss: 0.0324\n",
      "Epoch 3/100\n",
      " - 1s - loss: 0.0274\n",
      "Epoch 4/100\n",
      " - 1s - loss: 0.0230\n",
      "Epoch 5/100\n",
      " - 1s - loss: 0.0192\n",
      "Epoch 6/100\n",
      " - 1s - loss: 0.0170\n",
      "Epoch 7/100\n",
      " - 1s - loss: 0.0138\n",
      "Epoch 8/100\n",
      " - 1s - loss: 0.0118\n",
      "Epoch 9/100\n",
      " - 1s - loss: 0.0113\n",
      "Epoch 10/100\n",
      " - 1s - loss: 0.0098\n",
      "Epoch 11/100\n",
      " - 1s - loss: 0.0086\n",
      "Epoch 12/100\n",
      " - 1s - loss: 0.0075\n",
      "Epoch 13/100\n",
      " - 1s - loss: 0.0072\n",
      "Epoch 14/100\n",
      " - 1s - loss: 0.0068\n",
      "Epoch 15/100\n",
      " - 1s - loss: 0.0069\n",
      "Epoch 16/100\n",
      " - 1s - loss: 0.0069\n",
      "Epoch 17/100\n",
      " - 1s - loss: 0.0068\n",
      "Epoch 18/100\n",
      " - 1s - loss: 0.0070\n",
      "Epoch 19/100\n",
      " - 1s - loss: 0.0064\n",
      "Epoch 20/100\n",
      " - 1s - loss: 0.0067\n",
      "Epoch 21/100\n",
      " - 1s - loss: 0.0062\n",
      "Epoch 22/100\n",
      " - 1s - loss: 0.0061\n",
      "Epoch 23/100\n",
      " - 1s - loss: 0.0062\n",
      "Epoch 24/100\n",
      " - 1s - loss: 0.0066\n",
      "Epoch 25/100\n",
      " - 1s - loss: 0.0065\n",
      "Epoch 26/100\n",
      " - 1s - loss: 0.0058\n",
      "Epoch 27/100\n",
      " - 1s - loss: 0.0060\n",
      "Epoch 28/100\n",
      " - 1s - loss: 0.0057\n",
      "Epoch 29/100\n",
      " - 1s - loss: 0.0065\n",
      "Epoch 30/100\n",
      " - 1s - loss: 0.0058\n",
      "Epoch 31/100\n",
      " - 1s - loss: 0.0056\n",
      "Epoch 32/100\n",
      " - 1s - loss: 0.0056\n",
      "Epoch 33/100\n",
      " - 1s - loss: 0.0053\n",
      "Epoch 34/100\n",
      " - 1s - loss: 0.0058\n",
      "Epoch 35/100\n",
      " - 1s - loss: 0.0055\n",
      "Epoch 36/100\n",
      " - 1s - loss: 0.0050\n",
      "Epoch 37/100\n",
      " - 1s - loss: 0.0056\n",
      "Epoch 38/100\n",
      " - 1s - loss: 0.0047\n",
      "Epoch 39/100\n",
      " - 1s - loss: 0.0056\n",
      "Epoch 40/100\n",
      " - 1s - loss: 0.0052\n",
      "Epoch 41/100\n",
      " - 1s - loss: 0.0046\n",
      "Epoch 42/100\n",
      " - 1s - loss: 0.0045\n",
      "Epoch 43/100\n",
      " - 1s - loss: 0.0052\n",
      "Epoch 44/100\n",
      " - 1s - loss: 0.0058\n",
      "Epoch 45/100\n",
      " - 1s - loss: 0.0043\n",
      "Epoch 46/100\n",
      " - 1s - loss: 0.0048\n",
      "Epoch 47/100\n",
      " - 1s - loss: 0.0049\n",
      "Epoch 48/100\n",
      " - 1s - loss: 0.0047\n",
      "Epoch 49/100\n",
      " - 1s - loss: 0.0041\n",
      "Epoch 50/100\n",
      " - 1s - loss: 0.0042\n",
      "Epoch 51/100\n",
      " - 1s - loss: 0.0047\n",
      "Epoch 52/100\n",
      " - 1s - loss: 0.0040\n",
      "Epoch 53/100\n",
      " - 1s - loss: 0.0046\n",
      "Epoch 54/100\n",
      " - 1s - loss: 0.0040\n",
      "Epoch 55/100\n",
      " - 1s - loss: 0.0038\n",
      "Epoch 56/100\n",
      " - 1s - loss: 0.0044\n",
      "Epoch 57/100\n",
      " - 1s - loss: 0.0039\n",
      "Epoch 58/100\n",
      " - 1s - loss: 0.0043\n",
      "Epoch 59/100\n",
      " - 1s - loss: 0.0038\n",
      "Epoch 60/100\n",
      " - 1s - loss: 0.0038\n",
      "Epoch 61/100\n",
      " - 1s - loss: 0.0040\n",
      "Epoch 62/100\n",
      " - 1s - loss: 0.0034\n",
      "Epoch 63/100\n",
      " - 1s - loss: 0.0039\n",
      "Epoch 64/100\n",
      " - 1s - loss: 0.0039\n",
      "Epoch 65/100\n",
      " - 1s - loss: 0.0037\n",
      "Epoch 66/100\n",
      " - 1s - loss: 0.0037\n",
      "Epoch 67/100\n",
      " - 1s - loss: 0.0032\n",
      "Epoch 68/100\n",
      " - 1s - loss: 0.0031\n",
      "Epoch 69/100\n",
      " - 1s - loss: 0.0044\n",
      "Epoch 70/100\n",
      " - 1s - loss: 0.0038\n",
      "Epoch 71/100\n",
      " - 1s - loss: 0.0037\n",
      "Epoch 72/100\n",
      " - 1s - loss: 0.0039\n",
      "Epoch 73/100\n",
      " - 1s - loss: 0.0035\n",
      "Epoch 74/100\n",
      " - 1s - loss: 0.0031\n",
      "Epoch 75/100\n",
      " - 1s - loss: 0.0035\n",
      "Epoch 76/100\n",
      " - 1s - loss: 0.0035\n",
      "Epoch 77/100\n",
      " - 1s - loss: 0.0050\n",
      "Epoch 78/100\n",
      " - 1s - loss: 0.0031\n",
      "Epoch 79/100\n",
      " - 1s - loss: 0.0036\n",
      "Epoch 80/100\n",
      " - 1s - loss: 0.0030\n",
      "Epoch 81/100\n",
      " - 1s - loss: 0.0030\n",
      "Epoch 82/100\n",
      " - 1s - loss: 0.0028\n",
      "Epoch 83/100\n",
      " - 1s - loss: 0.0032\n",
      "Epoch 84/100\n",
      " - 1s - loss: 0.0029\n",
      "Epoch 85/100\n",
      " - 1s - loss: 0.0031\n",
      "Epoch 86/100\n",
      " - 1s - loss: 0.0034\n",
      "Epoch 87/100\n",
      " - 1s - loss: 0.0034\n",
      "Epoch 88/100\n",
      " - 1s - loss: 0.0031\n",
      "Epoch 89/100\n",
      " - 1s - loss: 0.0031\n",
      "Epoch 90/100\n",
      " - 1s - loss: 0.0032\n",
      "Epoch 91/100\n",
      " - 1s - loss: 0.0031\n",
      "Epoch 92/100\n",
      " - 1s - loss: 0.0031\n",
      "Epoch 93/100\n",
      " - 1s - loss: 0.0028\n",
      "Epoch 94/100\n",
      " - 1s - loss: 0.0030\n",
      "Epoch 95/100\n",
      " - 1s - loss: 0.0030\n",
      "Epoch 96/100\n",
      " - 1s - loss: 0.0035\n",
      "Epoch 97/100\n",
      " - 1s - loss: 0.0030\n",
      "Epoch 98/100\n",
      " - 1s - loss: 0.0032\n",
      "Epoch 99/100\n",
      " - 1s - loss: 0.0033\n",
      "Epoch 100/100\n",
      " - 1s - loss: 0.0035\n"
     ]
    },
    {
     "ename": "TypeError",
     "evalue": "Singleton array 0.027027026 cannot be considered a valid collection.",
     "output_type": "error",
     "traceback": [
      "\u001b[0;31m---------------------------------------------------------------------------\u001b[0m",
      "\u001b[0;31mTypeError\u001b[0m                                 Traceback (most recent call last)",
      "\u001b[0;32m<ipython-input-20-b42079488ee7>\u001b[0m in \u001b[0;36m<module>\u001b[0;34m\u001b[0m\n\u001b[1;32m     48\u001b[0m \u001b[0mtestY\u001b[0m \u001b[0;34m=\u001b[0m \u001b[0mscaler\u001b[0m\u001b[0;34m.\u001b[0m\u001b[0minverse_transform\u001b[0m\u001b[0;34m(\u001b[0m\u001b[0;34m[\u001b[0m\u001b[0mtestY\u001b[0m\u001b[0;34m]\u001b[0m\u001b[0;34m)\u001b[0m\u001b[0;34m\u001b[0m\u001b[0;34m\u001b[0m\u001b[0m\n\u001b[1;32m     49\u001b[0m \u001b[0;31m# calculate root mean square error\u001b[0m\u001b[0;34m\u001b[0m\u001b[0;34m\u001b[0m\u001b[0;34m\u001b[0m\u001b[0m\n\u001b[0;32m---> 50\u001b[0;31m \u001b[0mtrainScore\u001b[0m \u001b[0;34m=\u001b[0m \u001b[0mmath\u001b[0m\u001b[0;34m.\u001b[0m\u001b[0msqrt\u001b[0m\u001b[0;34m(\u001b[0m\u001b[0mmean_squared_error\u001b[0m\u001b[0;34m(\u001b[0m\u001b[0mtrainY\u001b[0m\u001b[0;34m[\u001b[0m\u001b[0;36m0\u001b[0m\u001b[0;34m]\u001b[0m\u001b[0;34m,\u001b[0m \u001b[0mtrainPredict\u001b[0m\u001b[0;34m[\u001b[0m\u001b[0;34m:\u001b[0m\u001b[0;34m,\u001b[0m\u001b[0;36m0\u001b[0m\u001b[0;34m]\u001b[0m\u001b[0;34m)\u001b[0m\u001b[0;34m)\u001b[0m\u001b[0;34m\u001b[0m\u001b[0;34m\u001b[0m\u001b[0m\n\u001b[0m\u001b[1;32m     51\u001b[0m \u001b[0mprint\u001b[0m\u001b[0;34m(\u001b[0m\u001b[0;34m'Train Score: %.2f RMSE'\u001b[0m \u001b[0;34m%\u001b[0m \u001b[0;34m(\u001b[0m\u001b[0mtestScore\u001b[0m\u001b[0;34m)\u001b[0m\u001b[0;34m)\u001b[0m\u001b[0;34m\u001b[0m\u001b[0;34m\u001b[0m\u001b[0m\n\u001b[1;32m     52\u001b[0m \u001b[0mtestScore\u001b[0m \u001b[0;34m=\u001b[0m \u001b[0mmath\u001b[0m\u001b[0;34m.\u001b[0m\u001b[0msqrt\u001b[0m\u001b[0;34m(\u001b[0m\u001b[0mmean_squared_error\u001b[0m\u001b[0;34m(\u001b[0m\u001b[0mtestY\u001b[0m\u001b[0;34m[\u001b[0m\u001b[0;36m0\u001b[0m\u001b[0;34m]\u001b[0m\u001b[0;34m,\u001b[0m \u001b[0mtestPredict\u001b[0m\u001b[0;34m[\u001b[0m\u001b[0;34m:\u001b[0m\u001b[0;34m,\u001b[0m\u001b[0;36m0\u001b[0m\u001b[0;34m]\u001b[0m\u001b[0;34m)\u001b[0m\u001b[0;34m)\u001b[0m\u001b[0;34m\u001b[0m\u001b[0;34m\u001b[0m\u001b[0m\n",
      "\u001b[0;32m~/anaconda3/lib/python3.7/site-packages/sklearn/metrics/regression.py\u001b[0m in \u001b[0;36mmean_squared_error\u001b[0;34m(y_true, y_pred, sample_weight, multioutput)\u001b[0m\n\u001b[1;32m    237\u001b[0m     \"\"\"\n\u001b[1;32m    238\u001b[0m     y_type, y_true, y_pred, multioutput = _check_reg_targets(\n\u001b[0;32m--> 239\u001b[0;31m         y_true, y_pred, multioutput)\n\u001b[0m\u001b[1;32m    240\u001b[0m     \u001b[0mcheck_consistent_length\u001b[0m\u001b[0;34m(\u001b[0m\u001b[0my_true\u001b[0m\u001b[0;34m,\u001b[0m \u001b[0my_pred\u001b[0m\u001b[0;34m,\u001b[0m \u001b[0msample_weight\u001b[0m\u001b[0;34m)\u001b[0m\u001b[0;34m\u001b[0m\u001b[0;34m\u001b[0m\u001b[0m\n\u001b[1;32m    241\u001b[0m     output_errors = np.average((y_true - y_pred) ** 2, axis=0,\n",
      "\u001b[0;32m~/anaconda3/lib/python3.7/site-packages/sklearn/metrics/regression.py\u001b[0m in \u001b[0;36m_check_reg_targets\u001b[0;34m(y_true, y_pred, multioutput)\u001b[0m\n\u001b[1;32m     73\u001b[0m \u001b[0;34m\u001b[0m\u001b[0m\n\u001b[1;32m     74\u001b[0m     \"\"\"\n\u001b[0;32m---> 75\u001b[0;31m     \u001b[0mcheck_consistent_length\u001b[0m\u001b[0;34m(\u001b[0m\u001b[0my_true\u001b[0m\u001b[0;34m,\u001b[0m \u001b[0my_pred\u001b[0m\u001b[0;34m)\u001b[0m\u001b[0;34m\u001b[0m\u001b[0;34m\u001b[0m\u001b[0m\n\u001b[0m\u001b[1;32m     76\u001b[0m     \u001b[0my_true\u001b[0m \u001b[0;34m=\u001b[0m \u001b[0mcheck_array\u001b[0m\u001b[0;34m(\u001b[0m\u001b[0my_true\u001b[0m\u001b[0;34m,\u001b[0m \u001b[0mensure_2d\u001b[0m\u001b[0;34m=\u001b[0m\u001b[0;32mFalse\u001b[0m\u001b[0;34m)\u001b[0m\u001b[0;34m\u001b[0m\u001b[0;34m\u001b[0m\u001b[0m\n\u001b[1;32m     77\u001b[0m     \u001b[0my_pred\u001b[0m \u001b[0;34m=\u001b[0m \u001b[0mcheck_array\u001b[0m\u001b[0;34m(\u001b[0m\u001b[0my_pred\u001b[0m\u001b[0;34m,\u001b[0m \u001b[0mensure_2d\u001b[0m\u001b[0;34m=\u001b[0m\u001b[0;32mFalse\u001b[0m\u001b[0;34m)\u001b[0m\u001b[0;34m\u001b[0m\u001b[0;34m\u001b[0m\u001b[0m\n",
      "\u001b[0;32m~/anaconda3/lib/python3.7/site-packages/sklearn/utils/validation.py\u001b[0m in \u001b[0;36mcheck_consistent_length\u001b[0;34m(*arrays)\u001b[0m\n\u001b[1;32m    229\u001b[0m     \"\"\"\n\u001b[1;32m    230\u001b[0m \u001b[0;34m\u001b[0m\u001b[0m\n\u001b[0;32m--> 231\u001b[0;31m     \u001b[0mlengths\u001b[0m \u001b[0;34m=\u001b[0m \u001b[0;34m[\u001b[0m\u001b[0m_num_samples\u001b[0m\u001b[0;34m(\u001b[0m\u001b[0mX\u001b[0m\u001b[0;34m)\u001b[0m \u001b[0;32mfor\u001b[0m \u001b[0mX\u001b[0m \u001b[0;32min\u001b[0m \u001b[0marrays\u001b[0m \u001b[0;32mif\u001b[0m \u001b[0mX\u001b[0m \u001b[0;32mis\u001b[0m \u001b[0;32mnot\u001b[0m \u001b[0;32mNone\u001b[0m\u001b[0;34m]\u001b[0m\u001b[0;34m\u001b[0m\u001b[0;34m\u001b[0m\u001b[0m\n\u001b[0m\u001b[1;32m    232\u001b[0m     \u001b[0muniques\u001b[0m \u001b[0;34m=\u001b[0m \u001b[0mnp\u001b[0m\u001b[0;34m.\u001b[0m\u001b[0munique\u001b[0m\u001b[0;34m(\u001b[0m\u001b[0mlengths\u001b[0m\u001b[0;34m)\u001b[0m\u001b[0;34m\u001b[0m\u001b[0;34m\u001b[0m\u001b[0m\n\u001b[1;32m    233\u001b[0m     \u001b[0;32mif\u001b[0m \u001b[0mlen\u001b[0m\u001b[0;34m(\u001b[0m\u001b[0muniques\u001b[0m\u001b[0;34m)\u001b[0m \u001b[0;34m>\u001b[0m \u001b[0;36m1\u001b[0m\u001b[0;34m:\u001b[0m\u001b[0;34m\u001b[0m\u001b[0;34m\u001b[0m\u001b[0m\n",
      "\u001b[0;32m~/anaconda3/lib/python3.7/site-packages/sklearn/utils/validation.py\u001b[0m in \u001b[0;36m<listcomp>\u001b[0;34m(.0)\u001b[0m\n\u001b[1;32m    229\u001b[0m     \"\"\"\n\u001b[1;32m    230\u001b[0m \u001b[0;34m\u001b[0m\u001b[0m\n\u001b[0;32m--> 231\u001b[0;31m     \u001b[0mlengths\u001b[0m \u001b[0;34m=\u001b[0m \u001b[0;34m[\u001b[0m\u001b[0m_num_samples\u001b[0m\u001b[0;34m(\u001b[0m\u001b[0mX\u001b[0m\u001b[0;34m)\u001b[0m \u001b[0;32mfor\u001b[0m \u001b[0mX\u001b[0m \u001b[0;32min\u001b[0m \u001b[0marrays\u001b[0m \u001b[0;32mif\u001b[0m \u001b[0mX\u001b[0m \u001b[0;32mis\u001b[0m \u001b[0;32mnot\u001b[0m \u001b[0;32mNone\u001b[0m\u001b[0;34m]\u001b[0m\u001b[0;34m\u001b[0m\u001b[0;34m\u001b[0m\u001b[0m\n\u001b[0m\u001b[1;32m    232\u001b[0m     \u001b[0muniques\u001b[0m \u001b[0;34m=\u001b[0m \u001b[0mnp\u001b[0m\u001b[0;34m.\u001b[0m\u001b[0munique\u001b[0m\u001b[0;34m(\u001b[0m\u001b[0mlengths\u001b[0m\u001b[0;34m)\u001b[0m\u001b[0;34m\u001b[0m\u001b[0;34m\u001b[0m\u001b[0m\n\u001b[1;32m    233\u001b[0m     \u001b[0;32mif\u001b[0m \u001b[0mlen\u001b[0m\u001b[0;34m(\u001b[0m\u001b[0muniques\u001b[0m\u001b[0;34m)\u001b[0m \u001b[0;34m>\u001b[0m \u001b[0;36m1\u001b[0m\u001b[0;34m:\u001b[0m\u001b[0;34m\u001b[0m\u001b[0;34m\u001b[0m\u001b[0m\n",
      "\u001b[0;32m~/anaconda3/lib/python3.7/site-packages/sklearn/utils/validation.py\u001b[0m in \u001b[0;36m_num_samples\u001b[0;34m(x)\u001b[0m\n\u001b[1;32m    140\u001b[0m         \u001b[0;32mif\u001b[0m \u001b[0mlen\u001b[0m\u001b[0;34m(\u001b[0m\u001b[0mx\u001b[0m\u001b[0;34m.\u001b[0m\u001b[0mshape\u001b[0m\u001b[0;34m)\u001b[0m \u001b[0;34m==\u001b[0m \u001b[0;36m0\u001b[0m\u001b[0;34m:\u001b[0m\u001b[0;34m\u001b[0m\u001b[0;34m\u001b[0m\u001b[0m\n\u001b[1;32m    141\u001b[0m             raise TypeError(\"Singleton array %r cannot be considered\"\n\u001b[0;32m--> 142\u001b[0;31m                             \" a valid collection.\" % x)\n\u001b[0m\u001b[1;32m    143\u001b[0m         \u001b[0;31m# Check that shape is returning an integer or default to len\u001b[0m\u001b[0;34m\u001b[0m\u001b[0;34m\u001b[0m\u001b[0;34m\u001b[0m\u001b[0m\n\u001b[1;32m    144\u001b[0m         \u001b[0;31m# Dask dataframes may not return numeric shape[0] value\u001b[0m\u001b[0;34m\u001b[0m\u001b[0;34m\u001b[0m\u001b[0;34m\u001b[0m\u001b[0m\n",
      "\u001b[0;31mTypeError\u001b[0m: Singleton array 0.027027026 cannot be considered a valid collection."
     ]
    }
   ],
   "source": [
    "# LSTM for international airline passengers problem with regression framing\n",
    "import numpy\n",
    "import matplotlib.pyplot as plt\n",
    "import pandas\n",
    "import math\n",
    "from keras.models import Sequential\n",
    "from keras.layers import Dense\n",
    "from keras.layers import LSTM\n",
    "from sklearn.preprocessing import MinMaxScaler\n",
    "from sklearn.metrics import mean_squared_error\n",
    "\n",
    "# convert an array of values into a dataset matrix\n",
    "def create_dataset(dataset, look_back=1):\n",
    "    dataX, dataY  = [], []\n",
    "    for i in range(len(dataset) -look_back - 1):\n",
    "        a = dataset[i:(i+look_back),0]\n",
    "        dataX.append(a)\n",
    "        dataY.append(dataset[i + look_back, 0])\n",
    "    return numpy.array(dataX), numpy.array(dataY)\n",
    "\n",
    "df = pandas.read_csv(\"Downloads/international_airline.csv\", usecols=[1], engine='python', skipfooter=3)\n",
    "dataset = df.values\n",
    "dataset = dataset.astype('float32')\n",
    "# normalize the dataset\n",
    "scaler = MinMaxScaler(feature_range=(0,1))\n",
    "dataset = scaler.fit_transform(dataset)\n",
    "#fit into train and test sets\n",
    "train_size = int(len(dataset) * 0.67)\n",
    "test_size = len(dataset) - train_size\n",
    "train, test = dataset[0:train_size,:], dataset[train_size:len(dataset),:]\n",
    "# reshape into X=t, y=t+1\n",
    "look_back = 1\n",
    "train_X, trainY = create_dataset(train, look_back)\n",
    "testX, testY = create_dataset(test, look_back)\n",
    "#reshape input to be [samples, time steps, features]\n",
    "trainX = numpy.reshape(trainX, (trainX.shape[0],1, trainX.shape[1]))\n",
    "testX = numpy.reshape(testX, (testX.shape[0], 1, testX.shape[1]))\n",
    "#create and fit the LSTM network\n",
    "model = Sequential()\n",
    "model.add(LSTM(4, input_dim = look_back))\n",
    "model.add(Dense(1))\n",
    "model.compile(loss='mean_squared_error', optimizer ='adam')\n",
    "model.fit(trainX, trainY, nb_epoch=100, batch_size=1, verbose=2)\n",
    "#make predictions\n",
    "trainPredict = scaler.inverse_transform(trainPredict)\n",
    "trainy = scaler.inverse_transform([trainY])\n",
    "testPredict = scaler.inverse_transform(testPredict)\n",
    "testY = scaler.inverse_transform([testY])\n",
    "# calculate root mean square error\n",
    "trainScore = math.sqrt(mean_squared_error(trainY[0], trainPredict[:,0]))\n",
    "print('Train Score: %.2f RMSE' % (testScore))\n",
    "testScore = math.sqrt(mean_squared_error(testY[0], testPredict[:,0]))\n",
    "print('Train Score: %.2f RMSE' % (testScore))\n",
    "# shift tests predictions for plotting\n",
    "testPredictPlot = numpy.empty_like(dataset)\n",
    "testPredictPlot[:, :] = numpy.nan\n",
    "trainPredictPlot[look_back:len(trainPredict)+look_back, : ] = trainPredict\n",
    "#shift test predictions for plotting\n",
    "plt.plot(scaler.inverse_transform(dataset))\n",
    "plt.plot(trainPredictPlot)\n",
    "plt.plt(TestPredictPlot)\n",
    "plt.show()\n",
    "\n",
    "\n"
   ]
  },
  {
   "cell_type": "code",
   "execution_count": 21,
   "metadata": {},
   "outputs": [],
   "source": [
    "# Load and Plot the IMDB dataset\n",
    "import numpy\n",
    "from keras.datasets import imdb\n",
    "from matplotlib import pyplot"
   ]
  },
  {
   "cell_type": "code",
   "execution_count": 2,
   "metadata": {},
   "outputs": [
    {
     "name": "stderr",
     "output_type": "stream",
     "text": [
      "Using TensorFlow backend.\n"
     ]
    }
   ],
   "source": [
    "# MLP for the IMDB problem\n",
    "import numpy\n",
    "from keras.datasets import imdb\n",
    "from keras.models import Sequential\n",
    "from keras.layers import Dense\n",
    "from keras.layers import Flatten\n",
    "from keras.layers.embeddings import Embedding\n",
    "from keras.preprocessing import sequence\n"
   ]
  },
  {
   "cell_type": "code",
   "execution_count": 3,
   "metadata": {},
   "outputs": [
    {
     "name": "stderr",
     "output_type": "stream",
     "text": [
      "/Users/syem/anaconda3/lib/python3.7/site-packages/keras/datasets/imdb.py:49: UserWarning: The `nb_words` argument in `load_data` has been renamed `num_words`.\n",
      "  warnings.warn('The `nb_words` argument in `load_data` '\n",
      "WARNING: Logging before flag parsing goes to stderr.\n",
      "W1020 15:54:16.245902 140736193037184 deprecation_wrapper.py:119] From /Users/syem/anaconda3/lib/python3.7/site-packages/keras/backend/tensorflow_backend.py:66: The name tf.get_default_graph is deprecated. Please use tf.compat.v1.get_default_graph instead.\n",
      "\n",
      "W1020 15:54:16.291192 140736193037184 deprecation_wrapper.py:119] From /Users/syem/anaconda3/lib/python3.7/site-packages/keras/backend/tensorflow_backend.py:541: The name tf.placeholder is deprecated. Please use tf.compat.v1.placeholder instead.\n",
      "\n",
      "W1020 15:54:16.307035 140736193037184 deprecation_wrapper.py:119] From /Users/syem/anaconda3/lib/python3.7/site-packages/keras/backend/tensorflow_backend.py:4432: The name tf.random_uniform is deprecated. Please use tf.random.uniform instead.\n",
      "\n",
      "W1020 15:54:16.415313 140736193037184 deprecation_wrapper.py:119] From /Users/syem/anaconda3/lib/python3.7/site-packages/keras/optimizers.py:793: The name tf.train.Optimizer is deprecated. Please use tf.compat.v1.train.Optimizer instead.\n",
      "\n",
      "W1020 15:54:16.461076 140736193037184 deprecation_wrapper.py:119] From /Users/syem/anaconda3/lib/python3.7/site-packages/keras/backend/tensorflow_backend.py:3657: The name tf.log is deprecated. Please use tf.math.log instead.\n",
      "\n",
      "W1020 15:54:16.472101 140736193037184 deprecation.py:323] From /Users/syem/anaconda3/lib/python3.7/site-packages/tensorflow/python/ops/nn_impl.py:180: add_dispatch_support.<locals>.wrapper (from tensorflow.python.ops.array_ops) is deprecated and will be removed in a future version.\n",
      "Instructions for updating:\n",
      "Use tf.where in 2.0, which has the same broadcast rule as np.where\n",
      "/Users/syem/anaconda3/lib/python3.7/site-packages/ipykernel_launcher.py:16: UserWarning: The `nb_epoch` argument in `fit` has been renamed `epochs`.\n",
      "  app.launch_new_instance()\n"
     ]
    },
    {
     "name": "stdout",
     "output_type": "stream",
     "text": [
      "Model: \"sequential_1\"\n",
      "_________________________________________________________________\n",
      "Layer (type)                 Output Shape              Param #   \n",
      "=================================================================\n",
      "embedding_1 (Embedding)      (None, 500, 32)           160000    \n",
      "_________________________________________________________________\n",
      "flatten_1 (Flatten)          (None, 16000)             0         \n",
      "_________________________________________________________________\n",
      "dense_1 (Dense)              (None, 250)               4000250   \n",
      "_________________________________________________________________\n",
      "dense_2 (Dense)              (None, 1)                 251       \n",
      "=================================================================\n",
      "Total params: 4,160,501\n",
      "Trainable params: 4,160,501\n",
      "Non-trainable params: 0\n",
      "_________________________________________________________________\n",
      "None\n"
     ]
    },
    {
     "name": "stderr",
     "output_type": "stream",
     "text": [
      "W1020 15:54:16.795958 140736193037184 deprecation_wrapper.py:119] From /Users/syem/anaconda3/lib/python3.7/site-packages/keras/backend/tensorflow_backend.py:1033: The name tf.assign_add is deprecated. Please use tf.compat.v1.assign_add instead.\n",
      "\n"
     ]
    },
    {
     "name": "stdout",
     "output_type": "stream",
     "text": [
      "Train on 25000 samples, validate on 25000 samples\n",
      "Epoch 1/2\n",
      "25000/25000 [==============================] - 58s 2ms/step - loss: 0.4781 - acc: 0.7386 - val_loss: 0.2885 - val_acc: 0.8786\n",
      "Epoch 2/2\n",
      "25000/25000 [==============================] - 49s 2ms/step - loss: 0.1753 - acc: 0.9349 - val_loss: 0.3091 - val_acc: 0.8705\n",
      "ACC: 87.05%\n"
     ]
    }
   ],
   "source": [
    "# load the dataset but only keep the top n words, zero the rest\n",
    "top_words = 5000\n",
    "(X_train, y_train), (X_test, y_test) = imdb.load_data(nb_words=top_words)\n",
    "max_words = 500\n",
    "X_train = sequence.pad_sequences(X_train, maxlen=max_words)\n",
    "X_test = sequence.pad_sequences(X_test, maxlen=max_words)\n",
    "# create the model\n",
    "model = Sequential()\n",
    "model.add(Embedding(top_words, 32, input_length=max_words)) # has weights which are learned, understand the pattern\n",
    "model.add(Flatten())\n",
    "model.add(Dense(250, activation = 'relu'))\n",
    "model.add(Dense(1, activation = 'sigmoid'))\n",
    "model.compile(loss='binary_crossentropy', optimizer='adam', metrics = ['accuracy'])\n",
    "print(model.summary())\n",
    "# fit the model\n",
    "model.fit(X_train, y_train, validation_data=(X_test,y_test), nb_epoch=2, batch_size=128, verbose=1)\n",
    "# Final evaluation of the model\n",
    "scores = model.evaluate(X_test, y_test, verbose=0)\n",
    "print('ACC: %.2f%%' % (scores[1]*100))\n"
   ]
  },
  {
   "cell_type": "code",
   "execution_count": 5,
   "metadata": {},
   "outputs": [],
   "source": [
    "# CNN for the IMDB problem\n",
    "import numpy\n",
    "from keras.datasets import imdb\n",
    "from keras.models import Sequential\n",
    "from keras.layers import Dense\n",
    "from keras.layers import Flatten\n",
    "from keras.layers.convolutional import Convolution1D\n",
    "from keras.layers.convolutional import MaxPooling1D\n",
    "from keras.layers.embeddings import Embedding\n",
    "from keras.preprocessing import sequence"
   ]
  },
  {
   "cell_type": "code",
   "execution_count": 6,
   "metadata": {},
   "outputs": [
    {
     "name": "stderr",
     "output_type": "stream",
     "text": [
      "/Users/syem/anaconda3/lib/python3.7/site-packages/ipykernel_launcher.py:8: UserWarning: Update your `Conv1D` call to the Keras 2 API: `Conv1D(activation=\"relu\", filters=32, kernel_size=3, padding=\"same\")`\n",
      "  \n",
      "/Users/syem/anaconda3/lib/python3.7/site-packages/ipykernel_launcher.py:9: UserWarning: Update your `MaxPooling1D` call to the Keras 2 API: `MaxPooling1D(pool_size=2)`\n",
      "  if __name__ == '__main__':\n",
      "W1020 16:04:10.671850 140736193037184 deprecation_wrapper.py:119] From /Users/syem/anaconda3/lib/python3.7/site-packages/keras/backend/tensorflow_backend.py:4267: The name tf.nn.max_pool is deprecated. Please use tf.nn.max_pool2d instead.\n",
      "\n",
      "/Users/syem/anaconda3/lib/python3.7/site-packages/ipykernel_launcher.py:15: UserWarning: The `nb_epoch` argument in `fit` has been renamed `epochs`.\n",
      "  from ipykernel import kernelapp as app\n"
     ]
    },
    {
     "name": "stdout",
     "output_type": "stream",
     "text": [
      "Train on 25000 samples, validate on 25000 samples\n",
      "Epoch 1/2\n",
      "25000/25000 [==============================] - 71s 3ms/step - loss: 0.4399 - acc: 0.7691 - val_loss: 0.2879 - val_acc: 0.8787\n",
      "Epoch 2/2\n",
      "25000/25000 [==============================] - 68s 3ms/step - loss: 0.2158 - acc: 0.9161 - val_loss: 0.2768 - val_acc: 0.8847\n",
      "ACC: 88.47%\n"
     ]
    }
   ],
   "source": [
    "top_words = 5000\n",
    "(X_train, y_train), (X_test, y_test) = imdb.load_data(nb_words=top_words)\n",
    "max_words = 500\n",
    "X_train = sequence.pad_sequences(X_train, maxlen=max_words)\n",
    "X_test = sequence.pad_sequences(X_test, maxlen=max_words)\n",
    "model = Sequential()\n",
    "model.add(Embedding(top_words, 32, input_length=max_words))\n",
    "model.add(Convolution1D(nb_filter=32, filter_length=3, border_mode='same', activation='relu'))\n",
    "model.add(MaxPooling1D(pool_length=2))\n",
    "model.add(Flatten())\n",
    "model.add(Dense(250, activation='relu'))\n",
    "model.add(Dense(1, activation='sigmoid'))\n",
    "model.compile(loss='binary_crossentropy', optimizer='adam', metrics=['accuracy'])\n",
    "#fit the model\n",
    "model.fit(X_train, y_train, validation_data=(X_test,y_test), nb_epoch=2, batch_size=128, verbose=1)\n",
    "# final evaluation of the model\n",
    "scores = model.evaluate(X_test, y_test, verbose=0)\n",
    "print('ACC: %.2f%%' % (scores[1]*100))\n",
    "\n"
   ]
  },
  {
   "cell_type": "code",
   "execution_count": 7,
   "metadata": {},
   "outputs": [],
   "source": [
    "# CNN for the IMDB problem\n",
    "import numpy\n",
    "from keras.datasets import imdb\n",
    "from keras.models import Sequential\n",
    "from keras.layers import Dense\n",
    "from keras.layers import Flatten\n",
    "from keras.layers.convolutional import Convolution1D\n",
    "from keras.layers.convolutional import MaxPooling1D\n",
    "from keras.layers.embeddings import Embedding\n",
    "from keras.preprocessing import sequence"
   ]
  },
  {
   "cell_type": "code",
   "execution_count": 9,
   "metadata": {},
   "outputs": [
    {
     "name": "stderr",
     "output_type": "stream",
     "text": [
      "/Users/syem/anaconda3/lib/python3.7/site-packages/ipykernel_launcher.py:8: UserWarning: Update your `Conv1D` call to the Keras 2 API: `Conv1D(activation=\"relu\", filters=32, kernel_size=3, padding=\"same\")`\n",
      "  \n",
      "/Users/syem/anaconda3/lib/python3.7/site-packages/ipykernel_launcher.py:9: UserWarning: Update your `MaxPooling1D` call to the Keras 2 API: `MaxPooling1D(pool_size=2)`\n",
      "  if __name__ == '__main__':\n",
      "/Users/syem/anaconda3/lib/python3.7/site-packages/ipykernel_launcher.py:15: UserWarning: The `nb_epoch` argument in `fit` has been renamed `epochs`.\n",
      "  from ipykernel import kernelapp as app\n"
     ]
    },
    {
     "name": "stdout",
     "output_type": "stream",
     "text": [
      "Model: \"sequential_5\"\n",
      "_________________________________________________________________\n",
      "Layer (type)                 Output Shape              Param #   \n",
      "=================================================================\n",
      "embedding_5 (Embedding)      (None, 500, 32)           160000    \n",
      "_________________________________________________________________\n",
      "conv1d_3 (Conv1D)            (None, 500, 32)           3104      \n",
      "_________________________________________________________________\n",
      "max_pooling1d_3 (MaxPooling1 (None, 250, 32)           0         \n",
      "_________________________________________________________________\n",
      "flatten_4 (Flatten)          (None, 8000)              0         \n",
      "_________________________________________________________________\n",
      "dense_6 (Dense)              (None, 250)               2000250   \n",
      "_________________________________________________________________\n",
      "dense_7 (Dense)              (None, 1)                 251       \n",
      "=================================================================\n",
      "Total params: 2,163,605\n",
      "Trainable params: 2,163,605\n",
      "Non-trainable params: 0\n",
      "_________________________________________________________________\n",
      "None\n",
      "Train on 25000 samples, validate on 25000 samples\n",
      "Epoch 1/2\n",
      "25000/25000 [==============================] - 72s 3ms/step - loss: 0.4631 - acc: 0.7538 - val_loss: 0.2889 - val_acc: 0.8782\n",
      "Epoch 2/2\n",
      "25000/25000 [==============================] - 68s 3ms/step - loss: 0.2190 - acc: 0.9122 - val_loss: 0.2762 - val_acc: 0.8848\n",
      "ACC: 88.48%\n"
     ]
    }
   ],
   "source": [
    "top_words = 5000\n",
    "(X_train,y_train),(X_test, y_test) = imdb.load_data(nb_words=top_words)\n",
    "max_words = 500\n",
    "X_train = sequence.pad_sequences(X_train, maxlen=max_words)\n",
    "X_test = sequence.pad_sequences(X_test, maxlen=max_words)\n",
    "model = Sequential()\n",
    "model.add(Embedding(top_words, 32, input_length=max_words))\n",
    "model.add(Convolution1D(nb_filter=32, filter_length=3, border_mode='same', activation=\"relu\"))\n",
    "model.add(MaxPooling1D(pool_length=2))\n",
    "model.add(Flatten())\n",
    "model.add(Dense(250, activation='relu'))\n",
    "model.add(Dense(1, activation='sigmoid'))\n",
    "model.compile(loss='binary_crossentropy', optimizer='adam', metrics=['accuracy'])\n",
    "print(model.summary())\n",
    "model.fit(X_train,y_train, validation_data=(X_test,y_test), nb_epoch=2, batch_size=128, verbose=1)\n",
    "scores = model.evaluate(X_test, y_test, verbose=0)\n",
    "print(\"ACC: %.2f%%\" %(scores[1]*100))\n",
    "\n"
   ]
  },
  {
   "cell_type": "code",
   "execution_count": 10,
   "metadata": {},
   "outputs": [],
   "source": [
    "# Large CNN model for the CIFAR-10 Dataset\n",
    "import numpy\n",
    "from keras.datasets import cifar10\n",
    "from keras.models import Sequential\n",
    "from keras.layers import Dense\n",
    "from keras.layers import Dropout\n",
    "from keras.layers import Flatten\n",
    "from keras.constraints import maxnorm\n",
    "from keras.optimizers import SGD\n",
    "from keras.layers.convolutional import Convolution2D\n",
    "from keras.layers.convolutional import MaxPooling2D\n",
    "from keras.utils import np_utils\n",
    "from keras import backend as K\n",
    "K.tensorflow_backend.set_image_dim_ordering('th')"
   ]
  },
  {
   "cell_type": "code",
   "execution_count": null,
   "metadata": {},
   "outputs": [],
   "source": [
    "(X_train, y_train), (X_test, y_test) = cifar10.load_data()\n",
    "# normalize inputs from 0-255 to 0.0-1.0\n",
    "X_train = X_train.astype('float32')\n",
    "X_test = X_test.astype('float32')\n",
    "X_train = X_train/255.0\n",
    "X_test = X_test/255.0\n",
    "# one hot encode outputs\n",
    "y_train = np_utils.to_categorical(y_train)\n",
    "y_test = np_utils.to_categorical(y_test)\n",
    "num_classes = y_test.shape[1]\n",
    "# create the model\n",
    "model = Sequential()\n",
    "model.add(Convolution2D(32,3,3, input_shape=(3,32,32), activation='relu', border_mode='same'))\n",
    "model.add(Dropout(0.2))\n",
    "model.add(Convolution2D(32,3,3, activation='relu', border_mode='same'))\n",
    "model.add(MaxPooling2D(pool_size=(2,2)))\n",
    "model.add(Convolution2D(64,3,3, activation='relu', border_mode='same'))\n",
    "model.add(Dropout(0.2))\n",
    "model.add(Convolution2D(64,3,3, activation='relu', border_mode='same'))\n",
    "model.add(MaxPooling2D(pool_size=(2,2)))\n",
    "model.add(Convolution2D(128,3,3, activation = 'relu', border_mode='same'))\n",
    "model.add(Dropout(0.2))\n",
    "model.add(Convolution2D(128,3,3, activation='relu', border_mode='same'))\n",
    "model.add(Maxpooling2D(pool_size=(2,2)))\n",
    "model.add(Flatten())\n",
    "model.add(Dropout(0.2))\n",
    "model.add(Dense(512, activation = 'relu', W_constraint = maxnorm(3)))\n",
    "model.add(Dropout(0.2))\n",
    "model.add(Dense(num_classes, activation='softmax'))\n",
    "#compile model\n",
    "epochs = 25\n",
    "lrate = 0.01\n",
    "decay = lrate/epochs\n",
    "sgd = SGD(lr=lrate, momentum = 0.9, decay = decay, nesterov=Flase)\n",
    "model.compile(loss='categorical_crossentropy', optimizer = sgd, metrics=['accuracy'])\n",
    "print(model.summary())\n",
    "# fit the model\n",
    "model.fit(X_train, y_train, validation_data=(X_test, y_test), nb_epoch = epochs, batch_size= 64)\n",
    "#final evaluation\n",
    "scores = model.evaluate(X_test, y_test, verbose=0)\n",
    "print('ACC: %.2f%%' % (scores[1] * 100))\n"
   ]
  },
  {
   "cell_type": "code",
   "execution_count": 1,
   "metadata": {},
   "outputs": [
    {
     "name": "stderr",
     "output_type": "stream",
     "text": [
      "Using TensorFlow backend.\n"
     ]
    }
   ],
   "source": [
    "# CNN for the IMDB problem\n",
    "import numpy\n",
    "from keras.datasets import imdb\n",
    "from keras.models import Sequential\n",
    "from keras.layers import Dense\n",
    "from keras.layers import Flatten\n",
    "from keras.layers.convolutional import Convolution1D\n",
    "from keras.layers.convolutional import MaxPooling1D\n",
    "from keras.layers.embeddings import Embedding\n",
    "from keras.preprocessing import sequence"
   ]
  },
  {
   "cell_type": "code",
   "execution_count": 5,
   "metadata": {},
   "outputs": [
    {
     "name": "stderr",
     "output_type": "stream",
     "text": [
      "/Users/syem/anaconda3/lib/python3.7/site-packages/ipykernel_launcher.py:10: UserWarning: Update your `Conv1D` call to the Keras 2 API: `Conv1D(activation=\"relu\", filters=32, kernel_size=3, padding=\"same\")`\n",
      "  # Remove the CWD from sys.path while we load stuff.\n",
      "/Users/syem/anaconda3/lib/python3.7/site-packages/ipykernel_launcher.py:11: UserWarning: Update your `MaxPooling1D` call to the Keras 2 API: `MaxPooling1D(pool_size=2)`\n",
      "  # This is added back by InteractiveShellApp.init_path()\n",
      "/Users/syem/anaconda3/lib/python3.7/site-packages/ipykernel_launcher.py:18: UserWarning: The `nb_epoch` argument in `fit` has been renamed `epochs`.\n"
     ]
    },
    {
     "name": "stdout",
     "output_type": "stream",
     "text": [
      "Model: \"sequential_2\"\n",
      "_________________________________________________________________\n",
      "Layer (type)                 Output Shape              Param #   \n",
      "=================================================================\n",
      "embedding_2 (Embedding)      (None, 500, 32)           160000    \n",
      "_________________________________________________________________\n",
      "conv1d_2 (Conv1D)            (None, 500, 32)           3104      \n",
      "_________________________________________________________________\n",
      "max_pooling1d_2 (MaxPooling1 (None, 250, 32)           0         \n",
      "_________________________________________________________________\n",
      "flatten_2 (Flatten)          (None, 8000)              0         \n",
      "_________________________________________________________________\n",
      "dense_3 (Dense)              (None, 250)               2000250   \n",
      "_________________________________________________________________\n",
      "dense_4 (Dense)              (None, 1)                 251       \n",
      "=================================================================\n",
      "Total params: 2,163,605\n",
      "Trainable params: 2,163,605\n",
      "Non-trainable params: 0\n",
      "_________________________________________________________________\n",
      "None\n"
     ]
    },
    {
     "name": "stderr",
     "output_type": "stream",
     "text": [
      "W1021 15:25:30.499160 140736193037184 deprecation_wrapper.py:119] From /Users/syem/anaconda3/lib/python3.7/site-packages/keras/backend/tensorflow_backend.py:1033: The name tf.assign_add is deprecated. Please use tf.compat.v1.assign_add instead.\n",
      "\n"
     ]
    },
    {
     "name": "stdout",
     "output_type": "stream",
     "text": [
      "Train on 25000 samples, validate on 25000 samples\n",
      "Epoch 1/2\n",
      "25000/25000 [==============================] - 75s 3ms/step - loss: 0.4268 - acc: 0.7785 - val_loss: 0.2665 - val_acc: 0.8888\n",
      "Epoch 2/2\n",
      "25000/25000 [==============================] - 70s 3ms/step - loss: 0.2056 - acc: 0.9202 - val_loss: 0.2896 - val_acc: 0.8828\n",
      "ACC: 88.28% \n"
     ]
    }
   ],
   "source": [
    "top_words = 5000\n",
    "(X_train, y_train), (X_test,y_test) = imdb.load_data(nb_words=top_words)\n",
    "\n",
    "max_words = 500\n",
    "X_train = sequence.pad_sequences(X_train,maxlen= max_words)\n",
    "X_test = sequence.pad_sequences(X_test, maxlen=max_words)\n",
    "# create the model\n",
    "model = Sequential()\n",
    "model.add(Embedding(top_words, 32, input_length=max_words))\n",
    "model.add(Convolution1D(nb_filter=32, filter_length=3, border_mode='same', activation='relu'))\n",
    "model.add(MaxPooling1D(pool_length=2))\n",
    "model.add(Flatten())\n",
    "model.add(Dense(250, activation='relu'))\n",
    "model.add(Dense(1,activation='sigmoid'))\n",
    "model.compile(loss='binary_crossentropy', optimizer='adam', metrics=['accuracy'])\n",
    "print(model.summary())\n",
    "# fit the model\n",
    "model.fit(X_train, y_train, validation_data=(X_test, y_test), nb_epoch=2, batch_size = 128, verbose=1)\n",
    "#Final evaluation of the model\n",
    "scores= model.evaluate(X_test, y_test, verbose=0)\n",
    "print(\"ACC: %.2f%% \" % (scores[1]*100))\n"
   ]
  },
  {
   "cell_type": "code",
   "execution_count": 6,
   "metadata": {},
   "outputs": [],
   "source": [
    "# MLP for the IMDB problem\n",
    "import numpy\n",
    "from keras.datasets import imdb\n",
    "from keras.models import Sequential\n",
    "from keras.layers import Dense\n",
    "from keras.layers import Flatten\n",
    "from keras.layers.embeddings import Embedding\n",
    "from keras.preprocessing import sequence"
   ]
  },
  {
   "cell_type": "code",
   "execution_count": 7,
   "metadata": {},
   "outputs": [
    {
     "name": "stderr",
     "output_type": "stream",
     "text": [
      "/Users/syem/anaconda3/lib/python3.7/site-packages/keras/datasets/imdb.py:49: UserWarning: The `nb_words` argument in `load_data` has been renamed `num_words`.\n",
      "  warnings.warn('The `nb_words` argument in `load_data` '\n"
     ]
    },
    {
     "name": "stdout",
     "output_type": "stream",
     "text": [
      "Model: \"sequential_3\"\n",
      "_________________________________________________________________\n",
      "Layer (type)                 Output Shape              Param #   \n",
      "=================================================================\n",
      "embedding_3 (Embedding)      (None, 500, 32)           160000    \n",
      "_________________________________________________________________\n",
      "flatten_3 (Flatten)          (None, 16000)             0         \n",
      "_________________________________________________________________\n",
      "dense_5 (Dense)              (None, 250)               4000250   \n",
      "_________________________________________________________________\n",
      "dense_6 (Dense)              (None, 1)                 251       \n",
      "=================================================================\n",
      "Total params: 4,160,501\n",
      "Trainable params: 4,160,501\n",
      "Non-trainable params: 0\n",
      "_________________________________________________________________\n",
      "None\n"
     ]
    },
    {
     "name": "stderr",
     "output_type": "stream",
     "text": [
      "/Users/syem/anaconda3/lib/python3.7/site-packages/ipykernel_launcher.py:15: UserWarning: The `nb_epoch` argument in `fit` has been renamed `epochs`.\n",
      "  from ipykernel import kernelapp as app\n"
     ]
    },
    {
     "name": "stdout",
     "output_type": "stream",
     "text": [
      "Train on 25000 samples, validate on 25000 samples\n",
      "Epoch 1/2\n",
      "25000/25000 [==============================] - 61s 2ms/step - loss: 0.5040 - acc: 0.7173 - val_loss: 0.2985 - val_acc: 0.8738\n",
      "Epoch 2/2\n",
      "25000/25000 [==============================] - 50s 2ms/step - loss: 0.1827 - acc: 0.9321 - val_loss: 0.3117 - val_acc: 0.8698\n",
      "ACC: 86.98%\n"
     ]
    }
   ],
   "source": [
    "top_words = 5000\n",
    "(X_train, y_train),(X_test, y_test) = imdb.load_data(nb_words=top_words)\n",
    "max_words = 500\n",
    "X_train = sequence.pad_sequences(X_train, maxlen = max_words)\n",
    "X_test = sequence.pad_sequences(X_test, maxlen = max_words)\n",
    "#create the model\n",
    "model = Sequential()\n",
    "model.add(Embedding(top_words, 32, input_length=max_words))\n",
    "model.add(Flatten())\n",
    "model.add(Dense(250, activation='relu'))\n",
    "model.add(Dense(1, activation='sigmoid'))\n",
    "model.compile(loss='binary_crossentropy', optimizer='adam', metrics=['accuracy'])\n",
    "print(model.summary())\n",
    "#Fit the model\n",
    "model.fit(X_train, y_train, validation_data=(X_test,y_test), nb_epoch=2, batch_size=128, verbose=1)\n",
    "#final evaluation of the model\n",
    "scores = model.evaluate(X_test, y_test, verbose=0)\n",
    "print('ACC: %.2f%%' % (scores[1]*100))\n"
   ]
  },
  {
   "cell_type": "code",
   "execution_count": 8,
   "metadata": {},
   "outputs": [],
   "source": [
    "# CNN for the IMDB problem\n",
    "import numpy\n",
    "from keras.datasets import imdb\n",
    "from keras.models import Sequential\n",
    "from keras.layers import Dense\n",
    "from keras.layers import Flatten\n",
    "from keras.layers.convolutional import Convolution1D\n",
    "from keras.layers.convolutional import MaxPooling1D\n",
    "from keras.layers.embeddings import Embedding\n",
    "from keras.preprocessing import sequence"
   ]
  },
  {
   "cell_type": "code",
   "execution_count": 10,
   "metadata": {},
   "outputs": [
    {
     "name": "stderr",
     "output_type": "stream",
     "text": [
      "/Users/syem/anaconda3/lib/python3.7/site-packages/ipykernel_launcher.py:9: UserWarning: Update your `Conv1D` call to the Keras 2 API: `Conv1D(activation=\"relu\", filters=32, kernel_size=3, padding=\"same\")`\n",
      "  if __name__ == '__main__':\n",
      "/Users/syem/anaconda3/lib/python3.7/site-packages/ipykernel_launcher.py:10: UserWarning: Update your `MaxPooling1D` call to the Keras 2 API: `MaxPooling1D(pool_size=2)`\n",
      "  # Remove the CWD from sys.path while we load stuff.\n",
      "/Users/syem/anaconda3/lib/python3.7/site-packages/ipykernel_launcher.py:16: UserWarning: The `nb_epoch` argument in `fit` has been renamed `epochs`.\n",
      "  app.launch_new_instance()\n"
     ]
    },
    {
     "name": "stdout",
     "output_type": "stream",
     "text": [
      "Model: \"sequential_5\"\n",
      "_________________________________________________________________\n",
      "Layer (type)                 Output Shape              Param #   \n",
      "=================================================================\n",
      "embedding_4 (Embedding)      (None, 500, 32)           160000    \n",
      "_________________________________________________________________\n",
      "conv1d_3 (Conv1D)            (None, 500, 32)           3104      \n",
      "_________________________________________________________________\n",
      "max_pooling1d_3 (MaxPooling1 (None, 250, 32)           0         \n",
      "_________________________________________________________________\n",
      "flatten_4 (Flatten)          (None, 8000)              0         \n",
      "_________________________________________________________________\n",
      "dense_7 (Dense)              (None, 250)               2000250   \n",
      "_________________________________________________________________\n",
      "dense_8 (Dense)              (None, 1)                 251       \n",
      "=================================================================\n",
      "Total params: 2,163,605\n",
      "Trainable params: 2,163,605\n",
      "Non-trainable params: 0\n",
      "_________________________________________________________________\n",
      "None\n",
      "Train on 25000 samples, validate on 25000 samples\n",
      "Epoch 1/2\n",
      "25000/25000 [==============================] - 87s 3ms/step - loss: 0.4814 - acc: 0.7373 - val_loss: 0.2802 - val_acc: 0.8822\n",
      "Epoch 2/2\n",
      "25000/25000 [==============================] - 77s 3ms/step - loss: 0.2133 - acc: 0.9156 - val_loss: 0.2789 - val_acc: 0.8843\n",
      "ACC: 88.43%\n"
     ]
    }
   ],
   "source": [
    "top_words = 5000\n",
    "(X_train, y_train), (X_test, y_test) = imdb.load_data(nb_words=top_words)\n",
    "max_words = 500\n",
    "X_train = sequence.pad_sequences(X_train, maxlen=max_words)\n",
    "X_test = sequence.pad_sequences(X_test, maxlen=max_words)\n",
    "#create the model\n",
    "model = Sequential()\n",
    "model.add(Embedding(top_words, 32, input_length=max_words))\n",
    "model.add(Convolution1D(nb_filter=32, filter_length=3, border_mode='same',activation='relu'))\n",
    "model.add(MaxPooling1D(pool_length=2))\n",
    "model.add(Flatten())\n",
    "model.add(Dense(250, activation='relu'))\n",
    "model.add(Dense(1, activation='sigmoid'))\n",
    "model.compile(loss='binary_crossentropy', optimizer='adam', metrics=['accuracy'])\n",
    "print(model.summary())\n",
    "model.fit(X_train, y_train, validation_data=(X_test, y_test), nb_epoch=2, batch_size=128,verbose=1)\n",
    "scores = model.evaluate(X_test, y_test, verbose=0)\n",
    "print('ACC: %.2f%%' % (scores[1]*100))\n",
    "\n",
    "\n"
   ]
  },
  {
   "cell_type": "code",
   "execution_count": 1,
   "metadata": {},
   "outputs": [
    {
     "name": "stderr",
     "output_type": "stream",
     "text": [
      "Using TensorFlow backend.\n",
      "/Users/syem/anaconda3/lib/python3.7/site-packages/keras_preprocessing/image/image_data_generator.py:940: UserWarning: Expected input to be images (as Numpy array) following the data format convention \"channels_last\" (channels on axis 3), i.e. expected either 1, 3 or 4 channels on axis 3. However, it was passed an array with shape (60000, 1, 28, 28) (28 channels).\n",
      "  ' channels).')\n",
      "/Users/syem/anaconda3/lib/python3.7/site-packages/keras_preprocessing/image/numpy_array_iterator.py:127: UserWarning: NumpyArrayIterator is set to use the data format convention \"channels_last\" (channels on axis 3), i.e. expected either 1, 3, or 4 channels on axis 3. However, it was passed an array with shape (60000, 1, 28, 28) (28 channels).\n",
      "  str(self.x.shape[channels_axis]) + ' channels).')\n"
     ]
    },
    {
     "data": {
      "text/plain": [
       "<Figure size 640x480 with 9 Axes>"
      ]
     },
     "metadata": {},
     "output_type": "display_data"
    }
   ],
   "source": [
    "# Random Flips\n",
    "from keras.datasets import mnist\n",
    "from keras.preprocessing.image import ImageDataGenerator\n",
    "from matplotlib import pyplot\n",
    "(X_train, y_train), (X_test, y_test) = mnist.load_data()\n",
    "#reshape to [samples][pixels][width][height]\n",
    "X_train = X_train.reshape(X_train.shape[0],1,28,28)\n",
    "X_test = X_test.reshape(X_test.shape[0],1,28,28)\n",
    "X_train = X_train.astype('float32')\n",
    "X_test = X_test.astype('float32')\n",
    "\n",
    "datagen = ImageDataGenerator(horizontal_flip=True, vertical_flip = True)\n",
    "# fit parameter from data\n",
    "datagen.fit(X_train)\n",
    "#\n",
    "for X_batch, y_batch in datagen.flow(X_train, y_train, batch_size=9):\n",
    "    for i in range(0,9):\n",
    "        pyplot.subplot(330 + 1 + i)\n",
    "        pyplot.imshow(X_batch[i].reshape(28,28), cmap=pyplot.get_cmap('gray'))\n",
    "    pyplot.show()\n",
    "    break\n",
    "\n",
    "\n",
    "\n"
   ]
  },
  {
   "cell_type": "code",
   "execution_count": 2,
   "metadata": {},
   "outputs": [],
   "source": [
    "# LSTM for international airline passengers problem with regression framing\n",
    "import numpy\n",
    "import matplotlib.pyplot as plt\n",
    "import pandas\n",
    "import math\n",
    "from keras.models import Sequential\n",
    "from keras.layers import Dense\n",
    "from keras.layers import LSTM\n",
    "from sklearn.preprocessing import MinMaxScaler\n",
    "from sklearn.metrics import mean_squared_error\n",
    "\n",
    "# convert an array of values into a dataset matrix\n",
    "def create_dataset(dataset, look_back=1):\n",
    "    dataX, dataY  = [], []\n",
    "    for i in range(len(dataset) -look_back - 1):\n",
    "        a = dataset[i:(i+look_back),0]\n",
    "        dataX.append(a)\n",
    "        dataY.append(dataset[i + look_back, 0])\n",
    "    return numpy.array(dataX), numpy.array(dataY)\n",
    "\n",
    "df = pandas.read_csv(\"Downloads/international_airline.csv\", usecols=[1], engine='python', skipfooter=3)\n"
   ]
  },
  {
   "cell_type": "code",
   "execution_count": null,
   "metadata": {},
   "outputs": [
    {
     "name": "stderr",
     "output_type": "stream",
     "text": [
      "/Users/syem/anaconda3/lib/python3.7/site-packages/ipykernel_launcher.py:16: UserWarning: The `input_dim` and `input_length` arguments in recurrent layers are deprecated. Use `input_shape` instead.\n",
      "  app.launch_new_instance()\n",
      "/Users/syem/anaconda3/lib/python3.7/site-packages/ipykernel_launcher.py:16: UserWarning: Update your `LSTM` call to the Keras 2 API: `LSTM(4, input_shape=(None, 1))`\n",
      "  app.launch_new_instance()\n",
      "/Users/syem/anaconda3/lib/python3.7/site-packages/ipykernel_launcher.py:19: UserWarning: The `nb_epoch` argument in `fit` has been renamed `epochs`.\n"
     ]
    },
    {
     "name": "stdout",
     "output_type": "stream",
     "text": [
      "Epoch 1/100\n",
      " - 4s - loss: 0.0527\n",
      "Epoch 2/100\n",
      " - 1s - loss: 0.0249\n",
      "Epoch 3/100\n",
      " - 1s - loss: 0.0185\n",
      "Epoch 4/100\n",
      " - 1s - loss: 0.0170\n",
      "Epoch 5/100\n",
      " - 1s - loss: 0.0158\n",
      "Epoch 6/100\n",
      " - 1s - loss: 0.0148\n",
      "Epoch 7/100\n",
      " - 1s - loss: 0.0137\n",
      "Epoch 8/100\n",
      " - 1s - loss: 0.0125\n",
      "Epoch 9/100\n",
      " - 1s - loss: 0.0115\n",
      "Epoch 10/100\n",
      " - 1s - loss: 0.0103\n",
      "Epoch 11/100\n",
      " - 1s - loss: 0.0093\n",
      "Epoch 12/100\n",
      " - 1s - loss: 0.0083\n",
      "Epoch 13/100\n",
      " - 1s - loss: 0.0074\n",
      "Epoch 14/100\n",
      " - 1s - loss: 0.0064\n",
      "Epoch 15/100\n",
      " - 1s - loss: 0.0056\n",
      "Epoch 16/100\n",
      " - 1s - loss: 0.0049\n",
      "Epoch 17/100\n",
      " - 1s - loss: 0.0042\n",
      "Epoch 18/100\n",
      " - 1s - loss: 0.0037\n",
      "Epoch 19/100\n",
      " - 1s - loss: 0.0032\n",
      "Epoch 20/100\n",
      " - 1s - loss: 0.0029\n",
      "Epoch 21/100\n",
      " - 1s - loss: 0.0026\n",
      "Epoch 22/100\n",
      " - 1s - loss: 0.0024\n",
      "Epoch 23/100\n",
      " - 1s - loss: 0.0024\n",
      "Epoch 24/100\n",
      " - 1s - loss: 0.0022\n",
      "Epoch 25/100\n",
      " - 1s - loss: 0.0022\n",
      "Epoch 26/100\n",
      " - 1s - loss: 0.0021\n",
      "Epoch 27/100\n",
      " - 1s - loss: 0.0021\n",
      "Epoch 28/100\n",
      " - 1s - loss: 0.0021\n",
      "Epoch 29/100\n",
      " - 1s - loss: 0.0021\n",
      "Epoch 30/100\n",
      " - 1s - loss: 0.0021\n",
      "Epoch 31/100\n",
      " - 1s - loss: 0.0021\n",
      "Epoch 32/100\n",
      " - 1s - loss: 0.0021\n",
      "Epoch 33/100\n",
      " - 1s - loss: 0.0021\n",
      "Epoch 34/100\n",
      " - 1s - loss: 0.0021\n",
      "Epoch 35/100\n",
      " - 1s - loss: 0.0021\n",
      "Epoch 36/100\n",
      " - 1s - loss: 0.0021\n",
      "Epoch 37/100\n",
      " - 1s - loss: 0.0021\n",
      "Epoch 38/100\n",
      " - 1s - loss: 0.0021\n",
      "Epoch 39/100\n",
      " - 1s - loss: 0.0021\n",
      "Epoch 40/100\n",
      " - 1s - loss: 0.0021\n",
      "Epoch 41/100\n",
      " - 1s - loss: 0.0021\n",
      "Epoch 42/100\n",
      " - 1s - loss: 0.0021\n",
      "Epoch 43/100\n",
      " - 1s - loss: 0.0022\n",
      "Epoch 44/100\n",
      " - 1s - loss: 0.0021\n",
      "Epoch 45/100\n",
      " - 1s - loss: 0.0020\n",
      "Epoch 46/100\n",
      " - 1s - loss: 0.0021\n",
      "Epoch 47/100\n",
      " - 1s - loss: 0.0021\n",
      "Epoch 48/100\n",
      " - 1s - loss: 0.0021\n",
      "Epoch 49/100\n",
      " - 1s - loss: 0.0020\n",
      "Epoch 50/100\n",
      " - 1s - loss: 0.0021\n",
      "Epoch 51/100\n",
      " - 1s - loss: 0.0021\n",
      "Epoch 52/100\n",
      " - 1s - loss: 0.0021\n",
      "Epoch 53/100\n",
      " - 1s - loss: 0.0020\n",
      "Epoch 54/100\n",
      " - 1s - loss: 0.0021\n",
      "Epoch 55/100\n",
      " - 1s - loss: 0.0021\n",
      "Epoch 56/100\n",
      " - 1s - loss: 0.0021\n",
      "Epoch 57/100\n",
      " - 1s - loss: 0.0020\n",
      "Epoch 58/100\n",
      " - 1s - loss: 0.0020\n",
      "Epoch 59/100\n",
      " - 1s - loss: 0.0020\n",
      "Epoch 60/100\n",
      " - 1s - loss: 0.0021\n",
      "Epoch 61/100\n",
      " - 1s - loss: 0.0021\n",
      "Epoch 62/100\n",
      " - 1s - loss: 0.0021\n",
      "Epoch 63/100\n",
      " - 0s - loss: 0.0021\n",
      "Epoch 64/100\n",
      " - 0s - loss: 0.0020\n",
      "Epoch 65/100\n",
      " - 1s - loss: 0.0020\n",
      "Epoch 66/100\n",
      " - 1s - loss: 0.0020\n",
      "Epoch 67/100\n",
      " - 1s - loss: 0.0020\n",
      "Epoch 68/100\n",
      " - 1s - loss: 0.0020\n",
      "Epoch 69/100\n",
      " - 1s - loss: 0.0020\n",
      "Epoch 70/100\n",
      " - 1s - loss: 0.0021\n",
      "Epoch 71/100\n",
      " - 1s - loss: 0.0020\n",
      "Epoch 72/100\n",
      " - 1s - loss: 0.0022\n",
      "Epoch 73/100\n",
      " - 1s - loss: 0.0021\n",
      "Epoch 74/100\n",
      " - 1s - loss: 0.0020\n",
      "Epoch 75/100\n",
      " - 1s - loss: 0.0020\n",
      "Epoch 76/100\n",
      " - 1s - loss: 0.0020\n",
      "Epoch 77/100\n",
      " - 1s - loss: 0.0020\n",
      "Epoch 78/100\n",
      " - 1s - loss: 0.0020\n",
      "Epoch 79/100\n",
      " - 1s - loss: 0.0021\n",
      "Epoch 80/100\n",
      " - 1s - loss: 0.0021\n",
      "Epoch 81/100\n",
      " - 1s - loss: 0.0020\n",
      "Epoch 82/100\n",
      " - 1s - loss: 0.0020\n",
      "Epoch 83/100\n",
      " - 1s - loss: 0.0020\n",
      "Epoch 84/100\n",
      " - 1s - loss: 0.0020\n",
      "Epoch 85/100\n",
      " - 1s - loss: 0.0021\n",
      "Epoch 86/100\n",
      " - 1s - loss: 0.0020\n",
      "Epoch 87/100\n",
      " - 1s - loss: 0.0020\n",
      "Epoch 88/100\n",
      " - 1s - loss: 0.0021\n",
      "Epoch 89/100\n",
      " - 1s - loss: 0.0020\n",
      "Epoch 90/100\n",
      " - 1s - loss: 0.0020\n",
      "Epoch 91/100\n",
      " - 1s - loss: 0.0020\n",
      "Epoch 92/100\n",
      " - 1s - loss: 0.0020\n",
      "Epoch 93/100\n",
      " - 1s - loss: 0.0020\n",
      "Epoch 94/100\n",
      " - 1s - loss: 0.0020\n",
      "Epoch 95/100\n",
      " - 1s - loss: 0.0020\n",
      "Epoch 96/100\n",
      " - 1s - loss: 0.0021\n",
      "Epoch 97/100\n",
      " - 1s - loss: 0.0020\n",
      "Epoch 98/100\n",
      " - 1s - loss: 0.0020\n",
      "Epoch 99/100\n",
      " - 1s - loss: 0.0020\n",
      "Epoch 100/100\n",
      " - 1s - loss: 0.0020\n"
     ]
    }
   ],
   "source": [
    "dataset = df.values\n",
    "dataset = dataset.astype('float32')\n",
    "scaler = MinMaxScaler(feature_range=(0,1))\n",
    "dataset = scaler.fit_transform(dataset)\n",
    "train_size = int(len(dataset) * 0.67)\n",
    "test_size = len(dataset) - train_size\n",
    "train, test = dataset[0:train_size,:], dataset[train_size:len(dataset),:]\n",
    "look_back = 1\n",
    "\n",
    "train_X, trainY = create_dataset(train, look_back)\n",
    "testX, testY = create_dataset(test, look_back)\n",
    "train_X = numpy.reshape(train_X, (train_X.shape[0], 1, train_X.shape[1]))\n",
    "testX = numpy.reshape(testX, (testX.shape[0], 1, testX.shape[1]))\n",
    "\n",
    "model = Sequential()\n",
    "model.add(LSTM(4, input_dim = look_back))\n",
    "model.add(Dense(1))\n",
    "model.compile(loss='mean_squared_error', optimizer='adam')\n",
    "model.fit(train_X, trainY, nb_epoch=100, batch_size=1, verbose=2)\n",
    "trainPredict = model.predict(train_X)\n",
    "testPredict = model.predict(testX)\n",
    "\n",
    "trainPredict = scaler.inverse_transform(trainPredict)\n",
    "trainy = scaler.inverse_transform([trainY])\n",
    "testPredict = scaler.inverse_transform(testPredict)\n",
    "testy = scaler.inverse_transform([testY])\n",
    "\n",
    "trainScore = math.sqrt(mean_squared_error(trainY[0], trainPredict[:,0]))\n",
    "print('Train Score: %.2f RMSE' % (trainScore))\n",
    "testScore = math.sqrt(mean_squared_error(testY[0], testPredict[:,0]))\n",
    "print('Train Score: %.2f RMSE' % (testScore))\n",
    "testPredictPlot = numpy.empty_like(dataset)\n",
    "testPredictPlot[:,:] = numpy.nan\n",
    "trainPredictPlot[look_back: len(trainPredict) + look_back, : ] = trainPredict\n",
    "\n",
    "plt.plot(scaler.inverse_transform(dataset))\n",
    "plt.plot(trainPredictPlot)\n",
    "plt.plt(TestPredictPlot)\n",
    "plt.show()\n",
    "\n",
    "\n"
   ]
  },
  {
   "cell_type": "code",
   "execution_count": 1,
   "metadata": {},
   "outputs": [
    {
     "name": "stderr",
     "output_type": "stream",
     "text": [
      "Using TensorFlow backend.\n"
     ]
    }
   ],
   "source": [
    "import numpy\n",
    "import matplotlib.pyplot as plt\n",
    "import pandas\n",
    "import math\n",
    "from keras.models import Sequential\n",
    "from keras.layers import Dense"
   ]
  },
  {
   "cell_type": "code",
   "execution_count": 2,
   "metadata": {},
   "outputs": [],
   "source": [
    "dataframe = pandas.read_csv('Downloads/international_airline.csv', usecols=[1], engine='python', skipfooter = 3)\n",
    "dataset = dataframe.values\n",
    "dataset = dataset.astype('float32')\n",
    "\n"
   ]
  },
  {
   "cell_type": "code",
   "execution_count": 3,
   "metadata": {},
   "outputs": [
    {
     "name": "stdout",
     "output_type": "stream",
     "text": [
      "96 48\n"
     ]
    }
   ],
   "source": [
    "# split into train and test sets\n",
    "train_size = int(len(dataset) * 0.67)\n",
    "test_size = len(dataset) - train_size\n",
    "train, test = dataset[0:train_size,:], dataset[train_size:len(dataset),:]\n",
    "print(len(train), len(test))\n"
   ]
  },
  {
   "cell_type": "code",
   "execution_count": 6,
   "metadata": {},
   "outputs": [],
   "source": [
    "# convert an array of values into a dataset matrix\n",
    "def create_dataset(dataset, look_back=1):\n",
    "    dataX, dataY = [], []\n",
    "    for i in range(len(dataset)-look_back-1):\n",
    "        a = dataset[i:(i+look_back),0]\n",
    "        dataX.append(a)\n",
    "        dataY.append(dataset[i + look_back, 0])\n",
    "    return numpy.array(dataX), numpy.array(dataY)\n"
   ]
  },
  {
   "cell_type": "code",
   "execution_count": 7,
   "metadata": {},
   "outputs": [],
   "source": [
    "# reshape into X=t, y=t+1\n",
    "look_back = 1\n",
    "trainX, trainY = create_dataset(train, look_back)\n",
    "testX, testY = create_dataset(test, look_back)\n"
   ]
  },
  {
   "cell_type": "code",
   "execution_count": 8,
   "metadata": {},
   "outputs": [
    {
     "name": "stderr",
     "output_type": "stream",
     "text": [
      "WARNING: Logging before flag parsing goes to stderr.\n",
      "W1108 15:59:33.894024 140735902135168 deprecation_wrapper.py:119] From /Users/syem/anaconda3/lib/python3.7/site-packages/keras/backend/tensorflow_backend.py:66: The name tf.get_default_graph is deprecated. Please use tf.compat.v1.get_default_graph instead.\n",
      "\n",
      "W1108 15:59:34.069833 140735902135168 deprecation_wrapper.py:119] From /Users/syem/anaconda3/lib/python3.7/site-packages/keras/backend/tensorflow_backend.py:541: The name tf.placeholder is deprecated. Please use tf.compat.v1.placeholder instead.\n",
      "\n",
      "W1108 15:59:34.133280 140735902135168 deprecation_wrapper.py:119] From /Users/syem/anaconda3/lib/python3.7/site-packages/keras/backend/tensorflow_backend.py:4432: The name tf.random_uniform is deprecated. Please use tf.random.uniform instead.\n",
      "\n",
      "W1108 15:59:34.260778 140735902135168 deprecation_wrapper.py:119] From /Users/syem/anaconda3/lib/python3.7/site-packages/keras/optimizers.py:793: The name tf.train.Optimizer is deprecated. Please use tf.compat.v1.train.Optimizer instead.\n",
      "\n",
      "/Users/syem/anaconda3/lib/python3.7/site-packages/ipykernel_launcher.py:6: UserWarning: The `nb_epoch` argument in `fit` has been renamed `epochs`.\n",
      "  \n",
      "W1108 15:59:34.474522 140735902135168 deprecation_wrapper.py:119] From /Users/syem/anaconda3/lib/python3.7/site-packages/keras/backend/tensorflow_backend.py:1033: The name tf.assign_add is deprecated. Please use tf.compat.v1.assign_add instead.\n",
      "\n",
      "W1108 15:59:34.563127 140735902135168 deprecation_wrapper.py:119] From /Users/syem/anaconda3/lib/python3.7/site-packages/keras/backend/tensorflow_backend.py:1020: The name tf.assign is deprecated. Please use tf.compat.v1.assign instead.\n",
      "\n"
     ]
    },
    {
     "name": "stdout",
     "output_type": "stream",
     "text": [
      "Epoch 1/200\n",
      " - 2s - loss: 65014.1373\n",
      "Epoch 2/200\n",
      " - 0s - loss: 55237.2849\n",
      "Epoch 3/200\n",
      " - 0s - loss: 47261.7575\n",
      "Epoch 4/200\n",
      " - 0s - loss: 40525.7497\n",
      "Epoch 5/200\n",
      " - 0s - loss: 34504.8033\n",
      "Epoch 6/200\n",
      " - 0s - loss: 29153.4072\n",
      "Epoch 7/200\n",
      " - 0s - loss: 24110.8005\n",
      "Epoch 8/200\n",
      " - 0s - loss: 19612.5048\n",
      "Epoch 9/200\n",
      " - 0s - loss: 15654.3262\n",
      "Epoch 10/200\n",
      " - 0s - loss: 12038.9680\n",
      "Epoch 11/200\n",
      " - 0s - loss: 8779.6559\n",
      "Epoch 12/200\n",
      " - 0s - loss: 6113.1151\n",
      "Epoch 13/200\n",
      " - 0s - loss: 4013.5385\n",
      "Epoch 14/200\n",
      " - 0s - loss: 2573.1122\n",
      "Epoch 15/200\n",
      " - 0s - loss: 1615.5925\n",
      "Epoch 16/200\n",
      " - 0s - loss: 1063.5024\n",
      "Epoch 17/200\n",
      " - 0s - loss: 774.4929\n",
      "Epoch 18/200\n",
      " - 0s - loss: 633.7259\n",
      "Epoch 19/200\n",
      " - 0s - loss: 573.6858\n",
      "Epoch 20/200\n",
      " - 0s - loss: 551.6680\n",
      "Epoch 21/200\n",
      " - 0s - loss: 543.5496\n",
      "Epoch 22/200\n",
      " - 0s - loss: 538.2408\n",
      "Epoch 23/200\n",
      " - 0s - loss: 537.7712\n",
      "Epoch 24/200\n",
      " - 0s - loss: 538.3150\n",
      "Epoch 25/200\n",
      " - 0s - loss: 543.7431\n",
      "Epoch 26/200\n",
      " - 0s - loss: 539.4993\n",
      "Epoch 27/200\n",
      " - 0s - loss: 536.2180\n",
      "Epoch 28/200\n",
      " - 0s - loss: 536.0170\n",
      "Epoch 29/200\n",
      " - 0s - loss: 538.5694\n",
      "Epoch 30/200\n",
      " - 0s - loss: 539.8819\n",
      "Epoch 31/200\n",
      " - 0s - loss: 538.0804\n",
      "Epoch 32/200\n",
      " - 0s - loss: 537.4960\n",
      "Epoch 33/200\n",
      " - 0s - loss: 534.6535\n",
      "Epoch 34/200\n",
      " - 0s - loss: 537.1642\n",
      "Epoch 35/200\n",
      " - 0s - loss: 539.6683\n",
      "Epoch 36/200\n",
      " - 0s - loss: 536.0823\n",
      "Epoch 37/200\n",
      " - 0s - loss: 540.0276\n",
      "Epoch 38/200\n",
      " - 0s - loss: 539.4738\n",
      "Epoch 39/200\n",
      " - 0s - loss: 539.3580\n",
      "Epoch 40/200\n",
      " - 0s - loss: 542.1772\n",
      "Epoch 41/200\n",
      " - 0s - loss: 539.9484\n",
      "Epoch 42/200\n",
      " - 0s - loss: 538.3231\n",
      "Epoch 43/200\n",
      " - 0s - loss: 541.8063\n",
      "Epoch 44/200\n",
      " - 0s - loss: 539.3598\n",
      "Epoch 45/200\n",
      " - 0s - loss: 538.0465\n",
      "Epoch 46/200\n",
      " - 0s - loss: 537.2788\n",
      "Epoch 47/200\n",
      " - 0s - loss: 536.7755\n",
      "Epoch 48/200\n",
      " - 0s - loss: 540.4261\n",
      "Epoch 49/200\n",
      " - 0s - loss: 536.7115\n",
      "Epoch 50/200\n",
      " - 0s - loss: 536.4819\n",
      "Epoch 51/200\n",
      " - 0s - loss: 542.3779\n",
      "Epoch 52/200\n",
      " - 0s - loss: 546.2316\n",
      "Epoch 53/200\n",
      " - 0s - loss: 539.9679\n",
      "Epoch 54/200\n",
      " - 0s - loss: 540.4018\n",
      "Epoch 55/200\n",
      " - 0s - loss: 536.3313\n",
      "Epoch 56/200\n",
      " - 0s - loss: 542.5809\n",
      "Epoch 57/200\n",
      " - 0s - loss: 537.9362\n",
      "Epoch 58/200\n",
      " - 0s - loss: 538.3734\n",
      "Epoch 59/200\n",
      " - 0s - loss: 561.6231\n",
      "Epoch 60/200\n",
      " - 0s - loss: 547.0903\n",
      "Epoch 61/200\n",
      " - 0s - loss: 538.1569\n",
      "Epoch 62/200\n",
      " - 0s - loss: 541.4862\n",
      "Epoch 63/200\n",
      " - 0s - loss: 538.8305\n",
      "Epoch 64/200\n",
      " - 0s - loss: 544.9403\n",
      "Epoch 65/200\n",
      " - 0s - loss: 537.6357\n",
      "Epoch 66/200\n",
      " - 0s - loss: 539.4866\n",
      "Epoch 67/200\n",
      " - 0s - loss: 537.0386\n",
      "Epoch 68/200\n",
      " - 0s - loss: 536.0417\n",
      "Epoch 69/200\n",
      " - 0s - loss: 545.1778\n",
      "Epoch 70/200\n",
      " - 0s - loss: 542.6547\n",
      "Epoch 71/200\n",
      " - 0s - loss: 546.3081\n",
      "Epoch 72/200\n",
      " - 0s - loss: 541.5160\n",
      "Epoch 73/200\n",
      " - 0s - loss: 542.9855\n",
      "Epoch 74/200\n",
      " - 0s - loss: 537.3308\n",
      "Epoch 75/200\n",
      " - 0s - loss: 546.4477\n",
      "Epoch 76/200\n",
      " - 0s - loss: 537.7168\n",
      "Epoch 77/200\n",
      " - 0s - loss: 539.8992\n",
      "Epoch 78/200\n",
      " - 0s - loss: 538.1861\n",
      "Epoch 79/200\n",
      " - 0s - loss: 542.8876\n",
      "Epoch 80/200\n",
      " - 0s - loss: 541.0846\n",
      "Epoch 81/200\n",
      " - 0s - loss: 536.3172\n",
      "Epoch 82/200\n",
      " - 0s - loss: 549.9167\n",
      "Epoch 83/200\n",
      " - 0s - loss: 548.3971\n",
      "Epoch 84/200\n",
      " - 0s - loss: 536.9037\n",
      "Epoch 85/200\n",
      " - 0s - loss: 538.7075\n",
      "Epoch 86/200\n",
      " - 0s - loss: 536.2626\n",
      "Epoch 87/200\n",
      " - 0s - loss: 536.4076\n",
      "Epoch 88/200\n",
      " - 0s - loss: 537.6726\n",
      "Epoch 89/200\n",
      " - 0s - loss: 540.0180\n",
      "Epoch 90/200\n",
      " - 0s - loss: 543.8209\n",
      "Epoch 91/200\n",
      " - 0s - loss: 541.1893\n",
      "Epoch 92/200\n",
      " - 0s - loss: 568.2188\n",
      "Epoch 93/200\n",
      " - 0s - loss: 548.9810\n",
      "Epoch 94/200\n",
      " - 0s - loss: 542.5235\n",
      "Epoch 95/200\n",
      " - 0s - loss: 543.0383\n",
      "Epoch 96/200\n",
      " - 0s - loss: 538.5758\n",
      "Epoch 97/200\n",
      " - 0s - loss: 539.1660\n",
      "Epoch 98/200\n",
      " - 0s - loss: 540.1002\n",
      "Epoch 99/200\n",
      " - 0s - loss: 540.3953\n",
      "Epoch 100/200\n",
      " - 0s - loss: 549.4317\n",
      "Epoch 101/200\n",
      " - 0s - loss: 537.7247\n",
      "Epoch 102/200\n",
      " - 0s - loss: 547.1910\n",
      "Epoch 103/200\n",
      " - 0s - loss: 545.3075\n",
      "Epoch 104/200\n",
      " - 0s - loss: 549.6519\n",
      "Epoch 105/200\n",
      " - 0s - loss: 542.6862\n",
      "Epoch 106/200\n",
      " - 0s - loss: 534.2050\n",
      "Epoch 107/200\n",
      " - 0s - loss: 542.8644\n",
      "Epoch 108/200\n",
      " - 0s - loss: 543.6982\n",
      "Epoch 109/200\n",
      " - 0s - loss: 540.5548\n",
      "Epoch 110/200\n",
      " - 0s - loss: 540.5345\n",
      "Epoch 111/200\n",
      " - 0s - loss: 552.9719\n",
      "Epoch 112/200\n",
      " - 0s - loss: 543.0326\n",
      "Epoch 113/200\n",
      " - 0s - loss: 537.7108\n",
      "Epoch 114/200\n",
      " - 0s - loss: 537.7052\n",
      "Epoch 115/200\n",
      " - 0s - loss: 539.4939\n",
      "Epoch 116/200\n",
      " - 0s - loss: 540.2237\n",
      "Epoch 117/200\n",
      " - 0s - loss: 545.9265\n",
      "Epoch 118/200\n",
      " - 0s - loss: 541.8699\n",
      "Epoch 119/200\n",
      " - 0s - loss: 542.5672\n",
      "Epoch 120/200\n",
      " - 0s - loss: 545.0171\n",
      "Epoch 121/200\n",
      " - 0s - loss: 537.4588\n",
      "Epoch 122/200\n",
      " - 0s - loss: 548.9766\n",
      "Epoch 123/200\n",
      " - 0s - loss: 548.5604\n",
      "Epoch 124/200\n",
      " - 0s - loss: 535.4045\n",
      "Epoch 125/200\n",
      " - 0s - loss: 538.5230\n",
      "Epoch 126/200\n",
      " - 0s - loss: 547.3527\n",
      "Epoch 127/200\n",
      " - 0s - loss: 544.3089\n",
      "Epoch 128/200\n",
      " - 0s - loss: 539.3182\n",
      "Epoch 129/200\n",
      " - 0s - loss: 540.1817\n",
      "Epoch 130/200\n",
      " - 0s - loss: 536.1972\n",
      "Epoch 131/200\n",
      " - 0s - loss: 540.7578\n",
      "Epoch 132/200\n",
      " - 0s - loss: 545.8194\n",
      "Epoch 133/200\n",
      " - 0s - loss: 538.8801\n",
      "Epoch 134/200\n",
      " - 0s - loss: 549.3756\n",
      "Epoch 135/200\n",
      " - 0s - loss: 540.3169\n",
      "Epoch 136/200\n",
      " - 0s - loss: 538.7909\n",
      "Epoch 137/200\n",
      " - 0s - loss: 544.9529\n",
      "Epoch 138/200\n",
      " - 0s - loss: 537.6565\n",
      "Epoch 139/200\n",
      " - 0s - loss: 554.5286\n",
      "Epoch 140/200\n",
      " - 0s - loss: 542.1460\n",
      "Epoch 141/200\n",
      " - 0s - loss: 537.5476\n",
      "Epoch 142/200\n",
      " - 0s - loss: 540.1771\n",
      "Epoch 143/200\n",
      " - 0s - loss: 541.6512\n",
      "Epoch 144/200\n",
      " - 0s - loss: 537.7383\n",
      "Epoch 145/200\n",
      " - 0s - loss: 542.1262\n",
      "Epoch 146/200\n",
      " - 0s - loss: 540.4136\n",
      "Epoch 147/200\n",
      " - 0s - loss: 544.4591\n",
      "Epoch 148/200\n",
      " - 0s - loss: 537.3716\n",
      "Epoch 149/200\n",
      " - 0s - loss: 544.0194\n",
      "Epoch 150/200\n",
      " - 0s - loss: 538.1350\n",
      "Epoch 151/200\n",
      " - 0s - loss: 536.2982\n",
      "Epoch 152/200\n",
      " - 0s - loss: 544.0543\n",
      "Epoch 153/200\n",
      " - 0s - loss: 545.5469\n",
      "Epoch 154/200\n",
      " - 0s - loss: 536.1510\n",
      "Epoch 155/200\n",
      " - 0s - loss: 542.3351\n",
      "Epoch 156/200\n",
      " - 0s - loss: 540.9705\n",
      "Epoch 157/200\n",
      " - 0s - loss: 539.6946\n",
      "Epoch 158/200\n",
      " - 0s - loss: 537.1091\n",
      "Epoch 159/200\n",
      " - 0s - loss: 540.6777\n",
      "Epoch 160/200\n",
      " - 0s - loss: 541.6082\n",
      "Epoch 161/200\n",
      " - 0s - loss: 539.2438\n",
      "Epoch 162/200\n",
      " - 0s - loss: 547.8932\n",
      "Epoch 163/200\n",
      " - 0s - loss: 539.4054\n",
      "Epoch 164/200\n",
      " - 0s - loss: 537.7426\n",
      "Epoch 165/200\n",
      " - 0s - loss: 537.3044\n",
      "Epoch 166/200\n",
      " - 0s - loss: 534.7475\n",
      "Epoch 167/200\n",
      " - 0s - loss: 536.4820\n",
      "Epoch 168/200\n",
      " - 0s - loss: 539.6820\n",
      "Epoch 169/200\n",
      " - 0s - loss: 557.5991\n",
      "Epoch 170/200\n",
      " - 0s - loss: 536.6378\n",
      "Epoch 171/200\n",
      " - 0s - loss: 538.7990\n",
      "Epoch 172/200\n",
      " - 0s - loss: 540.6041\n",
      "Epoch 173/200\n",
      " - 0s - loss: 544.4173\n",
      "Epoch 174/200\n",
      " - 0s - loss: 540.9173\n",
      "Epoch 175/200\n",
      " - 0s - loss: 535.2418\n",
      "Epoch 176/200\n",
      " - 0s - loss: 536.4964\n",
      "Epoch 177/200\n",
      " - 0s - loss: 535.8042\n",
      "Epoch 178/200\n",
      " - 0s - loss: 538.5640\n",
      "Epoch 179/200\n",
      " - 0s - loss: 537.6051\n",
      "Epoch 180/200\n",
      " - 0s - loss: 541.0862\n",
      "Epoch 181/200\n",
      " - 0s - loss: 537.4152\n",
      "Epoch 182/200\n",
      " - 0s - loss: 536.8747\n",
      "Epoch 183/200\n",
      " - 0s - loss: 534.5527\n",
      "Epoch 184/200\n",
      " - 0s - loss: 541.6492\n",
      "Epoch 185/200\n",
      " - 0s - loss: 541.5084\n",
      "Epoch 186/200\n",
      " - 0s - loss: 535.1970\n",
      "Epoch 187/200\n",
      " - 0s - loss: 536.0068\n",
      "Epoch 188/200\n",
      " - 0s - loss: 555.4404\n",
      "Epoch 189/200\n",
      " - 0s - loss: 540.0983\n",
      "Epoch 190/200\n",
      " - 0s - loss: 539.7484\n",
      "Epoch 191/200\n",
      " - 0s - loss: 542.2553\n",
      "Epoch 192/200\n",
      " - 0s - loss: 535.7624\n",
      "Epoch 193/200\n",
      " - 0s - loss: 536.1392\n",
      "Epoch 194/200\n",
      " - 0s - loss: 541.6048\n",
      "Epoch 195/200\n",
      " - 0s - loss: 546.5330\n",
      "Epoch 196/200\n",
      " - 0s - loss: 552.0680\n",
      "Epoch 197/200\n",
      " - 0s - loss: 537.9907\n",
      "Epoch 198/200\n",
      " - 0s - loss: 534.6339\n",
      "Epoch 199/200\n",
      " - 0s - loss: 539.9630\n",
      "Epoch 200/200\n",
      " - 0s - loss: 540.3565\n"
     ]
    },
    {
     "data": {
      "text/plain": [
       "<keras.callbacks.History at 0xb459cfd68>"
      ]
     },
     "execution_count": 8,
     "metadata": {},
     "output_type": "execute_result"
    }
   ],
   "source": [
    "# create and fit Multilayer Perception model\n",
    "model = Sequential()\n",
    "model.add(Dense(8, input_dim=look_back, activation='relu'))\n",
    "model.add(Dense(1))\n",
    "model.compile(loss='mean_squared_error', optimizer='adam')\n",
    "model.fit(trainX, trainY, nb_epoch=200, batch_size=2, verbose=2)\n"
   ]
  },
  {
   "cell_type": "code",
   "execution_count": 9,
   "metadata": {},
   "outputs": [
    {
     "name": "stdout",
     "output_type": "stream",
     "text": [
      "Train Score: 531.04 MSE (23.04 RMSE)\n",
      "Test Score: 2352.41 MSE (48.50 RMSE)\n"
     ]
    }
   ],
   "source": [
    "# Estimate model performance\n",
    "trainScore = model.evaluate(trainX, trainY, verbose=0)\n",
    "print('Train Score: %.2f MSE (%.2f RMSE)' % (trainScore, math.sqrt(trainScore)))\n",
    "testScore = model.evaluate(testX, testY, verbose=0)\n",
    "print('Test Score: %.2f MSE (%.2f RMSE)' % (testScore, math.sqrt(testScore)))\n"
   ]
  },
  {
   "cell_type": "code",
   "execution_count": 10,
   "metadata": {},
   "outputs": [
    {
     "data": {
      "image/png": "[encoded data removed]",
      "text/plain": [
       "<Figure size 432x288 with 1 Axes>"
      ]
     },
     "metadata": {
      "needs_background": "light"
     },
     "output_type": "display_data"
    }
   ],
   "source": [
    "# generate predictions for training\n",
    "trainPredict = model.predict(trainX)\n",
    "testPredict = model.predict(testX)\n",
    "# shift train predictions for plotting\n",
    "trainPredictPlot = numpy.empty_like(dataset)\n",
    "trainPredictPlot[:,:] = numpy.nan\n",
    "trainPredictPlot[look_back:len(trainPredict)+look_back, :] = trainPredict\n",
    "\n",
    "# shift test predictions for plotting\n",
    "testPredictPlot = numpy.empty_like(dataset)\n",
    "testPredictPlot[:,:] = numpy.nan\n",
    "testPredictPlot[len(trainPredict)+(look_back*2)+1:len(dataset)-1,:] = testPredict\n",
    "# plot baseline and predictions\n",
    "plt.plot(dataset)\n",
    "plt.plot(trainPredictPlot)\n",
    "plt.plot(testPredictPlot)\n",
    "plt.show()\n"
   ]
  },
  {
   "cell_type": "code",
   "execution_count": 11,
   "metadata": {},
   "outputs": [],
   "source": [
    "import numpy\n",
    "import matplotlib.pyplot as plt\n",
    "import pandas\n",
    "import math\n",
    "from keras.models import Sequential\n",
    "from keras.layers import Dense"
   ]
  },
  {
   "cell_type": "code",
   "execution_count": 12,
   "metadata": {},
   "outputs": [],
   "source": [
    "dataframe = pandas.read_csv('Downloads/international_airline.csv', usecols = [1], engine='python', skipfooter=3)\n",
    "dataset = dataframe.values\n",
    "dataset = dataset.astype('float32')\n"
   ]
  },
  {
   "cell_type": "code",
   "execution_count": 13,
   "metadata": {},
   "outputs": [
    {
     "name": "stdout",
     "output_type": "stream",
     "text": [
      "96 48\n"
     ]
    }
   ],
   "source": [
    "# split into train and test sets\n",
    "train_size = int(len(dataset) * 0.67)\n",
    "test_size = len(dataset) - train_size\n",
    "train, test = dataset[0:train_size,:], dataset[train_size:len(dataset),:]\n",
    "print(len(train), len(test))\n"
   ]
  },
  {
   "cell_type": "code",
   "execution_count": 14,
   "metadata": {},
   "outputs": [],
   "source": [
    "# convert an array of values into a dataset matrix\n",
    "def create_dataset(dataset, look_back=1):\n",
    "    dataX, dataY = [], []\n",
    "    for i in range(len(dataset)-look_back-1):\n",
    "        a = dataset[i:(i+look_back), 0]\n",
    "        dataX.append(a) \n",
    "        dataY.append(dataset[i + look_back, 0])\n",
    "    return numpy.array(dataX), numpy.array(dataY)"
   ]
  },
  {
   "cell_type": "code",
   "execution_count": 15,
   "metadata": {},
   "outputs": [],
   "source": [
    "# reshaoe into X= t, y=t+1\n",
    "look_back = 1\n",
    "trainX, trainY = create_dataset(train, look_back)\n",
    "testX, testY = create_dataset(test, look_back)\n"
   ]
  },
  {
   "cell_type": "code",
   "execution_count": 16,
   "metadata": {},
   "outputs": [
    {
     "name": "stderr",
     "output_type": "stream",
     "text": [
      "/Users/syem/anaconda3/lib/python3.7/site-packages/ipykernel_launcher.py:6: UserWarning: The `nb_epoch` argument in `fit` has been renamed `epochs`.\n",
      "  \n"
     ]
    },
    {
     "name": "stdout",
     "output_type": "stream",
     "text": [
      "Epoch 1/200\n",
      " - 2s - loss: 153992.3551\n",
      "Epoch 2/200\n",
      " - 0s - loss: 134842.7209\n",
      "Epoch 3/200\n",
      " - 0s - loss: 119729.0993\n",
      "Epoch 4/200\n",
      " - 0s - loss: 107220.8925\n",
      "Epoch 5/200\n",
      " - 0s - loss: 97186.1961\n",
      "Epoch 6/200\n",
      " - 0s - loss: 88692.3055\n",
      "Epoch 7/200\n",
      " - 0s - loss: 81348.8587\n",
      "Epoch 8/200\n",
      " - 0s - loss: 74777.5784\n",
      "Epoch 9/200\n",
      " - 0s - loss: 68660.1493\n",
      "Epoch 10/200\n",
      " - 0s - loss: 62684.0968\n",
      "Epoch 11/200\n",
      " - 0s - loss: 56677.7080\n",
      "Epoch 12/200\n",
      " - 0s - loss: 50303.8968\n",
      "Epoch 13/200\n",
      " - 0s - loss: 43750.8750\n",
      "Epoch 14/200\n",
      " - 0s - loss: 37018.4907\n",
      "Epoch 15/200\n",
      " - 0s - loss: 30418.5980\n",
      "Epoch 16/200\n",
      " - 0s - loss: 23977.8851\n",
      "Epoch 17/200\n",
      " - 0s - loss: 18256.2711\n",
      "Epoch 18/200\n",
      " - 0s - loss: 13293.1662\n",
      "Epoch 19/200\n",
      " - 0s - loss: 9240.3204\n",
      "Epoch 20/200\n",
      " - 0s - loss: 6200.1804\n",
      "Epoch 21/200\n",
      " - 0s - loss: 4011.7766\n",
      "Epoch 22/200\n",
      " - 0s - loss: 2555.0222\n",
      "Epoch 23/200\n",
      " - 0s - loss: 1664.8091\n",
      "Epoch 24/200\n",
      " - 0s - loss: 1111.7681\n",
      "Epoch 25/200\n",
      " - 0s - loss: 830.0441\n",
      "Epoch 26/200\n",
      " - 0s - loss: 672.2605\n",
      "Epoch 27/200\n",
      " - 0s - loss: 602.6096\n",
      "Epoch 28/200\n",
      " - 0s - loss: 562.2513\n",
      "Epoch 29/200\n",
      " - 0s - loss: 546.2051\n",
      "Epoch 30/200\n",
      " - 0s - loss: 538.3758\n",
      "Epoch 31/200\n",
      " - 0s - loss: 538.8304\n",
      "Epoch 32/200\n",
      " - 0s - loss: 535.6072\n",
      "Epoch 33/200\n",
      " - 0s - loss: 534.8502\n",
      "Epoch 34/200\n",
      " - 0s - loss: 536.9536\n",
      "Epoch 35/200\n",
      " - 0s - loss: 535.2586\n",
      "Epoch 36/200\n",
      " - 0s - loss: 536.2866\n",
      "Epoch 37/200\n",
      " - 0s - loss: 535.5577\n",
      "Epoch 38/200\n",
      " - 0s - loss: 535.1792\n",
      "Epoch 39/200\n",
      " - 0s - loss: 535.0193\n",
      "Epoch 40/200\n",
      " - 0s - loss: 534.9062\n",
      "Epoch 41/200\n",
      " - 0s - loss: 535.9684\n",
      "Epoch 42/200\n",
      " - 0s - loss: 538.9221\n",
      "Epoch 43/200\n",
      " - 0s - loss: 535.5530\n",
      "Epoch 44/200\n",
      " - 0s - loss: 537.0554\n",
      "Epoch 45/200\n",
      " - 0s - loss: 536.9679\n",
      "Epoch 46/200\n",
      " - 0s - loss: 535.9563\n",
      "Epoch 47/200\n",
      " - 0s - loss: 535.7407\n",
      "Epoch 48/200\n",
      " - 0s - loss: 536.3015\n",
      "Epoch 49/200\n",
      " - 0s - loss: 537.9258\n",
      "Epoch 50/200\n",
      " - 0s - loss: 537.3928\n",
      "Epoch 51/200\n",
      " - 0s - loss: 536.5986\n",
      "Epoch 52/200\n",
      " - 0s - loss: 538.3651\n",
      "Epoch 53/200\n",
      " - 0s - loss: 536.7280\n",
      "Epoch 54/200\n",
      " - 0s - loss: 535.8266\n",
      "Epoch 55/200\n",
      " - 0s - loss: 538.9235\n",
      "Epoch 56/200\n",
      " - 0s - loss: 534.7940\n",
      "Epoch 57/200\n",
      " - 0s - loss: 538.3155\n",
      "Epoch 58/200\n",
      " - 0s - loss: 536.9603\n",
      "Epoch 59/200\n",
      " - 0s - loss: 536.9423\n",
      "Epoch 60/200\n",
      " - 0s - loss: 536.6618\n",
      "Epoch 61/200\n",
      " - 0s - loss: 541.3246\n",
      "Epoch 62/200\n",
      " - 0s - loss: 537.4001\n",
      "Epoch 63/200\n",
      " - 0s - loss: 545.5917\n",
      "Epoch 64/200\n",
      " - 0s - loss: 538.2430\n",
      "Epoch 65/200\n",
      " - 0s - loss: 536.6158\n",
      "Epoch 66/200\n",
      " - 0s - loss: 538.7296\n",
      "Epoch 67/200\n",
      " - 0s - loss: 537.9488\n",
      "Epoch 68/200\n",
      " - 0s - loss: 537.3464\n",
      "Epoch 69/200\n",
      " - 0s - loss: 542.3173\n",
      "Epoch 70/200\n",
      " - 0s - loss: 535.9075\n",
      "Epoch 71/200\n",
      " - 0s - loss: 538.2547\n",
      "Epoch 72/200\n",
      " - 0s - loss: 539.3328\n",
      "Epoch 73/200\n",
      " - 0s - loss: 537.8336\n",
      "Epoch 74/200\n",
      " - 0s - loss: 550.7277\n",
      "Epoch 75/200\n",
      " - 0s - loss: 537.4502\n",
      "Epoch 76/200\n",
      " - 0s - loss: 539.2108\n",
      "Epoch 77/200\n",
      " - 0s - loss: 536.9673\n",
      "Epoch 78/200\n",
      " - 0s - loss: 539.7678\n",
      "Epoch 79/200\n",
      " - 0s - loss: 539.7205\n",
      "Epoch 80/200\n",
      " - 0s - loss: 539.5073\n",
      "Epoch 81/200\n",
      " - 0s - loss: 539.2116\n",
      "Epoch 82/200\n",
      " - 0s - loss: 536.0981\n",
      "Epoch 83/200\n",
      " - 0s - loss: 536.2701\n",
      "Epoch 84/200\n",
      " - 0s - loss: 537.4491\n",
      "Epoch 85/200\n",
      " - 0s - loss: 540.4738\n",
      "Epoch 86/200\n",
      " - 0s - loss: 536.5947\n",
      "Epoch 87/200\n",
      " - 0s - loss: 536.1516\n",
      "Epoch 88/200\n",
      " - 0s - loss: 544.2801\n",
      "Epoch 89/200\n",
      " - 0s - loss: 541.5765\n",
      "Epoch 90/200\n",
      " - 0s - loss: 540.0285\n",
      "Epoch 91/200\n",
      " - 0s - loss: 543.2903\n",
      "Epoch 92/200\n",
      " - 0s - loss: 546.2343\n",
      "Epoch 93/200\n",
      " - 0s - loss: 542.6418\n",
      "Epoch 94/200\n",
      " - 0s - loss: 540.3849\n",
      "Epoch 95/200\n",
      " - 0s - loss: 537.9675\n",
      "Epoch 96/200\n",
      " - 0s - loss: 541.9021\n",
      "Epoch 97/200\n",
      " - 0s - loss: 541.5206\n",
      "Epoch 98/200\n",
      " - 0s - loss: 538.7084\n",
      "Epoch 99/200\n",
      " - 0s - loss: 536.2753\n",
      "Epoch 100/200\n",
      " - 0s - loss: 537.9623\n",
      "Epoch 101/200\n",
      " - 0s - loss: 536.9197\n",
      "Epoch 102/200\n",
      " - 0s - loss: 539.9462\n",
      "Epoch 103/200\n",
      " - 0s - loss: 540.6439\n",
      "Epoch 104/200\n",
      " - 0s - loss: 541.8375\n",
      "Epoch 105/200\n",
      " - 0s - loss: 539.6975\n",
      "Epoch 106/200\n",
      " - 0s - loss: 545.5948\n",
      "Epoch 107/200\n",
      " - 0s - loss: 539.6451\n",
      "Epoch 108/200\n",
      " - 0s - loss: 538.2827\n",
      "Epoch 109/200\n",
      " - 0s - loss: 538.9309\n",
      "Epoch 110/200\n",
      " - 0s - loss: 541.0663\n",
      "Epoch 111/200\n",
      " - 0s - loss: 546.7460\n",
      "Epoch 112/200\n",
      " - 0s - loss: 542.9622\n",
      "Epoch 113/200\n",
      " - 0s - loss: 537.2275\n",
      "Epoch 114/200\n",
      " - 0s - loss: 545.8377\n",
      "Epoch 115/200\n",
      " - 0s - loss: 549.1050\n",
      "Epoch 116/200\n",
      " - 0s - loss: 534.6439\n",
      "Epoch 117/200\n",
      " - 0s - loss: 541.1092\n",
      "Epoch 118/200\n",
      " - 0s - loss: 541.4806\n",
      "Epoch 119/200\n",
      " - 0s - loss: 538.9031\n",
      "Epoch 120/200\n",
      " - 0s - loss: 533.0779\n",
      "Epoch 121/200\n",
      " - 0s - loss: 547.3020\n",
      "Epoch 122/200\n",
      " - 0s - loss: 546.5310\n",
      "Epoch 123/200\n",
      " - 0s - loss: 537.1087\n",
      "Epoch 124/200\n",
      " - 0s - loss: 545.6573\n",
      "Epoch 125/200\n",
      " - 0s - loss: 538.3032\n",
      "Epoch 126/200\n",
      " - 0s - loss: 536.6409\n",
      "Epoch 127/200\n",
      " - 0s - loss: 545.9062\n",
      "Epoch 128/200\n",
      " - 0s - loss: 541.7310\n",
      "Epoch 129/200\n",
      " - 0s - loss: 535.5710\n",
      "Epoch 130/200\n",
      " - 0s - loss: 536.2410\n",
      "Epoch 131/200\n",
      " - 0s - loss: 539.1985\n",
      "Epoch 132/200\n",
      " - 0s - loss: 538.2933\n",
      "Epoch 133/200\n",
      " - 0s - loss: 538.9223\n",
      "Epoch 134/200\n",
      " - 0s - loss: 547.3760\n",
      "Epoch 135/200\n",
      " - 0s - loss: 543.8046\n",
      "Epoch 136/200\n",
      " - 0s - loss: 546.9293\n",
      "Epoch 137/200\n",
      " - 0s - loss: 538.5590\n",
      "Epoch 138/200\n",
      " - 0s - loss: 538.8296\n",
      "Epoch 139/200\n",
      " - 0s - loss: 536.9653\n",
      "Epoch 140/200\n",
      " - 0s - loss: 540.1714\n",
      "Epoch 141/200\n",
      " - 0s - loss: 539.6242\n",
      "Epoch 142/200\n",
      " - 0s - loss: 536.1428\n",
      "Epoch 143/200\n",
      " - 0s - loss: 541.0207\n",
      "Epoch 144/200\n",
      " - 0s - loss: 546.3509\n",
      "Epoch 145/200\n",
      " - 0s - loss: 533.7844\n",
      "Epoch 146/200\n",
      " - 0s - loss: 535.3757\n",
      "Epoch 147/200\n",
      " - 0s - loss: 536.8072\n",
      "Epoch 148/200\n",
      " - 0s - loss: 535.6775\n",
      "Epoch 149/200\n",
      " - 0s - loss: 543.4997\n",
      "Epoch 150/200\n",
      " - 0s - loss: 540.9773\n",
      "Epoch 151/200\n",
      " - 0s - loss: 542.6877\n",
      "Epoch 152/200\n",
      " - 0s - loss: 544.2762\n",
      "Epoch 153/200\n",
      " - 0s - loss: 547.4983\n",
      "Epoch 154/200\n",
      " - 0s - loss: 533.9549\n",
      "Epoch 155/200\n",
      " - 0s - loss: 544.4889\n",
      "Epoch 156/200\n",
      " - 0s - loss: 545.9862\n",
      "Epoch 157/200\n",
      " - 0s - loss: 546.8550\n",
      "Epoch 158/200\n",
      " - 0s - loss: 545.2471\n",
      "Epoch 159/200\n",
      " - 0s - loss: 548.5679\n",
      "Epoch 160/200\n",
      " - 0s - loss: 537.0073\n",
      "Epoch 161/200\n",
      " - 0s - loss: 539.6490\n",
      "Epoch 162/200\n",
      " - 0s - loss: 544.1453\n",
      "Epoch 163/200\n",
      " - 0s - loss: 537.9702\n",
      "Epoch 164/200\n",
      " - 0s - loss: 543.4911\n",
      "Epoch 165/200\n",
      " - 0s - loss: 535.5180\n",
      "Epoch 166/200\n",
      " - 0s - loss: 541.4698\n",
      "Epoch 167/200\n",
      " - 0s - loss: 538.6230\n",
      "Epoch 168/200\n",
      " - 0s - loss: 542.2358\n",
      "Epoch 169/200\n",
      " - 0s - loss: 541.1196\n",
      "Epoch 170/200\n",
      " - 0s - loss: 543.6347\n",
      "Epoch 171/200\n",
      " - 0s - loss: 547.1960\n",
      "Epoch 172/200\n",
      " - 0s - loss: 545.1056\n",
      "Epoch 173/200\n",
      " - 0s - loss: 530.2589\n",
      "Epoch 174/200\n",
      " - 0s - loss: 541.2947\n",
      "Epoch 175/200\n",
      " - 0s - loss: 550.0336\n",
      "Epoch 176/200\n",
      " - 0s - loss: 538.5834\n",
      "Epoch 177/200\n",
      " - 0s - loss: 539.3568\n",
      "Epoch 178/200\n",
      " - 0s - loss: 536.1946\n",
      "Epoch 179/200\n",
      " - 0s - loss: 535.1646\n",
      "Epoch 180/200\n",
      " - 0s - loss: 535.8186\n",
      "Epoch 181/200\n",
      " - 0s - loss: 540.8503\n",
      "Epoch 182/200\n",
      " - 0s - loss: 536.5139\n",
      "Epoch 183/200\n",
      " - 0s - loss: 537.2942\n",
      "Epoch 184/200\n",
      " - 0s - loss: 547.3510\n",
      "Epoch 185/200\n",
      " - 0s - loss: 543.4383\n",
      "Epoch 186/200\n",
      " - 0s - loss: 558.7631\n",
      "Epoch 187/200\n",
      " - 0s - loss: 549.3401\n",
      "Epoch 188/200\n",
      " - 0s - loss: 539.1815\n",
      "Epoch 189/200\n",
      " - 0s - loss: 541.6307\n",
      "Epoch 190/200\n",
      " - 0s - loss: 536.1631\n",
      "Epoch 191/200\n",
      " - 0s - loss: 541.3310\n",
      "Epoch 192/200\n",
      " - 0s - loss: 547.0896\n",
      "Epoch 193/200\n",
      " - 0s - loss: 544.1928\n",
      "Epoch 194/200\n",
      " - 0s - loss: 549.3846\n",
      "Epoch 195/200\n",
      " - 0s - loss: 541.0577\n",
      "Epoch 196/200\n",
      " - 0s - loss: 537.7115\n",
      "Epoch 197/200\n",
      " - 0s - loss: 531.6276\n",
      "Epoch 198/200\n",
      " - 0s - loss: 536.4093\n",
      "Epoch 199/200\n",
      " - 0s - loss: 540.1446\n",
      "Epoch 200/200\n",
      " - 0s - loss: 550.3866\n"
     ]
    },
    {
     "data": {
      "text/plain": [
       "<keras.callbacks.History at 0xb45f36630>"
      ]
     },
     "execution_count": 16,
     "metadata": {},
     "output_type": "execute_result"
    }
   ],
   "source": [
    "# create and fit Multilayer Perceptron model\n",
    "model = Sequential()\n",
    "model.add(Dense(8, input_dim = look_back, activation='relu'))\n",
    "model.add(Dense(1))\n",
    "model.compile(loss='mean_squared_error', optimizer='adam')\n",
    "model.fit(trainX, trainY, nb_epoch=200, batch_size=2, verbose=2)\n"
   ]
  },
  {
   "cell_type": "code",
   "execution_count": 19,
   "metadata": {},
   "outputs": [
    {
     "name": "stdout",
     "output_type": "stream",
     "text": [
      "Train Score: 532.55 MSE (23.08 RMSE)\n",
      "Test Score: 2358.09 MSE (48.56 RMSE)\n"
     ]
    }
   ],
   "source": [
    "# estimate model performance\n",
    "trainScore = model.evaluate(trainX, trainY, verbose=0)\n",
    "print('Train Score: %.2f MSE (%.2f RMSE)' % (trainScore, math.sqrt(trainScore)))\n",
    "testScore = model.evaluate(testX, testY, verbose = 0)\n",
    "print('Test Score: %.2f MSE (%.2f RMSE)' % (testScore, math.sqrt(testScore)))\n"
   ]
  },
  {
   "cell_type": "code",
   "execution_count": 21,
   "metadata": {},
   "outputs": [
    {
     "data": {
      "image/png": "[encoded data removed]",
      "text/plain": [
       "<Figure size 432x288 with 1 Axes>"
      ]
     },
     "metadata": {
      "needs_background": "light"
     },
     "output_type": "display_data"
    }
   ],
   "source": [
    "# generate predictions for trainning\n",
    "trainPredict = model.predict(trainX)\n",
    "testPredict = model.predict(testX)\n",
    "# shift train predictions for plotting\n",
    "trainPredictPlot = numpy.empty_like(dataset)\n",
    "trainPredictPlot[:,:] = numpy.nan\n",
    "trainPredictPlot[look_back:len(trainPredict)+look_back, :] = trainPredict\n",
    "# sfit test predictions for plotting\n",
    "testPredictPlot = numpy.empty_like(dataset)\n",
    "testPredictPlot[:,:] = numpy.nan\n",
    "testPredictPlot[len(trainPredict) + (look_back*2) + 1 : len(dataset)-1, : ] = testPredict\n",
    "#plot baseline and predictions\n",
    "plt.plot(dataset)\n",
    "plt.plot(trainPredictPlot)\n",
    "plt.plot(testPredictPlot)\n",
    "plt.show()\n"
   ]
  },
  {
   "cell_type": "code",
   "execution_count": 1,
   "metadata": {},
   "outputs": [
    {
     "name": "stderr",
     "output_type": "stream",
     "text": [
      "Using TensorFlow backend.\n"
     ]
    }
   ],
   "source": [
    "# Multilayer Perceptron to Predict International Airline Passengers (t+1, given t, t-1, t-2)\n",
    "import numpy\n",
    "import matplotlib.pyplot as plt\n",
    "import pandas\n",
    "import math\n",
    "from keras.models import Sequential\n",
    "from keras.layers import Dense"
   ]
  },
  {
   "cell_type": "code",
   "execution_count": 2,
   "metadata": {},
   "outputs": [],
   "source": [
    "# convert an array of values into a dataset matrix\n",
    "def create_dataset(dataset, look_back=1):\n",
    "    dataX, dataY = [], []\n",
    "    for i in range(len(dataset) - look_back - 1):\n",
    "        a = dataset[i:(i+look_back), 0]\n",
    "        dataX.append(a)\n",
    "        dataY.append(dataset[i + look_back, 0])\n",
    "    return numpy.array(dataX), numpy.array(dataY)\n",
    "\n",
    "dataframe = pandas.read_csv('Downloads/international_airline.csv', usecols=[1], engine='python', skipfooter=3)\n",
    "dataset = dataframe.values\n",
    "dataset = dataset.astype('float32')\n"
   ]
  },
  {
   "cell_type": "code",
   "execution_count": 3,
   "metadata": {},
   "outputs": [
    {
     "name": "stderr",
     "output_type": "stream",
     "text": [
      "WARNING: Logging before flag parsing goes to stderr.\n",
      "W1110 15:56:40.450339 140735902135168 deprecation_wrapper.py:119] From /Users/syem/anaconda3/lib/python3.7/site-packages/keras/backend/tensorflow_backend.py:66: The name tf.get_default_graph is deprecated. Please use tf.compat.v1.get_default_graph instead.\n",
      "\n",
      "W1110 15:56:40.490394 140735902135168 deprecation_wrapper.py:119] From /Users/syem/anaconda3/lib/python3.7/site-packages/keras/backend/tensorflow_backend.py:541: The name tf.placeholder is deprecated. Please use tf.compat.v1.placeholder instead.\n",
      "\n",
      "W1110 15:56:40.494129 140735902135168 deprecation_wrapper.py:119] From /Users/syem/anaconda3/lib/python3.7/site-packages/keras/backend/tensorflow_backend.py:4432: The name tf.random_uniform is deprecated. Please use tf.random.uniform instead.\n",
      "\n",
      "W1110 15:56:40.528574 140735902135168 deprecation_wrapper.py:119] From /Users/syem/anaconda3/lib/python3.7/site-packages/keras/optimizers.py:793: The name tf.train.Optimizer is deprecated. Please use tf.compat.v1.train.Optimizer instead.\n",
      "\n"
     ]
    },
    {
     "name": "stdout",
     "output_type": "stream",
     "text": [
      "96 48\n"
     ]
    },
    {
     "name": "stderr",
     "output_type": "stream",
     "text": [
      "/Users/syem/anaconda3/lib/python3.7/site-packages/ipykernel_launcher.py:15: UserWarning: The `nb_epoch` argument in `fit` has been renamed `epochs`.\n",
      "  from ipykernel import kernelapp as app\n",
      "W1110 15:56:40.743293 140735902135168 deprecation_wrapper.py:119] From /Users/syem/anaconda3/lib/python3.7/site-packages/keras/backend/tensorflow_backend.py:1033: The name tf.assign_add is deprecated. Please use tf.compat.v1.assign_add instead.\n",
      "\n",
      "W1110 15:56:40.876992 140735902135168 deprecation_wrapper.py:119] From /Users/syem/anaconda3/lib/python3.7/site-packages/keras/backend/tensorflow_backend.py:1020: The name tf.assign is deprecated. Please use tf.compat.v1.assign instead.\n",
      "\n"
     ]
    },
    {
     "name": "stdout",
     "output_type": "stream",
     "text": [
      "Epoch 1/200\n",
      " - 1s - loss: 25197.8580\n",
      "Epoch 2/200\n",
      " - 0s - loss: 6148.4061\n",
      "Epoch 3/200\n",
      " - 0s - loss: 5299.3854\n",
      "Epoch 4/200\n",
      " - 0s - loss: 5275.9215\n",
      "Epoch 5/200\n",
      " - 0s - loss: 5119.7891\n",
      "Epoch 6/200\n",
      " - 0s - loss: 5004.3150\n",
      "Epoch 7/200\n",
      " - 0s - loss: 5027.8569\n",
      "Epoch 8/200\n",
      " - 0s - loss: 4751.5650\n",
      "Epoch 9/200\n",
      " - 0s - loss: 4579.4671\n",
      "Epoch 10/200\n",
      " - 0s - loss: 4499.1238\n",
      "Epoch 11/200\n",
      " - 0s - loss: 4393.3933\n",
      "Epoch 12/200\n",
      " - 0s - loss: 4217.9234\n",
      "Epoch 13/200\n",
      " - 0s - loss: 4125.9642\n",
      "Epoch 14/200\n",
      " - 0s - loss: 3989.5782\n",
      "Epoch 15/200\n",
      " - 0s - loss: 3892.2335\n",
      "Epoch 16/200\n",
      " - 0s - loss: 3775.2427\n",
      "Epoch 17/200\n",
      " - 0s - loss: 3718.6004\n",
      "Epoch 18/200\n",
      " - 0s - loss: 3656.8146\n",
      "Epoch 19/200\n",
      " - 0s - loss: 3502.6592\n",
      "Epoch 20/200\n",
      " - 0s - loss: 3453.4738\n",
      "Epoch 21/200\n",
      " - 0s - loss: 3364.0727\n",
      "Epoch 22/200\n",
      " - 0s - loss: 3213.3903\n",
      "Epoch 23/200\n",
      " - 0s - loss: 3108.0464\n",
      "Epoch 24/200\n",
      " - 0s - loss: 3064.9117\n",
      "Epoch 25/200\n",
      " - 0s - loss: 2946.1881\n",
      "Epoch 26/200\n",
      " - 0s - loss: 2919.2302\n",
      "Epoch 27/200\n",
      " - 0s - loss: 2852.6527\n",
      "Epoch 28/200\n",
      " - 0s - loss: 2749.5891\n",
      "Epoch 29/200\n",
      " - 0s - loss: 2665.9079\n",
      "Epoch 30/200\n",
      " - 0s - loss: 2580.4529\n",
      "Epoch 31/200\n",
      " - 0s - loss: 2649.1947\n",
      "Epoch 32/200\n",
      " - 0s - loss: 2482.5356\n",
      "Epoch 33/200\n",
      " - 0s - loss: 2447.1679\n",
      "Epoch 34/200\n",
      " - 0s - loss: 2397.3751\n",
      "Epoch 35/200\n",
      " - 0s - loss: 2362.1081\n",
      "Epoch 36/200\n",
      " - 0s - loss: 2283.4201\n",
      "Epoch 37/200\n",
      " - 0s - loss: 2206.5879\n",
      "Epoch 38/200\n",
      " - 0s - loss: 2183.5946\n",
      "Epoch 39/200\n",
      " - 0s - loss: 2194.4986\n",
      "Epoch 40/200\n",
      " - 0s - loss: 2069.9222\n",
      "Epoch 41/200\n",
      " - 0s - loss: 2055.1214\n",
      "Epoch 42/200\n",
      " - 0s - loss: 1999.2160\n",
      "Epoch 43/200\n",
      " - 0s - loss: 1966.0391\n",
      "Epoch 44/200\n",
      " - 0s - loss: 1943.8872\n",
      "Epoch 45/200\n",
      " - 0s - loss: 1886.9460\n",
      "Epoch 46/200\n",
      " - 0s - loss: 1841.1092\n",
      "Epoch 47/200\n",
      " - 0s - loss: 1869.2984\n",
      "Epoch 48/200\n",
      " - 0s - loss: 1817.8208\n",
      "Epoch 49/200\n",
      " - 0s - loss: 1791.0700\n",
      "Epoch 50/200\n",
      " - 0s - loss: 1746.5619\n",
      "Epoch 51/200\n",
      " - 0s - loss: 1666.0170\n",
      "Epoch 52/200\n",
      " - 0s - loss: 1644.2252\n",
      "Epoch 53/200\n",
      " - 0s - loss: 1626.4725\n",
      "Epoch 54/200\n",
      " - 0s - loss: 1594.3637\n",
      "Epoch 55/200\n",
      " - 0s - loss: 1623.0862\n",
      "Epoch 56/200\n",
      " - 0s - loss: 1550.2519\n",
      "Epoch 57/200\n",
      " - 0s - loss: 1513.1313\n",
      "Epoch 58/200\n",
      " - 0s - loss: 1474.7143\n",
      "Epoch 59/200\n",
      " - 0s - loss: 1460.6647\n",
      "Epoch 60/200\n",
      " - 0s - loss: 1544.9473\n",
      "Epoch 61/200\n",
      " - 0s - loss: 1554.5630\n",
      "Epoch 62/200\n",
      " - 0s - loss: 1441.5227\n",
      "Epoch 63/200\n",
      " - 0s - loss: 1463.8496\n",
      "Epoch 64/200\n",
      " - 0s - loss: 1349.8694\n",
      "Epoch 65/200\n",
      " - 0s - loss: 1337.4528\n",
      "Epoch 66/200\n",
      " - 0s - loss: 1346.8588\n",
      "Epoch 67/200\n",
      " - 0s - loss: 1310.7814\n",
      "Epoch 68/200\n",
      " - 0s - loss: 1285.2727\n",
      "Epoch 69/200\n",
      " - 0s - loss: 1294.0366\n",
      "Epoch 70/200\n",
      " - 0s - loss: 1234.4611\n",
      "Epoch 71/200\n",
      " - 0s - loss: 1235.3662\n",
      "Epoch 72/200\n",
      " - 0s - loss: 1232.8909\n",
      "Epoch 73/200\n",
      " - 0s - loss: 1204.3776\n",
      "Epoch 74/200\n",
      " - 0s - loss: 1169.4404\n",
      "Epoch 75/200\n",
      " - 0s - loss: 1143.9762\n",
      "Epoch 76/200\n",
      " - 0s - loss: 1193.9557\n",
      "Epoch 77/200\n",
      " - 0s - loss: 1117.4657\n",
      "Epoch 78/200\n",
      " - 0s - loss: 1142.8066\n",
      "Epoch 79/200\n",
      " - 0s - loss: 1152.3971\n",
      "Epoch 80/200\n",
      " - 0s - loss: 1132.3318\n",
      "Epoch 81/200\n",
      " - 0s - loss: 1065.8720\n",
      "Epoch 82/200\n",
      " - 0s - loss: 1056.7703\n",
      "Epoch 83/200\n",
      " - 0s - loss: 1054.3260\n",
      "Epoch 84/200\n",
      " - 0s - loss: 1081.3921\n",
      "Epoch 85/200\n",
      " - 0s - loss: 1020.8856\n",
      "Epoch 86/200\n",
      " - 0s - loss: 995.8214\n",
      "Epoch 87/200\n",
      " - 0s - loss: 1069.3843\n",
      "Epoch 88/200\n",
      " - 0s - loss: 991.8055\n",
      "Epoch 89/200\n",
      " - 0s - loss: 995.9096\n",
      "Epoch 90/200\n",
      " - 0s - loss: 1002.8723\n",
      "Epoch 91/200\n",
      " - 0s - loss: 982.1457\n",
      "Epoch 92/200\n",
      " - 0s - loss: 962.3994\n",
      "Epoch 93/200\n",
      " - 0s - loss: 916.3110\n",
      "Epoch 94/200\n",
      " - 0s - loss: 936.0599\n",
      "Epoch 95/200\n",
      " - 0s - loss: 935.0980\n",
      "Epoch 96/200\n",
      " - 0s - loss: 896.6970\n",
      "Epoch 97/200\n",
      " - 0s - loss: 913.7735\n",
      "Epoch 98/200\n",
      " - 0s - loss: 900.7892\n",
      "Epoch 99/200\n",
      " - 0s - loss: 879.5887\n",
      "Epoch 100/200\n",
      " - 0s - loss: 853.5963\n",
      "Epoch 101/200\n",
      " - 0s - loss: 853.4565\n",
      "Epoch 102/200\n",
      " - 0s - loss: 838.8156\n",
      "Epoch 103/200\n",
      " - 0s - loss: 823.2319\n",
      "Epoch 104/200\n",
      " - 0s - loss: 860.6711\n",
      "Epoch 105/200\n",
      " - 0s - loss: 785.4164\n",
      "Epoch 106/200\n",
      " - 0s - loss: 802.2521\n",
      "Epoch 107/200\n",
      " - 0s - loss: 791.7133\n",
      "Epoch 108/200\n",
      " - 0s - loss: 782.4991\n",
      "Epoch 109/200\n",
      " - 0s - loss: 761.4553\n",
      "Epoch 110/200\n",
      " - 0s - loss: 774.5991\n",
      "Epoch 111/200\n",
      " - 0s - loss: 750.9104\n",
      "Epoch 112/200\n",
      " - 0s - loss: 852.0268\n",
      "Epoch 113/200\n",
      " - 0s - loss: 780.7797\n",
      "Epoch 114/200\n",
      " - 0s - loss: 755.1564\n",
      "Epoch 115/200\n",
      " - 0s - loss: 738.8278\n",
      "Epoch 116/200\n",
      " - 0s - loss: 723.2633\n",
      "Epoch 117/200\n",
      " - 0s - loss: 852.1701\n",
      "Epoch 118/200\n",
      " - 0s - loss: 720.6218\n",
      "Epoch 119/200\n",
      " - 0s - loss: 708.6011\n",
      "Epoch 120/200\n",
      " - 0s - loss: 738.9841\n",
      "Epoch 121/200\n",
      " - 0s - loss: 732.8805\n",
      "Epoch 122/200\n",
      " - 0s - loss: 744.5119\n",
      "Epoch 123/200\n",
      " - 0s - loss: 695.4286\n",
      "Epoch 124/200\n",
      " - 0s - loss: 673.3846\n",
      "Epoch 125/200\n",
      " - 0s - loss: 653.6655\n",
      "Epoch 126/200\n",
      " - 0s - loss: 662.1596\n",
      "Epoch 127/200\n",
      " - 0s - loss: 670.4640\n",
      "Epoch 128/200\n",
      " - 0s - loss: 632.7150\n",
      "Epoch 129/200\n",
      " - 0s - loss: 659.8681\n",
      "Epoch 130/200\n",
      " - 0s - loss: 668.2831\n",
      "Epoch 131/200\n",
      " - 0s - loss: 687.5635\n",
      "Epoch 132/200\n",
      " - 0s - loss: 628.7953\n",
      "Epoch 133/200\n",
      " - 0s - loss: 615.1826\n",
      "Epoch 134/200\n",
      " - 0s - loss: 667.0391\n",
      "Epoch 135/200\n",
      " - 0s - loss: 638.8627\n",
      "Epoch 136/200\n",
      " - 0s - loss: 629.9910\n",
      "Epoch 137/200\n",
      " - 0s - loss: 610.4846\n",
      "Epoch 138/200\n",
      " - 0s - loss: 595.9263\n",
      "Epoch 139/200\n",
      " - 0s - loss: 602.5622\n",
      "Epoch 140/200\n",
      " - 0s - loss: 687.2719\n",
      "Epoch 141/200\n",
      " - 0s - loss: 569.0613\n",
      "Epoch 142/200\n",
      " - 0s - loss: 575.9016\n",
      "Epoch 143/200\n",
      " - 0s - loss: 612.4797\n",
      "Epoch 144/200\n",
      " - 0s - loss: 578.8561\n",
      "Epoch 145/200\n",
      " - 0s - loss: 607.6154\n",
      "Epoch 146/200\n",
      " - 0s - loss: 591.5517\n",
      "Epoch 147/200\n",
      " - 0s - loss: 563.0499\n",
      "Epoch 148/200\n",
      " - 0s - loss: 557.6945\n",
      "Epoch 149/200\n",
      " - 0s - loss: 557.0923\n",
      "Epoch 150/200\n",
      " - 0s - loss: 563.8934\n",
      "Epoch 151/200\n",
      " - 0s - loss: 534.8162\n",
      "Epoch 152/200\n",
      " - 0s - loss: 573.8646\n",
      "Epoch 153/200\n",
      " - 0s - loss: 542.7490\n",
      "Epoch 154/200\n",
      " - 0s - loss: 551.3410\n",
      "Epoch 155/200\n",
      " - 0s - loss: 590.3327\n",
      "Epoch 156/200\n",
      " - 0s - loss: 552.6954\n",
      "Epoch 157/200\n",
      " - 0s - loss: 577.9592\n",
      "Epoch 158/200\n",
      " - 0s - loss: 563.0447\n",
      "Epoch 159/200\n",
      " - 0s - loss: 529.1983\n",
      "Epoch 160/200\n",
      " - 0s - loss: 564.2224\n",
      "Epoch 161/200\n",
      " - 0s - loss: 516.7658\n",
      "Epoch 162/200\n",
      " - 0s - loss: 525.1179\n",
      "Epoch 163/200\n",
      " - 0s - loss: 514.7400\n",
      "Epoch 164/200\n",
      " - 0s - loss: 501.1099\n",
      "Epoch 165/200\n",
      " - 0s - loss: 525.7506\n",
      "Epoch 166/200\n",
      " - 0s - loss: 502.4014\n",
      "Epoch 167/200\n",
      " - 0s - loss: 527.2675\n",
      "Epoch 168/200\n",
      " - 0s - loss: 509.3472\n",
      "Epoch 169/200\n",
      " - 0s - loss: 533.6390\n",
      "Epoch 170/200\n",
      " - 0s - loss: 497.1626\n",
      "Epoch 171/200\n",
      " - 0s - loss: 477.7350\n",
      "Epoch 172/200\n",
      " - 0s - loss: 483.1726\n",
      "Epoch 173/200\n",
      " - 0s - loss: 466.4023\n",
      "Epoch 174/200\n",
      " - 0s - loss: 489.4496\n",
      "Epoch 175/200\n",
      " - 0s - loss: 530.6163\n",
      "Epoch 176/200\n",
      " - 0s - loss: 491.4115\n",
      "Epoch 177/200\n",
      " - 0s - loss: 469.5758\n",
      "Epoch 178/200\n",
      " - 0s - loss: 511.1942\n",
      "Epoch 179/200\n",
      " - 0s - loss: 465.6739\n",
      "Epoch 180/200\n",
      " - 0s - loss: 468.7646\n",
      "Epoch 181/200\n",
      " - 0s - loss: 443.9254\n",
      "Epoch 182/200\n",
      " - 0s - loss: 494.6042\n",
      "Epoch 183/200\n",
      " - 0s - loss: 470.3512\n",
      "Epoch 184/200\n",
      " - 0s - loss: 476.1426\n",
      "Epoch 185/200\n",
      " - 0s - loss: 469.6932\n",
      "Epoch 186/200\n",
      " - 0s - loss: 452.8777\n",
      "Epoch 187/200\n",
      " - 0s - loss: 447.9239\n",
      "Epoch 188/200\n",
      " - 0s - loss: 510.6292\n",
      "Epoch 189/200\n",
      " - 0s - loss: 435.5972\n",
      "Epoch 190/200\n",
      " - 0s - loss: 524.9727\n",
      "Epoch 191/200\n",
      " - 0s - loss: 476.4460\n",
      "Epoch 192/200\n",
      " - 0s - loss: 478.4632\n",
      "Epoch 193/200\n",
      " - 0s - loss: 501.9565\n",
      "Epoch 194/200\n",
      " - 0s - loss: 467.6273\n",
      "Epoch 195/200\n",
      " - 0s - loss: 466.9617\n",
      "Epoch 196/200\n",
      " - 0s - loss: 479.3866\n",
      "Epoch 197/200\n",
      " - 0s - loss: 461.7736\n",
      "Epoch 198/200\n",
      " - 0s - loss: 514.9584\n",
      "Epoch 199/200\n",
      " - 0s - loss: 448.3495\n",
      "Epoch 200/200\n",
      " - 0s - loss: 522.1566\n",
      "Train Score: 483.96 MSE (22.00 RMSE)\n",
      "Test Score: 1661.75 MSE (40.76 RMSE)\n"
     ]
    }
   ],
   "source": [
    "# split into train and test sets\n",
    "train_size = int(len(dataset) * 0.67)\n",
    "test_size = len(dataset)-train_size\n",
    "train, test = dataset[0:train_size,:], dataset[train_size:len(dataset),:]\n",
    "print(len(train), len(test))\n",
    "# reshape the dataset\n",
    "look_back = 10\n",
    "trainX, trainY = create_dataset(train, look_back)\n",
    "testX, testY = create_dataset(test, look_back)\n",
    "# create and fit Multilayer Perceptron model\n",
    "model = Sequential()\n",
    "model.add(Dense(8, input_dim = look_back, activation='relu'))\n",
    "model.add(Dense(1))\n",
    "model.compile(loss='mean_squared_error', optimizer='adam')\n",
    "model.fit(trainX, trainY, nb_epoch = 200, batch_size=2, verbose=2)\n",
    "# Estimate the model performance\n",
    "trainScore = model.evaluate(trainX, trainY, verbose=0)\n",
    "print('Train Score: %.2f MSE (%.2f RMSE)' % (trainScore, math.sqrt(trainScore)))\n",
    "testScore = model.evaluate(testX, testY, verbose = 0)\n",
    "print('Test Score: %.2f MSE (%.2f RMSE)' % (testScore, math.sqrt(testScore)))\n",
    "\n"
   ]
  },
  {
   "cell_type": "code",
   "execution_count": null,
   "metadata": {},
   "outputs": [],
   "source": [
    "# generate predictions for training\n",
    "trainPredict = model.predict(trainX)\n",
    "testPredict = model.predict(testX)\n",
    "# shift train predictions for plotting\n",
    "trainPredictPlot = numpy.empty_like(dataset)\n",
    "trainPredictPlot[:,:] = numpy.nan\n",
    "trainPredictPlot[look_back:len(trainPredict)+look_back, :] = trainPredict\n",
    "\n",
    "# shift test predictions for plotting\n",
    "testPredictPlot = numpy.empty_like(dataset)\n",
    "testPredictPlot[:,:] = numpy.nan\n",
    "testPredictPlot[len(trainPredict)+(look_back*2)+1:len(dataset)-1, :] = testPredict\n",
    "# plot baseline and predictions\n",
    "plt.plot(dataset)\n",
    "plt.plot(trainPredictPlot)\n",
    "plt.plot(testPredictPlot)\n",
    "plt.show()\n"
   ]
  },
  {
   "cell_type": "code",
   "execution_count": 1,
   "metadata": {},
   "outputs": [
    {
     "name": "stderr",
     "output_type": "stream",
     "text": [
      "Using TensorFlow backend.\n"
     ]
    }
   ],
   "source": [
    "# CNN for the IMDB problem\n",
    "import numpy\n",
    "from keras.datasets import imdb\n",
    "from keras.models import Sequential\n",
    "from keras.layers import Dense\n",
    "from keras.layers import Flatten\n",
    "from keras.layers.convolutional import Convolution1D\n",
    "from keras.layers.convolutional import MaxPooling1D\n",
    "from keras.layers.embeddings import Embedding\n",
    "from keras.preprocessing import sequence"
   ]
  },
  {
   "cell_type": "code",
   "execution_count": 3,
   "metadata": {},
   "outputs": [
    {
     "name": "stderr",
     "output_type": "stream",
     "text": [
      "WARNING: Logging before flag parsing goes to stderr.\n",
      "W1111 15:33:32.391479 140735902135168 deprecation_wrapper.py:119] From /Users/syem/anaconda3/lib/python3.7/site-packages/keras/backend/tensorflow_backend.py:66: The name tf.get_default_graph is deprecated. Please use tf.compat.v1.get_default_graph instead.\n",
      "\n",
      "W1111 15:33:32.496683 140735902135168 deprecation_wrapper.py:119] From /Users/syem/anaconda3/lib/python3.7/site-packages/keras/backend/tensorflow_backend.py:541: The name tf.placeholder is deprecated. Please use tf.compat.v1.placeholder instead.\n",
      "\n",
      "W1111 15:33:32.523199 140735902135168 deprecation_wrapper.py:119] From /Users/syem/anaconda3/lib/python3.7/site-packages/keras/backend/tensorflow_backend.py:4432: The name tf.random_uniform is deprecated. Please use tf.random.uniform instead.\n",
      "\n",
      "/Users/syem/anaconda3/lib/python3.7/site-packages/ipykernel_launcher.py:8: UserWarning: Update your `Conv1D` call to the Keras 2 API: `Conv1D(activation=\"relu\", filters=32, kernel_size=3, padding=\"same\")`\n",
      "  \n",
      "/Users/syem/anaconda3/lib/python3.7/site-packages/ipykernel_launcher.py:9: UserWarning: Update your `MaxPooling1D` call to the Keras 2 API: `MaxPooling1D(pool_size=2)`\n",
      "  if __name__ == '__main__':\n",
      "W1111 15:33:32.592176 140735902135168 deprecation_wrapper.py:119] From /Users/syem/anaconda3/lib/python3.7/site-packages/keras/backend/tensorflow_backend.py:4267: The name tf.nn.max_pool is deprecated. Please use tf.nn.max_pool2d instead.\n",
      "\n",
      "W1111 15:33:32.663466 140735902135168 deprecation_wrapper.py:119] From /Users/syem/anaconda3/lib/python3.7/site-packages/keras/optimizers.py:793: The name tf.train.Optimizer is deprecated. Please use tf.compat.v1.train.Optimizer instead.\n",
      "\n",
      "W1111 15:33:32.698436 140735902135168 deprecation_wrapper.py:119] From /Users/syem/anaconda3/lib/python3.7/site-packages/keras/backend/tensorflow_backend.py:3657: The name tf.log is deprecated. Please use tf.math.log instead.\n",
      "\n",
      "W1111 15:33:32.705799 140735902135168 deprecation.py:323] From /Users/syem/anaconda3/lib/python3.7/site-packages/tensorflow/python/ops/nn_impl.py:180: add_dispatch_support.<locals>.wrapper (from tensorflow.python.ops.array_ops) is deprecated and will be removed in a future version.\n",
      "Instructions for updating:\n",
      "Use tf.where in 2.0, which has the same broadcast rule as np.where\n",
      "/Users/syem/anaconda3/lib/python3.7/site-packages/ipykernel_launcher.py:16: UserWarning: The `nb_epoch` argument in `fit` has been renamed `epochs`.\n",
      "  app.launch_new_instance()\n"
     ]
    },
    {
     "name": "stdout",
     "output_type": "stream",
     "text": [
      "Model: \"sequential_1\"\n",
      "_________________________________________________________________\n",
      "Layer (type)                 Output Shape              Param #   \n",
      "=================================================================\n",
      "embedding_1 (Embedding)      (None, 5000, 32)          160000    \n",
      "_________________________________________________________________\n",
      "conv1d_1 (Conv1D)            (None, 5000, 32)          3104      \n",
      "_________________________________________________________________\n",
      "max_pooling1d_1 (MaxPooling1 (None, 2500, 32)          0         \n",
      "_________________________________________________________________\n",
      "flatten_1 (Flatten)          (None, 80000)             0         \n",
      "_________________________________________________________________\n",
      "dense_1 (Dense)              (None, 250)               20000250  \n",
      "_________________________________________________________________\n",
      "dense_2 (Dense)              (None, 1)                 251       \n",
      "=================================================================\n",
      "Total params: 20,163,605\n",
      "Trainable params: 20,163,605\n",
      "Non-trainable params: 0\n",
      "_________________________________________________________________\n",
      "None\n"
     ]
    },
    {
     "name": "stderr",
     "output_type": "stream",
     "text": [
      "W1111 15:33:33.081034 140735902135168 deprecation_wrapper.py:119] From /Users/syem/anaconda3/lib/python3.7/site-packages/keras/backend/tensorflow_backend.py:1033: The name tf.assign_add is deprecated. Please use tf.compat.v1.assign_add instead.\n",
      "\n"
     ]
    },
    {
     "name": "stdout",
     "output_type": "stream",
     "text": [
      "Train on 25000 samples, validate on 25000 samples\n",
      "Epoch 1/2\n",
      "25000/25000 [==============================] - 11007s 440ms/step - loss: 0.5104 - acc: 0.7265 - val_loss: 0.2879 - val_acc: 0.8797\n",
      "Epoch 2/2\n",
      "25000/25000 [==============================] - 3926s 157ms/step - loss: 0.2301 - acc: 0.9100 - val_loss: 0.2685 - val_acc: 0.8898\n",
      "Acc: 88.98%\n"
     ]
    }
   ],
   "source": [
    "top_words = 5000\n",
    "(X_train, y_train),(X_test, y_test) = imdb.load_data(nb_words=top_words)\n",
    "max_words = 5000\n",
    "X_train = sequence.pad_sequences(X_train, maxlen=max_words)\n",
    "X_test = sequence.pad_sequences(X_test, maxlen=max_words)\n",
    "model = Sequential()\n",
    "model.add(Embedding(top_words, 32, input_length=max_words))\n",
    "model.add(Convolution1D(nb_filter=32, filter_length=3, border_mode='same', activation='relu'))\n",
    "model.add(MaxPooling1D(pool_length=2))\n",
    "model.add(Flatten())\n",
    "model.add(Dense(250, activation='relu'))\n",
    "model.add(Dense(1, activation='sigmoid'))\n",
    "model.compile(loss='binary_crossentropy', optimizer='adam', metrics=['accuracy'])\n",
    "print(model.summary())\n",
    "\n",
    "model.fit(X_train, y_train, validation_data=(X_test, y_test), nb_epoch=2, batch_size=128, verbose=1)\n",
    "scores = model.evaluate(X_test, y_test, verbose=0)\n",
    "print('Acc: %.2f%%' % (scores[1]*100))\n",
    "\n"
   ]
  },
  {
   "cell_type": "code",
   "execution_count": 1,
   "metadata": {},
   "outputs": [
    {
     "name": "stderr",
     "output_type": "stream",
     "text": [
      "Using TensorFlow backend.\n"
     ]
    }
   ],
   "source": [
    "# Standardize images across the dataset, mean=0, stdev=1\n",
    "from keras.datasets import mnist\n",
    "from keras.preprocessing.image import ImageDataGenerator\n",
    "from matplotlib import pyplot"
   ]
  },
  {
   "cell_type": "code",
   "execution_count": 2,
   "metadata": {},
   "outputs": [
    {
     "name": "stderr",
     "output_type": "stream",
     "text": [
      "/Users/syem/anaconda3/lib/python3.7/site-packages/keras_preprocessing/image/image_data_generator.py:940: UserWarning: Expected input to be images (as Numpy array) following the data format convention \"channels_last\" (channels on axis 3), i.e. expected either 1, 3 or 4 channels on axis 3. However, it was passed an array with shape (60000, 1, 28, 28) (28 channels).\n",
      "  ' channels).')\n",
      "/Users/syem/anaconda3/lib/python3.7/site-packages/keras_preprocessing/image/numpy_array_iterator.py:127: UserWarning: NumpyArrayIterator is set to use the data format convention \"channels_last\" (channels on axis 3), i.e. expected either 1, 3, or 4 channels on axis 3. However, it was passed an array with shape (60000, 1, 28, 28) (28 channels).\n",
      "  str(self.x.shape[channels_axis]) + ' channels).')\n"
     ]
    },
    {
     "data": {
      "image/png": "[encoded data removed]",
      "text/plain": [
       "<Figure size 432x288 with 1 Axes>"
      ]
     },
     "metadata": {
      "needs_background": "light"
     },
     "output_type": "display_data"
    },
    {
     "data": {
      "image/png": "[encoded data removed]",
      "text/plain": [
       "<Figure size 432x288 with 1 Axes>"
      ]
     },
     "metadata": {
      "needs_background": "light"
     },
     "output_type": "display_data"
    },
    {
     "data": {
      "image/png": "[encoded data removed]",
      "text/plain": [
       "<Figure size 432x288 with 1 Axes>"
      ]
     },
     "metadata": {
      "needs_background": "light"
     },
     "output_type": "display_data"
    },
    {
     "data": {
      "image/png": "[encoded data removed]",
      "text/plain": [
       "<Figure size 432x288 with 1 Axes>"
      ]
     },
     "metadata": {
      "needs_background": "light"
     },
     "output_type": "display_data"
    },
    {
     "data": {
      "image/png": "[encoded data removed]",
      "text/plain": [
       "<Figure size 432x288 with 1 Axes>"
      ]
     },
     "metadata": {
      "needs_background": "light"
     },
     "output_type": "display_data"
    },
    {
     "data": {
      "image/png": "[encoded data removed]",
      "text/plain": [
       "<Figure size 432x288 with 1 Axes>"
      ]
     },
     "metadata": {
      "needs_background": "light"
     },
     "output_type": "display_data"
    },
    {
     "data": {
      "image/png": "[encoded data removed]",
      "text/plain": [
       "<Figure size 432x288 with 1 Axes>"
      ]
     },
     "metadata": {
      "needs_background": "light"
     },
     "output_type": "display_data"
    },
    {
     "data": {
      "image/png": "[encoded data removed]",
      "text/plain": [
       "<Figure size 432x288 with 1 Axes>"
      ]
     },
     "metadata": {
      "needs_background": "light"
     },
     "output_type": "display_data"
    },
    {
     "data": {
      "image/png": "[encoded data removed]",
      "text/plain": [
       "<Figure size 432x288 with 1 Axes>"
      ]
     },
     "metadata": {
      "needs_background": "light"
     },
     "output_type": "display_data"
    }
   ],
   "source": [
    "(X_train, y_train),(X_test, y_test) = mnist.load_data()\n",
    "# reshape to be [samples][pixels][width][height]\n",
    "X_train = X_train.reshape(X_train.shape[0],1,28,28)\n",
    "X_test = X_test.reshape(X_test.shape[0],1,28,28)\n",
    "# convert int to float\n",
    "X_train = X_train.astype('float32')\n",
    "X_test = X_test.astype('float32')\n",
    "# define data prep\n",
    "datagen = ImageDataGenerator(featurewise_center=True, featurewise_std_normalization=True)\n",
    "# fit the parameters from data\n",
    "datagen.fit(X_train)\n",
    "for X_batch, y_batch in datagen.flow(X_train, y_train, batch_size=9):\n",
    "    for i in range(0,9):\n",
    "        pyplot.subplot(330 + 1 + i)\n",
    "        pyplot.imshow(X_batch[i].reshape(28,28), cmap=pyplot.get_cmap('gray'))\n",
    "        pyplot.show()\n",
    "    break\n"
   ]
  },
  {
   "cell_type": "code",
   "execution_count": 3,
   "metadata": {},
   "outputs": [],
   "source": [
    "import numpy\n",
    "import matplotlib.pyplot as plt\n",
    "import pandas\n",
    "import math\n",
    "from keras.models import Sequential\n",
    "from keras.layers import Dense"
   ]
  },
  {
   "cell_type": "code",
   "execution_count": 4,
   "metadata": {},
   "outputs": [],
   "source": [
    "# load the dataset\n",
    "dataframe = pandas.read_csv('Downloads/international_airline.csv', usecols=[1],\n",
    "engine='python', skipfooter=3)\n",
    "dataset = dataframe.values\n",
    "dataset = dataset.astype('float32')\n"
   ]
  },
  {
   "cell_type": "code",
   "execution_count": 5,
   "metadata": {},
   "outputs": [
    {
     "name": "stdout",
     "output_type": "stream",
     "text": [
      "96 48\n"
     ]
    }
   ],
   "source": [
    "# split into train and test sets\n",
    "train_size = int(len(dataset)*0.67)\n",
    "test_size = len(dataset) - train_size\n",
    "train, test = dataset[0:train_size,:], dataset[train_size:len(dataset),:]\n",
    "print(len(train), len(test))"
   ]
  },
  {
   "cell_type": "code",
   "execution_count": 6,
   "metadata": {},
   "outputs": [],
   "source": [
    "# convert an array of values into a dataset matrix\n",
    "def create_dataset(dataset, look_back=1):\n",
    "    dataX, dataY = [], []\n",
    "    for i in range(len(dataset)-look_back-1):\n",
    "        a = dataset[i:(i+look_back),0]\n",
    "        dataX.append(a)\n",
    "        dataY.append(dataset[i + look_back, 0])\n",
    "    return numpy.array(dataX), numpy.array(dataY)\n"
   ]
  },
  {
   "cell_type": "code",
   "execution_count": 8,
   "metadata": {},
   "outputs": [],
   "source": [
    "look_back = 1\n",
    "trainX, trainY = create_dataset(train, look_back)\n",
    "testX, testY = create_dataset(test, look_back)"
   ]
  },
  {
   "cell_type": "code",
   "execution_count": 9,
   "metadata": {},
   "outputs": [
    {
     "name": "stderr",
     "output_type": "stream",
     "text": [
      "W1112 17:05:52.803727 140735902135168 deprecation_wrapper.py:119] From /Users/syem/anaconda3/lib/python3.7/site-packages/keras/backend/tensorflow_backend.py:541: The name tf.placeholder is deprecated. Please use tf.compat.v1.placeholder instead.\n",
      "\n",
      "W1112 17:05:52.941014 140735902135168 deprecation_wrapper.py:119] From /Users/syem/anaconda3/lib/python3.7/site-packages/keras/backend/tensorflow_backend.py:4432: The name tf.random_uniform is deprecated. Please use tf.random.uniform instead.\n",
      "\n",
      "W1112 17:05:53.080852 140735902135168 deprecation_wrapper.py:119] From /Users/syem/anaconda3/lib/python3.7/site-packages/keras/optimizers.py:793: The name tf.train.Optimizer is deprecated. Please use tf.compat.v1.train.Optimizer instead.\n",
      "\n",
      "/Users/syem/anaconda3/lib/python3.7/site-packages/ipykernel_launcher.py:6: UserWarning: The `nb_epoch` argument in `fit` has been renamed `epochs`.\n",
      "  \n",
      "W1112 17:05:53.327450 140735902135168 deprecation_wrapper.py:119] From /Users/syem/anaconda3/lib/python3.7/site-packages/keras/backend/tensorflow_backend.py:1033: The name tf.assign_add is deprecated. Please use tf.compat.v1.assign_add instead.\n",
      "\n",
      "W1112 17:05:53.426139 140735902135168 deprecation_wrapper.py:119] From /Users/syem/anaconda3/lib/python3.7/site-packages/keras/backend/tensorflow_backend.py:1020: The name tf.assign is deprecated. Please use tf.compat.v1.assign instead.\n",
      "\n"
     ]
    },
    {
     "name": "stdout",
     "output_type": "stream",
     "text": [
      "Epoch 1/200\n",
      " - 1s - loss: 40261.5982\n",
      "Epoch 2/200\n",
      " - 0s - loss: 29199.1779\n",
      "Epoch 3/200\n",
      " - 0s - loss: 19843.5645\n",
      "Epoch 4/200\n",
      " - 0s - loss: 12494.5265\n",
      "Epoch 5/200\n",
      " - 0s - loss: 7231.4778\n",
      "Epoch 6/200\n",
      " - 0s - loss: 3814.5638\n",
      "Epoch 7/200\n",
      " - 0s - loss: 1955.4989\n",
      "Epoch 8/200\n",
      " - 0s - loss: 1054.5399\n",
      "Epoch 9/200\n",
      " - 0s - loss: 710.2781\n",
      "Epoch 10/200\n",
      " - 0s - loss: 582.2852\n",
      "Epoch 11/200\n",
      " - 0s - loss: 551.6837\n",
      "Epoch 12/200\n",
      " - 0s - loss: 541.1914\n",
      "Epoch 13/200\n",
      " - 0s - loss: 539.2583\n",
      "Epoch 14/200\n",
      " - 0s - loss: 537.2008\n",
      "Epoch 15/200\n",
      " - 0s - loss: 536.4969\n",
      "Epoch 16/200\n",
      " - 0s - loss: 537.7232\n",
      "Epoch 17/200\n",
      " - 0s - loss: 535.7718\n",
      "Epoch 18/200\n",
      " - 0s - loss: 544.6122\n",
      "Epoch 19/200\n",
      " - 0s - loss: 538.2507\n",
      "Epoch 20/200\n",
      " - 0s - loss: 537.2715\n",
      "Epoch 21/200\n",
      " - 0s - loss: 540.8818\n",
      "Epoch 22/200\n",
      " - 0s - loss: 539.3345\n",
      "Epoch 23/200\n",
      " - 0s - loss: 537.5240\n",
      "Epoch 24/200\n",
      " - 0s - loss: 536.6961\n",
      "Epoch 25/200\n",
      " - 0s - loss: 540.9677\n",
      "Epoch 26/200\n",
      " - 0s - loss: 536.8565\n",
      "Epoch 27/200\n",
      " - 0s - loss: 539.6488\n",
      "Epoch 28/200\n",
      " - 0s - loss: 541.2698\n",
      "Epoch 29/200\n",
      " - 0s - loss: 544.0611\n",
      "Epoch 30/200\n",
      " - 0s - loss: 538.9279\n",
      "Epoch 31/200\n",
      " - 0s - loss: 541.7821\n",
      "Epoch 32/200\n",
      " - 0s - loss: 537.5240\n",
      "Epoch 33/200\n",
      " - 0s - loss: 545.5098\n",
      "Epoch 34/200\n",
      " - 0s - loss: 537.9432\n",
      "Epoch 35/200\n",
      " - 0s - loss: 539.4511\n",
      "Epoch 36/200\n",
      " - 0s - loss: 538.5840\n",
      "Epoch 37/200\n",
      " - 0s - loss: 544.8637\n",
      "Epoch 38/200\n",
      " - 0s - loss: 541.5978\n",
      "Epoch 39/200\n",
      " - 0s - loss: 553.7525\n",
      "Epoch 40/200\n",
      " - 0s - loss: 544.9187\n",
      "Epoch 41/200\n",
      " - 0s - loss: 541.2745\n",
      "Epoch 42/200\n",
      " - 0s - loss: 540.8376\n",
      "Epoch 43/200\n",
      " - 0s - loss: 546.7461\n",
      "Epoch 44/200\n",
      " - 0s - loss: 538.0337\n",
      "Epoch 45/200\n",
      " - 0s - loss: 545.6983\n",
      "Epoch 46/200\n",
      " - 0s - loss: 538.1321\n",
      "Epoch 47/200\n",
      " - 0s - loss: 540.8316\n",
      "Epoch 48/200\n",
      " - 0s - loss: 539.3880\n",
      "Epoch 49/200\n",
      " - 0s - loss: 537.7610\n",
      "Epoch 50/200\n",
      " - 0s - loss: 538.9527\n",
      "Epoch 51/200\n",
      " - 0s - loss: 538.7045\n",
      "Epoch 52/200\n",
      " - 0s - loss: 545.1873\n",
      "Epoch 53/200\n",
      " - 0s - loss: 544.9999\n",
      "Epoch 54/200\n",
      " - 0s - loss: 540.5765\n",
      "Epoch 55/200\n",
      " - 0s - loss: 540.9012\n",
      "Epoch 56/200\n",
      " - 0s - loss: 541.2475\n",
      "Epoch 57/200\n",
      " - 0s - loss: 547.1104\n",
      "Epoch 58/200\n",
      " - 0s - loss: 550.4246\n",
      "Epoch 59/200\n",
      " - 0s - loss: 539.5621\n",
      "Epoch 60/200\n",
      " - 0s - loss: 540.0098\n",
      "Epoch 61/200\n",
      " - 0s - loss: 546.5946\n",
      "Epoch 62/200\n",
      " - 0s - loss: 541.2852\n",
      "Epoch 63/200\n",
      " - 0s - loss: 545.2569\n",
      "Epoch 64/200\n",
      " - 0s - loss: 549.8705\n",
      "Epoch 65/200\n",
      " - 0s - loss: 546.1880\n",
      "Epoch 66/200\n",
      " - 0s - loss: 547.1311\n",
      "Epoch 67/200\n",
      " - 0s - loss: 543.8602\n",
      "Epoch 68/200\n",
      " - 0s - loss: 538.0428\n",
      "Epoch 69/200\n",
      " - 0s - loss: 546.7822\n",
      "Epoch 70/200\n",
      " - 0s - loss: 550.1422\n",
      "Epoch 71/200\n",
      " - 0s - loss: 538.9708\n",
      "Epoch 72/200\n",
      " - 0s - loss: 544.7785\n",
      "Epoch 73/200\n",
      " - 0s - loss: 541.8388\n",
      "Epoch 74/200\n",
      " - 0s - loss: 541.6770\n",
      "Epoch 75/200\n",
      " - 0s - loss: 548.9032\n",
      "Epoch 76/200\n",
      " - 0s - loss: 539.0927\n",
      "Epoch 77/200\n",
      " - 0s - loss: 542.8663\n",
      "Epoch 78/200\n",
      " - 0s - loss: 538.9060\n",
      "Epoch 79/200\n",
      " - 0s - loss: 539.3567\n",
      "Epoch 80/200\n",
      " - 0s - loss: 546.3215\n",
      "Epoch 81/200\n",
      " - 0s - loss: 539.9972\n",
      "Epoch 82/200\n",
      " - 0s - loss: 539.1667\n",
      "Epoch 83/200\n",
      " - 0s - loss: 544.6637\n",
      "Epoch 84/200\n",
      " - 0s - loss: 546.4676\n",
      "Epoch 85/200\n",
      " - 0s - loss: 544.9276\n",
      "Epoch 86/200\n",
      " - 0s - loss: 541.0900\n",
      "Epoch 87/200\n",
      " - 0s - loss: 559.6860\n",
      "Epoch 88/200\n",
      " - 0s - loss: 542.4210\n",
      "Epoch 89/200\n",
      " - 0s - loss: 546.9611\n",
      "Epoch 90/200\n",
      " - 0s - loss: 546.9564\n",
      "Epoch 91/200\n",
      " - 0s - loss: 545.0292\n",
      "Epoch 92/200\n",
      " - 0s - loss: 549.1298\n",
      "Epoch 93/200\n",
      " - 0s - loss: 538.8321\n",
      "Epoch 94/200\n",
      " - 0s - loss: 543.0077\n",
      "Epoch 95/200\n",
      " - 0s - loss: 544.0918\n",
      "Epoch 96/200\n",
      " - 0s - loss: 544.6829\n",
      "Epoch 97/200\n",
      " - 0s - loss: 539.8576\n",
      "Epoch 98/200\n",
      " - 0s - loss: 538.7859\n",
      "Epoch 99/200\n",
      " - 0s - loss: 542.3971\n",
      "Epoch 100/200\n",
      " - 0s - loss: 540.5686\n",
      "Epoch 101/200\n",
      " - 0s - loss: 538.8178\n",
      "Epoch 102/200\n",
      " - 0s - loss: 549.3123\n",
      "Epoch 103/200\n",
      " - 0s - loss: 536.5248\n",
      "Epoch 104/200\n",
      " - 0s - loss: 552.5765\n",
      "Epoch 105/200\n",
      " - 0s - loss: 540.1279\n",
      "Epoch 106/200\n",
      " - 0s - loss: 550.9640\n",
      "Epoch 107/200\n",
      " - 0s - loss: 541.6032\n",
      "Epoch 108/200\n",
      " - 0s - loss: 540.4842\n",
      "Epoch 109/200\n",
      " - 0s - loss: 546.3520\n",
      "Epoch 110/200\n",
      " - 0s - loss: 552.2978\n",
      "Epoch 111/200\n",
      " - 0s - loss: 543.0778\n",
      "Epoch 112/200\n",
      " - 0s - loss: 560.1582\n",
      "Epoch 113/200\n",
      " - 0s - loss: 554.1905\n",
      "Epoch 114/200\n",
      " - 0s - loss: 539.0367\n",
      "Epoch 115/200\n",
      " - 0s - loss: 546.8464\n",
      "Epoch 116/200\n",
      " - 0s - loss: 539.5730\n",
      "Epoch 117/200\n",
      " - 0s - loss: 539.5345\n",
      "Epoch 118/200\n",
      " - 0s - loss: 544.9313\n",
      "Epoch 119/200\n",
      " - 0s - loss: 544.8051\n",
      "Epoch 120/200\n",
      " - 0s - loss: 539.4890\n",
      "Epoch 121/200\n",
      " - 0s - loss: 548.4005\n",
      "Epoch 122/200\n",
      " - 0s - loss: 538.0666\n",
      "Epoch 123/200\n",
      " - 0s - loss: 538.3410\n",
      "Epoch 124/200\n",
      " - 0s - loss: 543.9680\n",
      "Epoch 125/200\n",
      " - 0s - loss: 551.9019\n",
      "Epoch 126/200\n",
      " - 0s - loss: 546.0356\n",
      "Epoch 127/200\n",
      " - 0s - loss: 541.1023\n",
      "Epoch 128/200\n",
      " - 0s - loss: 535.3245\n",
      "Epoch 129/200\n",
      " - 0s - loss: 538.9945\n",
      "Epoch 130/200\n",
      " - 0s - loss: 535.2519\n",
      "Epoch 131/200\n",
      " - 0s - loss: 537.7874\n",
      "Epoch 132/200\n",
      " - 0s - loss: 536.8330\n",
      "Epoch 133/200\n",
      " - 0s - loss: 542.6569\n",
      "Epoch 134/200\n",
      " - 0s - loss: 547.6093\n",
      "Epoch 135/200\n",
      " - 0s - loss: 541.1817\n",
      "Epoch 136/200\n",
      " - 0s - loss: 550.2414\n",
      "Epoch 137/200\n",
      " - 0s - loss: 537.7652\n",
      "Epoch 138/200\n",
      " - 0s - loss: 540.7328\n",
      "Epoch 139/200\n",
      " - 0s - loss: 539.7469\n",
      "Epoch 140/200\n",
      " - 0s - loss: 543.9927\n",
      "Epoch 141/200\n",
      " - 0s - loss: 534.9150\n",
      "Epoch 142/200\n",
      " - 0s - loss: 545.1807\n",
      "Epoch 143/200\n",
      " - 0s - loss: 539.5390\n",
      "Epoch 144/200\n",
      " - 0s - loss: 541.3877\n",
      "Epoch 145/200\n",
      " - 0s - loss: 543.6765\n",
      "Epoch 146/200\n",
      " - 0s - loss: 547.3255\n",
      "Epoch 147/200\n",
      " - 0s - loss: 536.9544\n",
      "Epoch 148/200\n",
      " - 0s - loss: 539.5225\n",
      "Epoch 149/200\n",
      " - 0s - loss: 535.7928\n",
      "Epoch 150/200\n",
      " - 0s - loss: 554.2938\n",
      "Epoch 151/200\n",
      " - 0s - loss: 541.0616\n",
      "Epoch 152/200\n",
      " - 0s - loss: 533.8154\n",
      "Epoch 153/200\n",
      " - 0s - loss: 539.5723\n",
      "Epoch 154/200\n",
      " - 0s - loss: 547.8812\n",
      "Epoch 155/200\n",
      " - 0s - loss: 535.3207\n",
      "Epoch 156/200\n",
      " - 0s - loss: 539.0136\n",
      "Epoch 157/200\n",
      " - 0s - loss: 534.5125\n",
      "Epoch 158/200\n",
      " - 0s - loss: 550.5213\n",
      "Epoch 159/200\n",
      " - 0s - loss: 542.8057\n",
      "Epoch 160/200\n",
      " - 0s - loss: 535.5075\n",
      "Epoch 161/200\n",
      " - 0s - loss: 536.8501\n",
      "Epoch 162/200\n",
      " - 0s - loss: 541.0742\n",
      "Epoch 163/200\n",
      " - 0s - loss: 541.0981\n",
      "Epoch 164/200\n",
      " - 0s - loss: 541.5931\n",
      "Epoch 165/200\n",
      " - 0s - loss: 546.0579\n",
      "Epoch 166/200\n",
      " - 0s - loss: 541.9438\n",
      "Epoch 167/200\n",
      " - 0s - loss: 542.5199\n",
      "Epoch 168/200\n",
      " - 0s - loss: 552.3366\n",
      "Epoch 169/200\n",
      " - 0s - loss: 534.1994\n",
      "Epoch 170/200\n",
      " - 0s - loss: 539.6236\n",
      "Epoch 171/200\n",
      " - 0s - loss: 537.0612\n",
      "Epoch 172/200\n",
      " - 0s - loss: 533.9446\n",
      "Epoch 173/200\n",
      " - 0s - loss: 543.5252\n",
      "Epoch 174/200\n",
      " - 0s - loss: 536.0359\n",
      "Epoch 175/200\n",
      " - 0s - loss: 539.0381\n",
      "Epoch 176/200\n",
      " - 0s - loss: 537.3862\n",
      "Epoch 177/200\n",
      " - 0s - loss: 538.4694\n",
      "Epoch 178/200\n",
      " - 0s - loss: 563.0326\n",
      "Epoch 179/200\n",
      " - 0s - loss: 537.6137\n",
      "Epoch 180/200\n",
      " - 0s - loss: 539.2467\n",
      "Epoch 181/200\n",
      " - 0s - loss: 543.6230\n",
      "Epoch 182/200\n",
      " - 0s - loss: 551.2523\n",
      "Epoch 183/200\n",
      " - 0s - loss: 547.5908\n",
      "Epoch 184/200\n",
      " - 0s - loss: 534.5561\n",
      "Epoch 185/200\n",
      " - 0s - loss: 562.3916\n",
      "Epoch 186/200\n",
      " - 0s - loss: 543.0186\n",
      "Epoch 187/200\n",
      " - 0s - loss: 538.0824\n",
      "Epoch 188/200\n",
      " - 0s - loss: 551.0798\n",
      "Epoch 189/200\n",
      " - 0s - loss: 534.0560\n",
      "Epoch 190/200\n",
      " - 0s - loss: 538.5880\n",
      "Epoch 191/200\n",
      " - 0s - loss: 543.6372\n",
      "Epoch 192/200\n",
      " - 0s - loss: 536.0443\n",
      "Epoch 193/200\n",
      " - 0s - loss: 543.7680\n",
      "Epoch 194/200\n",
      " - 0s - loss: 537.7500\n",
      "Epoch 195/200\n",
      " - 0s - loss: 542.6503\n",
      "Epoch 196/200\n",
      " - 0s - loss: 544.0426\n",
      "Epoch 197/200\n",
      " - 0s - loss: 554.5058\n",
      "Epoch 198/200\n",
      " - 0s - loss: 542.8434\n",
      "Epoch 199/200\n",
      " - 0s - loss: 537.1463\n",
      "Epoch 200/200\n",
      " - 0s - loss: 543.1606\n"
     ]
    },
    {
     "data": {
      "text/plain": [
       "<keras.callbacks.History at 0xb4af49630>"
      ]
     },
     "execution_count": 9,
     "metadata": {},
     "output_type": "execute_result"
    }
   ],
   "source": [
    "# create and fit Multilayer Perceptron model\n",
    "model = Sequential()\n",
    "model.add(Dense(8, input_dim=look_back, activation='relu'))\n",
    "model.add(Dense(1))\n",
    "model.compile(loss='mean_squared_error', optimizer='adam')\n",
    "model.fit(trainX, trainY, nb_epoch=200, batch_size=2, verbose=2)\n"
   ]
  },
  {
   "cell_type": "code",
   "execution_count": 13,
   "metadata": {},
   "outputs": [
    {
     "name": "stdout",
     "output_type": "stream",
     "text": [
      "Train Score: 529.63 MSE(23.01 RMSE)\n",
      "Test Score: 2348.44 MSE (48.46 RMSE)\n"
     ]
    }
   ],
   "source": [
    "# Estimate model performance\n",
    "trainScore = model.evaluate(trainX, trainY, verbose=0)\n",
    "print('Train Score: %.2f MSE(%.2f RMSE)' % (trainScore, math.sqrt(trainScore)))\n",
    "testScore = model.evaluate(testX, testY, verbose=0)\n",
    "print('Test Score: %.2f MSE (%.2f RMSE)'% (testScore, math.sqrt(testScore)))\n"
   ]
  },
  {
   "cell_type": "code",
   "execution_count": 14,
   "metadata": {},
   "outputs": [
    {
     "data": {
      "image/png": "[encoded data removed]",
      "text/plain": [
       "<Figure size 432x288 with 1 Axes>"
      ]
     },
     "metadata": {
      "needs_background": "light"
     },
     "output_type": "display_data"
    }
   ],
   "source": [
    "\n",
    "# generate predictions for training\n",
    "trainPredict = model.predict(trainX)\n",
    "testPredict = model.predict(testX)\n",
    "# shift train predictions for plotting\n",
    "trainPredictPlot = numpy.empty_like(dataset)\n",
    "trainPredictPlot[:,:] = numpy.nan\n",
    "trainPredictPlot[look_back:len(trainPredict)+look_back, :] = trainPredict\n",
    "\n",
    "# test shift predictions\n",
    "testPredictPlot = numpy.empty_like(dataset)\n",
    "testPredictPlot[:,:] = numpy.nan\n",
    "testPredictPlot[len(trainPredict)+(look_back*2)+1:len(dataset)-1,:] = testPredict\n",
    "\n",
    "# plot\n",
    "plt.plot(dataset)\n",
    "plt.plot(trainPredictPlot)\n",
    "plt.plot(testPredictPlot)\n",
    "plt.show()\n"
   ]
  },
  {
   "cell_type": "code",
   "execution_count": 15,
   "metadata": {},
   "outputs": [],
   "source": [
    "# LSTM for international airline passengers problem with regression framing\n",
    "import numpy\n",
    "import matplotlib.pyplot as plt\n",
    "import pandas\n",
    "import math\n",
    "from keras.models import Sequential\n",
    "from keras.layers import Dense\n",
    "from keras.layers import LSTM\n",
    "from sklearn.preprocessing import MinMaxScaler\n",
    "from sklearn.metrics import mean_squared_error\n",
    "# convert an array of values into a dataset matri"
   ]
  },
  {
   "cell_type": "code",
   "execution_count": 19,
   "metadata": {},
   "outputs": [],
   "source": [
    "def create_dataset(dataset, look_back=1):\n",
    "    dataX, dataY = [], []\n",
    "    for i in range(len(dataset)-look_back-1):\n",
    "        a = dataset[i:(i+look_back),0]\n",
    "        dataX.append(a)\n",
    "        dataY.append(dataset[i + look_back, 0])\n",
    "    return numpy.array(dataX), numpy.array(dataY)\n"
   ]
  },
  {
   "cell_type": "code",
   "execution_count": 20,
   "metadata": {},
   "outputs": [],
   "source": [
    "# load the dataset\n",
    "dataframe = pandas.read_csv('Downloads/international_airline.csv', usecols=[1], engine='python', skipfooter=3)\n",
    "dataset = dataframe.values\n",
    "dataset = dataset.astype('float32')\n",
    "# normalize the dataset\n",
    "scaler = MinMaxScaler(feature_range = (0,1))\n",
    "dataset = scaler.fit_transform(dataset)\n"
   ]
  },
  {
   "cell_type": "code",
   "execution_count": 21,
   "metadata": {},
   "outputs": [],
   "source": [
    "# split into train and test sets\n",
    "train_size = int(len(dataset)*0.67)\n",
    "test_size = len(dataset) - train_size\n",
    "train, test = dataset[0:train_size,:], dataset[train_size:len(dataset),:]\n",
    "look_back = 1\n",
    "trainX, trainY = create_dataset(train, look_back)\n",
    "testX, testY = create_dataset(test, look_back)\n",
    "# reshape into X=t, y=t+1\n",
    "look_back = 1\n",
    "trainX, trainY = create_dataset(train, look_back)\n",
    "testX, testY = create_dataset(test, look_back)\n",
    "\n",
    "# reshape input to be [samples, time steps, features]\n",
    "trainX = numpy.reshape(trainX, (trainX.shape[0], 1, trainX.shape[1]))\n",
    "testX = numpy.reshape(testX, (testX.shape[0], 1, testX.shape[1]))\n"
   ]
  },
  {
   "cell_type": "code",
   "execution_count": null,
   "metadata": {},
   "outputs": [
    {
     "name": "stderr",
     "output_type": "stream",
     "text": [
      "/Users/syem/anaconda3/lib/python3.7/site-packages/ipykernel_launcher.py:3: UserWarning: The `input_dim` and `input_length` arguments in recurrent layers are deprecated. Use `input_shape` instead.\n",
      "  This is separate from the ipykernel package so we can avoid doing imports until\n",
      "/Users/syem/anaconda3/lib/python3.7/site-packages/ipykernel_launcher.py:3: UserWarning: Update your `LSTM` call to the Keras 2 API: `LSTM(4, input_shape=(None, 1))`\n",
      "  This is separate from the ipykernel package so we can avoid doing imports until\n",
      "/Users/syem/anaconda3/lib/python3.7/site-packages/ipykernel_launcher.py:6: UserWarning: The `nb_epoch` argument in `fit` has been renamed `epochs`.\n",
      "  \n",
      "W1113 17:10:00.163410 140735902135168 deprecation.py:323] From /Users/syem/anaconda3/lib/python3.7/site-packages/tensorflow/python/ops/math_grad.py:1250: add_dispatch_support.<locals>.wrapper (from tensorflow.python.ops.array_ops) is deprecated and will be removed in a future version.\n",
      "Instructions for updating:\n",
      "Use tf.where in 2.0, which has the same broadcast rule as np.where\n"
     ]
    },
    {
     "name": "stdout",
     "output_type": "stream",
     "text": [
      "Epoch 1/100\n",
      " - 6s - loss: 0.0473\n",
      "Epoch 2/100\n",
      " - 1s - loss: 0.0222\n",
      "Epoch 3/100\n",
      " - 1s - loss: 0.0173\n",
      "Epoch 4/100\n",
      " - 1s - loss: 0.0161\n",
      "Epoch 5/100\n",
      " - 1s - loss: 0.0148\n",
      "Epoch 6/100\n",
      " - 1s - loss: 0.0137\n",
      "Epoch 7/100\n",
      " - 1s - loss: 0.0127\n",
      "Epoch 8/100\n",
      " - 1s - loss: 0.0115\n",
      "Epoch 9/100\n",
      " - 1s - loss: 0.0106\n",
      "Epoch 10/100\n",
      " - 1s - loss: 0.0096\n",
      "Epoch 11/100\n",
      " - 1s - loss: 0.0087\n",
      "Epoch 12/100\n",
      " - 1s - loss: 0.0078\n",
      "Epoch 13/100\n",
      " - 1s - loss: 0.0070\n",
      "Epoch 14/100\n",
      " - 1s - loss: 0.0062\n",
      "Epoch 15/100\n",
      " - 1s - loss: 0.0055\n",
      "Epoch 16/100\n",
      " - 1s - loss: 0.0048\n",
      "Epoch 17/100\n",
      " - 1s - loss: 0.0043\n",
      "Epoch 18/100\n",
      " - 1s - loss: 0.0038\n",
      "Epoch 19/100\n",
      " - 1s - loss: 0.0033\n",
      "Epoch 20/100\n",
      " - 1s - loss: 0.0030\n",
      "Epoch 21/100\n",
      " - 1s - loss: 0.0027\n",
      "Epoch 22/100\n",
      " - 1s - loss: 0.0026\n",
      "Epoch 23/100\n",
      " - 1s - loss: 0.0025\n",
      "Epoch 24/100\n",
      " - 1s - loss: 0.0023\n",
      "Epoch 25/100\n",
      " - 1s - loss: 0.0022\n",
      "Epoch 26/100\n",
      " - 1s - loss: 0.0021\n",
      "Epoch 27/100\n",
      " - 1s - loss: 0.0021\n",
      "Epoch 28/100\n",
      " - 1s - loss: 0.0021\n",
      "Epoch 29/100\n",
      " - 1s - loss: 0.0020\n",
      "Epoch 30/100\n",
      " - 1s - loss: 0.0021\n",
      "Epoch 31/100\n",
      " - 1s - loss: 0.0021\n",
      "Epoch 32/100\n",
      " - 1s - loss: 0.0021\n",
      "Epoch 33/100\n",
      " - 1s - loss: 0.0021\n",
      "Epoch 34/100\n",
      " - 1s - loss: 0.0021\n",
      "Epoch 35/100\n",
      " - 1s - loss: 0.0021\n",
      "Epoch 36/100\n",
      " - 1s - loss: 0.0021\n",
      "Epoch 37/100\n",
      " - 1s - loss: 0.0020\n",
      "Epoch 38/100\n",
      " - 1s - loss: 0.0020\n",
      "Epoch 39/100\n",
      " - 1s - loss: 0.0021\n",
      "Epoch 40/100\n",
      " - 1s - loss: 0.0021\n",
      "Epoch 41/100\n",
      " - 1s - loss: 0.0020\n",
      "Epoch 42/100\n",
      " - 1s - loss: 0.0021\n",
      "Epoch 43/100\n",
      " - 1s - loss: 0.0021\n",
      "Epoch 44/100\n",
      " - 1s - loss: 0.0020\n",
      "Epoch 45/100\n",
      " - 1s - loss: 0.0021\n",
      "Epoch 46/100\n",
      " - 1s - loss: 0.0020\n",
      "Epoch 47/100\n",
      " - 1s - loss: 0.0021\n",
      "Epoch 48/100\n",
      " - 1s - loss: 0.0020\n",
      "Epoch 49/100\n",
      " - 1s - loss: 0.0021\n",
      "Epoch 50/100\n",
      " - 1s - loss: 0.0020\n",
      "Epoch 51/100\n",
      " - 1s - loss: 0.0020\n",
      "Epoch 52/100\n",
      " - 1s - loss: 0.0021\n",
      "Epoch 53/100\n",
      " - 1s - loss: 0.0020\n",
      "Epoch 54/100\n",
      " - 1s - loss: 0.0020\n",
      "Epoch 55/100\n",
      " - 1s - loss: 0.0020\n",
      "Epoch 56/100\n",
      " - 1s - loss: 0.0020\n",
      "Epoch 57/100\n",
      " - 1s - loss: 0.0021\n",
      "Epoch 58/100\n",
      " - 1s - loss: 0.0020\n",
      "Epoch 59/100\n",
      " - 1s - loss: 0.0020\n",
      "Epoch 60/100\n",
      " - 1s - loss: 0.0021\n",
      "Epoch 61/100\n",
      " - 1s - loss: 0.0020\n",
      "Epoch 62/100\n",
      " - 1s - loss: 0.0021\n",
      "Epoch 63/100\n",
      " - 1s - loss: 0.0020\n",
      "Epoch 64/100\n",
      " - 1s - loss: 0.0020\n",
      "Epoch 65/100\n",
      " - 1s - loss: 0.0020\n",
      "Epoch 66/100\n",
      " - 1s - loss: 0.0021\n",
      "Epoch 67/100\n",
      " - 1s - loss: 0.0021\n",
      "Epoch 68/100\n",
      " - 1s - loss: 0.0020\n",
      "Epoch 69/100\n",
      " - 1s - loss: 0.0020\n",
      "Epoch 70/100\n",
      " - 1s - loss: 0.0020\n",
      "Epoch 71/100\n",
      " - 1s - loss: 0.0020\n",
      "Epoch 72/100\n",
      " - 1s - loss: 0.0021\n",
      "Epoch 73/100\n",
      " - 1s - loss: 0.0020\n",
      "Epoch 74/100\n",
      " - 1s - loss: 0.0021\n",
      "Epoch 75/100\n",
      " - 1s - loss: 0.0020\n",
      "Epoch 76/100\n",
      " - 1s - loss: 0.0020\n",
      "Epoch 77/100\n",
      " - 1s - loss: 0.0021\n",
      "Epoch 78/100\n",
      " - 1s - loss: 0.0020\n",
      "Epoch 79/100\n",
      " - 1s - loss: 0.0019\n",
      "Epoch 80/100\n",
      " - 1s - loss: 0.0021\n",
      "Epoch 81/100\n",
      " - 1s - loss: 0.0020\n",
      "Epoch 82/100\n",
      " - 1s - loss: 0.0020\n",
      "Epoch 83/100\n",
      " - 1s - loss: 0.0020\n",
      "Epoch 84/100\n",
      " - 1s - loss: 0.0021\n",
      "Epoch 85/100\n",
      " - 1s - loss: 0.0020\n",
      "Epoch 86/100\n",
      " - 1s - loss: 0.0020\n",
      "Epoch 87/100\n",
      " - 1s - loss: 0.0020\n",
      "Epoch 88/100\n",
      " - 1s - loss: 0.0020\n",
      "Epoch 89/100\n",
      " - 1s - loss: 0.0021\n",
      "Epoch 90/100\n",
      " - 1s - loss: 0.0020\n",
      "Epoch 91/100\n",
      " - 1s - loss: 0.0022\n",
      "Epoch 92/100\n",
      " - 1s - loss: 0.0020\n",
      "Epoch 93/100\n",
      " - 1s - loss: 0.0020\n",
      "Epoch 94/100\n",
      " - 1s - loss: 0.0020\n",
      "Epoch 95/100\n",
      " - 1s - loss: 0.0020\n",
      "Epoch 96/100\n",
      " - 1s - loss: 0.0021\n",
      "Epoch 97/100\n",
      " - 1s - loss: 0.0020\n",
      "Epoch 98/100\n",
      " - 1s - loss: 0.0020\n",
      "Epoch 99/100\n",
      " - 1s - loss: 0.0020\n",
      "Epoch 100/100\n",
      " - 1s - loss: 0.0020\n"
     ]
    }
   ],
   "source": [
    "# create and fit the LSTM network\n",
    "model = Sequential()\n",
    "model.add(LSTM(4, input_dim = look_back))\n",
    "model.add(Dense(1))\n",
    "model.compile(loss='mean_squared_error', optimizer='adam')\n",
    "model.fit(trainX, trainY, nb_epoch=100, batch_size=1, verbose=2)\n",
    "trainPredict = model.predict(trainX)\n",
    "testPredict = model.predict(testX)\n",
    "trainPredict = scaler.inverse_transform(trainPredict)\n",
    "trainY = scaler.inverse_transform([trainY])\n",
    "testPredict = scaler.inverse_transform(testPredict)\n",
    "testY = scaler.inverse_transform([testY])\n"
   ]
  },
  {
   "cell_type": "code",
   "execution_count": 1,
   "metadata": {},
   "outputs": [
    {
     "ename": "NameError",
     "evalue": "name 'math' is not defined",
     "output_type": "error",
     "traceback": [
      "\u001b[0;31m---------------------------------------------------------------------------\u001b[0m",
      "\u001b[0;31mNameError\u001b[0m                                 Traceback (most recent call last)",
      "\u001b[0;32m<ipython-input-1-5f6909c4dbef>\u001b[0m in \u001b[0;36m<module>\u001b[0;34m\u001b[0m\n\u001b[0;32m----> 1\u001b[0;31m \u001b[0mtrainScore\u001b[0m \u001b[0;34m=\u001b[0m \u001b[0mmath\u001b[0m\u001b[0;34m.\u001b[0m\u001b[0msqrt\u001b[0m\u001b[0;34m(\u001b[0m\u001b[0mmean_squared_error\u001b[0m\u001b[0;34m(\u001b[0m\u001b[0mtrainY\u001b[0m\u001b[0;34m[\u001b[0m\u001b[0;36m0\u001b[0m\u001b[0;34m]\u001b[0m\u001b[0;34m,\u001b[0m \u001b[0mtrainPredict\u001b[0m\u001b[0;34m[\u001b[0m\u001b[0;34m:\u001b[0m\u001b[0;34m,\u001b[0m\u001b[0;36m0\u001b[0m\u001b[0;34m]\u001b[0m\u001b[0;34m)\u001b[0m\u001b[0;34m)\u001b[0m\u001b[0;34m\u001b[0m\u001b[0;34m\u001b[0m\u001b[0m\n\u001b[0m\u001b[1;32m      2\u001b[0m \u001b[0mprint\u001b[0m\u001b[0;34m(\u001b[0m\u001b[0;34m'Train Score: %.2f RMSE'\u001b[0m \u001b[0;34m%\u001b[0m \u001b[0;34m(\u001b[0m\u001b[0mtrainScore\u001b[0m\u001b[0;34m)\u001b[0m\u001b[0;34m)\u001b[0m\u001b[0;34m\u001b[0m\u001b[0;34m\u001b[0m\u001b[0m\n\u001b[1;32m      3\u001b[0m \u001b[0mtestScore\u001b[0m \u001b[0;34m=\u001b[0m \u001b[0mmath\u001b[0m\u001b[0;34m.\u001b[0m\u001b[0msqrt\u001b[0m\u001b[0;34m(\u001b[0m\u001b[0mmean_squared_error\u001b[0m\u001b[0;34m(\u001b[0m\u001b[0mtestY\u001b[0m\u001b[0;34m[\u001b[0m\u001b[0;36m0\u001b[0m\u001b[0;34m]\u001b[0m\u001b[0;34m,\u001b[0m \u001b[0mtestPredict\u001b[0m\u001b[0;34m[\u001b[0m\u001b[0;34m:\u001b[0m\u001b[0;34m,\u001b[0m\u001b[0;36m0\u001b[0m\u001b[0;34m]\u001b[0m\u001b[0;34m)\u001b[0m\u001b[0;34m)\u001b[0m\u001b[0;34m\u001b[0m\u001b[0;34m\u001b[0m\u001b[0m\n\u001b[1;32m      4\u001b[0m \u001b[0mprint\u001b[0m\u001b[0;34m(\u001b[0m\u001b[0;34m'Test Score: %.2f RMSE'\u001b[0m \u001b[0;34m%\u001b[0m \u001b[0;34m(\u001b[0m\u001b[0mtestScore\u001b[0m\u001b[0;34m)\u001b[0m\u001b[0;34m)\u001b[0m\u001b[0;34m\u001b[0m\u001b[0;34m\u001b[0m\u001b[0m\n\u001b[1;32m      5\u001b[0m \u001b[0mtrainPredictPlot\u001b[0m \u001b[0;34m=\u001b[0m \u001b[0mnumpy\u001b[0m\u001b[0;34m.\u001b[0m\u001b[0mempty_like\u001b[0m\u001b[0;34m(\u001b[0m\u001b[0mdataset\u001b[0m\u001b[0;34m)\u001b[0m\u001b[0;34m\u001b[0m\u001b[0;34m\u001b[0m\u001b[0m\n",
      "\u001b[0;31mNameError\u001b[0m: name 'math' is not defined"
     ]
    }
   ],
   "source": [
    "trainScore = math.sqrt(mean_squared_error(trainY[0], trainPredict[:,0]))\n",
    "print('Train Score: %.2f RMSE' % (trainScore))\n",
    "testScore = math.sqrt(mean_squared_error(testY[0], testPredict[:,0]))\n",
    "print('Test Score: %.2f RMSE' % (testScore))\n",
    "trainPredictPlot = numpy.empty_like(dataset)\n",
    "trainPredictPlot[:,:] = numpy.nan\n",
    "trainPredictPlot[look_back:len(trainPredict)+look_back, :] = trainPredict\n",
    "\n",
    "testPredictPlot = numpy.empty_like(dataset)\n",
    "testPredictPlot[:,:] = numpy.nan\n",
    "testPredictPlot[len(trainPredict)+(look_back*2)+1:len(dataset)-1, :] = testPredict\n",
    "\n",
    "plt.plot(scaler.inverse_transform(dataset))\n",
    "plt.plot(trainPredictPlot)\n",
    "plt.plot(testPredictPlot)\n",
    "plt.show()\n",
    "\n"
   ]
  },
  {
   "cell_type": "code",
   "execution_count": 2,
   "metadata": {},
   "outputs": [
    {
     "name": "stderr",
     "output_type": "stream",
     "text": [
      "Using TensorFlow backend.\n"
     ]
    }
   ],
   "source": [
    "# MLP for the IMDB problem\n",
    "import numpy\n",
    "from keras.datasets import imdb\n",
    "from keras.models import Sequential\n",
    "from keras.layers import Dense\n",
    "from keras.layers import Flatten\n",
    "from keras.layers.embeddings import Embedding\n",
    "from keras.preprocessing import sequence"
   ]
  },
  {
   "cell_type": "code",
   "execution_count": 3,
   "metadata": {},
   "outputs": [
    {
     "name": "stderr",
     "output_type": "stream",
     "text": [
      "/Users/syem/anaconda3/lib/python3.7/site-packages/keras/datasets/imdb.py:49: UserWarning: The `nb_words` argument in `load_data` has been renamed `num_words`.\n",
      "  warnings.warn('The `nb_words` argument in `load_data` '\n",
      "WARNING: Logging before flag parsing goes to stderr.\n",
      "W1115 15:18:08.202795 140735902135168 deprecation_wrapper.py:119] From /Users/syem/anaconda3/lib/python3.7/site-packages/keras/backend/tensorflow_backend.py:66: The name tf.get_default_graph is deprecated. Please use tf.compat.v1.get_default_graph instead.\n",
      "\n",
      "W1115 15:18:08.349722 140735902135168 deprecation_wrapper.py:119] From /Users/syem/anaconda3/lib/python3.7/site-packages/keras/backend/tensorflow_backend.py:541: The name tf.placeholder is deprecated. Please use tf.compat.v1.placeholder instead.\n",
      "\n",
      "W1115 15:18:08.382040 140735902135168 deprecation_wrapper.py:119] From /Users/syem/anaconda3/lib/python3.7/site-packages/keras/backend/tensorflow_backend.py:4432: The name tf.random_uniform is deprecated. Please use tf.random.uniform instead.\n",
      "\n",
      "W1115 15:18:08.494215 140735902135168 deprecation_wrapper.py:119] From /Users/syem/anaconda3/lib/python3.7/site-packages/keras/optimizers.py:793: The name tf.train.Optimizer is deprecated. Please use tf.compat.v1.train.Optimizer instead.\n",
      "\n",
      "W1115 15:18:08.528772 140735902135168 deprecation_wrapper.py:119] From /Users/syem/anaconda3/lib/python3.7/site-packages/keras/backend/tensorflow_backend.py:3657: The name tf.log is deprecated. Please use tf.math.log instead.\n",
      "\n",
      "W1115 15:18:08.539130 140735902135168 deprecation.py:323] From /Users/syem/anaconda3/lib/python3.7/site-packages/tensorflow/python/ops/nn_impl.py:180: add_dispatch_support.<locals>.wrapper (from tensorflow.python.ops.array_ops) is deprecated and will be removed in a future version.\n",
      "Instructions for updating:\n",
      "Use tf.where in 2.0, which has the same broadcast rule as np.where\n",
      "/Users/syem/anaconda3/lib/python3.7/site-packages/ipykernel_launcher.py:13: UserWarning: The `nb_epoch` argument in `fit` has been renamed `epochs`.\n",
      "  del sys.path[0]\n"
     ]
    },
    {
     "name": "stdout",
     "output_type": "stream",
     "text": [
      "Model: \"sequential_1\"\n",
      "_________________________________________________________________\n",
      "Layer (type)                 Output Shape              Param #   \n",
      "=================================================================\n",
      "embedding_1 (Embedding)      (None, 500, 32)           160000    \n",
      "_________________________________________________________________\n",
      "flatten_1 (Flatten)          (None, 16000)             0         \n",
      "_________________________________________________________________\n",
      "dense_1 (Dense)              (None, 250)               4000250   \n",
      "_________________________________________________________________\n",
      "dense_2 (Dense)              (None, 1)                 251       \n",
      "=================================================================\n",
      "Total params: 4,160,501\n",
      "Trainable params: 4,160,501\n",
      "Non-trainable params: 0\n",
      "_________________________________________________________________\n",
      "None\n"
     ]
    },
    {
     "name": "stderr",
     "output_type": "stream",
     "text": [
      "W1115 15:18:08.909172 140735902135168 deprecation_wrapper.py:119] From /Users/syem/anaconda3/lib/python3.7/site-packages/keras/backend/tensorflow_backend.py:1033: The name tf.assign_add is deprecated. Please use tf.compat.v1.assign_add instead.\n",
      "\n"
     ]
    },
    {
     "name": "stdout",
     "output_type": "stream",
     "text": [
      "Train on 25000 samples, validate on 25000 samples\n",
      "Epoch 1/2\n",
      "25000/25000 [==============================] - 50s 2ms/step - loss: 0.4552 - acc: 0.7656 - val_loss: 0.3112 - val_acc: 0.8662\n",
      "Epoch 2/2\n",
      "25000/25000 [==============================] - 47s 2ms/step - loss: 0.1707 - acc: 0.9372 - val_loss: 0.3131 - val_acc: 0.8735\n",
      "ACC: 87.35%\n"
     ]
    }
   ],
   "source": [
    "top_words = 5000\n",
    "(X_train, y_train),(X_test, y_test) = imdb.load_data(nb_words = top_words)\n",
    "max_words = 500\n",
    "X_train = sequence.pad_sequences(X_train, maxlen=max_words)\n",
    "X_test = sequence.pad_sequences(X_test, maxlen=max_words)\n",
    "model = Sequential()\n",
    "model.add(Embedding(top_words, 32, input_length=max_words))\n",
    "model.add(Flatten())\n",
    "model.add(Dense(250, activation='relu'))\n",
    "model.add(Dense(1, activation = 'sigmoid'))\n",
    "model.compile(loss='binary_crossentropy', optimizer='adam', metrics=['accuracy'])\n",
    "print(model.summary())\n",
    "model.fit(X_train, y_train, validation_data=(X_test, y_test), nb_epoch=2, batch_size=128, verbose=1)\n",
    "scores = model.evaluate(X_test, y_test, verbose=0)\n",
    "print('ACC: %.2f%%' % (scores[1]*100))"
   ]
  },
  {
   "cell_type": "code",
   "execution_count": 4,
   "metadata": {},
   "outputs": [],
   "source": [
    "# CNN for the IMDB problem\n",
    "import numpy\n",
    "from keras.datasets import imdb\n",
    "from keras.models import Sequential\n",
    "from keras.layers import Dense\n",
    "from keras.layers import Flatten\n",
    "from keras.layers.convolutional import Convolution1D\n",
    "from keras.layers.convolutional import MaxPooling1D\n",
    "from keras.layers.embeddings import Embedding\n",
    "from keras.preprocessing import sequence"
   ]
  },
  {
   "cell_type": "code",
   "execution_count": 5,
   "metadata": {},
   "outputs": [
    {
     "name": "stderr",
     "output_type": "stream",
     "text": [
      "/Users/syem/anaconda3/lib/python3.7/site-packages/keras/datasets/imdb.py:49: UserWarning: The `nb_words` argument in `load_data` has been renamed `num_words`.\n",
      "  warnings.warn('The `nb_words` argument in `load_data` '\n",
      "/Users/syem/anaconda3/lib/python3.7/site-packages/ipykernel_launcher.py:8: UserWarning: Update your `Conv1D` call to the Keras 2 API: `Conv1D(activation=\"relu\", filters=32, kernel_size=3, padding=\"same\")`\n",
      "  \n",
      "/Users/syem/anaconda3/lib/python3.7/site-packages/ipykernel_launcher.py:9: UserWarning: Update your `MaxPooling1D` call to the Keras 2 API: `MaxPooling1D(pool_size=2)`\n",
      "  if __name__ == '__main__':\n",
      "W1115 15:28:11.903633 140735902135168 deprecation_wrapper.py:119] From /Users/syem/anaconda3/lib/python3.7/site-packages/keras/backend/tensorflow_backend.py:4267: The name tf.nn.max_pool is deprecated. Please use tf.nn.max_pool2d instead.\n",
      "\n",
      "/Users/syem/anaconda3/lib/python3.7/site-packages/ipykernel_launcher.py:15: UserWarning: The `nb_epoch` argument in `fit` has been renamed `epochs`.\n",
      "  from ipykernel import kernelapp as app\n"
     ]
    },
    {
     "name": "stdout",
     "output_type": "stream",
     "text": [
      "Model: \"sequential_2\"\n",
      "_________________________________________________________________\n",
      "Layer (type)                 Output Shape              Param #   \n",
      "=================================================================\n",
      "embedding_2 (Embedding)      (None, 500, 32)           160000    \n",
      "_________________________________________________________________\n",
      "conv1d_1 (Conv1D)            (None, 500, 32)           3104      \n",
      "_________________________________________________________________\n",
      "max_pooling1d_1 (MaxPooling1 (None, 250, 32)           0         \n",
      "_________________________________________________________________\n",
      "flatten_2 (Flatten)          (None, 8000)              0         \n",
      "_________________________________________________________________\n",
      "dense_3 (Dense)              (None, 250)               2000250   \n",
      "_________________________________________________________________\n",
      "dense_4 (Dense)              (None, 1)                 251       \n",
      "=================================================================\n",
      "Total params: 2,163,605\n",
      "Trainable params: 2,163,605\n",
      "Non-trainable params: 0\n",
      "_________________________________________________________________\n",
      "None\n",
      "Train on 25000 samples, validate on 25000 samples\n",
      "Epoch 1/2\n",
      "25000/25000 [==============================] - 81s 3ms/step - loss: 0.4647 - acc: 0.7450 - val_loss: 0.2816 - val_acc: 0.8821\n",
      "Epoch 2/2\n",
      "25000/25000 [==============================] - 71s 3ms/step - loss: 0.2197 - acc: 0.9134 - val_loss: 0.2780 - val_acc: 0.8832\n",
      "ACC: 88.32%\n"
     ]
    }
   ],
   "source": [
    "top_words = 5000\n",
    "(X_train, y_train),(X_test, y_test) = imdb.load_data(nb_words=top_words)\n",
    "max_words = 500\n",
    "X_train = sequence.pad_sequences(X_train, maxlen=max_words)\n",
    "X_test = sequence.pad_sequences(X_test, maxlen=max_words)\n",
    "model = Sequential()\n",
    "model.add(Embedding(top_words, 32, input_length=max_words))\n",
    "model.add(Convolution1D(nb_filter=32, filter_length=3, border_mode='same', activation='relu'))\n",
    "model.add(MaxPooling1D(pool_length=2))\n",
    "model.add(Flatten())\n",
    "model.add(Dense(250, activation='relu'))\n",
    "model.add(Dense(1, activation='sigmoid'))\n",
    "model.compile(loss='binary_crossentropy', optimizer='adam', metrics=['accuracy'])\n",
    "print(model.summary())\n",
    "model.fit(X_train, y_train, validation_data=(X_test, y_test), nb_epoch = 2, batch_size=128, verbose=1)\n",
    "scores = model.evaluate(X_test, y_test, verbose=0)\n",
    "print('ACC: %.2f%%' % (scores[1]*100))\n"
   ]
  },
  {
   "cell_type": "code",
   "execution_count": 1,
   "metadata": {},
   "outputs": [
    {
     "name": "stderr",
     "output_type": "stream",
     "text": [
      "Using TensorFlow backend.\n"
     ]
    }
   ],
   "source": [
    "# Random Shifts\n",
    "from keras.datasets import mnist\n",
    "from keras.preprocessing.image import ImageDataGenerator\n",
    "from matplotlib import pyplot\n"
   ]
  },
  {
   "cell_type": "code",
   "execution_count": 2,
   "metadata": {},
   "outputs": [
    {
     "name": "stderr",
     "output_type": "stream",
     "text": [
      "/Users/syem/anaconda3/lib/python3.7/site-packages/keras_preprocessing/image/image_data_generator.py:940: UserWarning: Expected input to be images (as Numpy array) following the data format convention \"channels_last\" (channels on axis 3), i.e. expected either 1, 3 or 4 channels on axis 3. However, it was passed an array with shape (60000, 1, 28, 28) (28 channels).\n",
      "  ' channels).')\n",
      "/Users/syem/anaconda3/lib/python3.7/site-packages/keras_preprocessing/image/numpy_array_iterator.py:127: UserWarning: NumpyArrayIterator is set to use the data format convention \"channels_last\" (channels on axis 3), i.e. expected either 1, 3, or 4 channels on axis 3. However, it was passed an array with shape (60000, 1, 28, 28) (28 channels).\n",
      "  str(self.x.shape[channels_axis]) + ' channels).')\n"
     ]
    },
    {
     "data": {
      "image/png": "[encoded data removed]",
      "text/plain": [
       "<Figure size 432x288 with 9 Axes>"
      ]
     },
     "metadata": {
      "needs_background": "light"
     },
     "output_type": "display_data"
    }
   ],
   "source": [
    "(X_train, y_train), (X_test, y_test) = mnist.load_data()\n",
    "X_train = X_train.reshape(X_train.shape[0], 1, 28, 28)\n",
    "X_test = X_test.reshape(X_test.shape[0], 1, 28, 28)\n",
    "X_train = X_train.astype('float32')\n",
    "X_test = X_test.astype('float32')\n",
    "shift = 0.2\n",
    "datagen = ImageDataGenerator(width_shift_range=shift, height_shift_range = shift)\n",
    "datagen.fit(X_train)\n",
    "\n",
    "for X_batch, y_batch in datagen.flow(X_train, y_train, batch_size=9):\n",
    "    for i in range(0, 9):\n",
    "        pyplot.subplot(330 + 1 + i)\n",
    "        pyplot.imshow(X_batch[i].reshape(28, 28), cmap=pyplot.get_cmap('gray'))\n",
    "    pyplot.show()\n",
    "    break\n",
    "\n"
   ]
  },
  {
   "cell_type": "code",
   "execution_count": 3,
   "metadata": {},
   "outputs": [
    {
     "data": {
      "image/png": "[encoded data removed]",
      "text/plain": [
       "<Figure size 432x288 with 9 Axes>"
      ]
     },
     "metadata": {
      "needs_background": "light"
     },
     "output_type": "display_data"
    }
   ],
   "source": [
    "(X_train, y_train), (X_test, y_test) = mnist.load_data()\n",
    "X_train = X_train.reshape(X_train.shape[0], 1, 28, 28)\n",
    "X_test = X_test.reshape(X_test.shape[0], 1, 28, 28)\n",
    "X_train = X_train.astype('float32')\n",
    "X_test = X_test.astype('float32')\n",
    "datagen = ImageDataGenerator(rotation_range=90)\n",
    "datagen.fit(X_train)\n",
    "\n",
    "for X_batch, y_batch in datagen.flow(X_train, y_train, batch_size=9):\n",
    "    for i in range(0,9):\n",
    "        pyplot.subplot(330 + 1 + i)\n",
    "        pyplot.imshow(X_batch[i].reshape(28, 28), cmap = pyplot.get_cmap('gray'))\n",
    "    pyplot.show()\n",
    "    break"
   ]
  },
  {
   "cell_type": "code",
   "execution_count": 4,
   "metadata": {},
   "outputs": [],
   "source": [
    "import numpy\n",
    "import matplotlib.pyplot as plt\n",
    "import pandas\n",
    "import math\n",
    "from keras.models import Sequential\n",
    "from keras.layers import Dense"
   ]
  },
  {
   "cell_type": "code",
   "execution_count": 1,
   "metadata": {},
   "outputs": [
    {
     "name": "stderr",
     "output_type": "stream",
     "text": [
      "Using TensorFlow backend.\n"
     ]
    }
   ],
   "source": [
    "import numpy\n",
    "import matplotlib.pyplot as plt\n",
    "import pandas\n",
    "import math\n",
    "from keras.models import Sequential\n",
    "from keras.layers import Dense"
   ]
  },
  {
   "cell_type": "code",
   "execution_count": 2,
   "metadata": {},
   "outputs": [],
   "source": [
    "def create_dataset(dataset, look_back=1):\n",
    "    dataX, dataY = [], []\n",
    "    for i  in range(len(dataset)- look_back - 1):\n",
    "        a = dataset[i:(i+look_back), 0]\n",
    "        dataX.append(a)\n",
    "        dataY.append(dataset[i + look_back, 0])\n",
    "    return numpy.array(dataX), numpy.array(dataY)\n",
    "\n"
   ]
  },
  {
   "cell_type": "code",
   "execution_count": 3,
   "metadata": {},
   "outputs": [],
   "source": [
    "dataframe = pandas.read_csv('Downloads/international_airline.csv', usecols=[1], engine='python', skipfooter=3)\n",
    "dataset = dataframe.values\n",
    "dataset = dataset.astype('float32')\n"
   ]
  },
  {
   "cell_type": "code",
   "execution_count": 4,
   "metadata": {},
   "outputs": [
    {
     "name": "stdout",
     "output_type": "stream",
     "text": [
      "96 48\n"
     ]
    }
   ],
   "source": [
    "train_size = int(len(dataset) * 0.67)\n",
    "test_size = len(dataset) - train_size\n",
    "train, test = dataset[0: train_size, : ], dataset[train_size:len(dataset), :]\n",
    "print(len(train), len(test))\n",
    "\n",
    "look_back = 10\n",
    "trainX, trainY = create_dataset(train, look_back)\n",
    "testX, testY = create_dataset(test, look_back)\n"
   ]
  },
  {
   "cell_type": "code",
   "execution_count": 5,
   "metadata": {},
   "outputs": [
    {
     "name": "stderr",
     "output_type": "stream",
     "text": [
      "WARNING: Logging before flag parsing goes to stderr.\n",
      "W1116 16:45:27.717541 140735902135168 deprecation_wrapper.py:119] From /Users/syem/anaconda3/lib/python3.7/site-packages/keras/backend/tensorflow_backend.py:66: The name tf.get_default_graph is deprecated. Please use tf.compat.v1.get_default_graph instead.\n",
      "\n",
      "W1116 16:45:27.813618 140735902135168 deprecation_wrapper.py:119] From /Users/syem/anaconda3/lib/python3.7/site-packages/keras/backend/tensorflow_backend.py:541: The name tf.placeholder is deprecated. Please use tf.compat.v1.placeholder instead.\n",
      "\n",
      "W1116 16:45:27.819833 140735902135168 deprecation_wrapper.py:119] From /Users/syem/anaconda3/lib/python3.7/site-packages/keras/backend/tensorflow_backend.py:4432: The name tf.random_uniform is deprecated. Please use tf.random.uniform instead.\n",
      "\n",
      "W1116 16:45:27.873337 140735902135168 deprecation_wrapper.py:119] From /Users/syem/anaconda3/lib/python3.7/site-packages/keras/optimizers.py:793: The name tf.train.Optimizer is deprecated. Please use tf.compat.v1.train.Optimizer instead.\n",
      "\n",
      "/Users/syem/anaconda3/lib/python3.7/site-packages/ipykernel_launcher.py:5: UserWarning: The `nb_epoch` argument in `fit` has been renamed `epochs`.\n",
      "  \"\"\"\n",
      "W1116 16:45:28.157987 140735902135168 deprecation_wrapper.py:119] From /Users/syem/anaconda3/lib/python3.7/site-packages/keras/backend/tensorflow_backend.py:1033: The name tf.assign_add is deprecated. Please use tf.compat.v1.assign_add instead.\n",
      "\n",
      "W1116 16:45:28.328432 140735902135168 deprecation_wrapper.py:119] From /Users/syem/anaconda3/lib/python3.7/site-packages/keras/backend/tensorflow_backend.py:1020: The name tf.assign is deprecated. Please use tf.compat.v1.assign instead.\n",
      "\n"
     ]
    },
    {
     "name": "stdout",
     "output_type": "stream",
     "text": [
      "Epoch 1/200\n",
      " - 2s - loss: 3315.1528\n",
      "Epoch 2/200\n",
      " - 0s - loss: 1879.0844\n",
      "Epoch 3/200\n",
      " - 0s - loss: 1453.7146\n",
      "Epoch 4/200\n",
      " - 0s - loss: 1281.1249\n",
      "Epoch 5/200\n",
      " - 0s - loss: 1249.9112\n",
      "Epoch 6/200\n",
      " - 0s - loss: 1221.4323\n",
      "Epoch 7/200\n",
      " - 0s - loss: 1156.9193\n",
      "Epoch 8/200\n",
      " - 0s - loss: 1201.5468\n",
      "Epoch 9/200\n",
      " - 0s - loss: 1113.4180\n",
      "Epoch 10/200\n",
      " - 0s - loss: 1015.1666\n",
      "Epoch 11/200\n",
      " - 0s - loss: 990.2016\n",
      "Epoch 12/200\n",
      " - 0s - loss: 969.2922\n",
      "Epoch 13/200\n",
      " - 0s - loss: 907.0830\n",
      "Epoch 14/200\n",
      " - 0s - loss: 936.6245\n",
      "Epoch 15/200\n",
      " - 0s - loss: 852.0748\n",
      "Epoch 16/200\n",
      " - 0s - loss: 871.8822\n",
      "Epoch 17/200\n",
      " - 0s - loss: 811.7629\n",
      "Epoch 18/200\n",
      " - 0s - loss: 826.1095\n",
      "Epoch 19/200\n",
      " - 0s - loss: 788.2915\n",
      "Epoch 20/200\n",
      " - 0s - loss: 753.6637\n",
      "Epoch 21/200\n",
      " - 0s - loss: 721.6898\n",
      "Epoch 22/200\n",
      " - 0s - loss: 691.7842\n",
      "Epoch 23/200\n",
      " - 0s - loss: 766.6132\n",
      "Epoch 24/200\n",
      " - 0s - loss: 680.5006\n",
      "Epoch 25/200\n",
      " - 0s - loss: 705.7302\n",
      "Epoch 26/200\n",
      " - 0s - loss: 703.9904\n",
      "Epoch 27/200\n",
      " - 0s - loss: 598.9858\n",
      "Epoch 28/200\n",
      " - 0s - loss: 579.1864\n",
      "Epoch 29/200\n",
      " - 0s - loss: 616.5048\n",
      "Epoch 30/200\n",
      " - 0s - loss: 548.0959\n",
      "Epoch 31/200\n",
      " - 0s - loss: 620.8978\n",
      "Epoch 32/200\n",
      " - 0s - loss: 545.9364\n",
      "Epoch 33/200\n",
      " - 0s - loss: 542.3582\n",
      "Epoch 34/200\n",
      " - 0s - loss: 534.5277\n",
      "Epoch 35/200\n",
      " - 0s - loss: 519.1644\n",
      "Epoch 36/200\n",
      " - 0s - loss: 494.0727\n",
      "Epoch 37/200\n",
      " - 0s - loss: 484.5430\n",
      "Epoch 38/200\n",
      " - 0s - loss: 480.5678\n",
      "Epoch 39/200\n",
      " - 0s - loss: 502.0867\n",
      "Epoch 40/200\n",
      " - 0s - loss: 508.1024\n",
      "Epoch 41/200\n",
      " - 0s - loss: 476.2028\n",
      "Epoch 42/200\n",
      " - 0s - loss: 473.6554\n",
      "Epoch 43/200\n",
      " - 0s - loss: 523.4113\n",
      "Epoch 44/200\n",
      " - 0s - loss: 449.8713\n",
      "Epoch 45/200\n",
      " - 0s - loss: 512.1375\n",
      "Epoch 46/200\n",
      " - 0s - loss: 486.2814\n",
      "Epoch 47/200\n",
      " - 0s - loss: 430.6882\n",
      "Epoch 48/200\n",
      " - 0s - loss: 415.8738\n",
      "Epoch 49/200\n",
      " - 0s - loss: 422.1309\n",
      "Epoch 50/200\n",
      " - 0s - loss: 455.8282\n",
      "Epoch 51/200\n",
      " - 0s - loss: 415.9615\n",
      "Epoch 52/200\n",
      " - 0s - loss: 429.7703\n",
      "Epoch 53/200\n",
      " - 0s - loss: 407.7471\n",
      "Epoch 54/200\n",
      " - 0s - loss: 414.6281\n",
      "Epoch 55/200\n",
      " - 0s - loss: 394.6101\n",
      "Epoch 56/200\n",
      " - 0s - loss: 415.7321\n",
      "Epoch 57/200\n",
      " - 0s - loss: 489.2458\n",
      "Epoch 58/200\n",
      " - 0s - loss: 400.3050\n",
      "Epoch 59/200\n",
      " - 0s - loss: 384.4904\n",
      "Epoch 60/200\n",
      " - 0s - loss: 412.3934\n",
      "Epoch 61/200\n",
      " - 0s - loss: 409.2788\n",
      "Epoch 62/200\n",
      " - 0s - loss: 421.1129\n",
      "Epoch 63/200\n",
      " - 0s - loss: 420.0032\n",
      "Epoch 64/200\n",
      " - 0s - loss: 411.9753\n",
      "Epoch 65/200\n",
      " - 0s - loss: 380.8184\n",
      "Epoch 66/200\n",
      " - 0s - loss: 414.7292\n",
      "Epoch 67/200\n",
      " - 0s - loss: 400.3381\n",
      "Epoch 68/200\n",
      " - 0s - loss: 439.1014\n",
      "Epoch 69/200\n",
      " - 0s - loss: 419.4223\n",
      "Epoch 70/200\n",
      " - 0s - loss: 369.4153\n",
      "Epoch 71/200\n",
      " - 0s - loss: 406.7632\n",
      "Epoch 72/200\n",
      " - 0s - loss: 418.5063\n",
      "Epoch 73/200\n",
      " - 0s - loss: 382.1891\n",
      "Epoch 74/200\n",
      " - 0s - loss: 427.5776\n",
      "Epoch 75/200\n",
      " - 0s - loss: 433.0974\n",
      "Epoch 76/200\n",
      " - 0s - loss: 463.5799\n",
      "Epoch 77/200\n",
      " - 0s - loss: 406.1826\n",
      "Epoch 78/200\n",
      " - 0s - loss: 375.2399\n",
      "Epoch 79/200\n",
      " - 0s - loss: 403.6736\n",
      "Epoch 80/200\n",
      " - 0s - loss: 423.4787\n",
      "Epoch 81/200\n",
      " - 0s - loss: 370.1226\n",
      "Epoch 82/200\n",
      " - 0s - loss: 381.2634\n",
      "Epoch 83/200\n",
      " - 0s - loss: 362.8464\n",
      "Epoch 84/200\n",
      " - 0s - loss: 445.2589\n",
      "Epoch 85/200\n",
      " - 0s - loss: 420.0037\n",
      "Epoch 86/200\n",
      " - 0s - loss: 419.0322\n",
      "Epoch 87/200\n",
      " - 0s - loss: 374.2999\n",
      "Epoch 88/200\n",
      " - 0s - loss: 415.7894\n",
      "Epoch 89/200\n",
      " - 0s - loss: 358.0840\n",
      "Epoch 90/200\n",
      " - 0s - loss: 391.8244\n",
      "Epoch 91/200\n",
      " - 0s - loss: 355.7063\n",
      "Epoch 92/200\n",
      " - 0s - loss: 360.6424\n",
      "Epoch 93/200\n",
      " - 0s - loss: 394.9629\n",
      "Epoch 94/200\n",
      " - 0s - loss: 389.9283\n",
      "Epoch 95/200\n",
      " - 0s - loss: 373.8946\n",
      "Epoch 96/200\n",
      " - 0s - loss: 374.7795\n",
      "Epoch 97/200\n",
      " - 0s - loss: 372.6105\n",
      "Epoch 98/200\n",
      " - 0s - loss: 404.3014\n",
      "Epoch 99/200\n",
      " - 0s - loss: 392.6610\n",
      "Epoch 100/200\n",
      " - 0s - loss: 438.2297\n",
      "Epoch 101/200\n",
      " - 0s - loss: 361.9217\n",
      "Epoch 102/200\n",
      " - 0s - loss: 373.6989\n",
      "Epoch 103/200\n",
      " - 0s - loss: 424.8662\n",
      "Epoch 104/200\n",
      " - 0s - loss: 382.3251\n",
      "Epoch 105/200\n",
      " - 0s - loss: 363.6324\n",
      "Epoch 106/200\n",
      " - 0s - loss: 374.0935\n",
      "Epoch 107/200\n",
      " - 0s - loss: 365.5524\n",
      "Epoch 108/200\n",
      " - 0s - loss: 387.0588\n",
      "Epoch 109/200\n",
      " - 0s - loss: 349.8198\n",
      "Epoch 110/200\n",
      " - 0s - loss: 404.7617\n",
      "Epoch 111/200\n",
      " - 0s - loss: 356.2084\n",
      "Epoch 112/200\n",
      " - 0s - loss: 361.6284\n",
      "Epoch 113/200\n",
      " - 0s - loss: 377.9712\n",
      "Epoch 114/200\n",
      " - 0s - loss: 382.6807\n",
      "Epoch 115/200\n",
      " - 0s - loss: 452.7839\n",
      "Epoch 116/200\n",
      " - 0s - loss: 357.0579\n",
      "Epoch 117/200\n",
      " - 0s - loss: 365.7770\n",
      "Epoch 118/200\n",
      " - 0s - loss: 368.0560\n",
      "Epoch 119/200\n",
      " - 0s - loss: 350.7393\n",
      "Epoch 120/200\n",
      " - 0s - loss: 357.7739\n",
      "Epoch 121/200\n",
      " - 0s - loss: 360.5512\n",
      "Epoch 122/200\n",
      " - 0s - loss: 368.4290\n",
      "Epoch 123/200\n",
      " - 0s - loss: 359.4742\n",
      "Epoch 124/200\n",
      " - 0s - loss: 377.3840\n",
      "Epoch 125/200\n",
      " - 0s - loss: 379.4814\n",
      "Epoch 126/200\n",
      " - 0s - loss: 352.6634\n",
      "Epoch 127/200\n",
      " - 0s - loss: 359.5540\n",
      "Epoch 128/200\n",
      " - 0s - loss: 364.8250\n",
      "Epoch 129/200\n",
      " - 0s - loss: 372.9941\n",
      "Epoch 130/200\n",
      " - 0s - loss: 381.1208\n",
      "Epoch 131/200\n",
      " - 0s - loss: 353.9772\n",
      "Epoch 132/200\n",
      " - 0s - loss: 377.3899\n",
      "Epoch 133/200\n",
      " - 0s - loss: 361.9802\n",
      "Epoch 134/200\n",
      " - 0s - loss: 385.4064\n",
      "Epoch 135/200\n",
      " - 0s - loss: 388.0503\n",
      "Epoch 136/200\n",
      " - 0s - loss: 396.3109\n",
      "Epoch 137/200\n",
      " - 0s - loss: 353.5509\n",
      "Epoch 138/200\n",
      " - 0s - loss: 349.0396\n",
      "Epoch 139/200\n",
      " - 0s - loss: 368.8382\n",
      "Epoch 140/200\n",
      " - 0s - loss: 346.0629\n",
      "Epoch 141/200\n",
      " - 0s - loss: 386.9872\n",
      "Epoch 142/200\n",
      " - 0s - loss: 353.0143\n",
      "Epoch 143/200\n",
      " - 0s - loss: 375.8424\n",
      "Epoch 144/200\n",
      " - 0s - loss: 343.3580\n",
      "Epoch 145/200\n",
      " - 0s - loss: 354.6624\n",
      "Epoch 146/200\n",
      " - 0s - loss: 364.8070\n",
      "Epoch 147/200\n",
      " - 0s - loss: 359.9737\n",
      "Epoch 148/200\n",
      " - 0s - loss: 420.9123\n",
      "Epoch 149/200\n",
      " - 0s - loss: 452.8222\n",
      "Epoch 150/200\n",
      " - 0s - loss: 342.2626\n",
      "Epoch 151/200\n",
      " - 0s - loss: 354.6261\n",
      "Epoch 152/200\n",
      " - 0s - loss: 390.4960\n",
      "Epoch 153/200\n",
      " - 0s - loss: 396.5569\n",
      "Epoch 154/200\n",
      " - 0s - loss: 407.7653\n",
      "Epoch 155/200\n",
      " - 0s - loss: 348.7276\n",
      "Epoch 156/200\n",
      " - 0s - loss: 393.1519\n",
      "Epoch 157/200\n",
      " - 0s - loss: 397.2154\n",
      "Epoch 158/200\n",
      " - 0s - loss: 370.7046\n",
      "Epoch 159/200\n",
      " - 0s - loss: 390.5159\n",
      "Epoch 160/200\n",
      " - 0s - loss: 365.1404\n",
      "Epoch 161/200\n",
      " - 0s - loss: 375.6515\n",
      "Epoch 162/200\n",
      " - 0s - loss: 385.4018\n",
      "Epoch 163/200\n",
      " - 0s - loss: 339.8433\n",
      "Epoch 164/200\n",
      " - 0s - loss: 358.1153\n",
      "Epoch 165/200\n",
      " - 0s - loss: 423.3042\n",
      "Epoch 166/200\n",
      " - 0s - loss: 353.7847\n",
      "Epoch 167/200\n",
      " - 0s - loss: 344.6912\n",
      "Epoch 168/200\n",
      " - 0s - loss: 360.4312\n",
      "Epoch 169/200\n",
      " - 0s - loss: 344.0108\n",
      "Epoch 170/200\n",
      " - 0s - loss: 368.9050\n",
      "Epoch 171/200\n",
      " - 0s - loss: 368.9447\n",
      "Epoch 172/200\n",
      " - 0s - loss: 349.6021\n",
      "Epoch 173/200\n",
      " - 0s - loss: 339.1535\n",
      "Epoch 174/200\n",
      " - 0s - loss: 346.2841\n",
      "Epoch 175/200\n",
      " - 0s - loss: 381.3183\n",
      "Epoch 176/200\n",
      " - 0s - loss: 354.4507\n",
      "Epoch 177/200\n",
      " - 0s - loss: 368.5460\n",
      "Epoch 178/200\n",
      " - 0s - loss: 360.9583\n",
      "Epoch 179/200\n",
      " - 0s - loss: 364.2224\n",
      "Epoch 180/200\n",
      " - 0s - loss: 369.5260\n",
      "Epoch 181/200\n",
      " - 0s - loss: 376.2866\n",
      "Epoch 182/200\n",
      " - 0s - loss: 365.6192\n",
      "Epoch 183/200\n",
      " - 0s - loss: 401.0086\n",
      "Epoch 184/200\n",
      " - 0s - loss: 344.7889\n",
      "Epoch 185/200\n",
      " - 0s - loss: 357.4932\n",
      "Epoch 186/200\n",
      " - 0s - loss: 339.2639\n",
      "Epoch 187/200\n",
      " - 0s - loss: 345.8889\n",
      "Epoch 188/200\n",
      " - 0s - loss: 373.2343\n",
      "Epoch 189/200\n",
      " - 0s - loss: 370.1589\n",
      "Epoch 190/200\n",
      " - 0s - loss: 339.0097\n",
      "Epoch 191/200\n",
      " - 0s - loss: 345.5491\n",
      "Epoch 192/200\n",
      " - 0s - loss: 349.3427\n",
      "Epoch 193/200\n",
      " - 0s - loss: 402.8644\n",
      "Epoch 194/200\n",
      " - 0s - loss: 343.8755\n",
      "Epoch 195/200\n",
      " - 0s - loss: 365.5915\n",
      "Epoch 196/200\n",
      " - 0s - loss: 377.1659\n",
      "Epoch 197/200\n",
      " - 0s - loss: 346.0135\n",
      "Epoch 198/200\n",
      " - 0s - loss: 365.7926\n",
      "Epoch 199/200\n",
      " - 0s - loss: 333.9521\n",
      "Epoch 200/200\n",
      " - 0s - loss: 338.9886\n"
     ]
    },
    {
     "data": {
      "text/plain": [
       "<keras.callbacks.History at 0xb3f964e10>"
      ]
     },
     "execution_count": 5,
     "metadata": {},
     "output_type": "execute_result"
    }
   ],
   "source": [
    "model = Sequential()\n",
    "model.add(Dense(8, input_dim = look_back, activation='relu'))\n",
    "model.add(Dense(1))\n",
    "model.compile(loss='mean_squared_error', optimizer='adam')\n",
    "model.fit(trainX, trainY, nb_epoch=200, batch_size=2, verbose=2)\n"
   ]
  },
  {
   "cell_type": "code",
   "execution_count": 6,
   "metadata": {},
   "outputs": [
    {
     "name": "stdout",
     "output_type": "stream",
     "text": [
      "Train Score: 331.82 MSE (18.22 RMSE)\n",
      "Test Score: 1398.85 MSE (37.40 RMSE)\n"
     ]
    }
   ],
   "source": [
    "trainScore = model.evaluate(trainX, trainY, verbose=0)\n",
    "print('Train Score: %.2f MSE (%.2f RMSE)' % (trainScore, math.sqrt(trainScore)))\n",
    "testScore = model.evaluate(testX, testY, verbose=0)\n",
    "print('Test Score: %.2f MSE (%.2f RMSE)' % (testScore, math.sqrt(testScore)))\n",
    "trainPredict = model.predict(trainX)\n",
    "testPredict = model.predict(testX)\n"
   ]
  },
  {
   "cell_type": "code",
   "execution_count": null,
   "metadata": {},
   "outputs": [],
   "source": [
    "trainPredictPlot = numpy.empty_like(dataset)\n",
    "trainPredictPlot[:,:] = numpy.nan\n",
    "trainPredictPlot[look_back:len(trainPredict)+look_back, :] = trainPredict\n",
    "\n",
    "testPredictPlot = numpy.empty_like(dataset)\n",
    "testPredictPlot[:, :] = numpy.nan\n",
    "testPredictPlot[len(trainPredict)+(look_back*2)+ 1:len(dataset)-1, :] = testPredict\n",
    "plt.plot(dataset)\n",
    "plt.plot(trainPredictPlot)\n",
    "plt.plot(testPredictPlot)\n",
    "plt.show()\n"
   ]
  },
  {
   "cell_type": "code",
   "execution_count": 1,
   "metadata": {},
   "outputs": [
    {
     "name": "stderr",
     "output_type": "stream",
     "text": [
      "Using TensorFlow backend.\n"
     ]
    }
   ],
   "source": [
    "# CNN for the IMDB problem\n",
    "import numpy\n",
    "from keras.datasets import imdb\n",
    "from keras.models import Sequential\n",
    "from keras.layers import Dense\n",
    "from keras.layers import Flatten\n",
    "from keras.layers.convolutional import Convolution1D\n",
    "from keras.layers.convolutional import MaxPooling1D\n",
    "from keras.layers.embeddings import Embedding\n",
    "from keras.preprocessing import sequence"
   ]
  },
  {
   "cell_type": "code",
   "execution_count": 2,
   "metadata": {},
   "outputs": [
    {
     "name": "stderr",
     "output_type": "stream",
     "text": [
      "/Users/syem/anaconda3/lib/python3.7/site-packages/keras/datasets/imdb.py:49: UserWarning: The `nb_words` argument in `load_data` has been renamed `num_words`.\n",
      "  warnings.warn('The `nb_words` argument in `load_data` '\n",
      "WARNING: Logging before flag parsing goes to stderr.\n",
      "W1117 15:24:59.286227 140735902135168 deprecation_wrapper.py:119] From /Users/syem/anaconda3/lib/python3.7/site-packages/keras/backend/tensorflow_backend.py:66: The name tf.get_default_graph is deprecated. Please use tf.compat.v1.get_default_graph instead.\n",
      "\n",
      "W1117 15:24:59.453991 140735902135168 deprecation_wrapper.py:119] From /Users/syem/anaconda3/lib/python3.7/site-packages/keras/backend/tensorflow_backend.py:541: The name tf.placeholder is deprecated. Please use tf.compat.v1.placeholder instead.\n",
      "\n",
      "W1117 15:24:59.497336 140735902135168 deprecation_wrapper.py:119] From /Users/syem/anaconda3/lib/python3.7/site-packages/keras/backend/tensorflow_backend.py:4432: The name tf.random_uniform is deprecated. Please use tf.random.uniform instead.\n",
      "\n",
      "/Users/syem/anaconda3/lib/python3.7/site-packages/ipykernel_launcher.py:8: UserWarning: Update your `Conv1D` call to the Keras 2 API: `Conv1D(activation=\"relu\", filters=32, kernel_size=3, padding=\"same\")`\n",
      "  \n",
      "/Users/syem/anaconda3/lib/python3.7/site-packages/ipykernel_launcher.py:9: UserWarning: Update your `MaxPooling1D` call to the Keras 2 API: `MaxPooling1D(pool_size=2)`\n",
      "  if __name__ == '__main__':\n",
      "W1117 15:24:59.597539 140735902135168 deprecation_wrapper.py:119] From /Users/syem/anaconda3/lib/python3.7/site-packages/keras/backend/tensorflow_backend.py:4267: The name tf.nn.max_pool is deprecated. Please use tf.nn.max_pool2d instead.\n",
      "\n",
      "W1117 15:24:59.690148 140735902135168 deprecation_wrapper.py:119] From /Users/syem/anaconda3/lib/python3.7/site-packages/keras/optimizers.py:793: The name tf.train.Optimizer is deprecated. Please use tf.compat.v1.train.Optimizer instead.\n",
      "\n",
      "W1117 15:24:59.720788 140735902135168 deprecation_wrapper.py:119] From /Users/syem/anaconda3/lib/python3.7/site-packages/keras/backend/tensorflow_backend.py:3657: The name tf.log is deprecated. Please use tf.math.log instead.\n",
      "\n",
      "W1117 15:24:59.734672 140735902135168 deprecation.py:323] From /Users/syem/anaconda3/lib/python3.7/site-packages/tensorflow/python/ops/nn_impl.py:180: add_dispatch_support.<locals>.wrapper (from tensorflow.python.ops.array_ops) is deprecated and will be removed in a future version.\n",
      "Instructions for updating:\n",
      "Use tf.where in 2.0, which has the same broadcast rule as np.where\n",
      "/Users/syem/anaconda3/lib/python3.7/site-packages/ipykernel_launcher.py:15: UserWarning: The `nb_epoch` argument in `fit` has been renamed `epochs`.\n",
      "  from ipykernel import kernelapp as app\n"
     ]
    },
    {
     "name": "stdout",
     "output_type": "stream",
     "text": [
      "Model: \"sequential_1\"\n",
      "_________________________________________________________________\n",
      "Layer (type)                 Output Shape              Param #   \n",
      "=================================================================\n",
      "embedding_1 (Embedding)      (None, 500, 32)           160000    \n",
      "_________________________________________________________________\n",
      "conv1d_1 (Conv1D)            (None, 500, 32)           3104      \n",
      "_________________________________________________________________\n",
      "max_pooling1d_1 (MaxPooling1 (None, 250, 32)           0         \n",
      "_________________________________________________________________\n",
      "flatten_1 (Flatten)          (None, 8000)              0         \n",
      "_________________________________________________________________\n",
      "dense_1 (Dense)              (None, 250)               2000250   \n",
      "_________________________________________________________________\n",
      "dense_2 (Dense)              (None, 1)                 251       \n",
      "=================================================================\n",
      "Total params: 2,163,605\n",
      "Trainable params: 2,163,605\n",
      "Non-trainable params: 0\n",
      "_________________________________________________________________\n",
      "None\n"
     ]
    },
    {
     "name": "stderr",
     "output_type": "stream",
     "text": [
      "W1117 15:25:00.156815 140735902135168 deprecation_wrapper.py:119] From /Users/syem/anaconda3/lib/python3.7/site-packages/keras/backend/tensorflow_backend.py:1033: The name tf.assign_add is deprecated. Please use tf.compat.v1.assign_add instead.\n",
      "\n"
     ]
    },
    {
     "name": "stdout",
     "output_type": "stream",
     "text": [
      "Train on 25000 samples, validate on 25000 samples\n",
      "Epoch 1/2\n",
      "25000/25000 [==============================] - 85s 3ms/step - loss: 0.5203 - acc: 0.7057 - val_loss: 0.3296 - val_acc: 0.8607\n",
      "Epoch 2/2\n",
      "25000/25000 [==============================] - 77s 3ms/step - loss: 0.2322 - acc: 0.9076 - val_loss: 0.2740 - val_acc: 0.8857\n",
      "ACC: 88.57%\n"
     ]
    }
   ],
   "source": [
    "top_words = 5000\n",
    "(X_train, y_train), (X_test,y_test) = imdb.load_data(nb_words=top_words)\n",
    "max_words = 500\n",
    "X_train = sequence.pad_sequences(X_train, maxlen=max_words)\n",
    "X_test = sequence.pad_sequences(X_test, maxlen=max_words)\n",
    "model = Sequential()\n",
    "model.add(Embedding(top_words, 32, input_length=max_words))\n",
    "model.add(Convolution1D(nb_filter=32, filter_length=3, border_mode='same', activation='relu'))\n",
    "model.add(MaxPooling1D(pool_length=2))\n",
    "model.add(Flatten())\n",
    "model.add(Dense(250, activation='relu'))\n",
    "model.add(Dense(1, activation='sigmoid'))\n",
    "model.compile(loss='binary_crossentropy', optimizer='adam', metrics=['accuracy'])\n",
    "print(model.summary())\n",
    "model.fit(X_train, y_train, validation_data=(X_test, y_test), nb_epoch=2, batch_size=128, verbose=1)\n",
    "scores = model.evaluate(X_test, y_test, verbose=0)\n",
    "print('ACC: %.2f%%' % (scores[1]*100))\n",
    "\n"
   ]
  },
  {
   "cell_type": "code",
   "execution_count": 3,
   "metadata": {},
   "outputs": [],
   "source": [
    "# MLP for the IMDB problem\n",
    "import numpy\n",
    "from keras.datasets import imdb\n",
    "from keras.models import Sequential\n",
    "from keras.layers import Dense\n",
    "from keras.layers import Flatten\n",
    "from keras.layers.embeddings import Embedding\n",
    "from keras.preprocessing import sequence"
   ]
  },
  {
   "cell_type": "code",
   "execution_count": 4,
   "metadata": {},
   "outputs": [
    {
     "name": "stderr",
     "output_type": "stream",
     "text": [
      "/Users/syem/anaconda3/lib/python3.7/site-packages/keras/datasets/imdb.py:49: UserWarning: The `nb_words` argument in `load_data` has been renamed `num_words`.\n",
      "  warnings.warn('The `nb_words` argument in `load_data` '\n"
     ]
    },
    {
     "name": "stdout",
     "output_type": "stream",
     "text": [
      "Model: \"sequential_2\"\n",
      "_________________________________________________________________\n",
      "Layer (type)                 Output Shape              Param #   \n",
      "=================================================================\n",
      "embedding_2 (Embedding)      (None, 500, 32)           160000    \n",
      "_________________________________________________________________\n",
      "flatten_2 (Flatten)          (None, 16000)             0         \n",
      "_________________________________________________________________\n",
      "dense_3 (Dense)              (None, 250)               4000250   \n",
      "_________________________________________________________________\n",
      "dense_4 (Dense)              (None, 1)                 251       \n",
      "=================================================================\n",
      "Total params: 4,160,501\n",
      "Trainable params: 4,160,501\n",
      "Non-trainable params: 0\n",
      "_________________________________________________________________\n",
      "None\n"
     ]
    },
    {
     "name": "stderr",
     "output_type": "stream",
     "text": [
      "/Users/syem/anaconda3/lib/python3.7/site-packages/ipykernel_launcher.py:14: UserWarning: The `nb_epoch` argument in `fit` has been renamed `epochs`.\n",
      "  \n"
     ]
    },
    {
     "name": "stdout",
     "output_type": "stream",
     "text": [
      "Train on 25000 samples, validate on 25000 samples\n",
      "Epoch 1/2\n",
      "25000/25000 [==============================] - 55s 2ms/step - loss: 0.4867 - acc: 0.7400 - val_loss: 0.2971 - val_acc: 0.8736\n",
      "Epoch 2/2\n",
      "25000/25000 [==============================] - 49s 2ms/step - loss: 0.1844 - acc: 0.9281 - val_loss: 0.3002 - val_acc: 0.8754\n",
      "ACC: 87.54%\n"
     ]
    }
   ],
   "source": [
    "top_words = 5000\n",
    "(X_train, y_train), (X_test, y_test) = imdb.load_data(nb_words=top_words)\n",
    "max_words = 500\n",
    "X_train = sequence.pad_sequences(X_train, maxlen=max_words)\n",
    "X_test = sequence.pad_sequences(X_test, maxlen=max_words)\n",
    "\n",
    "model = Sequential()\n",
    "model.add(Embedding(top_words, 32, input_length=max_words))\n",
    "model.add(Flatten())\n",
    "model.add(Dense(250, activation='relu'))\n",
    "model.add(Dense(1, activation='sigmoid'))\n",
    "model.compile(loss='binary_crossentropy', optimizer='adam', metrics=['accuracy'])\n",
    "print(model.summary())\n",
    "model.fit(X_train, y_train, validation_data=(X_test, y_test), nb_epoch=2, batch_size=128, verbose=1)\n",
    "scores = model.evaluate(X_test, y_test, verbose=0)\n",
    "print('ACC: %.2f%%' % (scores[1]*100))\n"
   ]
  },
  {
   "cell_type": "code",
   "execution_count": 5,
   "metadata": {},
   "outputs": [],
   "source": [
    "# Save augmented images to file\n",
    "from keras.datasets import mnist\n",
    "from keras.preprocessing.image import ImageDataGenerator\n",
    "from matplotlib import pyplot\n",
    "import os\n",
    "from keras import backend as K"
   ]
  },
  {
   "cell_type": "code",
   "execution_count": 1,
   "metadata": {},
   "outputs": [
    {
     "name": "stderr",
     "output_type": "stream",
     "text": [
      "Using TensorFlow backend.\n"
     ]
    }
   ],
   "source": [
    "# Random Flips\n",
    "from keras.datasets import mnist\n",
    "from keras.preprocessing.image import ImageDataGenerator\n",
    "from matplotlib import pyplot"
   ]
  },
  {
   "cell_type": "code",
   "execution_count": 2,
   "metadata": {},
   "outputs": [
    {
     "name": "stderr",
     "output_type": "stream",
     "text": [
      "/Users/syem/anaconda3/lib/python3.7/site-packages/keras_preprocessing/image/image_data_generator.py:940: UserWarning: Expected input to be images (as Numpy array) following the data format convention \"channels_last\" (channels on axis 3), i.e. expected either 1, 3 or 4 channels on axis 3. However, it was passed an array with shape (60000, 1, 28, 28) (28 channels).\n",
      "  ' channels).')\n",
      "/Users/syem/anaconda3/lib/python3.7/site-packages/keras_preprocessing/image/numpy_array_iterator.py:127: UserWarning: NumpyArrayIterator is set to use the data format convention \"channels_last\" (channels on axis 3), i.e. expected either 1, 3, or 4 channels on axis 3. However, it was passed an array with shape (60000, 1, 28, 28) (28 channels).\n",
      "  str(self.x.shape[channels_axis]) + ' channels).')\n"
     ]
    },
    {
     "data": {
      "image/png": "[encoded data removed]",
      "text/plain": [
       "<Figure size 432x288 with 9 Axes>"
      ]
     },
     "metadata": {
      "needs_background": "light"
     },
     "output_type": "display_data"
    }
   ],
   "source": [
    "(X_train, y_train),(X_test, y_test) = mnist.load_data()\n",
    "X_train = X_train.reshape(X_train.shape[0],1,28,28)\n",
    "X_test = X_test.reshape(X_test.shape[0],1,28,28)\n",
    "X_train = X_train.astype('float32')\n",
    "X_test = X_test.astype('float32')\n",
    "datagen = ImageDataGenerator(horizontal_flip=True, vertical_flip=True)\n",
    "datagen.fit(X_train)\n",
    "for X_batch, y_batch in datagen.flow(X_train, y_train, batch_size=9):\n",
    "    for i in range(0, 9):\n",
    "        pyplot.subplot(330 + 1 + i)\n",
    "        pyplot.imshow(X_batch[i].reshape(28, 28), cmap=pyplot.get_cmap('gray'))\n",
    "    pyplot.show()\n",
    "    break\n"
   ]
  },
  {
   "cell_type": "code",
   "execution_count": 3,
   "metadata": {},
   "outputs": [],
   "source": [
    "# Random Shifts\n",
    "from keras.datasets import mnist\n",
    "from keras.preprocessing.image import ImageDataGenerator\n",
    "from matplotlib import pyplot"
   ]
  },
  {
   "cell_type": "code",
   "execution_count": 4,
   "metadata": {},
   "outputs": [
    {
     "data": {
      "image/png": "[encoded data removed]",
      "text/plain": [
       "<Figure size 432x288 with 9 Axes>"
      ]
     },
     "metadata": {
      "needs_background": "light"
     },
     "output_type": "display_data"
    }
   ],
   "source": [
    "(X_train, y_train), (X_test, y_test) = mnist.load_data()\n",
    "X_train = X_train.reshape(X_train.shape[0], 1, 28, 28)\n",
    "X_test = X_test.reshape(X_test.shape[0], 1, 28, 28)\n",
    "X_train = X_train.astype('float32')\n",
    "X_test = X_test.astype('float32')\n",
    "shift = 0.2\n",
    "datagen = ImageDataGenerator(width_shift_range = shift, height_shift_range=shift)\n",
    "datagen.fit(X_train)\n",
    "\n",
    "for X_batch, y_batch in datagen.flow(X_train, y_train, batch_size=9):\n",
    "    for i in range(0, 9):\n",
    "        pyplot.subplot(330 + 1 + i)\n",
    "        pyplot.imshow(X_batch[i].reshape(28, 28), cmap=pyplot.get_cmap('gray'))\n",
    "    pyplot.show()\n",
    "    break\n"
   ]
  },
  {
   "cell_type": "code",
   "execution_count": 5,
   "metadata": {},
   "outputs": [],
   "source": [
    "# Random Flips\n",
    "from keras.datasets import mnist\n",
    "from keras.preprocessing.image import ImageDataGenerator\n",
    "from matplotlib import pyplot"
   ]
  },
  {
   "cell_type": "code",
   "execution_count": 6,
   "metadata": {},
   "outputs": [
    {
     "data": {
      "image/png": "[encoded data removed]",
      "text/plain": [
       "<Figure size 432x288 with 9 Axes>"
      ]
     },
     "metadata": {
      "needs_background": "light"
     },
     "output_type": "display_data"
    }
   ],
   "source": [
    "(X_train, y_train), (X_test, y_test) = mnist.load_data()\n",
    "X_train = X_train.reshape(X_train.shape[0], 1, 28, 28)\n",
    "X_test = X_test.reshape(X_test.shape[0], 1, 28, 28)\n",
    "X_train = X_train.astype('float32')\n",
    "X_test = X_test.astype('float32')\n",
    "datagen = ImageDataGenerator(horizontal_flip=True, vertical_flip=True)\n",
    "datagen.fit(X_train)\n",
    "\n",
    "for X_batch, y_batch in datagen.flow(X_train, y_train, batch_size=9):\n",
    "    for i in range(0,9):\n",
    "        pyplot.subplot(330 + 1 + i)\n",
    "        pyplot.imshow(X_batch[i].reshape(28, 28), cmap=pyplot.get_cmap('gray'))\n",
    "    pyplot.show()\n",
    "    break\n"
   ]
  },
  {
   "cell_type": "code",
   "execution_count": 7,
   "metadata": {},
   "outputs": [],
   "source": [
    "# MLP for the IMDB problem\n",
    "import numpy\n",
    "from keras.datasets import imdb\n",
    "from keras.models import Sequential\n",
    "from keras.layers import Dense\n",
    "from keras.layers import Flatten\n",
    "from keras.layers.embeddings import Embedding\n",
    "from keras.preprocessing import sequence"
   ]
  },
  {
   "cell_type": "code",
   "execution_count": null,
   "metadata": {},
   "outputs": [
    {
     "name": "stderr",
     "output_type": "stream",
     "text": [
      "WARNING: Logging before flag parsing goes to stderr.\n",
      "W1118 13:51:59.750838 140735902135168 deprecation_wrapper.py:119] From /Users/syem/anaconda3/lib/python3.7/site-packages/keras/backend/tensorflow_backend.py:66: The name tf.get_default_graph is deprecated. Please use tf.compat.v1.get_default_graph instead.\n",
      "\n",
      "W1118 13:52:00.358085 140735902135168 deprecation_wrapper.py:119] From /Users/syem/anaconda3/lib/python3.7/site-packages/keras/backend/tensorflow_backend.py:541: The name tf.placeholder is deprecated. Please use tf.compat.v1.placeholder instead.\n",
      "\n",
      "W1118 13:52:00.406636 140735902135168 deprecation_wrapper.py:119] From /Users/syem/anaconda3/lib/python3.7/site-packages/keras/backend/tensorflow_backend.py:4432: The name tf.random_uniform is deprecated. Please use tf.random.uniform instead.\n",
      "\n",
      "W1118 13:52:00.571735 140735902135168 deprecation_wrapper.py:119] From /Users/syem/anaconda3/lib/python3.7/site-packages/keras/optimizers.py:793: The name tf.train.Optimizer is deprecated. Please use tf.compat.v1.train.Optimizer instead.\n",
      "\n",
      "W1118 13:52:00.623085 140735902135168 deprecation_wrapper.py:119] From /Users/syem/anaconda3/lib/python3.7/site-packages/keras/backend/tensorflow_backend.py:3657: The name tf.log is deprecated. Please use tf.math.log instead.\n",
      "\n",
      "W1118 13:52:00.643754 140735902135168 deprecation.py:323] From /Users/syem/anaconda3/lib/python3.7/site-packages/tensorflow/python/ops/nn_impl.py:180: add_dispatch_support.<locals>.wrapper (from tensorflow.python.ops.array_ops) is deprecated and will be removed in a future version.\n",
      "Instructions for updating:\n",
      "Use tf.where in 2.0, which has the same broadcast rule as np.where\n",
      "/Users/syem/anaconda3/lib/python3.7/site-packages/ipykernel_launcher.py:15: UserWarning: The `nb_epoch` argument in `fit` has been renamed `epochs`.\n",
      "  from ipykernel import kernelapp as app\n"
     ]
    },
    {
     "name": "stdout",
     "output_type": "stream",
     "text": [
      "Model: \"sequential_1\"\n",
      "_________________________________________________________________\n",
      "Layer (type)                 Output Shape              Param #   \n",
      "=================================================================\n",
      "embedding_1 (Embedding)      (None, 500, 32)           160000    \n",
      "_________________________________________________________________\n",
      "flatten_1 (Flatten)          (None, 16000)             0         \n",
      "_________________________________________________________________\n",
      "dense_1 (Dense)              (None, 250)               4000250   \n",
      "_________________________________________________________________\n",
      "dense_2 (Dense)              (None, 1)                 251       \n",
      "=================================================================\n",
      "Total params: 4,160,501\n",
      "Trainable params: 4,160,501\n",
      "Non-trainable params: 0\n",
      "_________________________________________________________________\n",
      "None\n"
     ]
    },
    {
     "name": "stderr",
     "output_type": "stream",
     "text": [
      "W1118 13:52:01.054202 140735902135168 deprecation_wrapper.py:119] From /Users/syem/anaconda3/lib/python3.7/site-packages/keras/backend/tensorflow_backend.py:1033: The name tf.assign_add is deprecated. Please use tf.compat.v1.assign_add instead.\n",
      "\n"
     ]
    },
    {
     "name": "stdout",
     "output_type": "stream",
     "text": [
      "Train on 25000 samples, validate on 25000 samples\n",
      "Epoch 1/2\n"
     ]
    }
   ],
   "source": [
    "top_words = 5000\n",
    "(X_train, y_train), (X_test, y_test) = imdb.load_data(nb_words=top_words)\n",
    "max_words = 500\n",
    "X_train = sequence.pad_sequences(X_train, maxlen=max_words)\n",
    "X_test = sequence.pad_sequences(X_test, maxlen=max_words)\n",
    "\n",
    "model = Sequential()\n",
    "model.add(Embedding(top_words, 32, input_length=max_words))\n",
    "model.add(Flatten())\n",
    "model.add(Dense(250, activation='relu'))\n",
    "model.add(Dense(1, activation='sigmoid'))\n",
    "model.compile(loss='binary_crossentropy', optimizer='adam', metrics=['accuracy'])\n",
    "print(model.summary())\n",
    "\n",
    "model.fit(X_train, y_train, validation_data=(X_test, y_test), nb_epoch=2, batch_size=128, verbose= 1)\n",
    "scores = model.evaluate(X_test, y_test, verbose=0)\n",
    "print('ACC: %.2f%%' % (scores[1]*100))\n"
   ]
  },
  {
   "cell_type": "code",
   "execution_count": 1,
   "metadata": {},
   "outputs": [
    {
     "name": "stderr",
     "output_type": "stream",
     "text": [
      "Using TensorFlow backend.\n"
     ]
    }
   ],
   "source": [
    "# CNN for the IMDB problem\n",
    "import numpy\n",
    "from keras.datasets import imdb\n",
    "from keras.models import Sequential\n",
    "from keras.layers import Dense\n",
    "from keras.layers import Flatten\n",
    "from keras.layers.convolutional import Convolution1D\n",
    "from keras.layers.convolutional import MaxPooling1D\n",
    "from keras.layers.embeddings import Embedding\n",
    "from keras.preprocessing import sequence"
   ]
  },
  {
   "cell_type": "code",
   "execution_count": 2,
   "metadata": {},
   "outputs": [],
   "source": [
    "# CNN for the IMDB problem\n",
    "import numpy\n",
    "from keras.datasets import imdb\n",
    "from keras.models import Sequential\n",
    "from keras.layers import Dense\n",
    "from keras.layers import Flatten\n",
    "from keras.layers.convolutional import Convolution1D\n",
    "from keras.layers.convolutional import MaxPooling1D\n",
    "from keras.layers.embeddings import Embedding\n",
    "from keras.preprocessing import sequence"
   ]
  },
  {
   "cell_type": "code",
   "execution_count": 3,
   "metadata": {},
   "outputs": [
    {
     "name": "stderr",
     "output_type": "stream",
     "text": [
      "/Users/syem/anaconda3/lib/python3.7/site-packages/keras/datasets/imdb.py:49: UserWarning: The `nb_words` argument in `load_data` has been renamed `num_words`.\n",
      "  warnings.warn('The `nb_words` argument in `load_data` '\n",
      "WARNING: Logging before flag parsing goes to stderr.\n",
      "W1118 14:00:45.709478 140735902135168 deprecation_wrapper.py:119] From /Users/syem/anaconda3/lib/python3.7/site-packages/keras/backend/tensorflow_backend.py:66: The name tf.get_default_graph is deprecated. Please use tf.compat.v1.get_default_graph instead.\n",
      "\n",
      "W1118 14:00:45.877047 140735902135168 deprecation_wrapper.py:119] From /Users/syem/anaconda3/lib/python3.7/site-packages/keras/backend/tensorflow_backend.py:541: The name tf.placeholder is deprecated. Please use tf.compat.v1.placeholder instead.\n",
      "\n",
      "W1118 14:00:45.902708 140735902135168 deprecation_wrapper.py:119] From /Users/syem/anaconda3/lib/python3.7/site-packages/keras/backend/tensorflow_backend.py:4432: The name tf.random_uniform is deprecated. Please use tf.random.uniform instead.\n",
      "\n",
      "/Users/syem/anaconda3/lib/python3.7/site-packages/ipykernel_launcher.py:9: UserWarning: Update your `Conv1D` call to the Keras 2 API: `Conv1D(activation=\"relu\", filters=32, kernel_size=3, padding=\"same\")`\n",
      "  if __name__ == '__main__':\n",
      "/Users/syem/anaconda3/lib/python3.7/site-packages/ipykernel_launcher.py:10: UserWarning: Update your `MaxPooling1D` call to the Keras 2 API: `MaxPooling1D(pool_size=2)`\n",
      "  # Remove the CWD from sys.path while we load stuff.\n",
      "W1118 14:00:45.978111 140735902135168 deprecation_wrapper.py:119] From /Users/syem/anaconda3/lib/python3.7/site-packages/keras/backend/tensorflow_backend.py:4267: The name tf.nn.max_pool is deprecated. Please use tf.nn.max_pool2d instead.\n",
      "\n",
      "W1118 14:00:46.051609 140735902135168 deprecation_wrapper.py:119] From /Users/syem/anaconda3/lib/python3.7/site-packages/keras/optimizers.py:793: The name tf.train.Optimizer is deprecated. Please use tf.compat.v1.train.Optimizer instead.\n",
      "\n",
      "W1118 14:00:46.088501 140735902135168 deprecation_wrapper.py:119] From /Users/syem/anaconda3/lib/python3.7/site-packages/keras/backend/tensorflow_backend.py:3657: The name tf.log is deprecated. Please use tf.math.log instead.\n",
      "\n",
      "W1118 14:00:46.101536 140735902135168 deprecation.py:323] From /Users/syem/anaconda3/lib/python3.7/site-packages/tensorflow/python/ops/nn_impl.py:180: add_dispatch_support.<locals>.wrapper (from tensorflow.python.ops.array_ops) is deprecated and will be removed in a future version.\n",
      "Instructions for updating:\n",
      "Use tf.where in 2.0, which has the same broadcast rule as np.where\n",
      "/Users/syem/anaconda3/lib/python3.7/site-packages/ipykernel_launcher.py:16: UserWarning: The `nb_epoch` argument in `fit` has been renamed `epochs`.\n",
      "  app.launch_new_instance()\n"
     ]
    },
    {
     "name": "stdout",
     "output_type": "stream",
     "text": [
      "Model: \"sequential_1\"\n",
      "_________________________________________________________________\n",
      "Layer (type)                 Output Shape              Param #   \n",
      "=================================================================\n",
      "embedding_1 (Embedding)      (None, 500, 32)           160000    \n",
      "_________________________________________________________________\n",
      "conv1d_1 (Conv1D)            (None, 500, 32)           3104      \n",
      "_________________________________________________________________\n",
      "max_pooling1d_1 (MaxPooling1 (None, 250, 32)           0         \n",
      "_________________________________________________________________\n",
      "flatten_1 (Flatten)          (None, 8000)              0         \n",
      "_________________________________________________________________\n",
      "dense_1 (Dense)              (None, 250)               2000250   \n",
      "_________________________________________________________________\n",
      "dense_2 (Dense)              (None, 1)                 251       \n",
      "=================================================================\n",
      "Total params: 2,163,605\n",
      "Trainable params: 2,163,605\n",
      "Non-trainable params: 0\n",
      "_________________________________________________________________\n",
      "None\n"
     ]
    },
    {
     "name": "stderr",
     "output_type": "stream",
     "text": [
      "W1118 14:00:46.488970 140735902135168 deprecation_wrapper.py:119] From /Users/syem/anaconda3/lib/python3.7/site-packages/keras/backend/tensorflow_backend.py:1033: The name tf.assign_add is deprecated. Please use tf.compat.v1.assign_add instead.\n",
      "\n"
     ]
    },
    {
     "name": "stdout",
     "output_type": "stream",
     "text": [
      "Train on 25000 samples, validate on 25000 samples\n",
      "Epoch 1/2\n",
      "25000/25000 [==============================] - 77s 3ms/step - loss: 0.5046 - acc: 0.7075 - val_loss: 0.2896 - val_acc: 0.8784\n",
      "Epoch 2/2\n",
      "25000/25000 [==============================] - 74s 3ms/step - loss: 0.2342 - acc: 0.9084 - val_loss: 0.2708 - val_acc: 0.8873\n",
      "ACC: 88.73%\n"
     ]
    }
   ],
   "source": [
    "top_words = 5000\n",
    "(X_train, y_train), (X_test, y_test) = imdb.load_data(nb_words=top_words)\n",
    "max_words = 500\n",
    "X_train = sequence.pad_sequences(X_train, maxlen=max_words)\n",
    "X_test = sequence.pad_sequences(X_test, maxlen=max_words)\n",
    "\n",
    "model = Sequential()\n",
    "model.add(Embedding(top_words, 32, input_length=max_words))\n",
    "model.add(Convolution1D(nb_filter=32, filter_length=3, border_mode='same', activation='relu'))\n",
    "model.add(MaxPooling1D(pool_length=2))\n",
    "model.add(Flatten())\n",
    "model.add(Dense(250, activation='relu'))\n",
    "model.add(Dense(1, activation='sigmoid'))\n",
    "model.compile(loss='binary_crossentropy', optimizer='adam', metrics=['accuracy'])\n",
    "print(model.summary())\n",
    "model.fit(X_train, y_train, validation_data=(X_test, y_test), nb_epoch = 2, batch_size=128, verbose=1)\n",
    "scores = model.evaluate(X_test, y_test, verbose=0)\n",
    "print('ACC: %.2f%%' % (scores[1]*100))\n"
   ]
  },
  {
   "cell_type": "code",
   "execution_count": 1,
   "metadata": {},
   "outputs": [
    {
     "name": "stderr",
     "output_type": "stream",
     "text": [
      "Using TensorFlow backend.\n"
     ]
    }
   ],
   "source": [
    "# ZCA whitening\n",
    "from keras.datasets import mnist\n",
    "from keras.preprocessing.image import ImageDataGenerator\n",
    "from matplotlib import pyplot"
   ]
  },
  {
   "cell_type": "code",
   "execution_count": 2,
   "metadata": {},
   "outputs": [
    {
     "name": "stderr",
     "output_type": "stream",
     "text": [
      "/Users/syem/anaconda3/lib/python3.7/site-packages/keras_preprocessing/image/image_data_generator.py:336: UserWarning: This ImageDataGenerator specifies `zca_whitening`, which overrides setting of `featurewise_center`.\n",
      "  warnings.warn('This ImageDataGenerator specifies '\n",
      "/Users/syem/anaconda3/lib/python3.7/site-packages/keras_preprocessing/image/image_data_generator.py:940: UserWarning: Expected input to be images (as Numpy array) following the data format convention \"channels_last\" (channels on axis 3), i.e. expected either 1, 3 or 4 channels on axis 3. However, it was passed an array with shape (60000, 1, 28, 28) (28 channels).\n",
      "  ' channels).')\n",
      "/Users/syem/anaconda3/lib/python3.7/site-packages/keras_preprocessing/image/numpy_array_iterator.py:127: UserWarning: NumpyArrayIterator is set to use the data format convention \"channels_last\" (channels on axis 3), i.e. expected either 1, 3, or 4 channels on axis 3. However, it was passed an array with shape (60000, 1, 28, 28) (28 channels).\n",
      "  str(self.x.shape[channels_axis]) + ' channels).')\n"
     ]
    },
    {
     "data": {
      "image/png": "[encoded data removed]",
      "text/plain": [
       "<Figure size 432x288 with 9 Axes>"
      ]
     },
     "metadata": {
      "needs_background": "light"
     },
     "output_type": "display_data"
    }
   ],
   "source": [
    "(X_train, y_train), (X_test, y_test) = mnist.load_data()\n",
    "X_train = X_train.reshape(X_train.shape[0], 1, 28, 28)\n",
    "X_test = X_test.reshape(X_test.shape[0], 1, 28, 28)\n",
    "X_train = X_train.astype('float32')\n",
    "X_test = X_test.astype('float32')\n",
    "\n",
    "datagen = ImageDataGenerator(zca_whitening=True)\n",
    "\n",
    "datagen.fit(X_train)\n",
    "\n",
    "for X_batch, y_batch in datagen.flow(X_train, y_train, batch_size=9):\n",
    "    for i in range(0,9):\n",
    "        pyplot.subplot(330 + 1 + i)\n",
    "        pyplot.imshow(X_batch[i].reshape(28, 28), cmap=pyplot.get_cmap('gray'))\n",
    "    pyplot.show()\n",
    "    break\n"
   ]
  },
  {
   "cell_type": "code",
   "execution_count": 3,
   "metadata": {},
   "outputs": [],
   "source": [
    "import numpy\n",
    "from keras.datasets import imdb\n",
    "from keras.models import Sequential\n",
    "from keras.layers import Dense\n",
    "from keras.layers import Flatten\n",
    "from keras.layers.embeddings import Embedding\n",
    "from keras.preprocessing import sequence"
   ]
  },
  {
   "cell_type": "code",
   "execution_count": null,
   "metadata": {},
   "outputs": [
    {
     "name": "stderr",
     "output_type": "stream",
     "text": [
      "/Users/syem/anaconda3/lib/python3.7/site-packages/keras/datasets/imdb.py:49: UserWarning: The `nb_words` argument in `load_data` has been renamed `num_words`.\n",
      "  warnings.warn('The `nb_words` argument in `load_data` '\n",
      "WARNING: Logging before flag parsing goes to stderr.\n",
      "W1119 16:00:48.761201 140735902135168 deprecation_wrapper.py:119] From /Users/syem/anaconda3/lib/python3.7/site-packages/keras/backend/tensorflow_backend.py:66: The name tf.get_default_graph is deprecated. Please use tf.compat.v1.get_default_graph instead.\n",
      "\n",
      "W1119 16:00:49.286370 140735902135168 deprecation_wrapper.py:119] From /Users/syem/anaconda3/lib/python3.7/site-packages/keras/backend/tensorflow_backend.py:541: The name tf.placeholder is deprecated. Please use tf.compat.v1.placeholder instead.\n",
      "\n",
      "W1119 16:00:49.335448 140735902135168 deprecation_wrapper.py:119] From /Users/syem/anaconda3/lib/python3.7/site-packages/keras/backend/tensorflow_backend.py:4432: The name tf.random_uniform is deprecated. Please use tf.random.uniform instead.\n",
      "\n",
      "W1119 16:00:49.499109 140735902135168 deprecation_wrapper.py:119] From /Users/syem/anaconda3/lib/python3.7/site-packages/keras/optimizers.py:793: The name tf.train.Optimizer is deprecated. Please use tf.compat.v1.train.Optimizer instead.\n",
      "\n",
      "W1119 16:00:49.534067 140735902135168 deprecation_wrapper.py:119] From /Users/syem/anaconda3/lib/python3.7/site-packages/keras/backend/tensorflow_backend.py:3657: The name tf.log is deprecated. Please use tf.math.log instead.\n",
      "\n",
      "W1119 16:00:49.541597 140735902135168 deprecation.py:323] From /Users/syem/anaconda3/lib/python3.7/site-packages/tensorflow/python/ops/nn_impl.py:180: add_dispatch_support.<locals>.wrapper (from tensorflow.python.ops.array_ops) is deprecated and will be removed in a future version.\n",
      "Instructions for updating:\n",
      "Use tf.where in 2.0, which has the same broadcast rule as np.where\n",
      "/Users/syem/anaconda3/lib/python3.7/site-packages/ipykernel_launcher.py:13: UserWarning: The `nb_epoch` argument in `fit` has been renamed `epochs`.\n",
      "  del sys.path[0]\n"
     ]
    },
    {
     "name": "stdout",
     "output_type": "stream",
     "text": [
      "Model: \"sequential_1\"\n",
      "_________________________________________________________________\n",
      "Layer (type)                 Output Shape              Param #   \n",
      "=================================================================\n",
      "embedding_1 (Embedding)      (None, 500, 32)           160000    \n",
      "_________________________________________________________________\n",
      "flatten_1 (Flatten)          (None, 16000)             0         \n",
      "_________________________________________________________________\n",
      "dense_1 (Dense)              (None, 250)               4000250   \n",
      "_________________________________________________________________\n",
      "dense_2 (Dense)              (None, 1)                 251       \n",
      "=================================================================\n",
      "Total params: 4,160,501\n",
      "Trainable params: 4,160,501\n",
      "Non-trainable params: 0\n",
      "_________________________________________________________________\n",
      "None\n"
     ]
    },
    {
     "name": "stderr",
     "output_type": "stream",
     "text": [
      "W1119 16:00:49.953705 140735902135168 deprecation_wrapper.py:119] From /Users/syem/anaconda3/lib/python3.7/site-packages/keras/backend/tensorflow_backend.py:1033: The name tf.assign_add is deprecated. Please use tf.compat.v1.assign_add instead.\n",
      "\n"
     ]
    },
    {
     "name": "stdout",
     "output_type": "stream",
     "text": [
      "Train on 25000 samples, validate on 25000 samples\n",
      "Epoch 1/2\n"
     ]
    }
   ],
   "source": [
    "top_words = 5000\n",
    "(X_train, y_train), (X_test, y_test) = imdb.load_data(nb_words=top_words)\n",
    "max_words = 500\n",
    "X_train = sequence.pad_sequences(X_train, maxlen=max_words)\n",
    "X_test = sequence.pad_sequences(X_test, maxlen=max_words)\n",
    "model = Sequential()\n",
    "model.add(Embedding(top_words, 32, input_length=max_words))\n",
    "model.add(Flatten())\n",
    "model.add(Dense(250, activation='relu'))\n",
    "model.add(Dense(1,activation='sigmoid'))\n",
    "model.compile(loss='binary_crossentropy', optimizer='adam', metrics=['accuracy'])\n",
    "print(model.summary())\n",
    "model.fit(X_train, y_train, validation_data=(X_test, y_test), nb_epoch=2, batch_size=128, verbose=1)\n",
    "scores = model.evaluate(X_test, y_test, verbose=0)\n",
    "print('ACC: %.2f%%' % (scores[1]*100))\n"
   ]
  },
  {
   "cell_type": "code",
   "execution_count": 1,
   "metadata": {},
   "outputs": [
    {
     "name": "stderr",
     "output_type": "stream",
     "text": [
      "Using TensorFlow backend.\n"
     ]
    }
   ],
   "source": [
    "import numpy\n",
    "from keras.datasets import imdb\n",
    "from keras.models import Sequential\n",
    "from keras.layers import Dense\n",
    "from keras.layers import Flatten\n",
    "from keras.layers.convolutional import Convolution1D\n",
    "from keras.layers.convolutional import MaxPooling1D\n",
    "from keras.layers.embeddings import Embedding\n",
    "from keras.preprocessing import sequence"
   ]
  },
  {
   "cell_type": "code",
   "execution_count": 2,
   "metadata": {},
   "outputs": [
    {
     "name": "stderr",
     "output_type": "stream",
     "text": [
      "/Users/syem/anaconda3/lib/python3.7/site-packages/keras/datasets/imdb.py:49: UserWarning: The `nb_words` argument in `load_data` has been renamed `num_words`.\n",
      "  warnings.warn('The `nb_words` argument in `load_data` '\n",
      "WARNING: Logging before flag parsing goes to stderr.\n",
      "W1119 16:19:55.216555 140735902135168 deprecation_wrapper.py:119] From /Users/syem/anaconda3/lib/python3.7/site-packages/keras/backend/tensorflow_backend.py:66: The name tf.get_default_graph is deprecated. Please use tf.compat.v1.get_default_graph instead.\n",
      "\n",
      "W1119 16:19:55.269391 140735902135168 deprecation_wrapper.py:119] From /Users/syem/anaconda3/lib/python3.7/site-packages/keras/backend/tensorflow_backend.py:541: The name tf.placeholder is deprecated. Please use tf.compat.v1.placeholder instead.\n",
      "\n",
      "W1119 16:19:55.275053 140735902135168 deprecation_wrapper.py:119] From /Users/syem/anaconda3/lib/python3.7/site-packages/keras/backend/tensorflow_backend.py:4432: The name tf.random_uniform is deprecated. Please use tf.random.uniform instead.\n",
      "\n",
      "/Users/syem/anaconda3/lib/python3.7/site-packages/ipykernel_launcher.py:12: UserWarning: Update your `Conv1D` call to the Keras 2 API: `Conv1D(activation=\"relu\", filters=32, kernel_size=3, padding=\"same\")`\n",
      "  if sys.path[0] == '':\n",
      "/Users/syem/anaconda3/lib/python3.7/site-packages/ipykernel_launcher.py:13: UserWarning: Update your `MaxPooling1D` call to the Keras 2 API: `MaxPooling1D(pool_size=2)`\n",
      "  del sys.path[0]\n",
      "W1119 16:19:55.320441 140735902135168 deprecation_wrapper.py:119] From /Users/syem/anaconda3/lib/python3.7/site-packages/keras/backend/tensorflow_backend.py:4267: The name tf.nn.max_pool is deprecated. Please use tf.nn.max_pool2d instead.\n",
      "\n",
      "W1119 16:19:55.395107 140735902135168 deprecation_wrapper.py:119] From /Users/syem/anaconda3/lib/python3.7/site-packages/keras/optimizers.py:793: The name tf.train.Optimizer is deprecated. Please use tf.compat.v1.train.Optimizer instead.\n",
      "\n",
      "W1119 16:19:55.422657 140735902135168 deprecation_wrapper.py:119] From /Users/syem/anaconda3/lib/python3.7/site-packages/keras/backend/tensorflow_backend.py:3657: The name tf.log is deprecated. Please use tf.math.log instead.\n",
      "\n",
      "W1119 16:19:55.430423 140735902135168 deprecation.py:323] From /Users/syem/anaconda3/lib/python3.7/site-packages/tensorflow/python/ops/nn_impl.py:180: add_dispatch_support.<locals>.wrapper (from tensorflow.python.ops.array_ops) is deprecated and will be removed in a future version.\n",
      "Instructions for updating:\n",
      "Use tf.where in 2.0, which has the same broadcast rule as np.where\n",
      "/Users/syem/anaconda3/lib/python3.7/site-packages/ipykernel_launcher.py:20: UserWarning: The `nb_epoch` argument in `fit` has been renamed `epochs`.\n"
     ]
    },
    {
     "name": "stdout",
     "output_type": "stream",
     "text": [
      "Model: \"sequential_1\"\n",
      "_________________________________________________________________\n",
      "Layer (type)                 Output Shape              Param #   \n",
      "=================================================================\n",
      "embedding_1 (Embedding)      (None, 500, 32)           160000    \n",
      "_________________________________________________________________\n",
      "conv1d_1 (Conv1D)            (None, 500, 32)           3104      \n",
      "_________________________________________________________________\n",
      "max_pooling1d_1 (MaxPooling1 (None, 250, 32)           0         \n",
      "_________________________________________________________________\n",
      "flatten_1 (Flatten)          (None, 8000)              0         \n",
      "_________________________________________________________________\n",
      "dense_1 (Dense)              (None, 250)               2000250   \n",
      "_________________________________________________________________\n",
      "dense_2 (Dense)              (None, 1)                 251       \n",
      "=================================================================\n",
      "Total params: 2,163,605\n",
      "Trainable params: 2,163,605\n",
      "Non-trainable params: 0\n",
      "_________________________________________________________________\n",
      "None\n"
     ]
    },
    {
     "name": "stderr",
     "output_type": "stream",
     "text": [
      "W1119 16:19:55.771042 140735902135168 deprecation_wrapper.py:119] From /Users/syem/anaconda3/lib/python3.7/site-packages/keras/backend/tensorflow_backend.py:1033: The name tf.assign_add is deprecated. Please use tf.compat.v1.assign_add instead.\n",
      "\n"
     ]
    },
    {
     "name": "stdout",
     "output_type": "stream",
     "text": [
      "Train on 25000 samples, validate on 25000 samples\n",
      "Epoch 1/2\n",
      "25000/25000 [==============================] - 72s 3ms/step - loss: 0.4321 - acc: 0.7797 - val_loss: 0.2753 - val_acc: 0.8846\n",
      "Epoch 2/2\n",
      "25000/25000 [==============================] - 70s 3ms/step - loss: 0.2063 - acc: 0.9194 - val_loss: 0.2709 - val_acc: 0.8866\n",
      "ACC: 88.66%\n"
     ]
    }
   ],
   "source": [
    "top_words = 5000\n",
    "(X_train, y_train), (X_test, y_test) = imdb.load_data(nb_words=top_words)\n",
    "max_words = 500\n",
    "X_train = sequence.pad_sequences(X_train, maxlen=max_words)\n",
    "X_test = sequence.pad_sequences(X_test, maxlen = max_words)\n",
    "\n",
    "X_train = sequence.pad_sequences(X_train, maxlen=max_words)\n",
    "X_test = sequence.pad_sequences(X_test, maxlen=max_words)\n",
    "\n",
    "model = Sequential()\n",
    "model.add(Embedding(top_words, 32, input_length=max_words))\n",
    "model.add(Convolution1D(nb_filter=32, filter_length=3, border_mode='same', activation='relu'))\n",
    "model.add(MaxPooling1D(pool_length=2))\n",
    "model.add(Flatten())\n",
    "model.add(Dense(250, activation='relu'))\n",
    "model.add(Dense(1, activation='sigmoid'))\n",
    "model.compile(loss='binary_crossentropy', optimizer='adam', metrics=['accuracy'])\n",
    "print(model.summary())\n",
    "\n",
    "model.fit(X_train, y_train, validation_data=(X_test, y_test), nb_epoch=2, batch_size=128, verbose=1)\n",
    "scores = model.evaluate(X_test, y_test, verbose=0)\n",
    "print(\"ACC: %.2f%%\" % (scores[1]*100))\n"
   ]
  },
  {
   "cell_type": "code",
   "execution_count": 1,
   "metadata": {},
   "outputs": [
    {
     "name": "stderr",
     "output_type": "stream",
     "text": [
      "Using TensorFlow backend.\n"
     ]
    }
   ],
   "source": [
    "# Standardize images across the dataset, mean=0, stdev=1\n",
    "from keras.datasets import mnist\n",
    "from keras.preprocessing.image import ImageDataGenerator\n",
    "from matplotlib import pyplot"
   ]
  },
  {
   "cell_type": "code",
   "execution_count": 2,
   "metadata": {},
   "outputs": [
    {
     "name": "stderr",
     "output_type": "stream",
     "text": [
      "/Users/syem/anaconda3/lib/python3.7/site-packages/keras_preprocessing/image/image_data_generator.py:940: UserWarning: Expected input to be images (as Numpy array) following the data format convention \"channels_last\" (channels on axis 3), i.e. expected either 1, 3 or 4 channels on axis 3. However, it was passed an array with shape (60000, 1, 28, 28) (28 channels).\n",
      "  ' channels).')\n",
      "/Users/syem/anaconda3/lib/python3.7/site-packages/keras_preprocessing/image/numpy_array_iterator.py:127: UserWarning: NumpyArrayIterator is set to use the data format convention \"channels_last\" (channels on axis 3), i.e. expected either 1, 3, or 4 channels on axis 3. However, it was passed an array with shape (60000, 1, 28, 28) (28 channels).\n",
      "  str(self.x.shape[channels_axis]) + ' channels).')\n"
     ]
    },
    {
     "data": {
      "image/png": "[encoded data removed]",
      "text/plain": [
       "<Figure size 432x288 with 9 Axes>"
      ]
     },
     "metadata": {
      "needs_background": "light"
     },
     "output_type": "display_data"
    }
   ],
   "source": [
    "(X_train, y_train), (X_test, y_test) = mnist.load_data()\n",
    "# reshape to be [samples][pixels][width][height]\n",
    "X_train = X_train.reshape(X_train.shape[0], 1, 28, 28)\n",
    "X_test = X_test.reshape(X_test.shape[0], 1, 28, 28)\n",
    "X_train = X_train.astype('float32')\n",
    "X_test = X_test.astype('float32')\n",
    "\n",
    "datagen = ImageDataGenerator(featurewise_center=True, featurewise_std_normalization=True)\n",
    "datagen.fit(X_train)\n",
    "for X_batch, y_batch in datagen.flow(X_train, y_train, batch_size=9):\n",
    "    for i in range(0,9):\n",
    "        pyplot.subplot(330 + 1 + i)\n",
    "        pyplot.imshow(X_batch[i].reshape(28, 28), cmap=pyplot.get_cmap('gray'))\n",
    "    break\n",
    "    \n"
   ]
  },
  {
   "cell_type": "code",
   "execution_count": 1,
   "metadata": {},
   "outputs": [
    {
     "name": "stderr",
     "output_type": "stream",
     "text": [
      "Using TensorFlow backend.\n"
     ]
    }
   ],
   "source": [
    "# MLP for the IMDB problem\n",
    "import numpy\n",
    "from keras.datasets import imdb\n",
    "from keras.models import Sequential\n",
    "from keras.layers import Dense\n",
    "from keras.layers import Flatten\n",
    "from keras.layers.embeddings import Embedding\n",
    "from keras.preprocessing import sequence"
   ]
  },
  {
   "cell_type": "code",
   "execution_count": 2,
   "metadata": {},
   "outputs": [
    {
     "name": "stderr",
     "output_type": "stream",
     "text": [
      "/Users/syem/anaconda3/lib/python3.7/site-packages/keras/datasets/imdb.py:49: UserWarning: The `nb_words` argument in `load_data` has been renamed `num_words`.\n",
      "  warnings.warn('The `nb_words` argument in `load_data` '\n",
      "WARNING: Logging before flag parsing goes to stderr.\n",
      "W1120 16:36:29.449876 140735902135168 deprecation_wrapper.py:119] From /Users/syem/anaconda3/lib/python3.7/site-packages/keras/backend/tensorflow_backend.py:66: The name tf.get_default_graph is deprecated. Please use tf.compat.v1.get_default_graph instead.\n",
      "\n",
      "W1120 16:36:29.487514 140735902135168 deprecation_wrapper.py:119] From /Users/syem/anaconda3/lib/python3.7/site-packages/keras/backend/tensorflow_backend.py:541: The name tf.placeholder is deprecated. Please use tf.compat.v1.placeholder instead.\n",
      "\n",
      "W1120 16:36:29.490071 140735902135168 deprecation_wrapper.py:119] From /Users/syem/anaconda3/lib/python3.7/site-packages/keras/backend/tensorflow_backend.py:4432: The name tf.random_uniform is deprecated. Please use tf.random.uniform instead.\n",
      "\n",
      "W1120 16:36:29.540251 140735902135168 deprecation_wrapper.py:119] From /Users/syem/anaconda3/lib/python3.7/site-packages/keras/optimizers.py:793: The name tf.train.Optimizer is deprecated. Please use tf.compat.v1.train.Optimizer instead.\n",
      "\n",
      "W1120 16:36:29.582181 140735902135168 deprecation_wrapper.py:119] From /Users/syem/anaconda3/lib/python3.7/site-packages/keras/backend/tensorflow_backend.py:3657: The name tf.log is deprecated. Please use tf.math.log instead.\n",
      "\n",
      "W1120 16:36:29.594002 140735902135168 deprecation.py:323] From /Users/syem/anaconda3/lib/python3.7/site-packages/tensorflow/python/ops/nn_impl.py:180: add_dispatch_support.<locals>.wrapper (from tensorflow.python.ops.array_ops) is deprecated and will be removed in a future version.\n",
      "Instructions for updating:\n",
      "Use tf.where in 2.0, which has the same broadcast rule as np.where\n",
      "/Users/syem/anaconda3/lib/python3.7/site-packages/ipykernel_launcher.py:13: UserWarning: The `nb_epoch` argument in `fit` has been renamed `epochs`.\n",
      "  del sys.path[0]\n"
     ]
    },
    {
     "name": "stdout",
     "output_type": "stream",
     "text": [
      "Model: \"sequential_1\"\n",
      "_________________________________________________________________\n",
      "Layer (type)                 Output Shape              Param #   \n",
      "=================================================================\n",
      "embedding_1 (Embedding)      (None, 500, 32)           160000    \n",
      "_________________________________________________________________\n",
      "flatten_1 (Flatten)          (None, 16000)             0         \n",
      "_________________________________________________________________\n",
      "dense_1 (Dense)              (None, 250)               4000250   \n",
      "_________________________________________________________________\n",
      "dense_2 (Dense)              (None, 1)                 251       \n",
      "=================================================================\n",
      "Total params: 4,160,501\n",
      "Trainable params: 4,160,501\n",
      "Non-trainable params: 0\n",
      "_________________________________________________________________\n",
      "None\n"
     ]
    },
    {
     "name": "stderr",
     "output_type": "stream",
     "text": [
      "W1120 16:36:29.993067 140735902135168 deprecation_wrapper.py:119] From /Users/syem/anaconda3/lib/python3.7/site-packages/keras/backend/tensorflow_backend.py:1033: The name tf.assign_add is deprecated. Please use tf.compat.v1.assign_add instead.\n",
      "\n"
     ]
    },
    {
     "name": "stdout",
     "output_type": "stream",
     "text": [
      "Train on 25000 samples, validate on 25000 samples\n",
      "Epoch 1/2\n",
      "25000/25000 [==============================] - 46s 2ms/step - loss: 0.4548 - acc: 0.7636 - val_loss: 0.2903 - val_acc: 0.8774\n",
      "Epoch 2/2\n",
      "25000/25000 [==============================] - 43s 2ms/step - loss: 0.1651 - acc: 0.9400 - val_loss: 0.3262 - val_acc: 0.8672\n",
      "ACC: 86.72%\n"
     ]
    }
   ],
   "source": [
    "top_words = 5000\n",
    "(X_train, y_train),(X_test, y_test) = imdb.load_data(nb_words=top_words)\n",
    "max_words = 500\n",
    "X_train = sequence.pad_sequences(X_train, maxlen=max_words)\n",
    "X_test = sequence.pad_sequences(X_test, maxlen=max_words)\n",
    "model = Sequential()\n",
    "model.add(Embedding(top_words, 32, input_length=max_words))\n",
    "model.add(Flatten())\n",
    "model.add(Dense(250, activation='relu'))\n",
    "model.add(Dense(1, activation='sigmoid'))\n",
    "model.compile(loss='binary_crossentropy', optimizer='adam', metrics=['accuracy'])\n",
    "print(model.summary())\n",
    "model.fit(X_train, y_train, validation_data=(X_test, y_test), nb_epoch=2, batch_size=128, verbose=1)\n",
    "scores = model.evaluate(X_test, y_test, verbose=0)\n",
    "print('ACC: %.2f%%' % (scores[1]*100))\n"
   ]
  },
  {
   "cell_type": "code",
   "execution_count": 3,
   "metadata": {},
   "outputs": [],
   "source": [
    "# CNN for the IMDB problem\n",
    "import numpy\n",
    "from keras.datasets import imdb\n",
    "from keras.models import Sequential\n",
    "from keras.layers import Dense\n",
    "from keras.layers import Flatten\n",
    "from keras.layers.convolutional import Convolution1D\n",
    "from keras.layers.convolutional import MaxPooling1D\n",
    "from keras.layers.embeddings import Embedding\n",
    "from keras.preprocessing import sequence"
   ]
  },
  {
   "cell_type": "code",
   "execution_count": 5,
   "metadata": {},
   "outputs": [
    {
     "name": "stderr",
     "output_type": "stream",
     "text": [
      "/Users/syem/anaconda3/lib/python3.7/site-packages/ipykernel_launcher.py:9: UserWarning: Update your `Conv1D` call to the Keras 2 API: `Conv1D(activation=\"relu\", filters=32, kernel_size=3, padding=\"same\")`\n",
      "  if __name__ == '__main__':\n",
      "/Users/syem/anaconda3/lib/python3.7/site-packages/ipykernel_launcher.py:10: UserWarning: Update your `MaxPooling1D` call to the Keras 2 API: `MaxPooling1D(pool_size=2)`\n",
      "  # Remove the CWD from sys.path while we load stuff.\n",
      "/Users/syem/anaconda3/lib/python3.7/site-packages/ipykernel_launcher.py:16: UserWarning: The `nb_epoch` argument in `fit` has been renamed `epochs`.\n",
      "  app.launch_new_instance()\n"
     ]
    },
    {
     "name": "stdout",
     "output_type": "stream",
     "text": [
      "Model: \"sequential_3\"\n",
      "_________________________________________________________________\n",
      "Layer (type)                 Output Shape              Param #   \n",
      "=================================================================\n",
      "embedding_3 (Embedding)      (None, 500, 32)           160000    \n",
      "_________________________________________________________________\n",
      "conv1d_2 (Conv1D)            (None, 500, 32)           3104      \n",
      "_________________________________________________________________\n",
      "max_pooling1d_2 (MaxPooling1 (None, 250, 32)           0         \n",
      "_________________________________________________________________\n",
      "flatten_3 (Flatten)          (None, 8000)              0         \n",
      "_________________________________________________________________\n",
      "dense_5 (Dense)              (None, 250)               2000250   \n",
      "_________________________________________________________________\n",
      "dense_6 (Dense)              (None, 1)                 251       \n",
      "=================================================================\n",
      "Total params: 2,163,605\n",
      "Trainable params: 2,163,605\n",
      "Non-trainable params: 0\n",
      "_________________________________________________________________\n",
      "None\n",
      "Train on 25000 samples, validate on 25000 samples\n",
      "Epoch 1/2\n",
      "25000/25000 [==============================] - 70s 3ms/step - loss: 0.4654 - acc: 0.7445 - val_loss: 0.2887 - val_acc: 0.8791\n",
      "Epoch 2/2\n",
      "25000/25000 [==============================] - 67s 3ms/step - loss: 0.2232 - acc: 0.9115 - val_loss: 0.2677 - val_acc: 0.8882\n",
      "ACC: 88.82%\n"
     ]
    }
   ],
   "source": [
    "top_words = 5000\n",
    "(X_train, y_train), (X_test, y_test) = imdb.load_data(nb_words=top_words)\n",
    "max_words = 500\n",
    "X_train = sequence.pad_sequences(X_train, maxlen=max_words)\n",
    "X_test = sequence.pad_sequences(X_test, maxlen=max_words)\n",
    "\n",
    "model = Sequential()\n",
    "model.add(Embedding(top_words, 32, input_length=max_words))\n",
    "model.add(Convolution1D(nb_filter=32, filter_length=3, border_mode='same', activation='relu'))\n",
    "model.add(MaxPooling1D(pool_length=2))\n",
    "model.add(Flatten())\n",
    "model.add(Dense(250, activation='relu'))\n",
    "model.add(Dense(1, activation='sigmoid'))\n",
    "model.compile(loss='binary_crossentropy', optimizer='adam', metrics=['accuracy'])\n",
    "print(model.summary())\n",
    "model.fit(X_train, y_train, validation_data=(X_test, y_test), nb_epoch=2, batch_size=128, verbose=1)\n",
    "scores = model.evaluate(X_test, y_test, verbose=0)\n",
    "print('ACC: %.2f%%' % (scores[1]*100))\n"
   ]
  },
  {
   "cell_type": "code",
   "execution_count": 2,
   "metadata": {},
   "outputs": [
    {
     "name": "stderr",
     "output_type": "stream",
     "text": [
      "Using TensorFlow backend.\n"
     ]
    }
   ],
   "source": [
    "# CNN for the IMDB problem\n",
    "import numpy\n",
    "from keras.datasets import imdb\n",
    "from keras.models import Sequential\n",
    "from keras.layers import Dense\n",
    "from keras.layers import Flatten\n",
    "from keras.layers.convolutional import Convolution1D\n",
    "from keras.layers.convolutional import MaxPooling1D\n",
    "from keras.layers.embeddings import Embedding\n",
    "from keras.preprocessing import sequence# CNN for the IMDB problem\n",
    "import numpy\n",
    "from keras.datasets import imdb\n",
    "from keras.models import Sequential\n",
    "from keras.layers import Dense\n",
    "from keras.layers import Flatten\n",
    "from keras.layers.convolutional import Convolution1D\n",
    "from keras.layers.convolutional import MaxPooling1D\n",
    "from keras.layers.embeddings import Embedding\n",
    "from keras.preprocessing import sequence"
   ]
  },
  {
   "cell_type": "code",
   "execution_count": 3,
   "metadata": {},
   "outputs": [
    {
     "name": "stderr",
     "output_type": "stream",
     "text": [
      "/Users/syem/anaconda3/lib/python3.7/site-packages/keras/datasets/imdb.py:49: UserWarning: The `nb_words` argument in `load_data` has been renamed `num_words`.\n",
      "  warnings.warn('The `nb_words` argument in `load_data` '\n",
      "WARNING: Logging before flag parsing goes to stderr.\n",
      "W1122 13:55:08.648299 140735902135168 deprecation_wrapper.py:119] From /Users/syem/anaconda3/lib/python3.7/site-packages/keras/backend/tensorflow_backend.py:66: The name tf.get_default_graph is deprecated. Please use tf.compat.v1.get_default_graph instead.\n",
      "\n",
      "W1122 13:55:08.693093 140735902135168 deprecation_wrapper.py:119] From /Users/syem/anaconda3/lib/python3.7/site-packages/keras/backend/tensorflow_backend.py:541: The name tf.placeholder is deprecated. Please use tf.compat.v1.placeholder instead.\n",
      "\n",
      "W1122 13:55:08.696913 140735902135168 deprecation_wrapper.py:119] From /Users/syem/anaconda3/lib/python3.7/site-packages/keras/backend/tensorflow_backend.py:4432: The name tf.random_uniform is deprecated. Please use tf.random.uniform instead.\n",
      "\n",
      "/Users/syem/anaconda3/lib/python3.7/site-packages/ipykernel_launcher.py:8: UserWarning: Update your `Conv1D` call to the Keras 2 API: `Conv1D(activation=\"relu\", filters=32, kernel_size=3, padding=\"same\")`\n",
      "  \n",
      "/Users/syem/anaconda3/lib/python3.7/site-packages/ipykernel_launcher.py:9: UserWarning: Update your `MaxPooling1D` call to the Keras 2 API: `MaxPooling1D(pool_size=2)`\n",
      "  if __name__ == '__main__':\n",
      "W1122 13:55:08.749828 140735902135168 deprecation_wrapper.py:119] From /Users/syem/anaconda3/lib/python3.7/site-packages/keras/backend/tensorflow_backend.py:4267: The name tf.nn.max_pool is deprecated. Please use tf.nn.max_pool2d instead.\n",
      "\n",
      "W1122 13:55:08.814374 140735902135168 deprecation_wrapper.py:119] From /Users/syem/anaconda3/lib/python3.7/site-packages/keras/optimizers.py:793: The name tf.train.Optimizer is deprecated. Please use tf.compat.v1.train.Optimizer instead.\n",
      "\n",
      "W1122 13:55:08.848098 140735902135168 deprecation_wrapper.py:119] From /Users/syem/anaconda3/lib/python3.7/site-packages/keras/backend/tensorflow_backend.py:3657: The name tf.log is deprecated. Please use tf.math.log instead.\n",
      "\n",
      "W1122 13:55:08.855248 140735902135168 deprecation.py:323] From /Users/syem/anaconda3/lib/python3.7/site-packages/tensorflow/python/ops/nn_impl.py:180: add_dispatch_support.<locals>.wrapper (from tensorflow.python.ops.array_ops) is deprecated and will be removed in a future version.\n",
      "Instructions for updating:\n",
      "Use tf.where in 2.0, which has the same broadcast rule as np.where\n",
      "/Users/syem/anaconda3/lib/python3.7/site-packages/ipykernel_launcher.py:15: UserWarning: The `nb_epoch` argument in `fit` has been renamed `epochs`.\n",
      "  from ipykernel import kernelapp as app\n"
     ]
    },
    {
     "name": "stdout",
     "output_type": "stream",
     "text": [
      "Model: \"sequential_1\"\n",
      "_________________________________________________________________\n",
      "Layer (type)                 Output Shape              Param #   \n",
      "=================================================================\n",
      "embedding_1 (Embedding)      (None, 500, 32)           160000    \n",
      "_________________________________________________________________\n",
      "conv1d_1 (Conv1D)            (None, 500, 32)           3104      \n",
      "_________________________________________________________________\n",
      "max_pooling1d_1 (MaxPooling1 (None, 250, 32)           0         \n",
      "_________________________________________________________________\n",
      "flatten_1 (Flatten)          (None, 8000)              0         \n",
      "_________________________________________________________________\n",
      "dense_1 (Dense)              (None, 250)               2000250   \n",
      "_________________________________________________________________\n",
      "dense_2 (Dense)              (None, 1)                 251       \n",
      "=================================================================\n",
      "Total params: 2,163,605\n",
      "Trainable params: 2,163,605\n",
      "Non-trainable params: 0\n",
      "_________________________________________________________________\n",
      "None\n"
     ]
    },
    {
     "name": "stderr",
     "output_type": "stream",
     "text": [
      "W1122 13:55:09.210864 140735902135168 deprecation_wrapper.py:119] From /Users/syem/anaconda3/lib/python3.7/site-packages/keras/backend/tensorflow_backend.py:1033: The name tf.assign_add is deprecated. Please use tf.compat.v1.assign_add instead.\n",
      "\n"
     ]
    },
    {
     "name": "stdout",
     "output_type": "stream",
     "text": [
      "Train on 25000 samples, validate on 25000 samples\n",
      "Epoch 1/2\n",
      " 4224/25000 [====>.........................] - ETA: 1:07 - loss: 0.6921 - acc: 0.5159"
     ]
    },
    {
     "ename": "KeyboardInterrupt",
     "evalue": "",
     "output_type": "error",
     "traceback": [
      "\u001b[0;31m---------------------------------------------------------------------------\u001b[0m",
      "\u001b[0;31mKeyboardInterrupt\u001b[0m                         Traceback (most recent call last)",
      "\u001b[0;32m<ipython-input-3-9fd3661819ca>\u001b[0m in \u001b[0;36m<module>\u001b[0;34m\u001b[0m\n\u001b[1;32m     13\u001b[0m \u001b[0mmodel\u001b[0m\u001b[0;34m.\u001b[0m\u001b[0mcompile\u001b[0m\u001b[0;34m(\u001b[0m\u001b[0mloss\u001b[0m\u001b[0;34m=\u001b[0m\u001b[0;34m'binary_crossentropy'\u001b[0m\u001b[0;34m,\u001b[0m \u001b[0moptimizer\u001b[0m\u001b[0;34m=\u001b[0m\u001b[0;34m'adam'\u001b[0m\u001b[0;34m,\u001b[0m \u001b[0mmetrics\u001b[0m \u001b[0;34m=\u001b[0m \u001b[0;34m[\u001b[0m\u001b[0;34m'accuracy'\u001b[0m\u001b[0;34m]\u001b[0m\u001b[0;34m)\u001b[0m\u001b[0;34m\u001b[0m\u001b[0;34m\u001b[0m\u001b[0m\n\u001b[1;32m     14\u001b[0m \u001b[0mprint\u001b[0m\u001b[0;34m(\u001b[0m\u001b[0mmodel\u001b[0m\u001b[0;34m.\u001b[0m\u001b[0msummary\u001b[0m\u001b[0;34m(\u001b[0m\u001b[0;34m)\u001b[0m\u001b[0;34m)\u001b[0m\u001b[0;34m\u001b[0m\u001b[0;34m\u001b[0m\u001b[0m\n\u001b[0;32m---> 15\u001b[0;31m \u001b[0mmodel\u001b[0m\u001b[0;34m.\u001b[0m\u001b[0mfit\u001b[0m\u001b[0;34m(\u001b[0m\u001b[0mX_train\u001b[0m\u001b[0;34m,\u001b[0m \u001b[0my_train\u001b[0m\u001b[0;34m,\u001b[0m \u001b[0mvalidation_data\u001b[0m\u001b[0;34m=\u001b[0m\u001b[0;34m(\u001b[0m\u001b[0mX_test\u001b[0m\u001b[0;34m,\u001b[0m \u001b[0my_test\u001b[0m\u001b[0;34m)\u001b[0m\u001b[0;34m,\u001b[0m \u001b[0mnb_epoch\u001b[0m\u001b[0;34m=\u001b[0m\u001b[0;36m2\u001b[0m\u001b[0;34m,\u001b[0m \u001b[0mbatch_size\u001b[0m\u001b[0;34m=\u001b[0m\u001b[0;36m128\u001b[0m\u001b[0;34m,\u001b[0m \u001b[0mverbose\u001b[0m\u001b[0;34m=\u001b[0m\u001b[0;36m1\u001b[0m\u001b[0;34m)\u001b[0m\u001b[0;34m\u001b[0m\u001b[0;34m\u001b[0m\u001b[0m\n\u001b[0m\u001b[1;32m     16\u001b[0m \u001b[0mscores\u001b[0m \u001b[0;34m=\u001b[0m \u001b[0mmodel\u001b[0m\u001b[0;34m.\u001b[0m\u001b[0mevaluate\u001b[0m\u001b[0;34m(\u001b[0m\u001b[0mX_test\u001b[0m\u001b[0;34m,\u001b[0m \u001b[0my_test\u001b[0m\u001b[0;34m,\u001b[0m \u001b[0mverbose\u001b[0m\u001b[0;34m=\u001b[0m\u001b[0;36m0\u001b[0m\u001b[0;34m)\u001b[0m\u001b[0;34m\u001b[0m\u001b[0;34m\u001b[0m\u001b[0m\n\u001b[1;32m     17\u001b[0m \u001b[0mprint\u001b[0m\u001b[0;34m(\u001b[0m\u001b[0;34m'ACC: %.2f%%'\u001b[0m  \u001b[0;34m%\u001b[0m \u001b[0;34m(\u001b[0m\u001b[0mscores\u001b[0m\u001b[0;34m[\u001b[0m\u001b[0;36m1\u001b[0m\u001b[0;34m]\u001b[0m\u001b[0;34m*\u001b[0m\u001b[0;36m100\u001b[0m\u001b[0;34m)\u001b[0m\u001b[0;34m)\u001b[0m\u001b[0;34m\u001b[0m\u001b[0;34m\u001b[0m\u001b[0m\n",
      "\u001b[0;32m~/anaconda3/lib/python3.7/site-packages/keras/engine/training.py\u001b[0m in \u001b[0;36mfit\u001b[0;34m(self, x, y, batch_size, epochs, verbose, callbacks, validation_split, validation_data, shuffle, class_weight, sample_weight, initial_epoch, steps_per_epoch, validation_steps, validation_freq, max_queue_size, workers, use_multiprocessing, **kwargs)\u001b[0m\n\u001b[1;32m   1176\u001b[0m                                         \u001b[0msteps_per_epoch\u001b[0m\u001b[0;34m=\u001b[0m\u001b[0msteps_per_epoch\u001b[0m\u001b[0;34m,\u001b[0m\u001b[0;34m\u001b[0m\u001b[0;34m\u001b[0m\u001b[0m\n\u001b[1;32m   1177\u001b[0m                                         \u001b[0mvalidation_steps\u001b[0m\u001b[0;34m=\u001b[0m\u001b[0mvalidation_steps\u001b[0m\u001b[0;34m,\u001b[0m\u001b[0;34m\u001b[0m\u001b[0;34m\u001b[0m\u001b[0m\n\u001b[0;32m-> 1178\u001b[0;31m                                         validation_freq=validation_freq)\n\u001b[0m\u001b[1;32m   1179\u001b[0m \u001b[0;34m\u001b[0m\u001b[0m\n\u001b[1;32m   1180\u001b[0m     def evaluate(self,\n",
      "\u001b[0;32m~/anaconda3/lib/python3.7/site-packages/keras/engine/training_arrays.py\u001b[0m in \u001b[0;36mfit_loop\u001b[0;34m(model, fit_function, fit_inputs, out_labels, batch_size, epochs, verbose, callbacks, val_function, val_inputs, shuffle, callback_metrics, initial_epoch, steps_per_epoch, validation_steps, validation_freq)\u001b[0m\n\u001b[1;32m    202\u001b[0m                     \u001b[0mins_batch\u001b[0m\u001b[0;34m[\u001b[0m\u001b[0mi\u001b[0m\u001b[0;34m]\u001b[0m \u001b[0;34m=\u001b[0m \u001b[0mins_batch\u001b[0m\u001b[0;34m[\u001b[0m\u001b[0mi\u001b[0m\u001b[0;34m]\u001b[0m\u001b[0;34m.\u001b[0m\u001b[0mtoarray\u001b[0m\u001b[0;34m(\u001b[0m\u001b[0;34m)\u001b[0m\u001b[0;34m\u001b[0m\u001b[0;34m\u001b[0m\u001b[0m\n\u001b[1;32m    203\u001b[0m \u001b[0;34m\u001b[0m\u001b[0m\n\u001b[0;32m--> 204\u001b[0;31m                 \u001b[0mouts\u001b[0m \u001b[0;34m=\u001b[0m \u001b[0mfit_function\u001b[0m\u001b[0;34m(\u001b[0m\u001b[0mins_batch\u001b[0m\u001b[0;34m)\u001b[0m\u001b[0;34m\u001b[0m\u001b[0;34m\u001b[0m\u001b[0m\n\u001b[0m\u001b[1;32m    205\u001b[0m                 \u001b[0mouts\u001b[0m \u001b[0;34m=\u001b[0m \u001b[0mto_list\u001b[0m\u001b[0;34m(\u001b[0m\u001b[0mouts\u001b[0m\u001b[0;34m)\u001b[0m\u001b[0;34m\u001b[0m\u001b[0;34m\u001b[0m\u001b[0m\n\u001b[1;32m    206\u001b[0m                 \u001b[0;32mfor\u001b[0m \u001b[0ml\u001b[0m\u001b[0;34m,\u001b[0m \u001b[0mo\u001b[0m \u001b[0;32min\u001b[0m \u001b[0mzip\u001b[0m\u001b[0;34m(\u001b[0m\u001b[0mout_labels\u001b[0m\u001b[0;34m,\u001b[0m \u001b[0mouts\u001b[0m\u001b[0;34m)\u001b[0m\u001b[0;34m:\u001b[0m\u001b[0;34m\u001b[0m\u001b[0;34m\u001b[0m\u001b[0m\n",
      "\u001b[0;32m~/anaconda3/lib/python3.7/site-packages/keras/backend/tensorflow_backend.py\u001b[0m in \u001b[0;36m__call__\u001b[0;34m(self, inputs)\u001b[0m\n\u001b[1;32m   2977\u001b[0m                     \u001b[0;32mreturn\u001b[0m \u001b[0mself\u001b[0m\u001b[0;34m.\u001b[0m\u001b[0m_legacy_call\u001b[0m\u001b[0;34m(\u001b[0m\u001b[0minputs\u001b[0m\u001b[0;34m)\u001b[0m\u001b[0;34m\u001b[0m\u001b[0;34m\u001b[0m\u001b[0m\n\u001b[1;32m   2978\u001b[0m \u001b[0;34m\u001b[0m\u001b[0m\n\u001b[0;32m-> 2979\u001b[0;31m             \u001b[0;32mreturn\u001b[0m \u001b[0mself\u001b[0m\u001b[0;34m.\u001b[0m\u001b[0m_call\u001b[0m\u001b[0;34m(\u001b[0m\u001b[0minputs\u001b[0m\u001b[0;34m)\u001b[0m\u001b[0;34m\u001b[0m\u001b[0;34m\u001b[0m\u001b[0m\n\u001b[0m\u001b[1;32m   2980\u001b[0m         \u001b[0;32melse\u001b[0m\u001b[0;34m:\u001b[0m\u001b[0;34m\u001b[0m\u001b[0;34m\u001b[0m\u001b[0m\n\u001b[1;32m   2981\u001b[0m             \u001b[0;32mif\u001b[0m \u001b[0mpy_any\u001b[0m\u001b[0;34m(\u001b[0m\u001b[0mis_tensor\u001b[0m\u001b[0;34m(\u001b[0m\u001b[0mx\u001b[0m\u001b[0;34m)\u001b[0m \u001b[0;32mfor\u001b[0m \u001b[0mx\u001b[0m \u001b[0;32min\u001b[0m \u001b[0minputs\u001b[0m\u001b[0;34m)\u001b[0m\u001b[0;34m:\u001b[0m\u001b[0;34m\u001b[0m\u001b[0;34m\u001b[0m\u001b[0m\n",
      "\u001b[0;32m~/anaconda3/lib/python3.7/site-packages/keras/backend/tensorflow_backend.py\u001b[0m in \u001b[0;36m_call\u001b[0;34m(self, inputs)\u001b[0m\n\u001b[1;32m   2935\u001b[0m             \u001b[0mfetched\u001b[0m \u001b[0;34m=\u001b[0m \u001b[0mself\u001b[0m\u001b[0;34m.\u001b[0m\u001b[0m_callable_fn\u001b[0m\u001b[0;34m(\u001b[0m\u001b[0;34m*\u001b[0m\u001b[0marray_vals\u001b[0m\u001b[0;34m,\u001b[0m \u001b[0mrun_metadata\u001b[0m\u001b[0;34m=\u001b[0m\u001b[0mself\u001b[0m\u001b[0;34m.\u001b[0m\u001b[0mrun_metadata\u001b[0m\u001b[0;34m)\u001b[0m\u001b[0;34m\u001b[0m\u001b[0;34m\u001b[0m\u001b[0m\n\u001b[1;32m   2936\u001b[0m         \u001b[0;32melse\u001b[0m\u001b[0;34m:\u001b[0m\u001b[0;34m\u001b[0m\u001b[0;34m\u001b[0m\u001b[0m\n\u001b[0;32m-> 2937\u001b[0;31m             \u001b[0mfetched\u001b[0m \u001b[0;34m=\u001b[0m \u001b[0mself\u001b[0m\u001b[0;34m.\u001b[0m\u001b[0m_callable_fn\u001b[0m\u001b[0;34m(\u001b[0m\u001b[0;34m*\u001b[0m\u001b[0marray_vals\u001b[0m\u001b[0;34m)\u001b[0m\u001b[0;34m\u001b[0m\u001b[0;34m\u001b[0m\u001b[0m\n\u001b[0m\u001b[1;32m   2938\u001b[0m         \u001b[0;32mreturn\u001b[0m \u001b[0mfetched\u001b[0m\u001b[0;34m[\u001b[0m\u001b[0;34m:\u001b[0m\u001b[0mlen\u001b[0m\u001b[0;34m(\u001b[0m\u001b[0mself\u001b[0m\u001b[0;34m.\u001b[0m\u001b[0moutputs\u001b[0m\u001b[0;34m)\u001b[0m\u001b[0;34m]\u001b[0m\u001b[0;34m\u001b[0m\u001b[0;34m\u001b[0m\u001b[0m\n\u001b[1;32m   2939\u001b[0m \u001b[0;34m\u001b[0m\u001b[0m\n",
      "\u001b[0;32m~/anaconda3/lib/python3.7/site-packages/tensorflow/python/client/session.py\u001b[0m in \u001b[0;36m__call__\u001b[0;34m(self, *args, **kwargs)\u001b[0m\n\u001b[1;32m   1456\u001b[0m         ret = tf_session.TF_SessionRunCallable(self._session._session,\n\u001b[1;32m   1457\u001b[0m                                                \u001b[0mself\u001b[0m\u001b[0;34m.\u001b[0m\u001b[0m_handle\u001b[0m\u001b[0;34m,\u001b[0m \u001b[0margs\u001b[0m\u001b[0;34m,\u001b[0m\u001b[0;34m\u001b[0m\u001b[0;34m\u001b[0m\u001b[0m\n\u001b[0;32m-> 1458\u001b[0;31m                                                run_metadata_ptr)\n\u001b[0m\u001b[1;32m   1459\u001b[0m         \u001b[0;32mif\u001b[0m \u001b[0mrun_metadata\u001b[0m\u001b[0;34m:\u001b[0m\u001b[0;34m\u001b[0m\u001b[0;34m\u001b[0m\u001b[0m\n\u001b[1;32m   1460\u001b[0m           \u001b[0mproto_data\u001b[0m \u001b[0;34m=\u001b[0m \u001b[0mtf_session\u001b[0m\u001b[0;34m.\u001b[0m\u001b[0mTF_GetBuffer\u001b[0m\u001b[0;34m(\u001b[0m\u001b[0mrun_metadata_ptr\u001b[0m\u001b[0;34m)\u001b[0m\u001b[0;34m\u001b[0m\u001b[0;34m\u001b[0m\u001b[0m\n",
      "\u001b[0;31mKeyboardInterrupt\u001b[0m: "
     ]
    }
   ],
   "source": [
    "top_words = 5000\n",
    "(X_train, y_train),(X_test, y_test) = imdb.load_data(nb_words=top_words)\n",
    "max_words = 500\n",
    "X_train = sequence.pad_sequences(X_train, maxlen=max_words)\n",
    "X_test = sequence.pad_sequences(X_test, maxlen=max_words)\n",
    "model = Sequential()\n",
    "model.add(Embedding(top_words, 32, input_length=max_words))\n",
    "model.add(Convolution1D(nb_filter=32, filter_length=3, border_mode='same', activation='relu'))\n",
    "model.add(MaxPooling1D(pool_length=2))\n",
    "model.add(Flatten())\n",
    "model.add(Dense(250, activation='relu'))\n",
    "model.add(Dense(1, activation='sigmoid'))\n",
    "model.compile(loss='binary_crossentropy', optimizer='adam', metrics = ['accuracy'])\n",
    "print(model.summary())\n",
    "model.fit(X_train, y_train, validation_data=(X_test, y_test), nb_epoch=2, batch_size=128, verbose=1)\n",
    "scores = model.evaluate(X_test, y_test, verbose=0)\n",
    "print('ACC: %.2f%%'  % (scores[1]*100))"
   ]
  },
  {
   "cell_type": "code",
   "execution_count": 4,
   "metadata": {},
   "outputs": [],
   "source": [
    "# CNN for the IMDB problem\n",
    "import numpy\n",
    "from keras.datasets import imdb\n",
    "from keras.models import Sequential\n",
    "from keras.layers import Dense\n",
    "from keras.layers import Flatten\n",
    "from keras.layers.convolutional import Convolution1D\n",
    "from keras.layers.convolutional import MaxPooling1D\n",
    "from keras.layers.embeddings import Embedding\n",
    "from keras.preprocessing import sequence\n",
    "import numpy\n",
    "import matplotlib.pyplot as plt\n",
    "import pandas\n",
    "import math\n",
    "from keras.models import Sequential\n",
    "from keras.layers import Dense\n",
    "from keras.layers import LSTM\n",
    "from sklearn.preprocessing import MinMaxScaler\n",
    "from sklearn.metrics import mean_squared_error\n",
    "from keras.layers import Dropout"
   ]
  },
  {
   "cell_type": "code",
   "execution_count": null,
   "metadata": {},
   "outputs": [
    {
     "name": "stderr",
     "output_type": "stream",
     "text": [
      "/Users/syem/anaconda3/lib/python3.7/site-packages/keras/datasets/imdb.py:49: UserWarning: The `nb_words` argument in `load_data` has been renamed `num_words`.\n",
      "  warnings.warn('The `nb_words` argument in `load_data` '\n",
      "W1122 13:55:39.380538 140735902135168 deprecation.py:506] From /Users/syem/anaconda3/lib/python3.7/site-packages/keras/backend/tensorflow_backend.py:3733: calling dropout (from tensorflow.python.ops.nn_ops) with keep_prob is deprecated and will be removed in a future version.\n",
      "Instructions for updating:\n",
      "Please use `rate` instead of `keep_prob`. Rate should be set to `rate = 1 - keep_prob`.\n"
     ]
    }
   ],
   "source": [
    "top_words = 5000\n",
    "(X_train, y_train), (X_test, y_test) = imdb.load_data(nb_words=top_words)\n",
    "max_words = 500\n",
    "X_train = sequence.pad_sequences(X_train, maxlen= 500)\n",
    "X_test = sequence.pad_sequences(X_test, maxlen= 500)\n",
    "\n",
    "embed_dim = 128\n",
    "lstm_out = 196\n",
    "model = Sequential()\n",
    "model.add(Embedding(top_words, embed_dim, input_length=max_words))\n",
    "model.add(Dropout(0.2))\n",
    "model.add(LSTM(lstm_out))\n",
    "model.add(Dropout(0.2))\n",
    "model.add(Dense(1, activation='softmax'))\n",
    "model.compile(loss='binary_crossentropy', optimizer='adam', metrics=['accuracy'])\n",
    "print(model.summary())\n",
    "model.fit(X_train, y_train, validation_data=(X_test, y_test), nb_epoch=2, batch_size=128, verbose=1)\n",
    "scores = model.evaluate(X_test, y_test, verbose=0)\n",
    "print(\"ACC: %.2f%%\" % (scores[1]*100))\n"
   ]
  },
  {
   "cell_type": "code",
   "execution_count": 1,
   "metadata": {},
   "outputs": [
    {
     "name": "stderr",
     "output_type": "stream",
     "text": [
      "Using TensorFlow backend.\n"
     ]
    }
   ],
   "source": [
    "# CNN for the IMDB problem\n",
    "import numpy\n",
    "from keras.datasets import imdb\n",
    "from keras.models import Sequential\n",
    "from keras.layers import Dense\n",
    "from keras.layers import Flatten\n",
    "from keras.layers.convolutional import Convolution1D\n",
    "from keras.layers.convolutional import MaxPooling1D\n",
    "from keras.layers.embeddings import Embedding\n",
    "from keras.preprocessing import sequence"
   ]
  },
  {
   "cell_type": "code",
   "execution_count": 3,
   "metadata": {},
   "outputs": [
    {
     "name": "stderr",
     "output_type": "stream",
     "text": [
      "WARNING: Logging before flag parsing goes to stderr.\n",
      "W1122 14:03:53.338352 140735902135168 deprecation_wrapper.py:119] From /Users/syem/anaconda3/lib/python3.7/site-packages/keras/backend/tensorflow_backend.py:66: The name tf.get_default_graph is deprecated. Please use tf.compat.v1.get_default_graph instead.\n",
      "\n",
      "W1122 14:03:53.445514 140735902135168 deprecation_wrapper.py:119] From /Users/syem/anaconda3/lib/python3.7/site-packages/keras/backend/tensorflow_backend.py:541: The name tf.placeholder is deprecated. Please use tf.compat.v1.placeholder instead.\n",
      "\n",
      "W1122 14:03:53.474019 140735902135168 deprecation_wrapper.py:119] From /Users/syem/anaconda3/lib/python3.7/site-packages/keras/backend/tensorflow_backend.py:4432: The name tf.random_uniform is deprecated. Please use tf.random.uniform instead.\n",
      "\n",
      "/Users/syem/anaconda3/lib/python3.7/site-packages/ipykernel_launcher.py:8: UserWarning: Update your `Conv1D` call to the Keras 2 API: `Conv1D(activation=\"relu\", filters=32, kernel_size=3, padding=\"same\")`\n",
      "  \n",
      "/Users/syem/anaconda3/lib/python3.7/site-packages/ipykernel_launcher.py:9: UserWarning: Update your `MaxPooling1D` call to the Keras 2 API: `MaxPooling1D(pool_size=2)`\n",
      "  if __name__ == '__main__':\n",
      "W1122 14:03:53.557079 140735902135168 deprecation_wrapper.py:119] From /Users/syem/anaconda3/lib/python3.7/site-packages/keras/backend/tensorflow_backend.py:4267: The name tf.nn.max_pool is deprecated. Please use tf.nn.max_pool2d instead.\n",
      "\n",
      "W1122 14:03:53.626168 140735902135168 deprecation_wrapper.py:119] From /Users/syem/anaconda3/lib/python3.7/site-packages/keras/optimizers.py:793: The name tf.train.Optimizer is deprecated. Please use tf.compat.v1.train.Optimizer instead.\n",
      "\n",
      "W1122 14:03:53.663472 140735902135168 deprecation_wrapper.py:119] From /Users/syem/anaconda3/lib/python3.7/site-packages/keras/backend/tensorflow_backend.py:3657: The name tf.log is deprecated. Please use tf.math.log instead.\n",
      "\n",
      "W1122 14:03:53.670238 140735902135168 deprecation.py:323] From /Users/syem/anaconda3/lib/python3.7/site-packages/tensorflow/python/ops/nn_impl.py:180: add_dispatch_support.<locals>.wrapper (from tensorflow.python.ops.array_ops) is deprecated and will be removed in a future version.\n",
      "Instructions for updating:\n",
      "Use tf.where in 2.0, which has the same broadcast rule as np.where\n",
      "/Users/syem/anaconda3/lib/python3.7/site-packages/ipykernel_launcher.py:15: UserWarning: The `nb_epoch` argument in `fit` has been renamed `epochs`.\n",
      "  from ipykernel import kernelapp as app\n"
     ]
    },
    {
     "name": "stdout",
     "output_type": "stream",
     "text": [
      "Model: \"sequential_1\"\n",
      "_________________________________________________________________\n",
      "Layer (type)                 Output Shape              Param #   \n",
      "=================================================================\n",
      "embedding_1 (Embedding)      (None, 500, 32)           160000    \n",
      "_________________________________________________________________\n",
      "conv1d_1 (Conv1D)            (None, 500, 32)           3104      \n",
      "_________________________________________________________________\n",
      "max_pooling1d_1 (MaxPooling1 (None, 250, 32)           0         \n",
      "_________________________________________________________________\n",
      "flatten_1 (Flatten)          (None, 8000)              0         \n",
      "_________________________________________________________________\n",
      "dense_1 (Dense)              (None, 250)               2000250   \n",
      "_________________________________________________________________\n",
      "dense_2 (Dense)              (None, 1)                 251       \n",
      "=================================================================\n",
      "Total params: 2,163,605\n",
      "Trainable params: 2,163,605\n",
      "Non-trainable params: 0\n",
      "_________________________________________________________________\n",
      "None\n"
     ]
    },
    {
     "name": "stderr",
     "output_type": "stream",
     "text": [
      "W1122 14:03:53.979676 140735902135168 deprecation_wrapper.py:119] From /Users/syem/anaconda3/lib/python3.7/site-packages/keras/backend/tensorflow_backend.py:1033: The name tf.assign_add is deprecated. Please use tf.compat.v1.assign_add instead.\n",
      "\n"
     ]
    },
    {
     "name": "stdout",
     "output_type": "stream",
     "text": [
      "Train on 25000 samples, validate on 25000 samples\n",
      "Epoch 1/2\n",
      "25000/25000 [==============================] - 78s 3ms/step - loss: 0.5054 - acc: 0.7174 - val_loss: 0.3015 - val_acc: 0.8715\n",
      "Epoch 2/2\n",
      "25000/25000 [==============================] - 68s 3ms/step - loss: 0.2404 - acc: 0.9050 - val_loss: 0.2769 - val_acc: 0.8832\n",
      "ACC: 88.32%\n"
     ]
    }
   ],
   "source": [
    "top_words = 5000\n",
    "(X_train, y_train), (X_test, y_test) = imdb.load_data(nb_words=top_words)\n",
    "max_words = 500\n",
    "X_train = sequence.pad_sequences(X_train, maxlen=max_words)\n",
    "X_test = sequence.pad_sequences(X_test, maxlen=max_words)\n",
    "model = Sequential()\n",
    "model.add(Embedding(top_words, 32, input_length=max_words))\n",
    "model.add(Convolution1D(nb_filter=32, filter_length=3, border_mode='same', activation='relu'))\n",
    "model.add(MaxPooling1D(pool_length=2))\n",
    "model.add(Flatten())\n",
    "model.add(Dense(250, activation='relu'))\n",
    "model.add(Dense(1, activation='sigmoid'))\n",
    "model.compile(loss='binary_crossentropy', optimizer='adam', metrics=['accuracy'])\n",
    "print(model.summary())\n",
    "model.fit(X_train, y_train, validation_data=(X_test, y_test), nb_epoch=2, batch_size=128, verbose=1)\n",
    "scores = model.evaluate(X_test, y_test, verbose=0)\n",
    "print('ACC: %.2f%%' % (scores[1]*100))\n",
    "\n",
    "\n"
   ]
  },
  {
   "cell_type": "code",
   "execution_count": 1,
   "metadata": {},
   "outputs": [
    {
     "name": "stderr",
     "output_type": "stream",
     "text": [
      "Using TensorFlow backend.\n"
     ]
    }
   ],
   "source": [
    "# Random Rotations\n",
    "from keras.datasets import mnist\n",
    "from keras.preprocessing.image import ImageDataGenerator\n",
    "from matplotlib import pyplot"
   ]
  },
  {
   "cell_type": "code",
   "execution_count": 3,
   "metadata": {},
   "outputs": [
    {
     "name": "stderr",
     "output_type": "stream",
     "text": [
      "/Users/syem/anaconda3/lib/python3.7/site-packages/keras_preprocessing/image/numpy_array_iterator.py:127: UserWarning: NumpyArrayIterator is set to use the data format convention \"channels_last\" (channels on axis 3), i.e. expected either 1, 3, or 4 channels on axis 3. However, it was passed an array with shape (60000, 1, 28, 28) (28 channels).\n",
      "  str(self.x.shape[channels_axis]) + ' channels).')\n"
     ]
    },
    {
     "data": {
      "image/png": "[encoded data removed]",
      "text/plain": [
       "<Figure size 432x288 with 9 Axes>"
      ]
     },
     "metadata": {
      "needs_background": "light"
     },
     "output_type": "display_data"
    }
   ],
   "source": [
    "(X_train, y_train),(X_test, y_test) = mnist.load_data()\n",
    "X_train = X_train.reshape(X_train.shape[0], 1, 28, 28)\n",
    "X_test = X_test.reshape(X_test.shape[0], 1, 28, 28)\n",
    "\n",
    "X_train = X_train.astype('float32')\n",
    "X_test = X_test.astype('float32')\n",
    "\n",
    "datagen = ImageDataGenerator(rotation_range=90)\n",
    "datagen.fit(X_train)\n",
    "\n",
    "for X_batch, y_batch in datagen.flow(X_train, y_train, batch_size=9):\n",
    "    for i in range(0, 9):\n",
    "        pyplot.subplot(330 + 1 + i)\n",
    "        pyplot.imshow(X_batch[i].reshape(28, 28), cmap=pyplot.get_cmap('gray'))\n",
    "    pyplot.show()\n",
    "    break\n"
   ]
  },
  {
   "cell_type": "code",
   "execution_count": 4,
   "metadata": {},
   "outputs": [],
   "source": [
    "# Standardize images across the dataset, mean=0, stdev=1\n",
    "from keras.datasets import mnist\n",
    "from keras.preprocessing.image import ImageDataGenerator\n",
    "from matplotlib import pyplot\n",
    "# load data"
   ]
  },
  {
   "cell_type": "code",
   "execution_count": 6,
   "metadata": {},
   "outputs": [
    {
     "data": {
      "image/png": "[encoded data removed]",
      "text/plain": [
       "<Figure size 432x288 with 9 Axes>"
      ]
     },
     "metadata": {
      "needs_background": "light"
     },
     "output_type": "display_data"
    }
   ],
   "source": [
    "(X_train, y_train),(X_test, y_test) = mnist.load_data()\n",
    "X_train = X_train.reshape(X_train.shape[0], 1, 28, 28)\n",
    "X_test = X_test.reshape(X_test.shape[0], 1, 28, 28)\n",
    "\n",
    "X_train = X_train.astype('float32')\n",
    "X_test = X_test.astype('float32')\n",
    "\n",
    "datagen = ImageDataGenerator(featurewise_center = True, featurewise_std_normalization = True)\n",
    "\n",
    "datagen.fit(X_train)\n",
    "\n",
    "for X_batch, y_batch in datagen.flow(X_train, y_train, batch_size=9):\n",
    "    for i in range(0,9):\n",
    "        pyplot.subplot(330 + 1 + i)\n",
    "        pyplot.imshow(X_batch[i].reshape(28, 28), cmap=pyplot.get_cmap('gray'))\n",
    "    pyplot.show()\n",
    "    break\n"
   ]
  },
  {
   "cell_type": "code",
   "execution_count": 1,
   "metadata": {},
   "outputs": [
    {
     "name": "stderr",
     "output_type": "stream",
     "text": [
      "Using TensorFlow backend.\n"
     ]
    }
   ],
   "source": [
    "# MLP for the IMDB problem\n",
    "import numpy\n",
    "from keras.datasets import imdb\n",
    "from keras.models import Sequential\n",
    "from keras.layers import Dense\n",
    "from keras.layers import Flatten\n",
    "from keras.layers.embeddings import Embedding\n",
    "from keras.preprocessing import sequence"
   ]
  },
  {
   "cell_type": "code",
   "execution_count": 2,
   "metadata": {},
   "outputs": [
    {
     "name": "stderr",
     "output_type": "stream",
     "text": [
      "/Users/syem/anaconda3/lib/python3.7/site-packages/keras/datasets/imdb.py:49: UserWarning: The `nb_words` argument in `load_data` has been renamed `num_words`.\n",
      "  warnings.warn('The `nb_words` argument in `load_data` '\n",
      "WARNING: Logging before flag parsing goes to stderr.\n",
      "W1123 15:44:20.948731 140735902135168 deprecation_wrapper.py:119] From /Users/syem/anaconda3/lib/python3.7/site-packages/keras/backend/tensorflow_backend.py:66: The name tf.get_default_graph is deprecated. Please use tf.compat.v1.get_default_graph instead.\n",
      "\n",
      "W1123 15:44:20.977765 140735902135168 deprecation_wrapper.py:119] From /Users/syem/anaconda3/lib/python3.7/site-packages/keras/backend/tensorflow_backend.py:541: The name tf.placeholder is deprecated. Please use tf.compat.v1.placeholder instead.\n",
      "\n",
      "W1123 15:44:20.980509 140735902135168 deprecation_wrapper.py:119] From /Users/syem/anaconda3/lib/python3.7/site-packages/keras/backend/tensorflow_backend.py:4432: The name tf.random_uniform is deprecated. Please use tf.random.uniform instead.\n",
      "\n",
      "W1123 15:44:21.026597 140735902135168 deprecation_wrapper.py:119] From /Users/syem/anaconda3/lib/python3.7/site-packages/keras/optimizers.py:793: The name tf.train.Optimizer is deprecated. Please use tf.compat.v1.train.Optimizer instead.\n",
      "\n",
      "W1123 15:44:21.051552 140735902135168 deprecation_wrapper.py:119] From /Users/syem/anaconda3/lib/python3.7/site-packages/keras/backend/tensorflow_backend.py:3657: The name tf.log is deprecated. Please use tf.math.log instead.\n",
      "\n",
      "W1123 15:44:21.060054 140735902135168 deprecation.py:323] From /Users/syem/anaconda3/lib/python3.7/site-packages/tensorflow/python/ops/nn_impl.py:180: add_dispatch_support.<locals>.wrapper (from tensorflow.python.ops.array_ops) is deprecated and will be removed in a future version.\n",
      "Instructions for updating:\n",
      "Use tf.where in 2.0, which has the same broadcast rule as np.where\n",
      "/Users/syem/anaconda3/lib/python3.7/site-packages/ipykernel_launcher.py:14: UserWarning: The `nb_epoch` argument in `fit` has been renamed `epochs`.\n",
      "  \n"
     ]
    },
    {
     "name": "stdout",
     "output_type": "stream",
     "text": [
      "Model: \"sequential_1\"\n",
      "_________________________________________________________________\n",
      "Layer (type)                 Output Shape              Param #   \n",
      "=================================================================\n",
      "embedding_1 (Embedding)      (None, 500, 32)           160000    \n",
      "_________________________________________________________________\n",
      "flatten_1 (Flatten)          (None, 16000)             0         \n",
      "_________________________________________________________________\n",
      "dense_1 (Dense)              (None, 250)               4000250   \n",
      "_________________________________________________________________\n",
      "dense_2 (Dense)              (None, 1)                 251       \n",
      "=================================================================\n",
      "Total params: 4,160,501\n",
      "Trainable params: 4,160,501\n",
      "Non-trainable params: 0\n",
      "_________________________________________________________________\n",
      "None\n"
     ]
    },
    {
     "name": "stderr",
     "output_type": "stream",
     "text": [
      "W1123 15:44:21.393069 140735902135168 deprecation_wrapper.py:119] From /Users/syem/anaconda3/lib/python3.7/site-packages/keras/backend/tensorflow_backend.py:1033: The name tf.assign_add is deprecated. Please use tf.compat.v1.assign_add instead.\n",
      "\n"
     ]
    },
    {
     "name": "stdout",
     "output_type": "stream",
     "text": [
      "Train on 25000 samples, validate on 25000 samples\n",
      "Epoch 1/2\n",
      "25000/25000 [==============================] - 50s 2ms/step - loss: 0.4537 - acc: 0.7643 - val_loss: 0.2935 - val_acc: 0.8740\n",
      "Epoch 2/2\n",
      "25000/25000 [==============================] - 45s 2ms/step - loss: 0.1694 - acc: 0.9363 - val_loss: 0.3202 - val_acc: 0.8690\n",
      "ACC: 86.90%\n"
     ]
    }
   ],
   "source": [
    "top_words = 5000\n",
    "(X_train, y_train),(X_test, y_test) = imdb.load_data(nb_words=top_words)\n",
    "max_words = 500\n",
    "X_train = sequence.pad_sequences(X_train, maxlen=max_words)\n",
    "X_test = sequence.pad_sequences(X_test, maxlen=max_words)\n",
    "\n",
    "model = Sequential()\n",
    "model.add(Embedding(top_words, 32, input_length=max_words))\n",
    "model.add(Flatten())\n",
    "model.add(Dense(250, activation='relu'))\n",
    "model.add(Dense(1, activation='sigmoid'))\n",
    "model.compile(loss='binary_crossentropy', optimizer='adam', metrics=['accuracy'])\n",
    "print(model.summary())\n",
    "model.fit(X_train, y_train, validation_data=(X_test, y_test), nb_epoch=2, batch_size=128, verbose=1)\n",
    "scores = model.evaluate(X_test, y_test, verbose=0)\n",
    "print('ACC: %.2f%%' % (scores[1]*100))\n"
   ]
  },
  {
   "cell_type": "code",
   "execution_count": 4,
   "metadata": {},
   "outputs": [],
   "source": [
    "# CNN for the IMDB problem\n",
    "import numpy\n",
    "from keras.datasets import imdb\n",
    "from keras.models import Sequential\n",
    "from keras.layers import Dense\n",
    "from keras.layers import Flatten\n",
    "from keras.layers.convolutional import Convolution1D\n",
    "from keras.layers.convolutional import MaxPooling1D\n",
    "from keras.layers.embeddings import Embedding\n",
    "from keras.preprocessing import sequence"
   ]
  },
  {
   "cell_type": "code",
   "execution_count": 6,
   "metadata": {},
   "outputs": [
    {
     "name": "stderr",
     "output_type": "stream",
     "text": [
      "/Users/syem/anaconda3/lib/python3.7/site-packages/ipykernel_launcher.py:9: UserWarning: Update your `Conv1D` call to the Keras 2 API: `Conv1D(activation=\"relu\", filters=32, kernel_size=3, padding=\"same\")`\n",
      "  if __name__ == '__main__':\n",
      "/Users/syem/anaconda3/lib/python3.7/site-packages/ipykernel_launcher.py:10: UserWarning: Update your `MaxPooling1D` call to the Keras 2 API: `MaxPooling1D(pool_size=2)`\n",
      "  # Remove the CWD from sys.path while we load stuff.\n",
      "/Users/syem/anaconda3/lib/python3.7/site-packages/ipykernel_launcher.py:17: UserWarning: The `nb_epoch` argument in `fit` has been renamed `epochs`.\n"
     ]
    },
    {
     "name": "stdout",
     "output_type": "stream",
     "text": [
      "Model: \"sequential_3\"\n",
      "_________________________________________________________________\n",
      "Layer (type)                 Output Shape              Param #   \n",
      "=================================================================\n",
      "embedding_3 (Embedding)      (None, 500, 32)           160000    \n",
      "_________________________________________________________________\n",
      "conv1d_2 (Conv1D)            (None, 500, 32)           3104      \n",
      "_________________________________________________________________\n",
      "max_pooling1d_2 (MaxPooling1 (None, 250, 32)           0         \n",
      "_________________________________________________________________\n",
      "flatten_3 (Flatten)          (None, 8000)              0         \n",
      "_________________________________________________________________\n",
      "dense_5 (Dense)              (None, 250)               2000250   \n",
      "_________________________________________________________________\n",
      "dense_6 (Dense)              (None, 1)                 251       \n",
      "=================================================================\n",
      "Total params: 2,163,605\n",
      "Trainable params: 2,163,605\n",
      "Non-trainable params: 0\n",
      "_________________________________________________________________\n",
      "None\n",
      "Train on 25000 samples, validate on 25000 samples\n",
      "Epoch 1/2\n",
      "25000/25000 [==============================] - 74s 3ms/step - loss: 0.4238 - acc: 0.7787 - val_loss: 0.2712 - val_acc: 0.8863\n",
      "Epoch 2/2\n",
      "25000/25000 [==============================] - 68s 3ms/step - loss: 0.2104 - acc: 0.9182 - val_loss: 0.2788 - val_acc: 0.8828\n",
      "ACC: 88.28%\n"
     ]
    }
   ],
   "source": [
    "top_words = 5000\n",
    "(X_train, y_train), (X_test, y_test) = imdb.load_data(nb_words = top_words)\n",
    "max_words = 500\n",
    "X_train = sequence.pad_sequences(X_train, maxlen=max_words)\n",
    "X_test = sequence.pad_sequences(X_test, maxlen=max_words)\n",
    "\n",
    "model = Sequential()\n",
    "model.add(Embedding(top_words, 32, input_length=max_words))\n",
    "model.add(Convolution1D(nb_filter=32, filter_length=3, border_mode='same', activation= 'relu'))\n",
    "model.add(MaxPooling1D(pool_length=2))\n",
    "model.add(Flatten())\n",
    "model.add(Dense(250, activation='relu'))\n",
    "model.add(Dense(1, activation='sigmoid'))\n",
    "model.compile(loss='binary_crossentropy', optimizer='adam', metrics=['accuracy'])\n",
    "print(model.summary())\n",
    "\n",
    "model.fit(X_train, y_train, validation_data=(X_test, y_test), nb_epoch=2, batch_size=128, verbose=1)\n",
    "scores = model.evaluate(X_test, y_test, verbose=0)\n",
    "print('ACC: %.2f%%' % (scores[1]*100))\n",
    "\n",
    "\n",
    "\n",
    "\n"
   ]
  },
  {
   "cell_type": "code",
   "execution_count": 1,
   "metadata": {},
   "outputs": [
    {
     "name": "stderr",
     "output_type": "stream",
     "text": [
      "Using TensorFlow backend.\n"
     ]
    }
   ],
   "source": [
    "# Simple CNN model for the CIFAR-10 Dataset\n",
    "import numpy\n",
    "from keras.datasets import cifar10\n",
    "from keras.models import Sequential\n",
    "from keras.layers import Dense\n",
    "from keras.layers import Dropout\n",
    "from keras.layers import Flatten\n",
    "from keras.constraints import maxnorm\n",
    "from keras.optimizers import SGD\n",
    "from keras.layers.convolutional import Convolution2D\n",
    "from keras.layers.convolutional import MaxPooling2D\n",
    "from keras.utils import np_utils\n",
    "from keras import backend as K"
   ]
  },
  {
   "cell_type": "code",
   "execution_count": 2,
   "metadata": {},
   "outputs": [],
   "source": [
    "K.tensorflow_backend.set_image_dim_ordering('th')"
   ]
  },
  {
   "cell_type": "code",
   "execution_count": null,
   "metadata": {},
   "outputs": [
    {
     "name": "stderr",
     "output_type": "stream",
     "text": [
      "WARNING: Logging before flag parsing goes to stderr.\n",
      "W1124 14:26:26.680258 140735902135168 deprecation_wrapper.py:119] From /Users/syem/anaconda3/lib/python3.7/site-packages/keras/backend/tensorflow_backend.py:66: The name tf.get_default_graph is deprecated. Please use tf.compat.v1.get_default_graph instead.\n",
      "\n",
      "/Users/syem/anaconda3/lib/python3.7/site-packages/ipykernel_launcher.py:13: UserWarning: Update your `Conv2D` call to the Keras 2 API: `Conv2D(32, (3, 3), input_shape=(3, 32, 32..., activation=\"relu\", padding=\"same\", kernel_constraint=<keras.con...)`\n",
      "  del sys.path[0]\n",
      "W1124 14:26:26.786724 140735902135168 deprecation_wrapper.py:119] From /Users/syem/anaconda3/lib/python3.7/site-packages/keras/backend/tensorflow_backend.py:541: The name tf.placeholder is deprecated. Please use tf.compat.v1.placeholder instead.\n",
      "\n",
      "W1124 14:26:26.816965 140735902135168 deprecation_wrapper.py:119] From /Users/syem/anaconda3/lib/python3.7/site-packages/keras/backend/tensorflow_backend.py:4432: The name tf.random_uniform is deprecated. Please use tf.random.uniform instead.\n",
      "\n",
      "W1124 14:26:26.851971 140735902135168 deprecation_wrapper.py:119] From /Users/syem/anaconda3/lib/python3.7/site-packages/keras/backend/tensorflow_backend.py:190: The name tf.get_default_session is deprecated. Please use tf.compat.v1.get_default_session instead.\n",
      "\n",
      "W1124 14:26:26.852992 140735902135168 deprecation_wrapper.py:119] From /Users/syem/anaconda3/lib/python3.7/site-packages/keras/backend/tensorflow_backend.py:197: The name tf.ConfigProto is deprecated. Please use tf.compat.v1.ConfigProto instead.\n",
      "\n",
      "W1124 14:26:27.056742 140735902135168 deprecation.py:506] From /Users/syem/anaconda3/lib/python3.7/site-packages/keras/backend/tensorflow_backend.py:3733: calling dropout (from tensorflow.python.ops.nn_ops) with keep_prob is deprecated and will be removed in a future version.\n",
      "Instructions for updating:\n",
      "Please use `rate` instead of `keep_prob`. Rate should be set to `rate = 1 - keep_prob`.\n",
      "/Users/syem/anaconda3/lib/python3.7/site-packages/ipykernel_launcher.py:15: UserWarning: Update your `Conv2D` call to the Keras 2 API: `Conv2D(32, (3, 3), activation=\"relu\", padding=\"same\", kernel_constraint=<keras.con...)`\n",
      "  from ipykernel import kernelapp as app\n",
      "W1124 14:26:27.121932 140735902135168 deprecation_wrapper.py:119] From /Users/syem/anaconda3/lib/python3.7/site-packages/keras/backend/tensorflow_backend.py:4267: The name tf.nn.max_pool is deprecated. Please use tf.nn.max_pool2d instead.\n",
      "\n",
      "/Users/syem/anaconda3/lib/python3.7/site-packages/ipykernel_launcher.py:18: UserWarning: Update your `Dense` call to the Keras 2 API: `Dense(512, activation=\"relu\", kernel_constraint=<keras.con...)`\n",
      "W1124 14:26:27.246644 140735902135168 deprecation_wrapper.py:119] From /Users/syem/anaconda3/lib/python3.7/site-packages/keras/optimizers.py:793: The name tf.train.Optimizer is deprecated. Please use tf.compat.v1.train.Optimizer instead.\n",
      "\n",
      "/Users/syem/anaconda3/lib/python3.7/site-packages/ipykernel_launcher.py:27: UserWarning: The `nb_epoch` argument in `fit` has been renamed `epochs`.\n"
     ]
    },
    {
     "name": "stdout",
     "output_type": "stream",
     "text": [
      "Model: \"sequential_1\"\n",
      "_________________________________________________________________\n",
      "Layer (type)                 Output Shape              Param #   \n",
      "=================================================================\n",
      "conv2d_1 (Conv2D)            (None, 32, 32, 32)        896       \n",
      "_________________________________________________________________\n",
      "dropout_1 (Dropout)          (None, 32, 32, 32)        0         \n",
      "_________________________________________________________________\n",
      "conv2d_2 (Conv2D)            (None, 32, 32, 32)        9248      \n",
      "_________________________________________________________________\n",
      "max_pooling2d_1 (MaxPooling2 (None, 32, 16, 16)        0         \n",
      "_________________________________________________________________\n",
      "flatten_1 (Flatten)          (None, 8192)              0         \n",
      "_________________________________________________________________\n",
      "dense_1 (Dense)              (None, 512)               4194816   \n",
      "_________________________________________________________________\n",
      "dropout_2 (Dropout)          (None, 512)               0         \n",
      "_________________________________________________________________\n",
      "dense_2 (Dense)              (None, 10)                5130      \n",
      "=================================================================\n",
      "Total params: 4,210,090\n",
      "Trainable params: 4,210,090\n",
      "Non-trainable params: 0\n",
      "_________________________________________________________________\n",
      "None\n"
     ]
    },
    {
     "name": "stderr",
     "output_type": "stream",
     "text": [
      "W1124 14:26:27.741358 140735902135168 deprecation.py:323] From /Users/syem/anaconda3/lib/python3.7/site-packages/tensorflow/python/ops/math_grad.py:1250: add_dispatch_support.<locals>.wrapper (from tensorflow.python.ops.array_ops) is deprecated and will be removed in a future version.\n",
      "Instructions for updating:\n",
      "Use tf.where in 2.0, which has the same broadcast rule as np.where\n"
     ]
    },
    {
     "name": "stdout",
     "output_type": "stream",
     "text": [
      "Train on 50000 samples, validate on 10000 samples\n",
      "Epoch 1/25\n"
     ]
    }
   ],
   "source": [
    "(X_train, y_train), (X_test, y_test) = cifar10.load_data()\n",
    "X_train = X_train.astype('float32')\n",
    "X_test = X_test.astype('float32')\n",
    "X_train = X_train/255.0\n",
    "X_test = X_test/255.0\n",
    "\n",
    "y_train = np_utils.to_categorical(y_train)\n",
    "y_test = np_utils.to_categorical(y_test)\n",
    "\n",
    "num_classes = y_test.shape[1]\n",
    "\n",
    "model = Sequential()\n",
    "model.add(Convolution2D(32, 3, 3, input_shape=(3, 32, 32), border_mode='same', activation='relu', W_constraint=maxnorm(3)))\n",
    "model.add(Dropout(0.2))\n",
    "model.add(Convolution2D(32, 3, 3, activation='relu', border_mode='same', W_constraint=maxnorm(3)))\n",
    "model.add(MaxPooling2D(pool_size=(2,2)))\n",
    "model.add(Flatten())\n",
    "model.add(Dense(512, activation='relu', W_constraint=maxnorm(3)))\n",
    "model.add(Dropout(0.5))\n",
    "model.add(Dense(num_classes, activation='softmax'))\n",
    "epochs = 25\n",
    "lrate = 0.01\n",
    "decay = lrate/epochs\n",
    "sgd = SGD(lr = lrate, momentum=0.9, decay=decay, nesterov=False)\n",
    "model.compile(loss='categorical_crossentropy', optimizer=sgd, metrics=['accuracy'])\n",
    "print(model.summary())\n",
    "model.fit(X_train, y_train, validation_data=(X_test, y_test), nb_epoch=epochs, batch_size=32, verbose=2)\n",
    "scores = model.compile(X_test, y_test, verbose=0)\n",
    "print('ACC: %.2f%%' % (scores[1]*100))\n",
    "\n",
    "\n"
   ]
  },
  {
   "cell_type": "code",
   "execution_count": 1,
   "metadata": {},
   "outputs": [
    {
     "name": "stderr",
     "output_type": "stream",
     "text": [
      "Using TensorFlow backend.\n"
     ]
    }
   ],
   "source": [
    "# MLP for the IMDB problem\n",
    "import numpy\n",
    "from keras.datasets import imdb\n",
    "from keras.models import Sequential\n",
    "from keras.layers import Dense\n",
    "from keras.layers import Flatten\n",
    "from keras.layers.embeddings import Embedding\n",
    "from keras.preprocessing import sequence"
   ]
  },
  {
   "cell_type": "code",
   "execution_count": 2,
   "metadata": {},
   "outputs": [
    {
     "name": "stderr",
     "output_type": "stream",
     "text": [
      "/Users/syem/anaconda3/lib/python3.7/site-packages/keras/datasets/imdb.py:49: UserWarning: The `nb_words` argument in `load_data` has been renamed `num_words`.\n",
      "  warnings.warn('The `nb_words` argument in `load_data` '\n",
      "WARNING: Logging before flag parsing goes to stderr.\n",
      "W1124 15:08:48.764744 140735902135168 deprecation_wrapper.py:119] From /Users/syem/anaconda3/lib/python3.7/site-packages/keras/backend/tensorflow_backend.py:66: The name tf.get_default_graph is deprecated. Please use tf.compat.v1.get_default_graph instead.\n",
      "\n",
      "W1124 15:08:48.908205 140735902135168 deprecation_wrapper.py:119] From /Users/syem/anaconda3/lib/python3.7/site-packages/keras/backend/tensorflow_backend.py:541: The name tf.placeholder is deprecated. Please use tf.compat.v1.placeholder instead.\n",
      "\n",
      "W1124 15:08:48.953741 140735902135168 deprecation_wrapper.py:119] From /Users/syem/anaconda3/lib/python3.7/site-packages/keras/backend/tensorflow_backend.py:4432: The name tf.random_uniform is deprecated. Please use tf.random.uniform instead.\n",
      "\n",
      "W1124 15:08:49.061454 140735902135168 deprecation_wrapper.py:119] From /Users/syem/anaconda3/lib/python3.7/site-packages/keras/optimizers.py:793: The name tf.train.Optimizer is deprecated. Please use tf.compat.v1.train.Optimizer instead.\n",
      "\n",
      "W1124 15:08:49.097363 140735902135168 deprecation_wrapper.py:119] From /Users/syem/anaconda3/lib/python3.7/site-packages/keras/backend/tensorflow_backend.py:3657: The name tf.log is deprecated. Please use tf.math.log instead.\n",
      "\n",
      "W1124 15:08:49.107897 140735902135168 deprecation.py:323] From /Users/syem/anaconda3/lib/python3.7/site-packages/tensorflow/python/ops/nn_impl.py:180: add_dispatch_support.<locals>.wrapper (from tensorflow.python.ops.array_ops) is deprecated and will be removed in a future version.\n",
      "Instructions for updating:\n",
      "Use tf.where in 2.0, which has the same broadcast rule as np.where\n",
      "/Users/syem/anaconda3/lib/python3.7/site-packages/ipykernel_launcher.py:13: UserWarning: The `nb_epoch` argument in `fit` has been renamed `epochs`.\n",
      "  del sys.path[0]\n"
     ]
    },
    {
     "name": "stdout",
     "output_type": "stream",
     "text": [
      "Model: \"sequential_1\"\n",
      "_________________________________________________________________\n",
      "Layer (type)                 Output Shape              Param #   \n",
      "=================================================================\n",
      "embedding_1 (Embedding)      (None, 500, 32)           160000    \n",
      "_________________________________________________________________\n",
      "flatten_1 (Flatten)          (None, 16000)             0         \n",
      "_________________________________________________________________\n",
      "dense_1 (Dense)              (None, 250)               4000250   \n",
      "_________________________________________________________________\n",
      "dense_2 (Dense)              (None, 1)                 251       \n",
      "=================================================================\n",
      "Total params: 4,160,501\n",
      "Trainable params: 4,160,501\n",
      "Non-trainable params: 0\n",
      "_________________________________________________________________\n",
      "None\n"
     ]
    },
    {
     "name": "stderr",
     "output_type": "stream",
     "text": [
      "W1124 15:08:49.465267 140735902135168 deprecation_wrapper.py:119] From /Users/syem/anaconda3/lib/python3.7/site-packages/keras/backend/tensorflow_backend.py:1033: The name tf.assign_add is deprecated. Please use tf.compat.v1.assign_add instead.\n",
      "\n"
     ]
    },
    {
     "name": "stdout",
     "output_type": "stream",
     "text": [
      "Train on 25000 samples, validate on 25000 samples\n",
      "Epoch 1/2\n",
      "25000/25000 [==============================] - 55s 2ms/step - loss: 0.4841 - acc: 0.7281 - val_loss: 0.3077 - val_acc: 0.8673\n",
      "Epoch 2/2\n",
      "25000/25000 [==============================] - 47s 2ms/step - loss: 0.1792 - acc: 0.9340 - val_loss: 0.3132 - val_acc: 0.8689\n",
      "ACC: 86.89%\n"
     ]
    }
   ],
   "source": [
    "top_words = 5000\n",
    "(X_train, y_train), (X_test, y_test) = imdb.load_data(nb_words=top_words)\n",
    "max_words = 500\n",
    "X_train = sequence.pad_sequences(X_train, maxlen=max_words)\n",
    "X_test = sequence.pad_sequences(X_test, maxlen=max_words)\n",
    "model = Sequential()\n",
    "model.add(Embedding(top_words, 32, input_length=max_words))\n",
    "model.add(Flatten())\n",
    "model.add(Dense(250, activation='relu'))\n",
    "model.add(Dense(1, activation='sigmoid'))\n",
    "model.compile(loss='binary_crossentropy', optimizer='adam', metrics=['accuracy'])\n",
    "print(model.summary())\n",
    "model.fit(X_train, y_train, validation_data=(X_test, y_test), nb_epoch=2, batch_size=128, verbose=1)\n",
    "scores = model.evaluate(X_test, y_test, verbose=0)\n",
    "print('ACC: %.2f%%' % (scores[1]*100))\n",
    "\n",
    "\n"
   ]
  },
  {
   "cell_type": "code",
   "execution_count": 3,
   "metadata": {},
   "outputs": [],
   "source": [
    "# CNN for the IMDB problem\n",
    "import numpy\n",
    "from keras.datasets import imdb\n",
    "from keras.models import Sequential\n",
    "from keras.layers import Dense\n",
    "from keras.layers import Flatten\n",
    "from keras.layers.convolutional import Convolution1D\n",
    "from keras.layers.convolutional import MaxPooling1D\n",
    "from keras.layers.embeddings import Embedding\n",
    "from keras.preprocessing import sequence"
   ]
  },
  {
   "cell_type": "code",
   "execution_count": 4,
   "metadata": {},
   "outputs": [],
   "source": [
    "# MLP for the IMDB problem\n",
    "import numpy\n",
    "from keras.datasets import imdb\n",
    "from keras.models import Sequential\n",
    "from keras.layers import Dense\n",
    "from keras.layers import Flatten\n",
    "from keras.layers.embeddings import Embedding\n",
    "from keras.preprocessing import sequence"
   ]
  },
  {
   "cell_type": "code",
   "execution_count": 5,
   "metadata": {},
   "outputs": [
    {
     "name": "stderr",
     "output_type": "stream",
     "text": [
      "/Users/syem/anaconda3/lib/python3.7/site-packages/keras/datasets/imdb.py:49: UserWarning: The `nb_words` argument in `load_data` has been renamed `num_words`.\n",
      "  warnings.warn('The `nb_words` argument in `load_data` '\n"
     ]
    },
    {
     "name": "stdout",
     "output_type": "stream",
     "text": [
      "Model: \"sequential_2\"\n",
      "_________________________________________________________________\n",
      "Layer (type)                 Output Shape              Param #   \n",
      "=================================================================\n",
      "embedding_2 (Embedding)      (None, 500, 32)           160000    \n",
      "_________________________________________________________________\n",
      "flatten_2 (Flatten)          (None, 16000)             0         \n",
      "_________________________________________________________________\n",
      "dense_3 (Dense)              (None, 250)               4000250   \n",
      "_________________________________________________________________\n",
      "dense_4 (Dense)              (None, 1)                 251       \n",
      "=================================================================\n",
      "Total params: 4,160,501\n",
      "Trainable params: 4,160,501\n",
      "Non-trainable params: 0\n",
      "_________________________________________________________________\n",
      "None\n"
     ]
    },
    {
     "name": "stderr",
     "output_type": "stream",
     "text": [
      "/Users/syem/anaconda3/lib/python3.7/site-packages/ipykernel_launcher.py:15: UserWarning: The `nb_epoch` argument in `fit` has been renamed `epochs`.\n",
      "  from ipykernel import kernelapp as app\n"
     ]
    },
    {
     "name": "stdout",
     "output_type": "stream",
     "text": [
      "Train on 25000 samples, validate on 25000 samples\n",
      "Epoch 1/2\n",
      "25000/25000 [==============================] - 68s 3ms/step - loss: 0.4542 - acc: 0.7646 - val_loss: 0.2922 - val_acc: 0.8756\n",
      "Epoch 2/2\n",
      "25000/25000 [==============================] - 61s 2ms/step - loss: 0.1614 - acc: 0.9405 - val_loss: 0.3238 - val_acc: 0.8699\n",
      "ACC: 86.99%\n"
     ]
    }
   ],
   "source": [
    "top_words = 5000\n",
    "(X_train, y_train),(X_test, y_test) = imdb.load_data(nb_words=5000)\n",
    "max_words = 500\n",
    "X_train = sequence.pad_sequences(X_train, maxlen=max_words)\n",
    "X_test = sequence.pad_sequences(X_test, maxlen=max_words)\n",
    "\n",
    "model = Sequential()\n",
    "model.add(Embedding(top_words, 32, input_length=max_words))\n",
    "model.add(Flatten())\n",
    "model.add(Dense(250, activation='relu'))\n",
    "model.add(Dense(1, activation='sigmoid'))\n",
    "model.compile(loss='binary_crossentropy', optimizer='adam', metrics=['accuracy'])\n",
    "print(model.summary())\n",
    "\n",
    "model.fit(X_train, y_train, validation_data=(X_test, y_test), nb_epoch = 2, batch_size=128, verbose=1)\n",
    "scores = model.evaluate(X_test, y_test, verbose=0)\n",
    "print('ACC: %.2f%%' % (scores[1]*100))\n"
   ]
  },
  {
   "cell_type": "code",
   "execution_count": 7,
   "metadata": {},
   "outputs": [],
   "source": [
    "# CNN for the IMDB problem\n",
    "import numpy\n",
    "from keras.datasets import imdb\n",
    "from keras.models import Sequential\n",
    "from keras.layers import Dense\n",
    "from keras.layers import Flatten\n",
    "from keras.layers.convolutional import Convolution1D\n",
    "from keras.layers.convolutional import MaxPooling1D\n",
    "from keras.layers.embeddings import Embedding\n",
    "from keras.preprocessing import sequence"
   ]
  },
  {
   "cell_type": "code",
   "execution_count": 10,
   "metadata": {},
   "outputs": [
    {
     "name": "stderr",
     "output_type": "stream",
     "text": [
      "/Users/syem/anaconda3/lib/python3.7/site-packages/ipykernel_launcher.py:9: UserWarning: Update your `Conv1D` call to the Keras 2 API: `Conv1D(activation=\"relu\", filters=32, kernel_size=3, padding=\"same\")`\n",
      "  if __name__ == '__main__':\n",
      "/Users/syem/anaconda3/lib/python3.7/site-packages/ipykernel_launcher.py:10: UserWarning: Update your `MaxPooling1D` call to the Keras 2 API: `MaxPooling1D(pool_size=2)`\n",
      "  # Remove the CWD from sys.path while we load stuff.\n"
     ]
    },
    {
     "name": "stdout",
     "output_type": "stream",
     "text": [
      "Model: \"sequential_5\"\n",
      "_________________________________________________________________\n",
      "Layer (type)                 Output Shape              Param #   \n",
      "=================================================================\n",
      "embedding_5 (Embedding)      (None, 500, 32)           160000    \n",
      "_________________________________________________________________\n",
      "conv1d_3 (Conv1D)            (None, 500, 32)           3104      \n",
      "_________________________________________________________________\n",
      "max_pooling1d_3 (MaxPooling1 (None, 250, 32)           0         \n",
      "_________________________________________________________________\n",
      "flatten_5 (Flatten)          (None, 8000)              0         \n",
      "_________________________________________________________________\n",
      "dense_9 (Dense)              (None, 250)               2000250   \n",
      "_________________________________________________________________\n",
      "dense_10 (Dense)             (None, 1)                 251       \n",
      "=================================================================\n",
      "Total params: 2,163,605\n",
      "Trainable params: 2,163,605\n",
      "Non-trainable params: 0\n",
      "_________________________________________________________________\n",
      "None\n"
     ]
    },
    {
     "name": "stderr",
     "output_type": "stream",
     "text": [
      "/Users/syem/anaconda3/lib/python3.7/site-packages/ipykernel_launcher.py:16: UserWarning: The `nb_epoch` argument in `fit` has been renamed `epochs`.\n",
      "  app.launch_new_instance()\n"
     ]
    },
    {
     "name": "stdout",
     "output_type": "stream",
     "text": [
      "Train on 25000 samples, validate on 25000 samples\n",
      "Epoch 1/2\n",
      "25000/25000 [==============================] - 98s 4ms/step - loss: 0.4290 - acc: 0.7795 - val_loss: 0.2689 - val_acc: 0.8874\n",
      "Epoch 2/2\n",
      "25000/25000 [==============================] - 75s 3ms/step - loss: 0.2046 - acc: 0.9206 - val_loss: 0.2674 - val_acc: 0.8886\n",
      "ACC: 88.86%\n"
     ]
    }
   ],
   "source": [
    "top_words = 5000\n",
    "(X_train, y_train),(X_test, y_test) = imdb.load_data(nb_words=top_words)\n",
    "max_words = 500\n",
    "X_train = sequence.pad_sequences(X_train, maxlen = max_words)\n",
    "X_test = sequence.pad_sequences(X_test, maxlen = max_words)\n",
    "\n",
    "model = Sequential()\n",
    "model.add(Embedding(top_words, 32, input_length=max_words))\n",
    "model.add(Convolution1D(nb_filter=32, filter_length=3, border_mode='same', activation='relu'))\n",
    "model.add(MaxPooling1D(pool_length=2))\n",
    "model.add(Flatten())\n",
    "model.add(Dense(250, activation='relu'))\n",
    "model.add(Dense(1, activation='sigmoid'))\n",
    "model.compile(loss='binary_crossentropy', optimizer='adam', metrics=['accuracy'])\n",
    "print(model.summary())\n",
    "model.fit(X_train, y_train, validation_data=(X_test, y_test), nb_epoch=2, batch_size = 128, verbose=1)\n",
    "scores = model.evaluate(X_test, y_test, verbose = 0)\n",
    "print(\"ACC: %.2f%%\" % (scores[1]*100))\n"
   ]
  },
  {
   "cell_type": "code",
   "execution_count": 1,
   "metadata": {},
   "outputs": [
    {
     "name": "stderr",
     "output_type": "stream",
     "text": [
      "Using TensorFlow backend.\n"
     ]
    }
   ],
   "source": [
    "# ZCA whitening\n",
    "from keras.datasets import mnist\n",
    "from keras.preprocessing.image import ImageDataGenerator\n",
    "from matplotlib import pyplot"
   ]
  },
  {
   "cell_type": "code",
   "execution_count": 3,
   "metadata": {},
   "outputs": [
    {
     "name": "stderr",
     "output_type": "stream",
     "text": [
      "/Users/syem/anaconda3/lib/python3.7/site-packages/keras_preprocessing/image/numpy_array_iterator.py:127: UserWarning: NumpyArrayIterator is set to use the data format convention \"channels_last\" (channels on axis 3), i.e. expected either 1, 3, or 4 channels on axis 3. However, it was passed an array with shape (60000, 1, 28, 28) (28 channels).\n",
      "  str(self.x.shape[channels_axis]) + ' channels).')\n"
     ]
    },
    {
     "data": {
      "image/png": "[encoded data removed]",
      "text/plain": [
       "<Figure size 432x288 with 9 Axes>"
      ]
     },
     "metadata": {
      "needs_background": "light"
     },
     "output_type": "display_data"
    }
   ],
   "source": [
    "(X_train, y_train),(X_test, y_test) = mnist.load_data()\n",
    "X_train = X_train.reshape(X_train.shape[0], 1, 28, 28)\n",
    "X_test = X_test.reshape(X_test.shape[0], 1, 28, 28)\n",
    "X_train = X_train.astype('float32')\n",
    "X_test = X_test.astype('float32')\n",
    "datagen = ImageDataGenerator(zca_whitening=True)\n",
    "datagen.fit(X_train)\n",
    "for X_batch, y_batch in datagen.flow(X_train, y_train, batch_size=9):\n",
    "    for i in range(0,9):\n",
    "        pyplot.subplot(330 + 1 + i)\n",
    "        pyplot.imshow(X_batch[i].reshape(28,28), cmap=pyplot.get_cmap('gray'))\n",
    "    pyplot.show()\n",
    "    break\n",
    "\n"
   ]
  },
  {
   "cell_type": "code",
   "execution_count": 5,
   "metadata": {},
   "outputs": [],
   "source": [
    "# ZCA # ZCA whitening\n",
    "from keras.datasets import mnist\n",
    "from keras.preprocessing.image import ImageDataGenerator\n",
    "from matplotlib import pyplot\n",
    "from keras.datasets import mnist\n",
    "from keras.preprocessing.image import ImageDataGenerator\n",
    "from matplotlib import pyplot"
   ]
  },
  {
   "cell_type": "code",
   "execution_count": 6,
   "metadata": {},
   "outputs": [
    {
     "data": {
      "image/png": "[encoded data removed]",
      "text/plain": [
       "<Figure size 432x288 with 9 Axes>"
      ]
     },
     "metadata": {
      "needs_background": "light"
     },
     "output_type": "display_data"
    }
   ],
   "source": [
    "(X_train, y_train),(X_test,  y_test) = mnist.load_data()\n",
    "X_train = X_train.reshape(X_train.shape[0], 1, 28, 28)\n",
    "X_test = X_test.reshape(X_test.shape[0], 1, 28, 28)\n",
    "\n",
    "X_train = X_train.astype('float32')\n",
    "X_test = X_test.astype('float32')\n",
    "\n",
    "datagen = ImageDataGenerator(featurewise_center = True, featurewise_std_normalization = True)\n",
    "datagen.fit(X_train)\n",
    "\n",
    "for X_batch, y_batch in datagen.flow(X_train, y_train, batch_size=9):\n",
    "    for i in range(0,9):\n",
    "        pyplot.subplot(330 + 1 + i)\n",
    "        pyplot.imshow(X_batch[i].reshape(28, 28), cmap = pyplot.get_cmap('gray'))\n",
    "    pyplot.show()\n",
    "    break\n"
   ]
  },
  {
   "cell_type": "code",
   "execution_count": 1,
   "metadata": {},
   "outputs": [
    {
     "name": "stderr",
     "output_type": "stream",
     "text": [
      "Using TensorFlow backend.\n"
     ]
    }
   ],
   "source": [
    "import numpy\n",
    "from keras.datasets import imdb\n",
    "from keras.models import Sequential\n",
    "from keras.layers import Dense"
   ]
  },
  {
   "cell_type": "code",
   "execution_count": 2,
   "metadata": {},
   "outputs": [],
   "source": [
    "from keras.layers import Flatten\n",
    "from keras.layers.embeddings import Embedding\n",
    "from keras.preprocessing import sequence"
   ]
  },
  {
   "cell_type": "code",
   "execution_count": 3,
   "metadata": {},
   "outputs": [
    {
     "name": "stderr",
     "output_type": "stream",
     "text": [
      "/Users/syem/anaconda3/lib/python3.7/site-packages/keras/datasets/imdb.py:49: UserWarning: The `nb_words` argument in `load_data` has been renamed `num_words`.\n",
      "  warnings.warn('The `nb_words` argument in `load_data` '\n",
      "WARNING: Logging before flag parsing goes to stderr.\n",
      "W1126 15:54:32.841130 140735902135168 deprecation_wrapper.py:119] From /Users/syem/anaconda3/lib/python3.7/site-packages/keras/backend/tensorflow_backend.py:66: The name tf.get_default_graph is deprecated. Please use tf.compat.v1.get_default_graph instead.\n",
      "\n",
      "W1126 15:54:32.888452 140735902135168 deprecation_wrapper.py:119] From /Users/syem/anaconda3/lib/python3.7/site-packages/keras/backend/tensorflow_backend.py:541: The name tf.placeholder is deprecated. Please use tf.compat.v1.placeholder instead.\n",
      "\n",
      "W1126 15:54:32.891919 140735902135168 deprecation_wrapper.py:119] From /Users/syem/anaconda3/lib/python3.7/site-packages/keras/backend/tensorflow_backend.py:4432: The name tf.random_uniform is deprecated. Please use tf.random.uniform instead.\n",
      "\n",
      "W1126 15:54:32.945120 140735902135168 deprecation_wrapper.py:119] From /Users/syem/anaconda3/lib/python3.7/site-packages/keras/optimizers.py:793: The name tf.train.Optimizer is deprecated. Please use tf.compat.v1.train.Optimizer instead.\n",
      "\n",
      "W1126 15:54:32.968822 140735902135168 deprecation_wrapper.py:119] From /Users/syem/anaconda3/lib/python3.7/site-packages/keras/backend/tensorflow_backend.py:3657: The name tf.log is deprecated. Please use tf.math.log instead.\n",
      "\n",
      "W1126 15:54:32.975466 140735902135168 deprecation.py:323] From /Users/syem/anaconda3/lib/python3.7/site-packages/tensorflow/python/ops/nn_impl.py:180: add_dispatch_support.<locals>.wrapper (from tensorflow.python.ops.array_ops) is deprecated and will be removed in a future version.\n",
      "Instructions for updating:\n",
      "Use tf.where in 2.0, which has the same broadcast rule as np.where\n",
      "/Users/syem/anaconda3/lib/python3.7/site-packages/ipykernel_launcher.py:13: UserWarning: The `nb_epoch` argument in `fit` has been renamed `epochs`.\n",
      "  del sys.path[0]\n"
     ]
    },
    {
     "name": "stdout",
     "output_type": "stream",
     "text": [
      "Model: \"sequential_1\"\n",
      "_________________________________________________________________\n",
      "Layer (type)                 Output Shape              Param #   \n",
      "=================================================================\n",
      "embedding_1 (Embedding)      (None, 500, 32)           160000    \n",
      "_________________________________________________________________\n",
      "flatten_1 (Flatten)          (None, 16000)             0         \n",
      "_________________________________________________________________\n",
      "dense_1 (Dense)              (None, 250)               4000250   \n",
      "_________________________________________________________________\n",
      "dense_2 (Dense)              (None, 1)                 251       \n",
      "=================================================================\n",
      "Total params: 4,160,501\n",
      "Trainable params: 4,160,501\n",
      "Non-trainable params: 0\n",
      "_________________________________________________________________\n",
      "None\n"
     ]
    },
    {
     "name": "stderr",
     "output_type": "stream",
     "text": [
      "W1126 15:54:33.263033 140735902135168 deprecation_wrapper.py:119] From /Users/syem/anaconda3/lib/python3.7/site-packages/keras/backend/tensorflow_backend.py:1033: The name tf.assign_add is deprecated. Please use tf.compat.v1.assign_add instead.\n",
      "\n"
     ]
    },
    {
     "name": "stdout",
     "output_type": "stream",
     "text": [
      "Train on 25000 samples, validate on 25000 samples\n",
      "Epoch 1/2\n",
      "25000/25000 [==============================] - 44s 2ms/step - loss: 0.4565 - acc: 0.7577 - val_loss: 0.2947 - val_acc: 0.8747\n",
      "Epoch 2/2\n",
      "25000/25000 [==============================] - 42s 2ms/step - loss: 0.1696 - acc: 0.9379 - val_loss: 0.3130 - val_acc: 0.8729\n",
      "ACC: 87.29%\n"
     ]
    }
   ],
   "source": [
    "top_words = 5000\n",
    "(X_train, y_train),(X_test, y_test) = imdb.load_data(nb_words =top_words)\n",
    "max_words = 500\n",
    "X_train = sequence.pad_sequences(X_train, maxlen=max_words)\n",
    "X_test = sequence.pad_sequences(X_test, maxlen= max_words)\n",
    "model = Sequential()\n",
    "model.add(Embedding(top_words, 32, input_length =  max_words))\n",
    "model.add(Flatten())\n",
    "model.add(Dense(250, activation='relu'))\n",
    "model.add(Dense(1, activation='sigmoid'))\n",
    "model.compile(loss='binary_crossentropy', optimizer='adam', metrics = ['accuracy'])\n",
    "print(model.summary())\n",
    "model.fit(X_train, y_train, validation_data=(X_test, y_test), nb_epoch=2, batch_size=128, verbose=1)\n",
    "scores = model.evaluate(X_test, y_test, verbose=0)\n",
    "print('ACC: %.2f%%' % (scores[1]*100))"
   ]
  },
  {
   "cell_type": "code",
   "execution_count": 4,
   "metadata": {},
   "outputs": [],
   "source": [
    "import numpy\n",
    "from keras.datasets import imdb\n",
    "from keras.models import Sequential\n",
    "from keras.layers import Dense\n",
    "from keras.layers import Flatten\n",
    "from keras.layers.convolutional import Convolution1D\n",
    "from keras.layers.convolutional import MaxPooling1D\n",
    "from keras.layers.embeddings import Embedding\n",
    "from keras.preprocessing import sequence"
   ]
  },
  {
   "cell_type": "code",
   "execution_count": 7,
   "metadata": {},
   "outputs": [
    {
     "name": "stderr",
     "output_type": "stream",
     "text": [
      "/Users/syem/anaconda3/lib/python3.7/site-packages/ipykernel_launcher.py:9: UserWarning: Update your `Conv1D` call to the Keras 2 API: `Conv1D(activation=\"relu\", filters=32, kernel_size=3, padding=\"same\")`\n",
      "  if __name__ == '__main__':\n",
      "/Users/syem/anaconda3/lib/python3.7/site-packages/ipykernel_launcher.py:10: UserWarning: Update your `MaxPooling1D` call to the Keras 2 API: `MaxPooling1D(pool_size=2)`\n",
      "  # Remove the CWD from sys.path while we load stuff.\n",
      "W1126 16:07:42.158643 140735902135168 deprecation_wrapper.py:119] From /Users/syem/anaconda3/lib/python3.7/site-packages/keras/backend/tensorflow_backend.py:4267: The name tf.nn.max_pool is deprecated. Please use tf.nn.max_pool2d instead.\n",
      "\n",
      "/Users/syem/anaconda3/lib/python3.7/site-packages/ipykernel_launcher.py:16: UserWarning: The `nb_epoch` argument in `fit` has been renamed `epochs`.\n",
      "  app.launch_new_instance()\n"
     ]
    },
    {
     "name": "stdout",
     "output_type": "stream",
     "text": [
      "Model: \"sequential_4\"\n",
      "_________________________________________________________________\n",
      "Layer (type)                 Output Shape              Param #   \n",
      "=================================================================\n",
      "embedding_3 (Embedding)      (None, 500, 32)           160000    \n",
      "_________________________________________________________________\n",
      "conv1d_1 (Conv1D)            (None, 500, 32)           3104      \n",
      "_________________________________________________________________\n",
      "max_pooling1d_1 (MaxPooling1 (None, 250, 32)           0         \n",
      "_________________________________________________________________\n",
      "flatten_2 (Flatten)          (None, 8000)              0         \n",
      "_________________________________________________________________\n",
      "dense_3 (Dense)              (None, 250)               2000250   \n",
      "_________________________________________________________________\n",
      "dense_4 (Dense)              (None, 1)                 251       \n",
      "=================================================================\n",
      "Total params: 2,163,605\n",
      "Trainable params: 2,163,605\n",
      "Non-trainable params: 0\n",
      "_________________________________________________________________\n",
      "None\n",
      "Train on 25000 samples, validate on 25000 samples\n",
      "Epoch 1/2\n",
      "25000/25000 [==============================] - 70s 3ms/step - loss: 0.4583 - acc: 0.7543 - val_loss: 0.2829 - val_acc: 0.8820\n",
      "Epoch 2/2\n",
      "25000/25000 [==============================] - 67s 3ms/step - loss: 0.2196 - acc: 0.9143 - val_loss: 0.2708 - val_acc: 0.8868\n",
      "ACC: 88.68%\n"
     ]
    }
   ],
   "source": [
    "top_words = 5000\n",
    "(X_train, y_train),(X_test, y_test)= imdb.load_data(nb_words=top_words)\n",
    "max_words = 500\n",
    "X_train = sequence.pad_sequences(X_train, maxlen=max_words)\n",
    "X_test = sequence.pad_sequences(X_test, maxlen=max_words)\n",
    "\n",
    "model = Sequential()\n",
    "model.add(Embedding(top_words, 32, input_length=max_words))\n",
    "model.add(Convolution1D(nb_filter=32, filter_length=3, border_mode='same', activation='relu'))\n",
    "model.add(MaxPooling1D(pool_length=2))\n",
    "model.add(Flatten())\n",
    "model.add(Dense(250, activation='relu'))\n",
    "model.add(Dense(1, activation='sigmoid'))\n",
    "model.compile(loss='binary_crossentropy', optimizer='adam', metrics=['accuracy'])\n",
    "print(model.summary())\n",
    "model.fit(X_train, y_train, validation_data=(X_test, y_test), nb_epoch=2, batch_size=128, verbose=1)\n",
    "scores=model.evaluate(X_test, y_test, verbose=0)\n",
    "print('ACC: %.2f%%' % (scores[1]*100))"
   ]
  },
  {
   "cell_type": "code",
   "execution_count": 8,
   "metadata": {},
   "outputs": [],
   "source": [
    "# MLP for the IMDB problem\n",
    "import numpy\n",
    "from keras.datasets import imdb\n",
    "from keras.models import Sequential\n",
    "from keras.layers import Dense\n",
    "from keras.layers import Flatten\n",
    "from keras.layers.embeddings import Embedding\n",
    "from keras.preprocessing import sequence"
   ]
  },
  {
   "cell_type": "code",
   "execution_count": 10,
   "metadata": {},
   "outputs": [
    {
     "name": "stderr",
     "output_type": "stream",
     "text": [
      "/Users/syem/anaconda3/lib/python3.7/site-packages/keras/datasets/imdb.py:49: UserWarning: The `nb_words` argument in `load_data` has been renamed `num_words`.\n",
      "  warnings.warn('The `nb_words` argument in `load_data` '\n"
     ]
    },
    {
     "name": "stdout",
     "output_type": "stream",
     "text": [
      "Model: \"sequential_6\"\n",
      "_________________________________________________________________\n",
      "Layer (type)                 Output Shape              Param #   \n",
      "=================================================================\n",
      "embedding_5 (Embedding)      (None, 500, 32)           160000    \n",
      "_________________________________________________________________\n",
      "flatten_4 (Flatten)          (None, 16000)             0         \n",
      "_________________________________________________________________\n",
      "dense_7 (Dense)              (None, 250)               4000250   \n",
      "_________________________________________________________________\n",
      "dense_8 (Dense)              (None, 1)                 251       \n",
      "=================================================================\n",
      "Total params: 4,160,501\n",
      "Trainable params: 4,160,501\n",
      "Non-trainable params: 0\n",
      "_________________________________________________________________\n",
      "None\n"
     ]
    },
    {
     "name": "stderr",
     "output_type": "stream",
     "text": [
      "/Users/syem/anaconda3/lib/python3.7/site-packages/ipykernel_launcher.py:14: UserWarning: The `nb_epoch` argument in `fit` has been renamed `epochs`.\n",
      "  \n"
     ]
    },
    {
     "name": "stdout",
     "output_type": "stream",
     "text": [
      "Train on 25000 samples, validate on 25000 samples\n",
      "Epoch 1/2\n",
      "25000/25000 [==============================] - 68s 3ms/step - loss: 0.4633 - acc: 0.7578 - val_loss: 0.2895 - val_acc: 0.8775\n",
      "Epoch 2/2\n",
      "25000/25000 [==============================] - 50s 2ms/step - loss: 0.1783 - acc: 0.9338 - val_loss: 0.3082 - val_acc: 0.8747\n",
      "ACC: 87.47%\n"
     ]
    }
   ],
   "source": [
    "top_words = 5000\n",
    "(X_train, y_train), (X_test, y_test) = imdb.load_data(nb_words=top_words)\n",
    "max_words = 500\n",
    "X_train = sequence.pad_sequences(X_train, maxlen = max_words)\n",
    "X_test = sequence.pad_sequences(X_test, maxlen = max_words)\n",
    "\n",
    "model = Sequential()\n",
    "model.add(Embedding(top_words, 32, input_length=max_words))\n",
    "model.add(Flatten())\n",
    "model.add(Dense(250, activation = 'relu'))\n",
    "model.add(Dense(1, activation = 'sigmoid'))\n",
    "model.compile(loss='binary_crossentropy', optimizer='adam', metrics=['accuracy'])\n",
    "print(model.summary())\n",
    "model.fit(X_train, y_train, validation_data=(X_test, y_test), nb_epoch = 2, batch_size=128, verbose=1)\n",
    "scores = model.evaluate(X_test, y_test, verbose=0)\n",
    "print('ACC: %.2f%%' % (scores[1]*100))\n",
    "\n"
   ]
  },
  {
   "cell_type": "code",
   "execution_count": 11,
   "metadata": {},
   "outputs": [],
   "source": [
    "# CNN for the IMDB problem\n",
    "import numpy\n",
    "from keras.datasets import imdb\n",
    "from keras.models import Sequential\n",
    "from keras.layers import Dense\n",
    "from keras.layers import Flatten\n",
    "from keras.layers.convolutional import Convolution1D\n",
    "from keras.layers.convolutional import MaxPooling1D\n",
    "from keras.layers.embeddings import Embedding\n",
    "from keras.preprocessing import sequence"
   ]
  },
  {
   "cell_type": "code",
   "execution_count": 14,
   "metadata": {},
   "outputs": [
    {
     "name": "stderr",
     "output_type": "stream",
     "text": [
      "/Users/syem/anaconda3/lib/python3.7/site-packages/ipykernel_launcher.py:8: UserWarning: Update your `Conv1D` call to the Keras 2 API: `Conv1D(activation=\"relu\", filters=32, kernel_size=3, padding=\"same\")`\n",
      "  \n",
      "/Users/syem/anaconda3/lib/python3.7/site-packages/ipykernel_launcher.py:9: UserWarning: Update your `MaxPooling1D` call to the Keras 2 API: `MaxPooling1D(pool_size=2)`\n",
      "  if __name__ == '__main__':\n"
     ]
    },
    {
     "name": "stdout",
     "output_type": "stream",
     "text": [
      "Model: \"sequential_9\"\n",
      "_________________________________________________________________\n",
      "Layer (type)                 Output Shape              Param #   \n",
      "=================================================================\n",
      "embedding_8 (Embedding)      (None, 5000, 32)          160000    \n",
      "_________________________________________________________________\n",
      "conv1d_4 (Conv1D)            (None, 5000, 32)          3104      \n",
      "_________________________________________________________________\n",
      "max_pooling1d_3 (MaxPooling1 (None, 2500, 32)          0         \n",
      "_________________________________________________________________\n",
      "flatten_6 (Flatten)          (None, 80000)             0         \n",
      "_________________________________________________________________\n",
      "dense_10 (Dense)             (None, 250)               20000250  \n",
      "_________________________________________________________________\n",
      "dense_11 (Dense)             (None, 1)                 251       \n",
      "=================================================================\n",
      "Total params: 20,163,605\n",
      "Trainable params: 20,163,605\n",
      "Non-trainable params: 0\n",
      "_________________________________________________________________\n",
      "None\n"
     ]
    },
    {
     "name": "stderr",
     "output_type": "stream",
     "text": [
      "/Users/syem/anaconda3/lib/python3.7/site-packages/ipykernel_launcher.py:16: UserWarning: The `nb_epoch` argument in `fit` has been renamed `epochs`.\n",
      "  app.launch_new_instance()\n"
     ]
    },
    {
     "name": "stdout",
     "output_type": "stream",
     "text": [
      "Train on 25000 samples, validate on 25000 samples\n",
      "Epoch 1/2\n",
      "25000/25000 [==============================] - 679s 27ms/step - loss: 0.4411 - acc: 0.7749 - val_loss: 0.2727 - val_acc: 0.8857\n",
      "Epoch 2/2\n",
      "25000/25000 [==============================] - 759s 30ms/step - loss: 0.2107 - acc: 0.9183 - val_loss: 0.2691 - val_acc: 0.8879\n"
     ]
    },
    {
     "data": {
      "text/plain": [
       "<keras.callbacks.History at 0xb7d69f630>"
      ]
     },
     "execution_count": 14,
     "metadata": {},
     "output_type": "execute_result"
    }
   ],
   "source": [
    "top_words = 5000\n",
    "(X_train, y_train),(X_test, y_test) = imdb.load_data(nb_words= top_words)\n",
    "max_words = 5000\n",
    "X_train = sequence.pad_sequences(X_train, maxlen = max_words)\n",
    "X_test = sequence.pad_sequences(X_test, maxlen = max_words)\n",
    "model = Sequential()\n",
    "model.add(Embedding(top_words, 32, input_length=max_words))\n",
    "model.add(Convolution1D(nb_filter=32, filter_length=3, border_mode='same', activation='relu'))\n",
    "model.add(MaxPooling1D(pool_length=2))\n",
    "model.add(Flatten())\n",
    "model.add(Dense(250, activation='relu'))\n",
    "model.add(Dense(1, activation='sigmoid'))\n",
    "model.compile(loss='binary_crossentropy', optimizer='adam', metrics=['accuracy'])\n",
    "print(model.summary())\n",
    "\n",
    "model.fit(X_train, y_train, validation_data=(X_test, y_test), nb_epoch=2, batch_size=128, verbose=1)\n"
   ]
  },
  {
   "cell_type": "code",
   "execution_count": 1,
   "metadata": {},
   "outputs": [
    {
     "name": "stderr",
     "output_type": "stream",
     "text": [
      "Using TensorFlow backend.\n"
     ]
    }
   ],
   "source": [
    "# MLP for the IMDB problem\n",
    "import numpy\n",
    "from keras.datasets import imdb\n",
    "from keras.models import Sequential\n",
    "from keras.layers import Dense\n",
    "from keras.layers import Flatten\n",
    "from keras.layers.embeddings import Embedding\n",
    "from keras.preprocessing import sequence"
   ]
  },
  {
   "cell_type": "code",
   "execution_count": 2,
   "metadata": {},
   "outputs": [
    {
     "name": "stderr",
     "output_type": "stream",
     "text": [
      "/Users/syem/anaconda3/lib/python3.7/site-packages/keras/datasets/imdb.py:49: UserWarning: The `nb_words` argument in `load_data` has been renamed `num_words`.\n",
      "  warnings.warn('The `nb_words` argument in `load_data` '\n",
      "WARNING: Logging before flag parsing goes to stderr.\n",
      "W0114 20:03:45.320280 140735616803712 deprecation_wrapper.py:119] From /Users/syem/anaconda3/lib/python3.7/site-packages/keras/backend/tensorflow_backend.py:66: The name tf.get_default_graph is deprecated. Please use tf.compat.v1.get_default_graph instead.\n",
      "\n",
      "W0114 20:03:45.504916 140735616803712 deprecation_wrapper.py:119] From /Users/syem/anaconda3/lib/python3.7/site-packages/keras/backend/tensorflow_backend.py:541: The name tf.placeholder is deprecated. Please use tf.compat.v1.placeholder instead.\n",
      "\n",
      "W0114 20:03:45.546077 140735616803712 deprecation_wrapper.py:119] From /Users/syem/anaconda3/lib/python3.7/site-packages/keras/backend/tensorflow_backend.py:4432: The name tf.random_uniform is deprecated. Please use tf.random.uniform instead.\n",
      "\n",
      "W0114 20:03:45.650971 140735616803712 deprecation_wrapper.py:119] From /Users/syem/anaconda3/lib/python3.7/site-packages/keras/optimizers.py:793: The name tf.train.Optimizer is deprecated. Please use tf.compat.v1.train.Optimizer instead.\n",
      "\n",
      "W0114 20:03:45.706194 140735616803712 deprecation_wrapper.py:119] From /Users/syem/anaconda3/lib/python3.7/site-packages/keras/backend/tensorflow_backend.py:3657: The name tf.log is deprecated. Please use tf.math.log instead.\n",
      "\n",
      "W0114 20:03:45.716741 140735616803712 deprecation.py:323] From /Users/syem/anaconda3/lib/python3.7/site-packages/tensorflow/python/ops/nn_impl.py:180: add_dispatch_support.<locals>.wrapper (from tensorflow.python.ops.array_ops) is deprecated and will be removed in a future version.\n",
      "Instructions for updating:\n",
      "Use tf.where in 2.0, which has the same broadcast rule as np.where\n",
      "/Users/syem/anaconda3/lib/python3.7/site-packages/ipykernel_launcher.py:14: UserWarning: The `nb_epoch` argument in `fit` has been renamed `epochs`.\n",
      "  \n"
     ]
    },
    {
     "name": "stdout",
     "output_type": "stream",
     "text": [
      "Model: \"sequential_1\"\n",
      "_________________________________________________________________\n",
      "Layer (type)                 Output Shape              Param #   \n",
      "=================================================================\n",
      "embedding_1 (Embedding)      (None, 500, 32)           160000    \n",
      "_________________________________________________________________\n",
      "flatten_1 (Flatten)          (None, 16000)             0         \n",
      "_________________________________________________________________\n",
      "dense_1 (Dense)              (None, 250)               4000250   \n",
      "_________________________________________________________________\n",
      "dense_2 (Dense)              (None, 1)                 251       \n",
      "=================================================================\n",
      "Total params: 4,160,501\n",
      "Trainable params: 4,160,501\n",
      "Non-trainable params: 0\n",
      "_________________________________________________________________\n",
      "None\n"
     ]
    },
    {
     "name": "stderr",
     "output_type": "stream",
     "text": [
      "W0114 20:03:46.176717 140735616803712 deprecation_wrapper.py:119] From /Users/syem/anaconda3/lib/python3.7/site-packages/keras/backend/tensorflow_backend.py:1033: The name tf.assign_add is deprecated. Please use tf.compat.v1.assign_add instead.\n",
      "\n"
     ]
    },
    {
     "name": "stdout",
     "output_type": "stream",
     "text": [
      "Train on 25000 samples, validate on 25000 samples\n",
      "Epoch 1/2\n",
      "25000/25000 [==============================] - 100s 4ms/step - loss: 0.4427 - acc: 0.7736 - val_loss: 0.3028 - val_acc: 0.8701\n",
      "Epoch 2/2\n",
      "25000/25000 [==============================] - 54s 2ms/step - loss: 0.1583 - acc: 0.9421 - val_loss: 0.3368 - val_acc: 0.8666\n",
      "ACC: 86.66%\n"
     ]
    }
   ],
   "source": [
    "top_words = 5000\n",
    "(X_train,y_train),(X_test, y_test) = imdb.load_data(nb_words = top_words)\n",
    "max_words = 500\n",
    "X_train = sequence.pad_sequences(X_train, maxlen = max_words)\n",
    "X_test = sequence.pad_sequences(X_test, maxlen = max_words)\n",
    "\n",
    "model = Sequential()\n",
    "model.add(Embedding(top_words, 32, input_length=max_words))\n",
    "model.add(Flatten())\n",
    "model.add(Dense(250, activation = 'relu'))\n",
    "model.add(Dense(1, activation = 'sigmoid'))\n",
    "model.compile(loss='binary_crossentropy', optimizer = 'adam', metrics=['accuracy'])\n",
    "print(model.summary())\n",
    "model.fit(X_train, y_train, validation_data=(X_test, y_test), nb_epoch = 2, batch_size = 128, verbose=1)\n",
    "scores = model.evaluate(X_test, y_test, verbose = 0)\n",
    "print('ACC: %.2f%%' % (scores[1]*100))\n"
   ]
  },
  {
   "cell_type": "code",
   "execution_count": 3,
   "metadata": {},
   "outputs": [],
   "source": [
    "import numpy\n",
    "from keras.datasets import imdb\n",
    "from keras.models import Sequential\n",
    "from keras.layers import Dense\n",
    "from keras.layers import Flatten\n",
    "from keras.layers.convolutional import Convolution1D\n",
    "from keras.layers.convolutional import MaxPooling1D\n",
    "from keras.layers.embeddings import Embedding\n",
    "from keras.preprocessing import sequence\n",
    "\n",
    "\n"
   ]
  },
  {
   "cell_type": "code",
   "execution_count": 6,
   "metadata": {},
   "outputs": [
    {
     "name": "stderr",
     "output_type": "stream",
     "text": [
      "/Users/syem/anaconda3/lib/python3.7/site-packages/ipykernel_launcher.py:8: UserWarning: Update your `Conv1D` call to the Keras 2 API: `Conv1D(activation=\"relu\", filters=32, kernel_size=3, padding=\"same\")`\n",
      "  \n",
      "/Users/syem/anaconda3/lib/python3.7/site-packages/ipykernel_launcher.py:9: UserWarning: Update your `MaxPooling1D` call to the Keras 2 API: `MaxPooling1D(pool_size=2)`\n",
      "  if __name__ == '__main__':\n",
      "W0114 20:14:21.171635 140735616803712 deprecation_wrapper.py:119] From /Users/syem/anaconda3/lib/python3.7/site-packages/keras/backend/tensorflow_backend.py:4267: The name tf.nn.max_pool is deprecated. Please use tf.nn.max_pool2d instead.\n",
      "\n",
      "/Users/syem/anaconda3/lib/python3.7/site-packages/ipykernel_launcher.py:16: UserWarning: The `nb_epoch` argument in `fit` has been renamed `epochs`.\n",
      "  app.launch_new_instance()\n"
     ]
    },
    {
     "name": "stdout",
     "output_type": "stream",
     "text": [
      "Model: \"sequential_3\"\n",
      "_________________________________________________________________\n",
      "Layer (type)                 Output Shape              Param #   \n",
      "=================================================================\n",
      "embedding_3 (Embedding)      (None, 500, 32)           160000    \n",
      "_________________________________________________________________\n",
      "conv1d_1 (Conv1D)            (None, 500, 32)           3104      \n",
      "_________________________________________________________________\n",
      "max_pooling1d_1 (MaxPooling1 (None, 250, 32)           0         \n",
      "_________________________________________________________________\n",
      "flatten_2 (Flatten)          (None, 8000)              0         \n",
      "_________________________________________________________________\n",
      "dense_3 (Dense)              (None, 250)               2000250   \n",
      "_________________________________________________________________\n",
      "dense_4 (Dense)              (None, 1)                 251       \n",
      "=================================================================\n",
      "Total params: 2,163,605\n",
      "Trainable params: 2,163,605\n",
      "Non-trainable params: 0\n",
      "_________________________________________________________________\n",
      "None\n",
      "Train on 25000 samples, validate on 25000 samples\n",
      "Epoch 1/2\n",
      "25000/25000 [==============================] - 97s 4ms/step - loss: 0.4457 - acc: 0.7623 - val_loss: 0.2752 - val_acc: 0.8834\n",
      "Epoch 2/2\n",
      "25000/25000 [==============================] - 98s 4ms/step - loss: 0.2123 - acc: 0.9155 - val_loss: 0.2721 - val_acc: 0.8879\n",
      "ACC: .2f%\n"
     ]
    }
   ],
   "source": [
    "top_words = 5000\n",
    "(X_train, y_train), (X_test, y_test) = imdb.load_data(nb_words = top_words)\n",
    "max_words = 500\n",
    "X_train = sequence.pad_sequences(X_train, maxlen = max_words)\n",
    "X_test = sequence.pad_sequences(X_test, maxlen = max_words)\n",
    "model = Sequential()\n",
    "model.add(Embedding(top_words, 32, input_length = max_words))\n",
    "model.add(Convolution1D(nb_filter=32, filter_length=3, border_mode='same', activation='relu'))\n",
    "model.add(MaxPooling1D(pool_length=2))\n",
    "model.add(Flatten())\n",
    "model.add(Dense(250, activation = 'relu'))\n",
    "model.add(Dense(1, activation = 'sigmoid'))\n",
    "model.compile(loss='binary_crossentropy', optimizer = 'adam', metrics=['accuracy'])\n",
    "print(model.summary())\n",
    "\n",
    "model.fit(X_train, y_train, validation_data = (X_test, y_test), nb_epoch = 2, batch_size=128, verbose=1)\n",
    "scores  = model.evaluate(X_test, y_test, verbose = 0)\n",
    "print('ACC: .2f%%' % (scores[1]*100))"
   ]
  },
  {
   "cell_type": "code",
   "execution_count": 7,
   "metadata": {},
   "outputs": [],
   "source": [
    "# MLP for the IMDB problem\n",
    "import numpy\n",
    "from keras.datasets import imdb\n",
    "from keras.models import Sequential\n",
    "from keras.layers import Dense\n",
    "from keras.layers import Flatten\n",
    "from keras.layers.embeddings import Embedding\n",
    "from keras.preprocessing import sequence"
   ]
  },
  {
   "cell_type": "code",
   "execution_count": 8,
   "metadata": {},
   "outputs": [
    {
     "name": "stderr",
     "output_type": "stream",
     "text": [
      "/Users/syem/anaconda3/lib/python3.7/site-packages/keras/datasets/imdb.py:49: UserWarning: The `nb_words` argument in `load_data` has been renamed `num_words`.\n",
      "  warnings.warn('The `nb_words` argument in `load_data` '\n"
     ]
    },
    {
     "name": "stdout",
     "output_type": "stream",
     "text": [
      "Model: \"sequential_4\"\n",
      "_________________________________________________________________\n",
      "Layer (type)                 Output Shape              Param #   \n",
      "=================================================================\n",
      "embedding_4 (Embedding)      (None, 500, 32)           160000    \n",
      "_________________________________________________________________\n",
      "flatten_3 (Flatten)          (None, 16000)             0         \n",
      "_________________________________________________________________\n",
      "dense_5 (Dense)              (None, 250)               4000250   \n",
      "_________________________________________________________________\n",
      "dense_6 (Dense)              (None, 1)                 251       \n",
      "=================================================================\n",
      "Total params: 4,160,501\n",
      "Trainable params: 4,160,501\n",
      "Non-trainable params: 0\n",
      "_________________________________________________________________\n",
      "None\n"
     ]
    },
    {
     "name": "stderr",
     "output_type": "stream",
     "text": [
      "/Users/syem/anaconda3/lib/python3.7/site-packages/ipykernel_launcher.py:14: UserWarning: The `nb_epoch` argument in `fit` has been renamed `epochs`.\n",
      "  \n"
     ]
    },
    {
     "name": "stdout",
     "output_type": "stream",
     "text": [
      "Train on 25000 samples, validate on 25000 samples\n",
      "Epoch 1/2\n",
      "25000/25000 [==============================] - 58s 2ms/step - loss: 0.4643 - acc: 0.7533 - val_loss: 0.3262 - val_acc: 0.8597\n",
      "Epoch 2/2\n",
      "25000/25000 [==============================] - 56s 2ms/step - loss: 0.1696 - acc: 0.9365 - val_loss: 0.3190 - val_acc: 0.8715\n",
      "ACC: 87.15%\n"
     ]
    }
   ],
   "source": [
    "top_words = 5000\n",
    "(X_train, y_train),(X_test, y_test) = imdb.load_data(nb_words = top_words)\n",
    "max_words = 500\n",
    "X_train = sequence.pad_sequences(X_train, maxlen = max_words)\n",
    "X_test = sequence.pad_sequences(X_test, maxlen = max_words)\n",
    "\n",
    "model = Sequential()\n",
    "model.add(Embedding(top_words, 32, input_length = max_words))\n",
    "model.add(Flatten())\n",
    "model.add(Dense(250, activation = 'relu'))\n",
    "model.add(Dense(1, activation = 'sigmoid'))\n",
    "model.compile(loss='binary_crossentropy', optimizer = 'adam', metrics=['accuracy'])\n",
    "print(model.summary())\n",
    "model.fit(X_train, y_train, validation_data = (X_test, y_test), nb_epoch = 2, batch_size = 128, verbose = 1)\n",
    "scores = model.evaluate(X_test, y_test, verbose = 0)\n",
    "print('ACC: %.2f%%' % (scores[1]*100))\n"
   ]
  },
  {
   "cell_type": "code",
   "execution_count": 9,
   "metadata": {},
   "outputs": [],
   "source": [
    "# CNN for the IMDB problem\n",
    "import numpy\n",
    "from keras.datasets import imdb\n",
    "from keras.models import Sequential\n",
    "from keras.layers import Dense\n",
    "from keras.layers import Flatten\n",
    "from keras.layers.convolutional import Convolution1D\n",
    "from keras.layers.convolutional import MaxPooling1D\n",
    "from keras.layers.embeddings import Embedding\n",
    "from keras.preprocessing import sequence"
   ]
  },
  {
   "cell_type": "code",
   "execution_count": 10,
   "metadata": {},
   "outputs": [
    {
     "name": "stderr",
     "output_type": "stream",
     "text": [
      "/Users/syem/anaconda3/lib/python3.7/site-packages/keras/datasets/imdb.py:49: UserWarning: The `nb_words` argument in `load_data` has been renamed `num_words`.\n",
      "  warnings.warn('The `nb_words` argument in `load_data` '\n",
      "/Users/syem/anaconda3/lib/python3.7/site-packages/ipykernel_launcher.py:7: UserWarning: Update your `Conv1D` call to the Keras 2 API: `Conv1D(activation=\"relu\", filters=32, kernel_size=3, padding=\"same\")`\n",
      "  import sys\n",
      "/Users/syem/anaconda3/lib/python3.7/site-packages/ipykernel_launcher.py:8: UserWarning: Update your `MaxPooling1D` call to the Keras 2 API: `MaxPooling1D(pool_size=2)`\n",
      "  \n",
      "/Users/syem/anaconda3/lib/python3.7/site-packages/ipykernel_launcher.py:15: UserWarning: The `nb_epoch` argument in `fit` has been renamed `epochs`.\n",
      "  from ipykernel import kernelapp as app\n"
     ]
    },
    {
     "name": "stdout",
     "output_type": "stream",
     "text": [
      "Model: \"sequential_5\"\n",
      "_________________________________________________________________\n",
      "Layer (type)                 Output Shape              Param #   \n",
      "=================================================================\n",
      "embedding_5 (Embedding)      (None, 500, 32)           160000    \n",
      "_________________________________________________________________\n",
      "conv1d_2 (Conv1D)            (None, 500, 32)           3104      \n",
      "_________________________________________________________________\n",
      "max_pooling1d_2 (MaxPooling1 (None, 250, 32)           0         \n",
      "_________________________________________________________________\n",
      "flatten_4 (Flatten)          (None, 8000)              0         \n",
      "_________________________________________________________________\n",
      "dense_7 (Dense)              (None, 250)               2000250   \n",
      "_________________________________________________________________\n",
      "dense_8 (Dense)              (None, 1)                 251       \n",
      "=================================================================\n",
      "Total params: 2,163,605\n",
      "Trainable params: 2,163,605\n",
      "Non-trainable params: 0\n",
      "_________________________________________________________________\n",
      "None\n",
      "Train on 25000 samples, validate on 25000 samples\n",
      "Epoch 1/2\n",
      "25000/25000 [==============================] - 75s 3ms/step - loss: 0.4562 - acc: 0.7558 - val_loss: 0.3002 - val_acc: 0.8705\n",
      "Epoch 2/2\n",
      "25000/25000 [==============================] - 103s 4ms/step - loss: 0.2161 - acc: 0.9145 - val_loss: 0.2754 - val_acc: 0.8856\n",
      "ACC: .2f%\n"
     ]
    }
   ],
   "source": [
    "top_words = 5000\n",
    "(X_train, y_train), (X_test, y_test) = imdb.load_data(nb_words = top_words)\n",
    "X_train = sequence.pad_sequences(X_train, maxlen = max_words)\n",
    "X_test = sequence.pad_sequences(X_test, maxlen = max_words)\n",
    "model = Sequential()\n",
    "model.add(Embedding(top_words, 32, input_length = max_words))\n",
    "model.add(Convolution1D(nb_filter=32, filter_length=3, border_mode='same', activation='relu'))\n",
    "model.add(MaxPooling1D(pool_length=2))\n",
    "model.add(Flatten())\n",
    "model.add(Dense(250, activation='relu'))\n",
    "model.add(Dense(1, activation='sigmoid'))\n",
    "model.compile(loss='binary_crossentropy', optimizer='adam', metrics=['accuracy'])\n",
    "print(model.summary())\n",
    "\n",
    "model.fit(X_train, y_train, validation_data = (X_test, y_test), nb_epoch = 2, batch_size=128, verbose=1)\n",
    "scores = model.evaluate(X_test, y_test, verbose=0)\n",
    "print('ACC: .2f%%' % (scores[1]*100))\n",
    "\n"
   ]
  },
  {
   "cell_type": "code",
   "execution_count": 11,
   "metadata": {},
   "outputs": [],
   "source": [
    "# MLP for the IMDB problem\n",
    "import numpy\n",
    "from keras.datasets import imdb\n",
    "from keras.models import Sequential\n",
    "from keras.layers import Dense\n",
    "from keras.layers import Flatten\n",
    "from keras.layers.embeddings import Embedding\n",
    "from keras.preprocessing import sequence"
   ]
  },
  {
   "cell_type": "code",
   "execution_count": 14,
   "metadata": {},
   "outputs": [
    {
     "name": "stdout",
     "output_type": "stream",
     "text": [
      "Model: \"sequential_7\"\n",
      "_________________________________________________________________\n",
      "Layer (type)                 Output Shape              Param #   \n",
      "=================================================================\n",
      "embedding_7 (Embedding)      (None, 500, 32)           160000    \n",
      "_________________________________________________________________\n",
      "flatten_5 (Flatten)          (None, 16000)             0         \n",
      "_________________________________________________________________\n",
      "dense_9 (Dense)              (None, 250)               4000250   \n",
      "_________________________________________________________________\n",
      "dense_10 (Dense)             (None, 1)                 251       \n",
      "=================================================================\n",
      "Total params: 4,160,501\n",
      "Trainable params: 4,160,501\n",
      "Non-trainable params: 0\n",
      "_________________________________________________________________\n",
      "None\n"
     ]
    },
    {
     "name": "stderr",
     "output_type": "stream",
     "text": [
      "/Users/syem/anaconda3/lib/python3.7/site-packages/ipykernel_launcher.py:14: UserWarning: The `nb_epoch` argument in `fit` has been renamed `epochs`.\n",
      "  \n"
     ]
    },
    {
     "name": "stdout",
     "output_type": "stream",
     "text": [
      "Train on 25000 samples, validate on 25000 samples\n",
      "Epoch 1/2\n",
      "25000/25000 [==============================] - 63s 3ms/step - loss: 0.4718 - acc: 0.7479 - val_loss: 0.3019 - val_acc: 0.8720\n",
      "Epoch 2/2\n",
      "25000/25000 [==============================] - 51s 2ms/step - loss: 0.1753 - acc: 0.9344 - val_loss: 0.3151 - val_acc: 0.8717\n",
      "ACC: 87.17%\n"
     ]
    }
   ],
   "source": [
    "top_words = 5000\n",
    "(X_train, y_train),(X_test, y_test) = imdb.load_data(nb_words = top_words)\n",
    "max_words = 500\n",
    "X_train = sequence.pad_sequences(X_train, maxlen = max_words)\n",
    "X_test = sequence.pad_sequences(X_test, maxlen = max_words)\n",
    "\n",
    "model = Sequential()\n",
    "model.add(Embedding(top_words, 32, input_length = max_words))\n",
    "model.add(Flatten())\n",
    "model.add(Dense(250, activation = 'relu'))\n",
    "model.add(Dense(1, activation = 'sigmoid'))\n",
    "model.compile(loss='binary_crossentropy', optimizer = 'adam', metrics=['accuracy'])\n",
    "print(model.summary())\n",
    "model.fit(X_train, y_train, validation_data=(X_test, y_test), nb_epoch = 2, batch_size = 128, verbose=1)\n",
    "scores = model.evaluate(X_test, y_test, verbose= 0)\n",
    "print('ACC: %.2f%%' % (scores[1]*100))"
   ]
  },
  {
   "cell_type": "code",
   "execution_count": 15,
   "metadata": {},
   "outputs": [],
   "source": [
    "# CNN for the IMDB problem\n",
    "import numpy\n",
    "from keras.datasets import imdb\n",
    "from keras.models import Sequential\n",
    "from keras.layers import Dense\n",
    "from keras.layers import Flatten\n",
    "from keras.layers.convolutional import Convolution1D\n",
    "from keras.layers.convolutional import MaxPooling1D\n",
    "from keras.layers.embeddings import Embedding\n",
    "from keras.preprocessing import sequence"
   ]
  },
  {
   "cell_type": "code",
   "execution_count": 16,
   "metadata": {},
   "outputs": [
    {
     "name": "stderr",
     "output_type": "stream",
     "text": [
      "/Users/syem/anaconda3/lib/python3.7/site-packages/keras/datasets/imdb.py:49: UserWarning: The `nb_words` argument in `load_data` has been renamed `num_words`.\n",
      "  warnings.warn('The `nb_words` argument in `load_data` '\n",
      "/Users/syem/anaconda3/lib/python3.7/site-packages/ipykernel_launcher.py:9: UserWarning: Update your `Conv1D` call to the Keras 2 API: `Conv1D(activation=\"relu\", filters=32, kernel_size=3, padding=\"same\")`\n",
      "  if __name__ == '__main__':\n",
      "/Users/syem/anaconda3/lib/python3.7/site-packages/ipykernel_launcher.py:10: UserWarning: Update your `MaxPooling1D` call to the Keras 2 API: `MaxPooling1D(pool_size=2)`\n",
      "  # Remove the CWD from sys.path while we load stuff.\n"
     ]
    },
    {
     "name": "stdout",
     "output_type": "stream",
     "text": [
      "Model: \"sequential_8\"\n",
      "_________________________________________________________________\n",
      "Layer (type)                 Output Shape              Param #   \n",
      "=================================================================\n",
      "embedding_8 (Embedding)      (None, 500, 32)           160000    \n",
      "_________________________________________________________________\n",
      "conv1d_3 (Conv1D)            (None, 500, 32)           3104      \n",
      "_________________________________________________________________\n",
      "max_pooling1d_3 (MaxPooling1 (None, 250, 32)           0         \n",
      "_________________________________________________________________\n",
      "flatten_6 (Flatten)          (None, 8000)              0         \n",
      "_________________________________________________________________\n",
      "dense_11 (Dense)             (None, 250)               2000250   \n",
      "_________________________________________________________________\n",
      "dense_12 (Dense)             (None, 1)                 251       \n",
      "=================================================================\n",
      "Total params: 2,163,605\n",
      "Trainable params: 2,163,605\n",
      "Non-trainable params: 0\n",
      "_________________________________________________________________\n",
      "None\n"
     ]
    },
    {
     "name": "stderr",
     "output_type": "stream",
     "text": [
      "/Users/syem/anaconda3/lib/python3.7/site-packages/ipykernel_launcher.py:16: UserWarning: The `nb_epoch` argument in `fit` has been renamed `epochs`.\n",
      "  app.launch_new_instance()\n"
     ]
    },
    {
     "name": "stdout",
     "output_type": "stream",
     "text": [
      "Train on 25000 samples, validate on 25000 samples\n",
      "Epoch 1/2\n",
      "25000/25000 [==============================] - 119s 5ms/step - loss: 0.4920 - acc: 0.7293 - val_loss: 0.2814 - val_acc: 0.8830\n",
      "Epoch 2/2\n",
      "25000/25000 [==============================] - 90s 4ms/step - loss: 0.2279 - acc: 0.9117 - val_loss: 0.2808 - val_acc: 0.8835\n",
      "ACC: 88.35%\n"
     ]
    }
   ],
   "source": [
    "top_words = 5000\n",
    "(X_train, y_train),(X_test, y_test) = imdb.load_data(nb_words = top_words)\n",
    "max_words = 500\n",
    "X_train = sequence.pad_sequences(X_train, maxlen = max_words)\n",
    "X_test = sequence.pad_sequences(X_test, maxlen = max_words)\n",
    "\n",
    "model = Sequential()\n",
    "model.add(Embedding(top_words, 32, input_length = max_words))\n",
    "model.add(Convolution1D(nb_filter = 32, filter_length = 3, border_mode='same', activation='relu'))\n",
    "model.add(MaxPooling1D(pool_length=2))\n",
    "model.add(Flatten())\n",
    "model.add(Dense(250, activation = 'relu'))\n",
    "model.add(Dense(1, activation = 'sigmoid'))\n",
    "model.compile(loss='binary_crossentropy', optimizer='adam', metrics=['accuracy'])\n",
    "print(model.summary())\n",
    "model.fit(X_train, y_train, validation_data=(X_test, y_test), nb_epoch = 2, batch_size = 128, verbose=1)\n",
    "scores = model.evaluate(X_test, y_test, verbose=0)\n",
    "print('ACC: %.2f%%' % (scores[1]*100))\n"
   ]
  },
  {
   "cell_type": "code",
   "execution_count": 17,
   "metadata": {},
   "outputs": [],
   "source": [
    "# MLP for the IMDB problem\n",
    "import numpy\n",
    "from keras.datasets import imdb\n",
    "from keras.models import Sequential\n",
    "from keras.layers import Dense\n",
    "from keras.layers import Flatten\n",
    "from keras.layers.embeddings import Embedding\n",
    "from keras.preprocessing import sequence"
   ]
  },
  {
   "cell_type": "code",
   "execution_count": 20,
   "metadata": {},
   "outputs": [
    {
     "ename": "TypeError",
     "evalue": "compile() missing 1 required positional argument: 'optimizer'",
     "output_type": "error",
     "traceback": [
      "\u001b[0;31m---------------------------------------------------------------------------\u001b[0m",
      "\u001b[0;31mTypeError\u001b[0m                                 Traceback (most recent call last)",
      "\u001b[0;32m<ipython-input-20-e7aa3e702a6b>\u001b[0m in \u001b[0;36m<module>\u001b[0;34m\u001b[0m\n\u001b[1;32m     10\u001b[0m \u001b[0mmodel\u001b[0m\u001b[0;34m.\u001b[0m\u001b[0madd\u001b[0m\u001b[0;34m(\u001b[0m\u001b[0mDense\u001b[0m\u001b[0;34m(\u001b[0m\u001b[0;36m250\u001b[0m\u001b[0;34m,\u001b[0m \u001b[0mactivation\u001b[0m \u001b[0;34m=\u001b[0m \u001b[0;34m'relu'\u001b[0m\u001b[0;34m)\u001b[0m\u001b[0;34m)\u001b[0m\u001b[0;34m\u001b[0m\u001b[0;34m\u001b[0m\u001b[0m\n\u001b[1;32m     11\u001b[0m \u001b[0mmodel\u001b[0m\u001b[0;34m.\u001b[0m\u001b[0madd\u001b[0m\u001b[0;34m(\u001b[0m\u001b[0mDense\u001b[0m\u001b[0;34m(\u001b[0m\u001b[0;36m1\u001b[0m\u001b[0;34m,\u001b[0m \u001b[0mactivation\u001b[0m \u001b[0;34m=\u001b[0m \u001b[0;34m'sigmoid'\u001b[0m\u001b[0;34m)\u001b[0m\u001b[0;34m)\u001b[0m\u001b[0;34m\u001b[0m\u001b[0;34m\u001b[0m\u001b[0m\n\u001b[0;32m---> 12\u001b[0;31m \u001b[0mmodel\u001b[0m\u001b[0;34m.\u001b[0m\u001b[0mcompile\u001b[0m\u001b[0;34m(\u001b[0m\u001b[0mloss\u001b[0m\u001b[0;34m=\u001b[0m\u001b[0;34m'binary_crossentropy'\u001b[0m\u001b[0;34m,\u001b[0m \u001b[0moptiizer\u001b[0m\u001b[0;34m=\u001b[0m\u001b[0;34m'adam'\u001b[0m\u001b[0;34m,\u001b[0m \u001b[0mmetrics\u001b[0m\u001b[0;34m=\u001b[0m\u001b[0;34m[\u001b[0m\u001b[0;34m'accuracy'\u001b[0m\u001b[0;34m]\u001b[0m\u001b[0;34m)\u001b[0m\u001b[0;34m\u001b[0m\u001b[0;34m\u001b[0m\u001b[0m\n\u001b[0m\u001b[1;32m     13\u001b[0m \u001b[0mprint\u001b[0m\u001b[0;34m(\u001b[0m\u001b[0mmodel\u001b[0m\u001b[0;34m.\u001b[0m\u001b[0msummary\u001b[0m\u001b[0;34m(\u001b[0m\u001b[0;34m)\u001b[0m\u001b[0;34m)\u001b[0m\u001b[0;34m\u001b[0m\u001b[0;34m\u001b[0m\u001b[0m\n\u001b[1;32m     14\u001b[0m \u001b[0mmodel\u001b[0m\u001b[0;34m.\u001b[0m\u001b[0mfit\u001b[0m\u001b[0;34m(\u001b[0m\u001b[0mX_train\u001b[0m\u001b[0;34m,\u001b[0m \u001b[0my_train\u001b[0m\u001b[0;34m,\u001b[0m \u001b[0mvalidation_data\u001b[0m \u001b[0;34m=\u001b[0m \u001b[0;34m(\u001b[0m\u001b[0mX_test\u001b[0m\u001b[0;34m,\u001b[0m \u001b[0my_test\u001b[0m\u001b[0;34m)\u001b[0m\u001b[0;34m,\u001b[0m \u001b[0mnb_epoch\u001b[0m \u001b[0;34m=\u001b[0m \u001b[0;36m2\u001b[0m\u001b[0;34m,\u001b[0m \u001b[0mbatch_size\u001b[0m \u001b[0;34m=\u001b[0m \u001b[0;36m128\u001b[0m\u001b[0;34m,\u001b[0m \u001b[0mverbose\u001b[0m \u001b[0;34m=\u001b[0m \u001b[0;36m1\u001b[0m\u001b[0;34m)\u001b[0m\u001b[0;34m\u001b[0m\u001b[0;34m\u001b[0m\u001b[0m\n",
      "\u001b[0;31mTypeError\u001b[0m: compile() missing 1 required positional argument: 'optimizer'"
     ]
    }
   ],
   "source": [
    "top_words = 5000\n",
    "(X_train, y_train),(X_test, y_test) = imdb.load_data(nb_words = top_words)\n",
    "max_words = 500\n",
    "X_train = sequence.pad_sequences(X_train, maxlen = max_words)\n",
    "X_test = sequence.pad_sequences(X_test, maxlen = max_words)\n",
    "\n",
    "model = Sequential()\n",
    "model.add(Embedding(top_words, 32, input_length = max_words))\n",
    "model.add(Flatten())\n",
    "model.add(Dense(250, activation = 'relu'))\n",
    "model.add(Dense(1, activation = 'sigmoid'))\n",
    "model.compile(loss='binary_crossentropy', optiizer='adam', metrics=['accuracy'])\n",
    "print(model.summary())\n",
    "model.fit(X_train, y_train, validation_data = (X_test, y_test), nb_epoch = 2, batch_size = 128, verbose = 1)\n",
    "scores = model.evaluate(X_test, y_test, verbose = 0)\n",
    "print('ACC: %.2f%%' % (scores[1]*100))"
   ]
  },
  {
   "cell_type": "code",
   "execution_count": 21,
   "metadata": {},
   "outputs": [
    {
     "name": "stderr",
     "output_type": "stream",
     "text": [
      "/Users/syem/anaconda3/lib/python3.7/site-packages/ipykernel_launcher.py:20: UserWarning: Update your `Conv1D` call to the Keras 2 API: `Conv1D(activation=\"relu\", filters=32, kernel_size=3, padding=\"same\")`\n",
      "/Users/syem/anaconda3/lib/python3.7/site-packages/ipykernel_launcher.py:21: UserWarning: Update your `MaxPooling1D` call to the Keras 2 API: `MaxPooling1D(pool_size=2)`\n"
     ]
    },
    {
     "name": "stdout",
     "output_type": "stream",
     "text": [
      "Model: \"sequential_10\"\n",
      "_________________________________________________________________\n",
      "Layer (type)                 Output Shape              Param #   \n",
      "=================================================================\n",
      "embedding_10 (Embedding)     (None, 500, 32)           160000    \n",
      "_________________________________________________________________\n",
      "conv1d_4 (Conv1D)            (None, 500, 32)           3104      \n",
      "_________________________________________________________________\n",
      "max_pooling1d_4 (MaxPooling1 (None, 250, 32)           0         \n",
      "_________________________________________________________________\n",
      "flatten_8 (Flatten)          (None, 8000)              0         \n",
      "_________________________________________________________________\n",
      "dense_15 (Dense)             (None, 250)               2000250   \n",
      "_________________________________________________________________\n",
      "dense_16 (Dense)             (None, 1)                 251       \n",
      "=================================================================\n",
      "Total params: 2,163,605\n",
      "Trainable params: 2,163,605\n",
      "Non-trainable params: 0\n",
      "_________________________________________________________________\n",
      "None\n"
     ]
    },
    {
     "name": "stderr",
     "output_type": "stream",
     "text": [
      "/Users/syem/anaconda3/lib/python3.7/site-packages/ipykernel_launcher.py:27: UserWarning: The `nb_epoch` argument in `fit` has been renamed `epochs`.\n"
     ]
    },
    {
     "name": "stdout",
     "output_type": "stream",
     "text": [
      "Train on 25000 samples, validate on 25000 samples\n",
      "Epoch 1/2\n",
      "25000/25000 [==============================] - 98s 4ms/step - loss: 0.4451 - acc: 0.7597 - val_loss: 0.2744 - val_acc: 0.8852\n",
      "Epoch 2/2\n",
      "25000/25000 [==============================] - 68s 3ms/step - loss: 0.2153 - acc: 0.9158 - val_loss: 0.2851 - val_acc: 0.8827\n",
      "ACC: 88.27%\n"
     ]
    }
   ],
   "source": [
    "# CNN for the IMDB problem\n",
    "import numpy\n",
    "from keras.datasets import imdb\n",
    "from keras.models import Sequential\n",
    "from keras.layers import Dense\n",
    "from keras.layers import Flatten\n",
    "from keras.layers.convolutional import Convolution1D\n",
    "from keras.layers.convolutional import MaxPooling1D\n",
    "from keras.layers.embeddings import Embedding\n",
    "from keras.preprocessing import sequence\n",
    "\n",
    "top_words = 5000\n",
    "(X_train, y_train),(X_test, y_test) = imdb.load_data(nb_words = top_words)\n",
    "max_words = 500\n",
    "X_train = sequence.pad_sequences(X_train, maxlen = max_words)\n",
    "X_test = sequence.pad_sequences(X_test, maxlen = max_words)\n",
    "\n",
    "model = Sequential()\n",
    "model.add(Embedding(top_words, 32, input_length = max_words))\n",
    "model.add(Convolution1D(nb_filter = 32, filter_length = 3, border_mode = 'same', activation = 'relu'))\n",
    "model.add(MaxPooling1D(pool_length=2))\n",
    "model.add(Flatten())\n",
    "model.add(Dense(250, activation = 'relu'))\n",
    "model.add(Dense(1, activation = 'sigmoid'))\n",
    "model.compile(loss='binary_crossentropy', optimizer = 'adam', metrics=['accuracy'])\n",
    "print(model.summary())\n",
    "model.fit(X_train, y_train, validation_data=(X_test, y_test), nb_epoch = 2, batch_size = 128, verbose=1)\n",
    "scores = model.evaluate(X_test, y_test, verbose=0)\n",
    "print('ACC: %.2f%%' % (scores[1]*100))\n"
   ]
  },
  {
   "cell_type": "code",
   "execution_count": 23,
   "metadata": {},
   "outputs": [
    {
     "name": "stdout",
     "output_type": "stream",
     "text": [
      "Model: \"sequential_12\"\n",
      "_________________________________________________________________\n",
      "Layer (type)                 Output Shape              Param #   \n",
      "=================================================================\n",
      "embedding_11 (Embedding)     (None, 500, 32)           160000    \n",
      "_________________________________________________________________\n",
      "flatten_9 (Flatten)          (None, 16000)             0         \n",
      "_________________________________________________________________\n",
      "dense_17 (Dense)             (None, 250)               4000250   \n",
      "_________________________________________________________________\n",
      "dense_18 (Dense)             (None, 1)                 251       \n",
      "=================================================================\n",
      "Total params: 4,160,501\n",
      "Trainable params: 4,160,501\n",
      "Non-trainable params: 0\n",
      "_________________________________________________________________\n",
      "None\n"
     ]
    },
    {
     "name": "stderr",
     "output_type": "stream",
     "text": [
      "/Users/syem/anaconda3/lib/python3.7/site-packages/ipykernel_launcher.py:23: UserWarning: The `nb_epoch` argument in `fit` has been renamed `epochs`.\n"
     ]
    },
    {
     "name": "stdout",
     "output_type": "stream",
     "text": [
      "Train on 25000 samples, validate on 25000 samples\n",
      "Epoch 1/2\n",
      "25000/25000 [==============================] - 62s 2ms/step - loss: 0.4643 - acc: 0.7547 - val_loss: 0.2968 - val_acc: 0.8731\n",
      "Epoch 2/2\n",
      "25000/25000 [==============================] - 52s 2ms/step - loss: 0.1726 - acc: 0.9357 - val_loss: 0.3078 - val_acc: 0.8746\n",
      "ACC: 87.46% \n"
     ]
    }
   ],
   "source": [
    "# MLP for the IMDB problem\n",
    "import numpy\n",
    "from keras.datasets import imdb\n",
    "from keras.models import Sequential\n",
    "from keras.layers import Dense\n",
    "from keras.layers import Flatten\n",
    "from keras.layers.embeddings import Embedding\n",
    "from keras.preprocessing import sequence\n",
    "\n",
    "\n",
    "top_words = 5000\n",
    "(X_train, y_train),(X_test, y_test) = imdb.load_data(nb_words = top_words)\n",
    "max_words = 500\n",
    "X_train = sequence.pad_sequences(X_train, maxlen = max_words)\n",
    "X_test = sequence.pad_sequences(X_test, maxlen = max_words)\n",
    "model = Sequential()\n",
    "model.add(Embedding(top_words, 32, input_length = max_words))\n",
    "model.add(Flatten())\n",
    "model.add(Dense(250, activation = 'relu'))\n",
    "model.add(Dense(1, activation = 'sigmoid'))\n",
    "model.compile(loss='binary_crossentropy', optimizer= 'adam', metrics=['accuracy'])\n",
    "print(model.summary())\n",
    "model.fit(X_train, y_train, validation_data=(X_test, y_test), nb_epoch = 2, batch_size = 128, verbose=1)\n",
    "scores = model.evaluate(X_test, y_test, verbose=0)\n",
    "print('ACC: %.2f%% ' % (scores[1]*100))"
   ]
  },
  {
   "cell_type": "code",
   "execution_count": 25,
   "metadata": {},
   "outputs": [
    {
     "name": "stderr",
     "output_type": "stream",
     "text": [
      "/Users/syem/anaconda3/lib/python3.7/site-packages/ipykernel_launcher.py:22: UserWarning: Update your `Conv1D` call to the Keras 2 API: `Conv1D(activation=\"relu\", filters=32, kernel_size=3, padding=\"same\")`\n",
      "/Users/syem/anaconda3/lib/python3.7/site-packages/ipykernel_launcher.py:23: UserWarning: Update your `MaxPooling1D` call to the Keras 2 API: `MaxPooling1D(pool_size=2)`\n",
      "/Users/syem/anaconda3/lib/python3.7/site-packages/ipykernel_launcher.py:28: UserWarning: The `nb_epoch` argument in `fit` has been renamed `epochs`.\n"
     ]
    },
    {
     "name": "stdout",
     "output_type": "stream",
     "text": [
      "ACC: 88.53%\n"
     ]
    }
   ],
   "source": [
    "import numpy\n",
    "from keras.datasets import imdb\n",
    "from keras.models import Sequential\n",
    "from keras.layers import Dense\n",
    "from keras.layers import Flatten\n",
    "from keras.layers.convolutional import Convolution1D\n",
    "from keras.layers.convolutional import MaxPooling1D\n",
    "from keras.layers.embeddings import Embedding\n",
    "from keras.preprocessing import sequence\n",
    "\n",
    "\n",
    "\n",
    "\n",
    "top_words = 5000\n",
    "(X_train, y_train),(X_test, y_test) = imdb.load_data(nb_words = top_words)\n",
    "max_words = 500\n",
    "X_train = sequence.pad_sequences(X_train, maxlen = max_words)\n",
    "X_test = sequence.pad_sequences(X_test, maxlen = max_words)\n",
    "\n",
    "model  = Sequential()\n",
    "model.add(Embedding(top_words, 32, input_length = max_words))\n",
    "model.add(Convolution1D(nb_filter = 32, filter_length = 3, border_mode = 'same', activation = 'relu' ))\n",
    "model.add(MaxPooling1D(pool_length = 2))\n",
    "model.add(Flatten())\n",
    "model.add(Dense(250, activation='relu'))\n",
    "model.add(Dense(1, activation = 'sigmoid'))\n",
    "model.compile(loss='binary_crossentropy', optimizer = 'adam', metrics=['accuracy'])\n",
    "model.fit(X_train, y_train, validation_data = (X_test, y_test), nb_epoch = 2, batch_size = 128, verbose=0  )\n",
    "scores = model.evaluate(X_test, y_test, verbose = 0)\n",
    "print('ACC: %.2f%%' % (scores[1]*100))\n",
    "                    "
   ]
  },
  {
   "cell_type": "code",
   "execution_count": 26,
   "metadata": {},
   "outputs": [
    {
     "name": "stderr",
     "output_type": "stream",
     "text": [
      "/Users/syem/anaconda3/lib/python3.7/site-packages/keras/datasets/imdb.py:49: UserWarning: The `nb_words` argument in `load_data` has been renamed `num_words`.\n",
      "  warnings.warn('The `nb_words` argument in `load_data` '\n",
      "/Users/syem/anaconda3/lib/python3.7/site-packages/ipykernel_launcher.py:22: UserWarning: The `nb_epoch` argument in `fit` has been renamed `epochs`.\n"
     ]
    },
    {
     "name": "stdout",
     "output_type": "stream",
     "text": [
      "Train on 25000 samples, validate on 25000 samples\n",
      "Epoch 1/2\n",
      "25000/25000 [==============================] - 67s 3ms/step - loss: 0.4998 - acc: 0.7132 - val_loss: 0.3121 - val_acc: 0.8659\n",
      "Epoch 2/2\n",
      "25000/25000 [==============================] - 59s 2ms/step - loss: 0.1842 - acc: 0.9309 - val_loss: 0.3282 - val_acc: 0.8706\n",
      "ACC: 87.06%\n"
     ]
    }
   ],
   "source": [
    "# MLP for the IMDB problem\n",
    "import numpy\n",
    "from keras.datasets import imdb\n",
    "from keras.models import Sequential\n",
    "from keras.layers import Dense\n",
    "from keras.layers import Flatten\n",
    "from keras.layers.embeddings import Embedding\n",
    "from keras.preprocessing import sequence\n",
    "\n",
    "top_words = 5000\n",
    "(X_train, y_train),(X_test, y_test) = imdb.load_data(nb_words = top_words)\n",
    "max_words = 500\n",
    "X_train = sequence.pad_sequences(X_train, maxlen = max_words)\n",
    "X_test = sequence.pad_sequences(X_test, maxlen = max_words)\n",
    "model = Sequential()\n",
    "model.add(Embedding(top_words, 32, input_length = max_words))\n",
    "model.add(Flatten())\n",
    "model.add(Dense(250, activation = 'relu'))\n",
    "model.add(Dense(1, activation = 'sigmoid'))\n",
    "\n",
    "model.compile(loss= 'binary_crossentropy', optimizer = 'adam', metrics = ['accuracy'])\n",
    "model.fit(X_train, y_train, validation_data = (X_test, y_test), nb_epoch = 2, batch_size = 128, verbose = 1)\n",
    "scores = model.evaluate(X_test, y_test, verbose = 0)\n",
    "print('ACC: %.2f%%' % (scores[1]*100))\n",
    "\n",
    "\n"
   ]
  },
  {
   "cell_type": "code",
   "execution_count": 27,
   "metadata": {},
   "outputs": [
    {
     "name": "stderr",
     "output_type": "stream",
     "text": [
      "/Users/syem/anaconda3/lib/python3.7/site-packages/keras/datasets/imdb.py:49: UserWarning: The `nb_words` argument in `load_data` has been renamed `num_words`.\n",
      "  warnings.warn('The `nb_words` argument in `load_data` '\n",
      "/Users/syem/anaconda3/lib/python3.7/site-packages/ipykernel_launcher.py:19: UserWarning: Update your `Conv1D` call to the Keras 2 API: `Conv1D(activation=\"relu\", filters=32, kernel_size=3, padding=\"same\")`\n",
      "/Users/syem/anaconda3/lib/python3.7/site-packages/ipykernel_launcher.py:20: UserWarning: Update your `MaxPooling1D` call to the Keras 2 API: `MaxPooling1D(pool_size=2)`\n",
      "/Users/syem/anaconda3/lib/python3.7/site-packages/ipykernel_launcher.py:26: UserWarning: The `nb_epoch` argument in `fit` has been renamed `epochs`.\n"
     ]
    },
    {
     "name": "stdout",
     "output_type": "stream",
     "text": [
      "ACC: 88.76%\n"
     ]
    }
   ],
   "source": [
    "import numpy\n",
    "from keras.datasets import imdb\n",
    "from keras.models import Sequential\n",
    "from keras.layers import Dense\n",
    "from keras.layers import Flatten\n",
    "from keras.layers.convolutional import Convolution1D\n",
    "from keras.layers.convolutional import MaxPooling1D\n",
    "from keras.layers.embeddings import Embedding\n",
    "from keras.preprocessing import sequence\n",
    "\n",
    "top_words = 5000\n",
    "(X_train, y_train),(X_test, y_test) = imdb.load_data(nb_words = top_words)\n",
    "max_words = 500\n",
    "X_train = sequence.pad_sequences(X_train, maxlen = max_words)\n",
    "X_test = sequence.pad_sequences(X_test, maxlen = max_words)\n",
    "\n",
    "model = Sequential()\n",
    "model.add(Embedding(top_words, 32, input_length= max_words))\n",
    "model.add(Convolution1D(nb_filter = 32, filter_length = 3, border_mode = 'same', activation = 'relu'))\n",
    "model.add(MaxPooling1D(pool_length = 2))\n",
    "model.add(Flatten())\n",
    "model.add(Dense(250, activation = 'relu'))\n",
    "model.add(Dense(1, activation = 'sigmoid'))\n",
    "\n",
    "model.compile(loss='binary_crossentropy', optimizer='adam', metrics = ['accuracy'])\n",
    "model.fit(X_train, y_train, validation_data=(X_test, y_test), nb_epoch = 2, batch_size = 128, verbose=0)\n",
    "scores = model.evaluate(X_test, y_test, verbose = 0)\n",
    "print('ACC: %.2f%%' % (scores[1]*100))"
   ]
  },
  {
   "cell_type": "code",
   "execution_count": 29,
   "metadata": {},
   "outputs": [
    {
     "name": "stderr",
     "output_type": "stream",
     "text": [
      "/Users/syem/anaconda3/lib/python3.7/site-packages/ipykernel_launcher.py:22: UserWarning: The `nb_epoch` argument in `fit` has been renamed `epochs`.\n"
     ]
    },
    {
     "name": "stdout",
     "output_type": "stream",
     "text": [
      "Train on 25000 samples, validate on 25000 samples\n",
      "Epoch 1/2\n",
      "25000/25000 [==============================] - 62s 2ms/step - loss: 0.4806 - acc: 0.7408 - val_loss: 0.2966 - val_acc: 0.8738\n",
      "Epoch 2/2\n",
      "25000/25000 [==============================] - 51s 2ms/step - loss: 0.1769 - acc: 0.9332 - val_loss: 0.3185 - val_acc: 0.8688\n",
      "ACC: 86.88%\n"
     ]
    }
   ],
   "source": [
    "# MLP for the IMDB problem\n",
    "import numpy\n",
    "from keras.datasets import imdb\n",
    "from keras.models import Sequential\n",
    "from keras.layers import Dense\n",
    "from keras.layers import Flatten\n",
    "from keras.layers.embeddings import Embedding\n",
    "from keras.preprocessing import sequence\n",
    "\n",
    "top_words = 5000\n",
    "(X_train, y_train),(X_test, y_test) = imdb.load_data(nb_words = top_words)\n",
    "max_words = 500\n",
    "X_train = sequence.pad_sequences(X_train, maxlen = max_words)\n",
    "X_test = sequence.pad_sequences(X_test, maxlen = max_words)\n",
    "model = Sequential()\n",
    "model.add(Embedding(top_words, 32, input_length = max_words))\n",
    "model.add(Flatten())\n",
    "model.add(Dense(250, activation = 'relu'))\n",
    "model.add(Dense(1, activation = 'sigmoid'))\n",
    "\n",
    "model.compile(loss= 'binary_crossentropy', optimizer='adam', metrics = ['accuracy'])\n",
    "model.fit(X_train, y_train, validation_data = (X_test, y_test), nb_epoch = 2, batch_size = 128, verbose=1)\n",
    "scores = model.evaluate(X_test, y_test, verbose = 0)\n",
    "print('ACC: %.2f%%' % (scores[1]*100))\n",
    "\n"
   ]
  },
  {
   "cell_type": "code",
   "execution_count": 30,
   "metadata": {},
   "outputs": [
    {
     "name": "stderr",
     "output_type": "stream",
     "text": [
      "/Users/syem/anaconda3/lib/python3.7/site-packages/keras/datasets/imdb.py:49: UserWarning: The `nb_words` argument in `load_data` has been renamed `num_words`.\n",
      "  warnings.warn('The `nb_words` argument in `load_data` '\n",
      "/Users/syem/anaconda3/lib/python3.7/site-packages/ipykernel_launcher.py:20: UserWarning: Update your `Conv1D` call to the Keras 2 API: `Conv1D(activation=\"relu\", filters=32, kernel_size=3, padding=\"same\")`\n",
      "/Users/syem/anaconda3/lib/python3.7/site-packages/ipykernel_launcher.py:21: UserWarning: Update your `MaxPooling1D` call to the Keras 2 API: `MaxPooling1D(pool_size=2)`\n",
      "/Users/syem/anaconda3/lib/python3.7/site-packages/ipykernel_launcher.py:27: UserWarning: The `nb_epoch` argument in `fit` has been renamed `epochs`.\n"
     ]
    },
    {
     "name": "stdout",
     "output_type": "stream",
     "text": [
      "ACC: 87.05%\n"
     ]
    }
   ],
   "source": [
    "import numpy\n",
    "from keras.datasets import imdb\n",
    "from keras.models import Sequential\n",
    "from keras.layers import Dense\n",
    "from keras.layers import Flatten\n",
    "from keras.layers.convolutional import Convolution1D\n",
    "from keras.layers.convolutional import MaxPooling1D\n",
    "from keras.layers.embeddings import Embedding\n",
    "from keras.preprocessing import sequence\n",
    "\n",
    "\n",
    "top_words = 5000\n",
    "(X_train, y_train),(X_test, y_test) = imdb.load_data(nb_words = top_words)\n",
    "max_words = 500\n",
    "X_train = sequence.pad_sequences(X_train, maxlen = max_words)\n",
    "X_test = sequence.pad_sequences(X_test, maxlen = max_words)\n",
    "\n",
    "model = Sequential()\n",
    "model.add(Embedding(top_words, 32, input_length = max_words))\n",
    "model.add(Convolution1D(nb_filter = 32, filter_length = 3, border_mode = 'same', activation = 'relu'))\n",
    "model.add(MaxPooling1D(pool_length = 2))\n",
    "model.add(Flatten())\n",
    "model.add(Dense(250, activation = 'relu'))\n",
    "model.add(Dense(1, activation = 'sigmoid'))\n",
    "\n",
    "model.compile(loss='binary_crossentropy', optimizer='adam', metrics=['accuracy'])\n",
    "model.fit(X_train, y_train, validation_data = (X_test, y_test), nb_epoch = 2, batch_size = 128, verbose = 0)\n",
    "scores = model.evaluate(X_test, y_test, verbose = 0)\n",
    "print('ACC: %.2f%%' % (scores[1]*100))\n"
   ]
  },
  {
   "cell_type": "code",
   "execution_count": 31,
   "metadata": {},
   "outputs": [
    {
     "name": "stderr",
     "output_type": "stream",
     "text": [
      "/Users/syem/anaconda3/lib/python3.7/site-packages/keras/datasets/imdb.py:49: UserWarning: The `nb_words` argument in `load_data` has been renamed `num_words`.\n",
      "  warnings.warn('The `nb_words` argument in `load_data` '\n",
      "/Users/syem/anaconda3/lib/python3.7/site-packages/ipykernel_launcher.py:23: UserWarning: The `nb_epoch` argument in `fit` has been renamed `epochs`.\n"
     ]
    },
    {
     "name": "stdout",
     "output_type": "stream",
     "text": [
      "ACC : 87.05%\n"
     ]
    }
   ],
   "source": [
    "import numpy\n",
    "from keras.datasets import imdb\n",
    "from keras.models import Sequential\n",
    "from keras.layers import Dense\n",
    "from keras.layers import Flatten\n",
    "from keras.layers.embeddings import Embedding\n",
    "from keras.preprocessing import sequence\n",
    "\n",
    "\n",
    "\n",
    "top_words = 5000\n",
    "(X_train, y_train),(X_test, y_test) = imdb.load_data(nb_words = top_words)\n",
    "max_words = 500\n",
    "X_train = sequence.pad_sequences(X_train, maxlen = max_words)\n",
    "X_test = sequence.pad_sequences(X_test, maxlen = max_words)\n",
    "\n",
    "model = Sequential()\n",
    "model.add(Embedding(top_words, 32, input_length = max_words))\n",
    "model.add(Flatten())\n",
    "model.add(Dense(250, activation = 'relu'))\n",
    "model.add(Dense(1, activation = 'sigmoid'))\n",
    "model.compile(loss='binary_crossentropy', optimizer='adam', metrics=['accuracy'])\n",
    "model.fit(X_train, y_train, validation_data=(X_test, y_test), nb_epoch = 2, batch_size = 128, verbose = 0)\n",
    "print('ACC : %.2f%%' % (scores[1]*100))"
   ]
  },
  {
   "cell_type": "code",
   "execution_count": 32,
   "metadata": {},
   "outputs": [
    {
     "name": "stderr",
     "output_type": "stream",
     "text": [
      "/Users/syem/anaconda3/lib/python3.7/site-packages/keras/datasets/imdb.py:49: UserWarning: The `nb_words` argument in `load_data` has been renamed `num_words`.\n",
      "  warnings.warn('The `nb_words` argument in `load_data` '\n",
      "/Users/syem/anaconda3/lib/python3.7/site-packages/ipykernel_launcher.py:19: UserWarning: Update your `Conv1D` call to the Keras 2 API: `Conv1D(activation=\"relu\", filters=32, kernel_size=3, padding=\"same\")`\n",
      "/Users/syem/anaconda3/lib/python3.7/site-packages/ipykernel_launcher.py:20: UserWarning: Update your `MaxPooling1D` call to the Keras 2 API: `MaxPooling1D(pool_size=2)`\n",
      "/Users/syem/anaconda3/lib/python3.7/site-packages/ipykernel_launcher.py:25: UserWarning: The `nb_epoch` argument in `fit` has been renamed `epochs`.\n"
     ]
    },
    {
     "name": "stdout",
     "output_type": "stream",
     "text": [
      "ACC: 87.05%\n"
     ]
    }
   ],
   "source": [
    "import numpy\n",
    "from keras.datasets import imdb\n",
    "from keras.models import Sequential\n",
    "from keras.layers import Dense\n",
    "from keras.layers import Flatten\n",
    "from keras.layers.convolutional import Convolution1D\n",
    "from keras.layers.convolutional import MaxPooling1D\n",
    "from keras.layers.embeddings import Embedding\n",
    "from keras.preprocessing import sequence\n",
    "\n",
    "top_words = 5000\n",
    "(X_train, y_train),(X_test, y_test) = imdb.load_data(nb_words = top_words)\n",
    "max_words = 500\n",
    "X_train = sequence.pad_sequences(X_train, maxlen = max_words)\n",
    "X_test = sequence.pad_sequences(X_test, maxlen = max_words)\n",
    "\n",
    "model = Sequential()\n",
    "model.add(Embedding(top_words, 32, input_length = max_words ))\n",
    "model.add(Convolution1D(nb_filter = 32, filter_length = 3, border_mode = 'same', activation = 'relu'))\n",
    "model.add(MaxPooling1D(pool_length = 2))\n",
    "model.add(Flatten())\n",
    "model.add(Dense(250, activation = 'relu'))\n",
    "model.add(Dense(1, activation = 'sigmoid'))\n",
    "model.compile(loss='binary_crossentropy', optimizer = 'adam', metrics = ['accuracy'])\n",
    "model.fit(X_train, y_train, validation_data = (X_test, y_test), nb_epoch = 2, batch_size = 128, verbose = 0)\n",
    "print('ACC: %.2f%%' % (scores[1]*100))\n"
   ]
  },
  {
   "cell_type": "code",
   "execution_count": 33,
   "metadata": {},
   "outputs": [
    {
     "name": "stderr",
     "output_type": "stream",
     "text": [
      "/Users/syem/anaconda3/lib/python3.7/site-packages/keras/datasets/imdb.py:49: UserWarning: The `nb_words` argument in `load_data` has been renamed `num_words`.\n",
      "  warnings.warn('The `nb_words` argument in `load_data` '\n",
      "/Users/syem/anaconda3/lib/python3.7/site-packages/ipykernel_launcher.py:23: UserWarning: The `nb_epoch` argument in `fit` has been renamed `epochs`.\n"
     ]
    },
    {
     "name": "stdout",
     "output_type": "stream",
     "text": [
      "ACC\n"
     ]
    }
   ],
   "source": [
    "import numpy\n",
    "from keras.datasets import imdb\n",
    "from keras.models import Sequential\n",
    "from keras.layers import Dense\n",
    "from keras.layers import Flatten\n",
    "from keras.layers.embeddings import Embedding\n",
    "from keras.preprocessing import sequence\n",
    "\n",
    "\n",
    "top_words = 5000\n",
    "(X_train, y_train),(X_test, y_test) = imdb.load_data(nb_words = top_words)\n",
    "max_words = 500\n",
    "X_train = sequence.pad_sequences(X_train, maxlen = max_words)\n",
    "X_test = sequence.pad_sequences(X_test, maxlen = max_words)\n",
    "\n",
    "model = Sequential()\n",
    "model.add(Embedding(top_words, 32, input_length = max_words))\n",
    "model.add(Flatten())\n",
    "model.add(Dense(250, activation = 'relu'))\n",
    "model.add(Dense(1, activation = 'sigmoid'))\n",
    "\n",
    "model.compile(loss = 'binary_crossentropy', optimizer = 'adam', metrics = ['accuracy'])\n",
    "model.fit(X_train, y_train, validation_data = (X_test, y_test), nb_epoch = 2, batch_size =128, verbose=0)\n",
    "scores = model.evaluate(X_test, y_test, verbose = 0)\n",
    "print('ACC' % (scores[1]*100))"
   ]
  },
  {
   "cell_type": "code",
   "execution_count": 38,
   "metadata": {},
   "outputs": [
    {
     "name": "stderr",
     "output_type": "stream",
     "text": [
      "/Users/syem/anaconda3/lib/python3.7/site-packages/keras/datasets/imdb.py:49: UserWarning: The `nb_words` argument in `load_data` has been renamed `num_words`.\n",
      "  warnings.warn('The `nb_words` argument in `load_data` '\n",
      "/Users/syem/anaconda3/lib/python3.7/site-packages/ipykernel_launcher.py:20: UserWarning: Update your `Conv1D` call to the Keras 2 API: `Conv1D(activation=\"relu\", filters=32, kernel_size=3, padding=\"same\")`\n",
      "/Users/syem/anaconda3/lib/python3.7/site-packages/ipykernel_launcher.py:21: UserWarning: Update your `MaxPooling1D` call to the Keras 2 API: `MaxPooling1D(pool_size=2)`\n",
      "/Users/syem/anaconda3/lib/python3.7/site-packages/ipykernel_launcher.py:26: UserWarning: The `nb_epoch` argument in `fit` has been renamed `epochs`.\n"
     ]
    },
    {
     "name": "stdout",
     "output_type": "stream",
     "text": [
      "ACC: \n"
     ]
    }
   ],
   "source": [
    "import numpy\n",
    "from keras.datasets import imdb\n",
    "from keras.models import Sequential\n",
    "from keras.layers import Dense\n",
    "from keras.layers import Flatten\n",
    "from keras.layers.convolutional import Convolution1D\n",
    "from keras.layers.convolutional import MaxPooling1D\n",
    "from keras.layers.embeddings import Embedding\n",
    "from keras.preprocessing import sequence\n",
    "\n",
    "\n",
    "top_words = 5000\n",
    "(X_train, y_train),(X_test, y_test) = imdb.load_data(nb_words = top_words)\n",
    "max_words = 500\n",
    "X_train = sequence.pad_sequences(X_train, maxlen = max_words)\n",
    "X_test = sequence.pad_sequences(X_test, maxlen = max_words)\n",
    "\n",
    "model = Sequential()\n",
    "model.add(Embedding(top_words, 32, input_length = max_words))\n",
    "model.add(Convolution1D(nb_filter = 32, filter_length = 3, border_mode = 'same', activation = 'relu'))          \n",
    "model.add(MaxPooling1D(pool_length = 2))\n",
    "model.add(Flatten())\n",
    "model.add(Dense(250, activation = 'relu'))\n",
    "model.add(Dense(1, activation = 'sigmoid'))\n",
    "model.compile(loss='binary_crossentropy', optimizer='adam', metrics=['accuracy'])\n",
    "model.fit(X_train, y_train, validation_data = (X_test, y_test), nb_epoch = 2, batch_size = 128, verbose = 0)\n",
    "scores = model.evaluate(X_test, y_test, verbose = 0)\n",
    "print('ACC: ' % (scores[1]*100))"
   ]
  },
  {
   "cell_type": "code",
   "execution_count": 40,
   "metadata": {},
   "outputs": [
    {
     "name": "stderr",
     "output_type": "stream",
     "text": [
      "/Users/syem/anaconda3/lib/python3.7/site-packages/ipykernel_launcher.py:22: UserWarning: The `nb_epoch` argument in `fit` has been renamed `epochs`.\n"
     ]
    },
    {
     "name": "stdout",
     "output_type": "stream",
     "text": [
      "ACC: 87.34%\n"
     ]
    }
   ],
   "source": [
    "import numpy\n",
    "from keras.datasets import imdb\n",
    "from keras.models import Sequential\n",
    "from keras.layers import Dense\n",
    "from keras.layers import Flatten\n",
    "from keras.layers.embeddings import Embedding\n",
    "from keras.preprocessing import sequence\n",
    "\n",
    "top_words = 5000\n",
    "(X_train, y_train),(X_test, y_test) = imdb.load_data(nb_words = top_words)\n",
    "max_words = 500\n",
    "X_train = sequence.pad_sequences(X_train, maxlen= max_words)\n",
    "X_test = sequence.pad_sequences(X_test, maxlen = max_words)\n",
    "\n",
    "model = Sequential()\n",
    "model.add(Embedding(top_words, 32, input_length=max_words))\n",
    "model.add(Flatten())\n",
    "model.add(Dense(250, activation = 'relu'))\n",
    "model.add(Dense(1, activation = 'sigmoid'))\n",
    "\n",
    "model.compile(loss='binary_crossentropy', optimizer='adam', metrics= ['accuracy'])\n",
    "model.fit(X_train, y_train, validation_data = (X_test, y_test), batch_size = 128, nb_epoch = 2, verbose = 0)\n",
    "scores = model.evaluate(X_test, y_test, verbose = 0)\n",
    "print('ACC: %.2f%%' % (scores[1]*100))"
   ]
  },
  {
   "cell_type": "code",
   "execution_count": 42,
   "metadata": {},
   "outputs": [
    {
     "name": "stderr",
     "output_type": "stream",
     "text": [
      "/Users/syem/anaconda3/lib/python3.7/site-packages/ipykernel_launcher.py:20: UserWarning: Update your `Conv1D` call to the Keras 2 API: `Conv1D(activation=\"relu\", filters=32, kernel_size=3, padding=\"same\")`\n",
      "/Users/syem/anaconda3/lib/python3.7/site-packages/ipykernel_launcher.py:21: UserWarning: Update your `MaxPooling1D` call to the Keras 2 API: `MaxPooling1D(pool_size=2)`\n",
      "/Users/syem/anaconda3/lib/python3.7/site-packages/ipykernel_launcher.py:26: UserWarning: The `nb_epoch` argument in `fit` has been renamed `epochs`.\n"
     ]
    },
    {
     "name": "stdout",
     "output_type": "stream",
     "text": [
      "ACC: 88.02%\n"
     ]
    }
   ],
   "source": [
    "import numpy\n",
    "from keras.datasets import imdb\n",
    "from keras.models import Sequential\n",
    "from keras.layers import Dense\n",
    "from keras.layers import Flatten\n",
    "from keras.layers.convolutional import Convolution1D\n",
    "from keras.layers.convolutional import MaxPooling1D\n",
    "from keras.layers.embeddings import Embedding\n",
    "from keras.preprocessing import sequence\n",
    "\n",
    "\n",
    "top_words = 5000\n",
    "(X_train, y_train),(X_test, y_test) = imdb.load_data(nb_words = top_words)\n",
    "max_words = 500\n",
    "X_train = sequence.pad_sequences(X_train, maxlen = max_words)\n",
    "X_test = sequence.pad_sequences(X_test, maxlen = max_words)\n",
    "\n",
    "model = Sequential()\n",
    "model.add(Embedding(top_words, 32, input_length = max_words))\n",
    "model.add(Convolution1D(nb_filter = 32, filter_length = 3, border_mode = 'same', activation = 'relu'))\n",
    "model.add(MaxPooling1D(pool_length = 2))\n",
    "model.add(Flatten())\n",
    "model.add(Dense(250, activation = 'relu'))\n",
    "model.add(Dense(1, activation = 'sigmoid'))\n",
    "model.compile(loss = 'binary_crossentropy', optimizer = 'adam', metrics = ['accuracy'])\n",
    "model.fit(X_train, y_train, validation_data = (X_test, y_test), batch_size = 128, nb_epoch = 2, verbose = 0)\n",
    "scores = model.evaluate(X_test, y_test, verbose = 0)\n",
    "print('ACC: %.2f%%' % (scores[1]*100))"
   ]
  },
  {
   "cell_type": "code",
   "execution_count": 43,
   "metadata": {},
   "outputs": [
    {
     "name": "stderr",
     "output_type": "stream",
     "text": [
      "/Users/syem/anaconda3/lib/python3.7/site-packages/keras/datasets/imdb.py:49: UserWarning: The `nb_words` argument in `load_data` has been renamed `num_words`.\n",
      "  warnings.warn('The `nb_words` argument in `load_data` '\n",
      "/Users/syem/anaconda3/lib/python3.7/site-packages/ipykernel_launcher.py:33: UserWarning: The `nb_epoch` argument in `fit` has been renamed `epochs`.\n"
     ]
    },
    {
     "name": "stdout",
     "output_type": "stream",
     "text": [
      "ACC: 87.35%\n"
     ]
    }
   ],
   "source": [
    "import numpy\n",
    "from keras.datasets import imdb\n",
    "from keras.models import Sequential\n",
    "from keras.layers import Dense\n",
    "from keras.layers import Flatten\n",
    "from keras.layers.embeddings import Embedding\n",
    "from keras.preprocessing import sequence\n",
    "\n",
    "import numpy\n",
    "from keras.datasets import imdb\n",
    "from keras.models import Sequential\n",
    "from keras.layers import Dense\n",
    "from keras.layers import Flatten\n",
    "from keras.layers.convolutional import Convolution1D\n",
    "from keras.layers.convolutional import MaxPooling1D\n",
    "from keras.layers.embeddings import Embedding\n",
    "from keras.preprocessing import sequence\n",
    "\n",
    "\n",
    "\n",
    "top_words = 5000\n",
    "(X_train, y_train),(X_test, y_test) = imdb.load_data(nb_words = top_words)\n",
    "max_words = 500\n",
    "X_train = sequence.pad_sequences(X_train, maxlen=max_words)\n",
    "X_test = sequence.pad_sequences(X_test, maxlen=max_words)\n",
    "\n",
    "model = Sequential()\n",
    "model.add(Embedding(top_words, 32, input_length = max_words))\n",
    "model.add(Flatten())\n",
    "model.add(Dense(250, activation = 'relu'))\n",
    "model.add(Dense(1, activation = 'sigmoid'))\n",
    "model.compile(loss = 'binary_crossentropy', optimizer = 'adam', metrics = ['accuracy'])\n",
    "model.fit(X_train, y_train, validation_data = (X_test, y_test), batch_size = 128, nb_epoch = 2, verbose = 0)\n",
    "scores = model.evaluate(X_test, y_test, verbose=0)\n",
    "print('ACC: %.2f%%' % (scores[1]*100))\n",
    "\n",
    "\n",
    "\n",
    "\n",
    "\n",
    "\n"
   ]
  },
  {
   "cell_type": "code",
   "execution_count": null,
   "metadata": {},
   "outputs": [],
   "source": [
    "top_words = 5000\n",
    "(X_train, y_train), (X_test, y_test) = imdb.load_data(nb_words = top_words)\n",
    "max_words = 500\n",
    "X_train = sequence.pad_sequences(X_train, maxlen = max_words)\n",
    "X_test = sequence.pad_sequences(X_test, maxlen = max_words)\n",
    "\n",
    "model = Sequential()\n",
    "model.add(Embedding(top_words, 32, input_length = max_words))\n",
    "model.add(Convolution1D(nb_filter = 32, filter_length = 3, border_mode = 'same', activation = 'relu'))\n",
    "model.add(MaxPooling1D(pool_length = 2))\n",
    "model.add(Flatten())\n",
    "model.add(Dense(250, activation = 'relu'))\n",
    "model.add(Dense(1, activation = 'sigmoid'))\n",
    "model.compile(loss = 'binary_crossentropy', optimizer = 'adam', metrics = ['accuracy'])\n",
    "model.fit(X_train, y_train, validation_data=(X_test, y_test), batch_size = 128, nb_epoch = 2, verbose = 0)\n",
    "scores = model.evaluate(X_test, y_test, verbose = 0)\n",
    "print('ACC: %.2f%%' % (scores[1]*100))"
   ]
  },
  {
   "cell_type": "code",
   "execution_count": null,
   "metadata": {},
   "outputs": [],
   "source": []
  }
 ],
 "metadata": {
  "kernelspec": {
   "display_name": "Python 3",
   "language": "python",
   "name": "python3"
  },
  "language_info": {
   "codemirror_mode": {
    "name": "ipython",
    "version": 3
   },
   "file_extension": ".py",
   "mimetype": "text/x-python",
   "name": "python",
   "nbconvert_exporter": "python",
   "pygments_lexer": "ipython3",
   "version": "3.7.6"
  }
 },
 "nbformat": 4,
 "nbformat_minor": 2
}
