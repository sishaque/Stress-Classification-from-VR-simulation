{
 "cells": [
  {
   "cell_type": "code",
   "execution_count": 2,
   "metadata": {},
   "outputs": [
    {
     "name": "stderr",
     "output_type": "stream",
     "text": [
      "Using TensorFlow backend.\n"
     ]
    }
   ],
   "source": [
    "import numpy\n",
    "from keras.datasets import imdb\n",
    "from keras.models import Sequential\n",
    "from keras.layers import Dense\n",
    "from keras.layers import Flatten\n",
    "from keras.layers.convolutional import Convolution1D\n",
    "from keras.layers.convolutional import MaxPooling1D\n",
    "from keras.layers.embeddings import Embedding\n",
    "from keras.preprocessing import sequence"
   ]
  },
  {
   "cell_type": "code",
   "execution_count": 3,
   "metadata": {},
   "outputs": [],
   "source": [
    "from keras.utils import np_utils\n",
    "from keras.utils import to_categorical"
   ]
  },
  {
   "cell_type": "code",
   "execution_count": 4,
   "metadata": {},
   "outputs": [],
   "source": [
    "from keras import models\n",
    "from keras import layers\n",
    "from keras import regularizers\n",
    "from keras.layers import Dropout"
   ]
  },
  {
   "cell_type": "code",
   "execution_count": 5,
   "metadata": {},
   "outputs": [],
   "source": [
    "# conv\n",
    "from keras import layers\n",
    "from keras import models\n",
    "from keras.layers.convolutional import Conv2D\n",
    "from keras.layers import Dense\n",
    "from keras.layers.convolutional import MaxPooling2D\n",
    "from keras.layers import Flatten\n",
    "\n",
    "import os, shutil"
   ]
  },
  {
   "cell_type": "code",
   "execution_count": 6,
   "metadata": {},
   "outputs": [],
   "source": [
    "original_dataset_dir = 'Downloads/dogs-vs-cats/train1' # uncompressed data stored\n",
    "base_dir = 'Downloads/cats_and_dogs_small'   # will be substitued to train, test, validation in this directory\n",
    "# os.mkdir(base_dir)\n",
    "\n",
    "train_dir = os.path.join(base_dir, 'train')\n",
    "# os.mkdir(train_dir)\n",
    "\n",
    "validation_dir = os.path.join(base_dir, 'validation')\n",
    "# os.mkdir(validation_dir)\n",
    "\n",
    "test_dir = os.path.join(base_dir, 'test')\n",
    "# os.mkdir(test_dir)\n",
    "\n",
    "\n",
    "train_cats_dir = os.path.join(train_dir, 'cats')\n",
    "# os.mkdir(train_cats_dir)\n",
    "\n",
    "train_dogs_dir = os.path.join(train_dir, 'dogs')\n",
    "# os.mkdir(train_dogs_dir)\n",
    "\n",
    "validation_cats_dir = os.path.join(validation_dir, 'cats')\n",
    "# os.mkdir(validation_cats_dir)\n",
    "\n",
    "validation_dogs_dir = os.path.join(validation_dir, 'dogs')\n",
    "# os.mkdir(validation_dogs_dir)\n",
    "\n",
    "test_cats_dir = os.path.join(test_dir, 'cats')\n",
    "# os.mkdir(test_cats_dir)\n",
    "\n",
    "test_dogs_dir = os.path.join(test_dir, 'dogs')\n",
    "# os.mkdir(test_dogs_dir)\n",
    "\n"
   ]
  },
  {
   "cell_type": "code",
   "execution_count": 7,
   "metadata": {},
   "outputs": [],
   "source": [
    "fnames = ['cat.{}.jpg'.format(i) for i in range(1000)]\n",
    "for fname in fnames:\n",
    "    src = os.path.join(original_dataset_dir, fname)  # copy from original to train\n",
    "    dst = os.path.join(train_cats_dir, fname)\n",
    "    shutil.copyfile(src, dst)\n",
    "    \n",
    "\n",
    "fnames = ['cat.{}.jpg'.format(i) for i in range(1000, 1500)]\n",
    "for fname in fnames:\n",
    "    src = os.path.join(original_dataset_dir, fname)\n",
    "    dst = os.path.join(validation_cats_dir, fname)\n",
    "    shutil.copyfile(src, dst)\n",
    "    \n",
    "fnames = ['cat.{}.jpg'.format(i) for i in range(1500, 2000)]\n",
    "for fname in fnames:\n",
    "    src = os.path.join(original_dataset_dir, fname)\n",
    "    dst = os.path.join(test_cats_dir, fname)\n",
    "    shutil.copyfile(src, dst)\n",
    "\n"
   ]
  },
  {
   "cell_type": "code",
   "execution_count": 8,
   "metadata": {},
   "outputs": [],
   "source": [
    "fnames = ['dog.{}.jpg'.format(i) for i in range(1000)]\n",
    "for fname in fnames:\n",
    "    src = os.path.join(original_dataset_dir, fname)\n",
    "    dst = os.path.join(train_dogs_dir, fname)\n",
    "    shutil.copyfile(src, dst)\n",
    "    \n",
    "fnames = ['dog.{}.jpg'.format(i) for i in range(1000, 1500)]\n",
    "for fname in fnames:\n",
    "    src = os.path.join(original_dataset_dir, fname)\n",
    "    dst = os.path.join(validation_dogs_dir, fname)\n",
    "    shutil.copyfile(src, dst)\n",
    "    \n",
    "fnames = ['dog.{}.jpg'.format(i) for i in range(1500, 2000)]\n",
    "for fname in fnames:\n",
    "    src = os.path.join(original_dataset_dir, fname)\n",
    "    dst = os.path.join(test_dogs_dir, fname)\n",
    "    shutil.copyfile(src, dst)\n",
    "\n"
   ]
  },
  {
   "cell_type": "code",
   "execution_count": 9,
   "metadata": {},
   "outputs": [
    {
     "ename": "NameError",
     "evalue": "name 'model' is not defined",
     "output_type": "error",
     "traceback": [
      "\u001b[0;31m---------------------------------------------------------------------------\u001b[0m",
      "\u001b[0;31mNameError\u001b[0m                                 Traceback (most recent call last)",
      "\u001b[0;32m<ipython-input-9-ae9dba222136>\u001b[0m in \u001b[0;36m<module>\u001b[0;34m\u001b[0m\n\u001b[1;32m      2\u001b[0m \u001b[0;32mfrom\u001b[0m \u001b[0mkeras\u001b[0m\u001b[0;34m.\u001b[0m\u001b[0mpreprocessing\u001b[0m\u001b[0;34m.\u001b[0m\u001b[0mimage\u001b[0m \u001b[0;32mimport\u001b[0m \u001b[0mImageDataGenerator\u001b[0m\u001b[0;34m\u001b[0m\u001b[0;34m\u001b[0m\u001b[0m\n\u001b[1;32m      3\u001b[0m \u001b[0;34m\u001b[0m\u001b[0m\n\u001b[0;32m----> 4\u001b[0;31m \u001b[0mmodel\u001b[0m\u001b[0;34m.\u001b[0m\u001b[0mcompile\u001b[0m\u001b[0;34m(\u001b[0m\u001b[0mloss\u001b[0m \u001b[0;34m=\u001b[0m \u001b[0;34m'binary_crossentropy'\u001b[0m\u001b[0;34m,\u001b[0m \u001b[0moptimizer\u001b[0m \u001b[0;34m=\u001b[0m \u001b[0moptimizers\u001b[0m\u001b[0;34m.\u001b[0m\u001b[0mRMSprop\u001b[0m\u001b[0;34m(\u001b[0m\u001b[0mlr\u001b[0m \u001b[0;34m=\u001b[0m \u001b[0;36m1e-4\u001b[0m\u001b[0;34m)\u001b[0m\u001b[0;34m,\u001b[0m \u001b[0mmetrics\u001b[0m \u001b[0;34m=\u001b[0m \u001b[0;34m[\u001b[0m\u001b[0;34m'acc'\u001b[0m\u001b[0;34m]\u001b[0m\u001b[0;34m)\u001b[0m\u001b[0;34m\u001b[0m\u001b[0;34m\u001b[0m\u001b[0m\n\u001b[0m",
      "\u001b[0;31mNameError\u001b[0m: name 'model' is not defined"
     ]
    }
   ],
   "source": [
    "from keras import optimizers\n",
    "from keras.preprocessing.image import ImageDataGenerator\n",
    "\n",
    "model.compile(loss = 'binary_crossentropy', optimizer = optimizers.RMSprop(lr = 1e-4), metrics = ['acc'])"
   ]
  },
  {
   "cell_type": "code",
   "execution_count": 10,
   "metadata": {},
   "outputs": [
    {
     "name": "stdout",
     "output_type": "stream",
     "text": [
      "WARNING:tensorflow:From /Users/syem/opt/anaconda3/lib/python3.7/site-packages/tensorflow_core/python/ops/nn_impl.py:183: where (from tensorflow.python.ops.array_ops) is deprecated and will be removed in a future version.\n",
      "Instructions for updating:\n",
      "Use tf.where in 2.0, which has the same broadcast rule as np.where\n",
      "Found 2000 images belonging to 2 classes.\n",
      "Found 1000 images belonging to 2 classes.\n",
      "Epoch 1/2\n",
      "5/5 [==============================] - 32s 6s/step - loss: 0.6878 - acc: 0.5562 - val_loss: 0.6454 - val_acc: 0.4975\n",
      "Epoch 2/2\n",
      "5/5 [==============================] - 32s 6s/step - loss: 0.6862 - acc: 0.5688 - val_loss: 0.7073 - val_acc: 0.5090\n"
     ]
    }
   ],
   "source": [
    "model = Sequential()\n",
    "model.add(Conv2D(32, (3,3), activation = 'relu', input_shape = (150, 150, 3)))\n",
    "model.add(MaxPooling2D((2,2)))\n",
    "model.add(Conv2D(64, (3, 3), activation = 'relu'))\n",
    "model.add(MaxPooling2D((2, 2)))\n",
    "model.add(Conv2D(128, (3, 3), activation = 'relu'))\n",
    "model.add(MaxPooling2D((2, 2)))\n",
    "model.add(Conv2D(128, (3, 3), activation = 'relu'))\n",
    "model.add(MaxPooling2D((2, 2)))\n",
    "model.add(Flatten())\n",
    "model.add(Dropout(0.5))\n",
    "model.add(Dense(512, activation = 'relu'))\n",
    "model.add(Dense(1, activation = 'sigmoid'))\n",
    "model.compile(loss = 'binary_crossentropy', optimizer = optimizers.RMSprop(lr = 1e-4), metrics = ['acc'])\n",
    "\n",
    "\n",
    "\n",
    "train_datagen = ImageDataGenerator(rescale = 1./255,    # data transformation leading to more images\n",
    "                                  rotation_range = 40,\n",
    "                                  width_shift_range = 0.2,\n",
    "                                  height_shift_range = 0.2,\n",
    "                                  shear_range = 0.2,\n",
    "                                  zoom_range = 0.2,\n",
    "                                  horizontal_flip = True,\n",
    "                                  )\n",
    "\n",
    "test_datagen = ImageDataGenerator(rescale = 1./255)\n",
    "\n",
    "\n",
    "train_generator = train_datagen.flow_from_directory(train_dir,\n",
    "                                                   target_size = (150, 150),\n",
    "                                                   batch_size = 32,\n",
    "                                                   class_mode = 'binary')\n",
    "\n",
    "\n",
    "validation_generator = test_datagen.flow_from_directory(validation_dir,\n",
    "                                                       target_size = (150, 150),\n",
    "                                                       batch_size = 32,\n",
    "                                                       class_mode = 'binary')\n",
    "\n",
    "\n",
    "\n",
    "\n",
    "\n",
    "history = model.fit_generator(train_generator,\n",
    "                             steps_per_epoch = 5,\n",
    "                             epochs = 2,\n",
    "                             validation_data = validation_generator,\n",
    "                             validation_steps = 50)\n"
   ]
  },
  {
   "cell_type": "code",
   "execution_count": 1,
   "metadata": {},
   "outputs": [
    {
     "name": "stdout",
     "output_type": "stream",
     "text": [
      "WARNING: 'conda clean --source-cache' is deprecated.\n",
      "    Use 'conda build purge-all' to remove source cache files.\n",
      "Cache location: /Users/syem/anaconda3/pkgs\n",
      "Will remove the following tarballs:\n",
      "\n",
      "/Users/syem/anaconda3/pkgs\n",
      "--------------------------\n",
      "clang_osx-64-4.0.1-h1ce6c1d_17.tar.bz2       145 KB\n",
      "clangxx-4.0.1-1.tar.bz2                      263 KB\n",
      "openssl-1.1.1b-h1de35cc_1.tar.bz2            3.5 MB\n",
      "pystan-2.17.1.0-py37h051e8ed_1004.tar.bz2    14.2 MB\n",
      "conda-4.7.12-py37_0.tar.bz2                  3.0 MB\n",
      "lunardate-0.2.0-py_0.tar.bz2                  21 KB\n",
      "convertdate-2.2.1-pyh9f0ad1d_0.tar.bz2        33 KB\n",
      "ipython-7.4.0-py37h39e3cac_0.tar.bz2         1.1 MB\n",
      "compiler-rt-4.0.1-hcfea43d_1.tar.bz2         1.2 MB\n",
      "clangxx_osx-64-4.0.1-h22b1bf0_17.tar.bz2     146 KB\n",
      "llvm-4.0.1-1.tar.bz2                       136.6 MB\n",
      "python_abi-3.7-1_cp37m.tar.bz2                 4 KB\n",
      "llvm-lto-tapi-4.0.1-1.tar.bz2               11.9 MB\n",
      "cctools-895-1.tar.bz2                        1.9 MB\n",
      "clang-4.0.1-1.tar.bz2                       73.9 MB\n",
      "holidays-0.10.2-pyh9f0ad1d_0.tar.bz2          59 KB\n",
      "conda-4.8.3-py37hc8dfbb8_1.tar.bz2           3.0 MB\n",
      "anaconda-2019.03-py37_0.tar.bz2               10 KB\n",
      "certifi-2019.3.9-py37_0.tar.bz2              155 KB\n",
      "ca-certificates-2019.1.23-0.tar.bz2          126 KB\n",
      "korean_lunar_calendar-0.2.1-pyh9f0ad1d_0.tar.bz2      10 KB\n",
      "fbprophet-0.5-py37h6de7cb9_0.tar.bz2         631 KB\n",
      "ld64-274.2-1.tar.bz2                         2.9 MB\n",
      "pymeeus-0.3.7-pyh9f0ad1d_0.tar.bz2           515 KB\n",
      "\n",
      "---------------------------------------------------\n",
      "Total:                                     255.1 MB\n",
      "\n",
      "Removed clang_osx-64-4.0.1-h1ce6c1d_17.tar.bz2\n",
      "Removed clangxx-4.0.1-1.tar.bz2\n",
      "Removed openssl-1.1.1b-h1de35cc_1.tar.bz2\n",
      "Removed pystan-2.17.1.0-py37h051e8ed_1004.tar.bz2\n",
      "Removed conda-4.7.12-py37_0.tar.bz2\n",
      "Removed lunardate-0.2.0-py_0.tar.bz2\n",
      "Removed convertdate-2.2.1-pyh9f0ad1d_0.tar.bz2\n",
      "Removed ipython-7.4.0-py37h39e3cac_0.tar.bz2\n",
      "Removed compiler-rt-4.0.1-hcfea43d_1.tar.bz2\n",
      "Removed clangxx_osx-64-4.0.1-h22b1bf0_17.tar.bz2\n",
      "Removed llvm-4.0.1-1.tar.bz2\n",
      "Removed python_abi-3.7-1_cp37m.tar.bz2\n",
      "Removed llvm-lto-tapi-4.0.1-1.tar.bz2\n",
      "Removed cctools-895-1.tar.bz2\n",
      "Removed clang-4.0.1-1.tar.bz2\n",
      "Removed holidays-0.10.2-pyh9f0ad1d_0.tar.bz2\n",
      "Removed conda-4.8.3-py37hc8dfbb8_1.tar.bz2\n",
      "Removed anaconda-2019.03-py37_0.tar.bz2\n",
      "Removed certifi-2019.3.9-py37_0.tar.bz2\n",
      "Removed ca-certificates-2019.1.23-0.tar.bz2\n",
      "Removed korean_lunar_calendar-0.2.1-pyh9f0ad1d_0.tar.bz2\n",
      "Removed fbprophet-0.5-py37h6de7cb9_0.tar.bz2\n",
      "Removed ld64-274.2-1.tar.bz2\n",
      "Removed pymeeus-0.3.7-pyh9f0ad1d_0.tar.bz2\n",
      "WARNING: /Users/syem/.conda/pkgs does not exist\n",
      "Cache location: /Users/syem/anaconda3/pkgs\n",
      "Will remove the following packages:\n",
      "/Users/syem/anaconda3/pkgs\n",
      "--------------------------\n",
      "\n",
      "conda-4.7.12-py37_0                         11.4 MB\n",
      "python_abi-3.7-1_cp37m                        10 KB\n",
      "anaconda-2019.03-py37_0                       57 KB\n",
      "ld64-274.2-1                                11.2 MB\n",
      "ca-certificates-2019.5.15-1                  239 KB\n",
      "openssl-1.1.1c-h1de35cc_1                    9.8 MB\n",
      "conda-4.7.11-py37_0                         11.4 MB\n",
      "clangxx-4.0.1-1                              2.2 MB\n",
      "certifi-2019.6.16-py37_1                     314 KB\n",
      "\n",
      "---------------------------------------------------\n",
      "Total:                                      46.5 MB\n",
      "\n",
      "removing conda-4.7.12-py37_0\n",
      "removing python_abi-3.7-1_cp37m\n",
      "removing anaconda-2019.03-py37_0\n",
      "removing ld64-274.2-1\n",
      "removing ca-certificates-2019.5.15-1\n",
      "removing openssl-1.1.1c-h1de35cc_1\n",
      "removing conda-4.7.11-py37_0\n",
      "removing clangxx-4.0.1-1\n",
      "removing certifi-2019.6.16-py37_1\n",
      "\n",
      "Note: you may need to restart the kernel to use updated packages.\n"
     ]
    }
   ],
   "source": [
    "conda clean -tipsy"
   ]
  },
  {
   "cell_type": "code",
   "execution_count": 11,
   "metadata": {},
   "outputs": [
    {
     "name": "stdout",
     "output_type": "stream",
     "text": [
      "Downloading data from https://github.com/fchollet/deep-learning-models/releases/download/v0.1/vgg16_weights_tf_dim_ordering_tf_kernels_notop.h5\n",
      "58892288/58889256 [==============================] - 25s 0us/step\n"
     ]
    }
   ],
   "source": [
    "from keras.applications import VGG16\n",
    "\n",
    "# pretrained convet\n",
    "\n",
    "conv_base = VGG16(weights = 'imagenet',\n",
    "                 include_top = False,\n",
    "                 input_shape = (150, 150, 3))\n"
   ]
  },
  {
   "cell_type": "code",
   "execution_count": 15,
   "metadata": {},
   "outputs": [
    {
     "name": "stdout",
     "output_type": "stream",
     "text": [
      "Found 2000 images belonging to 2 classes.\n",
      "Found 1000 images belonging to 2 classes.\n",
      "Found 1000 images belonging to 2 classes.\n"
     ]
    }
   ],
   "source": [
    "import os\n",
    "import numpy as np\n",
    "from keras.preprocessing.image import ImageDataGenerator\n",
    "\n",
    "base_dir = 'Downloads/cats_and_dogs_small'\n",
    "train_dir = os.path.join(base_dir, 'train')\n",
    "validation_dir = os.path.join(base_dir, 'validation')\n",
    "test_dir = os.path.join(base_dir, 'test')\n",
    "\n",
    "datagen = ImageDataGenerator(rescale = 1./255)\n",
    "\n",
    "batch_size = 20\n",
    "\n",
    "def extract_features(directory, sample_count):\n",
    "    features = np.zeros(shape= (sample_count, 4, 4, 512))  # zeros will be filled with values extracted\n",
    "    labels = np.zeros(shape = (sample_count))\n",
    "    generator = datagen.flow_from_directory(directory,\n",
    "                                           target_size = (150, 150),      # data augmentation not used, no new data\n",
    "                                           batch_size = batch_size,\n",
    "                                           class_mode = 'binary')\n",
    "    \n",
    "    i = 0\n",
    "    \n",
    "    for inputs_batch, labels_batch in generator:\n",
    "        features_batch = conv_base.predict(inputs_batch)\n",
    "        features[i * batch_size : (i+1) * batch_size] = features_batch # fill zeros with values\n",
    "        labels[i * batch_size: (i+1) * batch_size] = labels_batch\n",
    "        \n",
    "        i += 1\n",
    "        \n",
    "        if i * batch_size >= sample_count:\n",
    "            break\n",
    "            \n",
    "    return features, labels\n",
    "        \n",
    "train_features, train_labels = extract_features(train_dir, 2000) # 2000 training, sample count\n",
    "validation_features, validation_labels = extract_features(validation_dir, 1000) # validation 1000\n",
    "test_features, test_labels = extract_features(test_dir, 1000) # testing 1000\n",
    "\n",
    "\n",
    "\n"
   ]
  },
  {
   "cell_type": "code",
   "execution_count": 17,
   "metadata": {},
   "outputs": [],
   "source": [
    "# flatten the data in (4,4,512) image data form before feeding it to dense layer\n",
    "train_features = np.reshape(train_features, (2000, 4 * 4 * 512))\n",
    "validation_features = np.reshape(validation_features, (1000, 4 * 4 * 512))\n",
    "test_features = np.reshape(test_features, (1000, 4 * 4 * 512))\n"
   ]
  },
  {
   "cell_type": "code",
   "execution_count": 25,
   "metadata": {},
   "outputs": [
    {
     "name": "stdout",
     "output_type": "stream",
     "text": [
      "Train on 2000 samples, validate on 1000 samples\n",
      "Epoch 1/30\n",
      "2000/2000 [==============================] - 3s 2ms/step - loss: 0.6179 - acc: 0.6515 - val_loss: 0.4486 - val_acc: 0.8360\n",
      "Epoch 2/30\n",
      "2000/2000 [==============================] - 3s 1ms/step - loss: 0.4355 - acc: 0.7985 - val_loss: 0.3651 - val_acc: 0.8500\n",
      "Epoch 3/30\n",
      "2000/2000 [==============================] - 3s 1ms/step - loss: 0.3557 - acc: 0.8525 - val_loss: 0.3242 - val_acc: 0.8840\n",
      "Epoch 4/30\n",
      "2000/2000 [==============================] - 3s 1ms/step - loss: 0.3183 - acc: 0.8680 - val_loss: 0.3004 - val_acc: 0.8810\n",
      "Epoch 5/30\n",
      "2000/2000 [==============================] - 3s 1ms/step - loss: 0.2879 - acc: 0.8850 - val_loss: 0.2816 - val_acc: 0.8930\n",
      "Epoch 6/30\n",
      "2000/2000 [==============================] - 3s 2ms/step - loss: 0.2634 - acc: 0.8995 - val_loss: 0.2734 - val_acc: 0.8960\n",
      "Epoch 7/30\n",
      "2000/2000 [==============================] - 3s 2ms/step - loss: 0.2479 - acc: 0.9080 - val_loss: 0.2726 - val_acc: 0.8940\n",
      "Epoch 8/30\n",
      "2000/2000 [==============================] - 3s 2ms/step - loss: 0.2359 - acc: 0.9130 - val_loss: 0.2557 - val_acc: 0.8990\n",
      "Epoch 9/30\n",
      "2000/2000 [==============================] - 3s 2ms/step - loss: 0.2193 - acc: 0.9205 - val_loss: 0.2541 - val_acc: 0.9000\n",
      "Epoch 10/30\n",
      "2000/2000 [==============================] - 3s 1ms/step - loss: 0.2107 - acc: 0.9225 - val_loss: 0.2503 - val_acc: 0.8980\n",
      "Epoch 11/30\n",
      "2000/2000 [==============================] - 3s 2ms/step - loss: 0.2045 - acc: 0.9265 - val_loss: 0.2598 - val_acc: 0.8910\n",
      "Epoch 12/30\n",
      "2000/2000 [==============================] - 3s 2ms/step - loss: 0.1927 - acc: 0.9305 - val_loss: 0.2469 - val_acc: 0.8990\n",
      "Epoch 13/30\n",
      "2000/2000 [==============================] - 3s 2ms/step - loss: 0.1839 - acc: 0.9305 - val_loss: 0.2443 - val_acc: 0.8980\n",
      "Epoch 14/30\n",
      "2000/2000 [==============================] - 5s 2ms/step - loss: 0.1729 - acc: 0.9400 - val_loss: 0.2400 - val_acc: 0.9030\n",
      "Epoch 15/30\n",
      "2000/2000 [==============================] - 5s 2ms/step - loss: 0.1650 - acc: 0.9440 - val_loss: 0.2450 - val_acc: 0.9010\n",
      "Epoch 16/30\n",
      "2000/2000 [==============================] - 3s 2ms/step - loss: 0.1581 - acc: 0.9470 - val_loss: 0.2424 - val_acc: 0.9000\n",
      "Epoch 17/30\n",
      "2000/2000 [==============================] - 3s 1ms/step - loss: 0.1526 - acc: 0.9455 - val_loss: 0.2403 - val_acc: 0.9020\n",
      "Epoch 18/30\n",
      "2000/2000 [==============================] - 3s 1ms/step - loss: 0.1450 - acc: 0.9505 - val_loss: 0.2357 - val_acc: 0.9050\n",
      "Epoch 19/30\n",
      "2000/2000 [==============================] - 3s 2ms/step - loss: 0.1376 - acc: 0.9515 - val_loss: 0.2358 - val_acc: 0.9030\n",
      "Epoch 20/30\n",
      "2000/2000 [==============================] - 3s 2ms/step - loss: 0.1376 - acc: 0.9550 - val_loss: 0.2381 - val_acc: 0.9030\n",
      "Epoch 21/30\n",
      "2000/2000 [==============================] - 3s 2ms/step - loss: 0.1260 - acc: 0.9610 - val_loss: 0.2423 - val_acc: 0.9030\n",
      "Epoch 22/30\n",
      "2000/2000 [==============================] - 3s 2ms/step - loss: 0.1202 - acc: 0.9595 - val_loss: 0.2359 - val_acc: 0.9010\n",
      "Epoch 23/30\n",
      "2000/2000 [==============================] - 3s 2ms/step - loss: 0.1205 - acc: 0.9590 - val_loss: 0.2360 - val_acc: 0.9060\n",
      "Epoch 24/30\n",
      "2000/2000 [==============================] - 3s 2ms/step - loss: 0.1115 - acc: 0.9625 - val_loss: 0.2374 - val_acc: 0.9040\n",
      "Epoch 25/30\n",
      "2000/2000 [==============================] - 3s 2ms/step - loss: 0.1055 - acc: 0.9665 - val_loss: 0.2421 - val_acc: 0.9040\n",
      "Epoch 26/30\n",
      "2000/2000 [==============================] - 3s 2ms/step - loss: 0.1047 - acc: 0.9640 - val_loss: 0.2378 - val_acc: 0.9010\n",
      "Epoch 27/30\n",
      "2000/2000 [==============================] - 3s 2ms/step - loss: 0.0983 - acc: 0.9705 - val_loss: 0.2374 - val_acc: 0.9030\n",
      "Epoch 28/30\n",
      "2000/2000 [==============================] - 3s 2ms/step - loss: 0.0954 - acc: 0.9720 - val_loss: 0.2694 - val_acc: 0.8910\n",
      "Epoch 29/30\n",
      "2000/2000 [==============================] - 3s 2ms/step - loss: 0.0969 - acc: 0.9690 - val_loss: 0.2444 - val_acc: 0.9070\n",
      "Epoch 30/30\n",
      "2000/2000 [==============================] - 3s 2ms/step - loss: 0.0921 - acc: 0.9700 - val_loss: 0.2385 - val_acc: 0.9030\n"
     ]
    }
   ],
   "source": [
    "from keras import models\n",
    "from keras import layers\n",
    "from keras import optimizers\n",
    "\n",
    "model = Sequential()\n",
    "model.add(Dense(256, activation = 'relu', input_dim = 4 * 4 * 512))\n",
    "model.add(Dropout(0.5))\n",
    "model.add(Dense(1, activation = 'sigmoid'))\n",
    "model.compile(optimizer = optimizers.RMSprop(lr = 2e-5), loss = 'binary_crossentropy', metrics = ['acc'])\n",
    "history = model.fit(train_features, train_labels, epochs = 30, batch_size = 20, \n",
    "                    validation_data = (validation_features, validation_labels), )\n",
    "\n",
    "\n"
   ]
  },
  {
   "cell_type": "code",
   "execution_count": 26,
   "metadata": {},
   "outputs": [
    {
     "data": {
      "text/plain": [
       "<Figure size 432x288 with 0 Axes>"
      ]
     },
     "execution_count": 26,
     "metadata": {},
     "output_type": "execute_result"
    },
    {
     "data": {
      "image/png": "[encoded data removed]",
      "text/plain": [
       "<Figure size 432x288 with 1 Axes>"
      ]
     },
     "metadata": {
      "needs_background": "light"
     },
     "output_type": "display_data"
    },
    {
     "data": {
      "text/plain": [
       "<Figure size 432x288 with 0 Axes>"
      ]
     },
     "metadata": {},
     "output_type": "display_data"
    }
   ],
   "source": [
    "import matplotlib.pyplot as plt\n",
    "\n",
    "acc = history.history['acc']\n",
    "val_acc = history.history['val_acc']\n",
    "loss = history.history['loss']\n",
    "val_loss = history.history['val_loss']\n",
    "epochs = range(1, len(acc) + 1)\n",
    "plt.plot(epochs, acc, 'bo', label = 'Trainning acc')\n",
    "plt.plot(epochs, val_acc, 'b', label = 'Validation acc')\n",
    "plt.title(' Trainning and validation acc')\n",
    "plt.legend()\n",
    "plt.figure()\n"
   ]
  },
  {
   "cell_type": "code",
   "execution_count": 29,
   "metadata": {},
   "outputs": [
    {
     "name": "stdout",
     "output_type": "stream",
     "text": [
      "Model: \"sequential_12\"\n",
      "_________________________________________________________________\n",
      "Layer (type)                 Output Shape              Param #   \n",
      "=================================================================\n",
      "vgg16 (Model)                (None, 4, 4, 512)         14714688  \n",
      "_________________________________________________________________\n",
      "flatten_4 (Flatten)          (None, 8192)              0         \n",
      "_________________________________________________________________\n",
      "dense_19 (Dense)             (None, 256)               2097408   \n",
      "_________________________________________________________________\n",
      "dense_20 (Dense)             (None, 1)                 257       \n",
      "=================================================================\n",
      "Total params: 16,812,353\n",
      "Trainable params: 16,812,353\n",
      "Non-trainable params: 0\n",
      "_________________________________________________________________\n"
     ]
    }
   ],
   "source": [
    "# convnet model\n",
    "model = Sequential()\n",
    "model.add(conv_base)\n",
    "model.add(Flatten())\n",
    "model.add(Dense(256, activation = 'relu'))\n",
    "model.add(Dense(1, activation = 'sigmoid'))\n",
    "\n",
    "model.summary()"
   ]
  },
  {
   "cell_type": "code",
   "execution_count": 30,
   "metadata": {},
   "outputs": [
    {
     "name": "stdout",
     "output_type": "stream",
     "text": [
      "Trainable weights before freezing: 30\n",
      " trainable weights after freezing 4\n"
     ]
    }
   ],
   "source": [
    "# freeze the layer so that weights arent updated during training, due to large number of parameters\n",
    "print('Trainable weights before freezing:', len(model.trainable_weights))\n",
    "conv_base.trainable = False\n",
    "print('Trainable weights after freezing', len(model.trainable_weights))\n"
   ]
  },
  {
   "cell_type": "code",
   "execution_count": 32,
   "metadata": {},
   "outputs": [
    {
     "name": "stdout",
     "output_type": "stream",
     "text": [
      "Found 2000 images belonging to 2 classes.\n",
      "Found 1000 images belonging to 2 classes.\n",
      "Epoch 1/2\n",
      "5/5 [==============================] - 23s 5s/step - loss: 0.7010 - accuracy: 0.5400 - val_loss: 0.7004 - val_accuracy: 0.5500\n",
      "Epoch 2/2\n",
      "5/5 [==============================] - 25s 5s/step - loss: 0.6969 - accuracy: 0.5300 - val_loss: 0.6979 - val_accuracy: 0.4750\n"
     ]
    }
   ],
   "source": [
    "from keras.preprocessing.image import ImageDataGenerator\n",
    "from keras import optimizers\n",
    "\n",
    "train_dataget = ImageDataGenerator(rescale = 1./255,     # data augmentation, transformin image leads to more data,\n",
    "                                            # no specific values, randomly applied to transform, reduce overfitting\n",
    "                                  rotation_range = 40,\n",
    "                                  width_shift_range = 0.2,\n",
    "                                  height_shift_range = 0.2,\n",
    "                                  shear_range = 0.2,\n",
    "                                  zoom_range = 0.2,\n",
    "                                  horizontal_flip = True,\n",
    "                                  fill_mode = 'nearest')\n",
    "\n",
    "test_datagen = ImageDataGenerator(rescale = 1./255)\n",
    "\n",
    "\n",
    "\n",
    "train_generator = train_datagen.flow_from_directory(train_dir,\n",
    "                                                   target_size = (150, 150), # resize image to 150 X 150\n",
    "                                                   batch_size = 20,\n",
    "                                                   class_mode = 'binary')\n",
    "\n",
    "\n",
    "validation_generator = test_datagen.flow_from_directory(validation_dir, target_size = (150, 150),\n",
    "                                                       batch_size = 20,\n",
    "                                                       class_mode = 'binary')\n",
    "\n",
    "\n",
    "model.compile(loss = 'binary_crossentropy', optimizer = optimizers.RMSprop(lr = 2e-5),\n",
    "             metrics = ['accuracy'])\n",
    "\n",
    "\n",
    "history = model.fit_generator(train_generator,\n",
    "                             steps_per_epoch = 5,\n",
    "                             epochs = 2,\n",
    "                             validation_data = validation_generator,\n",
    "                             validation_steps = 2)\n"
   ]
  },
  {
   "cell_type": "code",
   "execution_count": null,
   "metadata": {},
   "outputs": [],
   "source": []
  }
 ],
 "metadata": {
  "kernelspec": {
   "display_name": "Python 3",
   "language": "python",
   "name": "python3"
  },
  "language_info": {
   "codemirror_mode": {
    "name": "ipython",
    "version": 3
   },
   "file_extension": ".py",
   "mimetype": "text/x-python",
   "name": "python",
   "nbconvert_exporter": "python",
   "pygments_lexer": "ipython3",
   "version": "3.7.6"
  }
 },
 "nbformat": 4,
 "nbformat_minor": 2
}
