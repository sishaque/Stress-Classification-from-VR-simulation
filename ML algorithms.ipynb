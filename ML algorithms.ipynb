{
 "cells": [
  {
   "cell_type": "code",
   "execution_count": 3,
   "metadata": {},
   "outputs": [],
   "source": [
    "import statistics as stats\n",
    "import numpy as np\n",
    "import random"
   ]
  },
  {
   "cell_type": "code",
   "execution_count": 2,
   "metadata": {},
   "outputs": [
    {
     "name": "stdout",
     "output_type": "stream",
     "text": [
      "[5, 22, 7, 5, 0, 19, 7, 18, 9, 0, 17, 2, 22, 18, 19]\n"
     ]
    }
   ],
   "source": [
    "X = []\n",
    "for i in range(15):\n",
    "    n = random.randint(0, 22)\n",
    "    X.append(n)\n",
    "print(X)"
   ]
  },
  {
   "cell_type": "code",
   "execution_count": 3,
   "metadata": {},
   "outputs": [],
   "source": [
    "# Linear Regression\n",
    "\n",
    "y = []\n",
    "\n",
    "def linear_regression(x, m, b):\n",
    "    for i in range(15):\n",
    "        l = m * x[i] + b\n",
    "        y.append(l)\n",
    "    return y\n",
    "\n"
   ]
  },
  {
   "cell_type": "code",
   "execution_count": 4,
   "metadata": {},
   "outputs": [
    {
     "name": "stdout",
     "output_type": "stream",
     "text": [
      "[17, 68, 23, 17, 2, 59, 23, 56, 29, 2, 53, 8, 68, 56, 59]\n"
     ]
    }
   ],
   "source": [
    "y = linear_regression(X, 3, 2)\n",
    "\n",
    "\n",
    "\n",
    "print(y)"
   ]
  },
  {
   "cell_type": "code",
   "execution_count": 5,
   "metadata": {},
   "outputs": [],
   "source": [
    "x_mean = stats.mean(X)\n",
    "y_mean = stats.mean(y)"
   ]
  },
  {
   "cell_type": "code",
   "execution_count": 6,
   "metadata": {},
   "outputs": [
    {
     "name": "stdout",
     "output_type": "stream",
     "text": [
      "11.333333333333334\n"
     ]
    }
   ],
   "source": [
    "print(x_mean)"
   ]
  },
  {
   "cell_type": "code",
   "execution_count": 13,
   "metadata": {},
   "outputs": [],
   "source": [
    "def B_i(X, y, a_mean, b_mean):\n",
    "\n",
    "    for i in range(15):\n",
    "        b1 = (np.sum((X[i] - a_mean)*(y[i] - b_mean)))/np.mean((X[i] - a_mean)**2)\n",
    "        \n",
    "    return b1\n"
   ]
  },
  {
   "cell_type": "code",
   "execution_count": 14,
   "metadata": {},
   "outputs": [],
   "source": [
    "Bi = B_i(X, y, x_mean, y_mean)"
   ]
  },
  {
   "cell_type": "code",
   "execution_count": 15,
   "metadata": {},
   "outputs": [
    {
     "name": "stdout",
     "output_type": "stream",
     "text": [
      "3.0\n"
     ]
    }
   ],
   "source": [
    "print(Bi)"
   ]
  },
  {
   "cell_type": "code",
   "execution_count": 19,
   "metadata": {},
   "outputs": [],
   "source": [
    "def min_error(a_mean, b_mean, B1):\n",
    "    \n",
    "    for i in range(15):\n",
    "        b = b_mean - B1 * a_mean\n",
    "        \n",
    "    return b"
   ]
  },
  {
   "cell_type": "code",
   "execution_count": 20,
   "metadata": {},
   "outputs": [],
   "source": [
    "B0 = min_error(x_mean, y_mean, Bi)"
   ]
  },
  {
   "cell_type": "code",
   "execution_count": 21,
   "metadata": {},
   "outputs": [
    {
     "name": "stdout",
     "output_type": "stream",
     "text": [
      "2.0\n"
     ]
    }
   ],
   "source": [
    "print(B0)"
   ]
  },
  {
   "cell_type": "code",
   "execution_count": 18,
   "metadata": {},
   "outputs": [],
   "source": [
    "# Binary Crossentropy\n",
    "\n",
    "def binary_cross(y, y_pred):\n",
    "    return  np.sum(-((y * np.log(y_pred)) + ((1 - y)* np.log(1 - y_pred))))\n",
    "\n",
    "\n",
    "\n"
   ]
  },
  {
   "cell_type": "code",
   "execution_count": 21,
   "metadata": {},
   "outputs": [],
   "source": [
    "# cross entropy\n",
    "\n",
    "def cross_ent(y, y_pred):\n",
    "    return (-(np.sum(y * np.log(y_pred))))"
   ]
  },
  {
   "cell_type": "code",
   "execution_count": 24,
   "metadata": {},
   "outputs": [],
   "source": [
    "def loss(y, y_pred):\n",
    "    return np.sum((y - y_pred)**2)"
   ]
  },
  {
   "cell_type": "code",
   "execution_count": 27,
   "metadata": {},
   "outputs": [],
   "source": [
    "def sigmoid(x):\n",
    "    return (1/(1 + np.exp(-x)))"
   ]
  },
  {
   "cell_type": "code",
   "execution_count": 30,
   "metadata": {},
   "outputs": [],
   "source": [
    "def neural_network(x, theta):\n",
    "    w1, b1, w2, b2 = theta\n",
    "    return np.tanh(np.dot(tanh(np.dot(w1, x) + b1),w2)+ b2)"
   ]
  },
  {
   "cell_type": "code",
   "execution_count": 32,
   "metadata": {},
   "outputs": [],
   "source": [
    "def update_weights(theta, alpha, delta):\n",
    "    w1, b1, w2, b2 = theta\n",
    "    w1_delta, b1_delta, w2_delta, b2_delta = delta\n",
    "    w1_new = w1 - alpha * w1_delta\n",
    "    w2_new = w2 - alpha * w2_delta\n",
    "    w3_new = w3 - alpha * w3_delta\n",
    "    w4_new = w4 - alpha * w4_delta\n",
    "    \n",
    "    w1_new, w2_new, w3_new, w4_new = new_theta\n",
    "    return new_theta\n",
    "    "
   ]
  },
  {
   "cell_type": "code",
   "execution_count": 34,
   "metadata": {},
   "outputs": [],
   "source": [
    "# Function with scalers\n",
    "import theano.tensor as T\n",
    "from theano import function\n"
   ]
  },
  {
   "cell_type": "code",
   "execution_count": 36,
   "metadata": {},
   "outputs": [],
   "source": [
    "a = T.dscalar('a') # scaler is one value\n",
    "b = T.dscalar('b')\n",
    "c = T.dscalar('c')\n",
    "d = T.dscalar('d')\n",
    "e = T.dscalar('e')\n",
    "\n",
    "f = ((a - b + c) * d)/e"
   ]
  },
  {
   "cell_type": "code",
   "execution_count": 37,
   "metadata": {},
   "outputs": [],
   "source": [
    "g = function([a, b, c, d, e], f)"
   ]
  },
  {
   "cell_type": "code",
   "execution_count": 38,
   "metadata": {},
   "outputs": [
    {
     "name": "stdout",
     "output_type": "stream",
     "text": [
      "Expected: ((1 - 2 + 3) * 4)/5 =  1.6\n"
     ]
    }
   ],
   "source": [
    "print('Expected: ((1 - 2 + 3) * 4)/5 = ', ((1 - 2 + 3) * 4)/5)"
   ]
  },
  {
   "cell_type": "code",
   "execution_count": 41,
   "metadata": {},
   "outputs": [
    {
     "name": "stdout",
     "output_type": "stream",
     "text": [
      "Via Theano: ((1 - 2 + 3) * 4)/5 =  1.6\n"
     ]
    }
   ],
   "source": [
    "print('Via Theano: ((1 - 2 + 3) * 4)/5 = ', g(1, 2, 3, 4, 5))"
   ]
  },
  {
   "cell_type": "code",
   "execution_count": 56,
   "metadata": {},
   "outputs": [],
   "source": [
    "# new function\n",
    "# define matrix\n",
    "# define vectors\n",
    "\n",
    "a_data = T.dmatrix('a_data')\n",
    "b_data = T.dmatrix('b_data')\n",
    "c_data = T.dmatrix('c_data')\n",
    "d_data = T.dmatrix('d_data') \n",
    "\n",
    "e = (a_data + b_data - c_data) * d_data  # function to be implemented\n",
    "\n",
    "f = function([a_data, b_data, c_data, d_data], e) # define function using theano"
   ]
  },
  {
   "cell_type": "code",
   "execution_count": 57,
   "metadata": {},
   "outputs": [],
   "source": [
    "a_data = np.array([[1,1],[1,1]])\n",
    "b_data = np.array([[2,2],[2,2]])\n",
    "c_data = np.array([[5,5],[5,5]])\n",
    "d_data = np.array([[3,3],[3,3]])"
   ]
  },
  {
   "cell_type": "code",
   "execution_count": 58,
   "metadata": {},
   "outputs": [
    {
     "name": "stdout",
     "output_type": "stream",
     "text": [
      "Expected (a + b - c) * d =  [[-6 -6]\n",
      " [-6 -6]]\n"
     ]
    }
   ],
   "source": [
    "print('Expected (a + b - c) * d = ', (a_data + b_data - c_data) * d_data)"
   ]
  },
  {
   "cell_type": "code",
   "execution_count": 59,
   "metadata": {},
   "outputs": [
    {
     "name": "stdout",
     "output_type": "stream",
     "text": [
      "Theano =  [[-6. -6.]\n",
      " [-6. -6.]]\n"
     ]
    }
   ],
   "source": [
    "print('Theano = ', f(a_data, b_data, c_data, d_data))"
   ]
  },
  {
   "cell_type": "code",
   "execution_count": null,
   "metadata": {},
   "outputs": [],
   "source": []
  }
 ],
 "metadata": {
  "kernelspec": {
   "display_name": "Python 3",
   "language": "python",
   "name": "python3"
  },
  "language_info": {
   "codemirror_mode": {
    "name": "ipython",
    "version": 3
   },
   "file_extension": ".py",
   "mimetype": "text/x-python",
   "name": "python",
   "nbconvert_exporter": "python",
   "pygments_lexer": "ipython3",
   "version": "3.7.6"
  }
 },
 "nbformat": 4,
 "nbformat_minor": 4
}
